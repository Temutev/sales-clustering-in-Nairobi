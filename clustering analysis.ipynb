{
 "cells": [
  {
   "cell_type": "code",
   "execution_count": 1,
   "id": "cf83fca6",
   "metadata": {
    "_cell_guid": "b1076dfc-b9ad-4769-8c92-a6c4dae69d19",
    "_uuid": "8f2839f25d086af736a60e9eeb907d3b93b6e0e5",
    "execution": {
     "iopub.execute_input": "2022-05-31T17:44:53.409182Z",
     "iopub.status.busy": "2022-05-31T17:44:53.408307Z",
     "iopub.status.idle": "2022-05-31T17:44:54.383032Z",
     "shell.execute_reply": "2022-05-31T17:44:54.381572Z",
     "shell.execute_reply.started": "2022-05-31T17:34:28.969727Z"
    },
    "papermill": {
     "duration": 1.069034,
     "end_time": "2022-05-31T17:44:54.383230",
     "exception": false,
     "start_time": "2022-05-31T17:44:53.314196",
     "status": "completed"
    },
    "tags": []
   },
   "outputs": [],
   "source": [
    "import pandas as pd \n",
    "import numpy as np\n",
    "import seaborn as sns \n",
    "import matplotlib.pyplot as plt \n",
    "import warnings\n",
    "warnings.filterwarnings('ignore')\n",
    "# No warnings about setting value on copy of slice\n",
    "pd.options.mode.chained_assignment = None\n",
    "\n",
    "# Display up to 60 columns of a dataframe\n",
    "pd.set_option('display.max_columns', 60)\n",
    "\n",
    "%matplotlib inline\n",
    "\n",
    "# Internal ipython tool for setting figure size\n",
    "from IPython.core.pylabtools import figsize"
   ]
  },
  {
   "cell_type": "code",
   "execution_count": 2,
   "id": "9bb00141",
   "metadata": {
    "execution": {
     "iopub.execute_input": "2022-05-31T17:44:54.489815Z",
     "iopub.status.busy": "2022-05-31T17:44:54.488014Z",
     "iopub.status.idle": "2022-05-31T17:45:30.662689Z",
     "shell.execute_reply": "2022-05-31T17:45:30.663183Z",
     "shell.execute_reply.started": "2022-05-31T17:34:29.968391Z"
    },
    "papermill": {
     "duration": 36.227054,
     "end_time": "2022-05-31T17:45:30.663329",
     "exception": false,
     "start_time": "2022-05-31T17:44:54.436275",
     "status": "completed"
    },
    "tags": []
   },
   "outputs": [
    {
     "name": "stdout",
     "output_type": "stream",
     "text": [
      "Loaded!\n"
     ]
    }
   ],
   "source": [
    "#loading datasets\n",
    "orders = pd.read_csv('../input/solutechclustering/orders.csv')\n",
    "shops = pd.read_csv('../input/solutechclustering/shops.csv')\n",
    "\n",
    "print('Loaded!')"
   ]
  },
  {
   "cell_type": "code",
   "execution_count": 3,
   "id": "0d4f4bb6",
   "metadata": {
    "execution": {
     "iopub.execute_input": "2022-05-31T17:45:30.824472Z",
     "iopub.status.busy": "2022-05-31T17:45:30.823436Z",
     "iopub.status.idle": "2022-05-31T17:45:30.829622Z",
     "shell.execute_reply": "2022-05-31T17:45:30.830107Z",
     "shell.execute_reply.started": "2022-05-31T17:35:11.276940Z"
    },
    "papermill": {
     "duration": 0.091339,
     "end_time": "2022-05-31T17:45:30.830253",
     "exception": false,
     "start_time": "2022-05-31T17:45:30.738914",
     "status": "completed"
    },
    "tags": []
   },
   "outputs": [],
   "source": [
    "# function to reduce memory usage \n",
    "def reduce_mem_usage(df):\n",
    "    \"\"\" iterate through all the columns of a dataframe and modify the data type\n",
    "        to reduce memory usage.        \n",
    "    \"\"\"\n",
    "    start_mem = df.memory_usage().sum() / 1024**2\n",
    "    print('Memory usage of dataframe is {:.2f} MB'.format(start_mem))\n",
    "    \n",
    "    for col in df.columns:\n",
    "        col_type = df[col].dtype\n",
    "        \n",
    "        if col_type != object:\n",
    "            c_min = df[col].min()\n",
    "            c_max = df[col].max()\n",
    "            if str(col_type)[:3] == 'int':\n",
    "                if c_min > np.iinfo(np.int8).min and c_max < np.iinfo(np.int8).max:\n",
    "                    df[col] = df[col].astype(np.int8)\n",
    "                elif c_min > np.iinfo(np.int16).min and c_max < np.iinfo(np.int16).max:\n",
    "                    df[col] = df[col].astype(np.int16)\n",
    "                elif c_min > np.iinfo(np.int32).min and c_max < np.iinfo(np.int32).max:\n",
    "                    df[col] = df[col].astype(np.int32)\n",
    "                elif c_min > np.iinfo(np.int64).min and c_max < np.iinfo(np.int64).max:\n",
    "                    df[col] = df[col].astype(np.int64)  \n",
    "            else:\n",
    "                if c_min > np.finfo(np.float16).min and c_max < np.finfo(np.float16).max:\n",
    "                    df[col] = df[col].astype(np.float16)\n",
    "                elif c_min > np.finfo(np.float32).min and c_max < np.finfo(np.float32).max:\n",
    "                    df[col] = df[col].astype(np.float32)\n",
    "                else:\n",
    "                    df[col] = df[col].astype(np.float64)\n",
    "        else:\n",
    "            df[col] = df[col].astype('category')\n",
    "\n",
    "    end_mem = df.memory_usage().sum() / 1024**2\n",
    "    print('Memory usage after optimization is: {:.2f} MB'.format(end_mem))\n",
    "    print('Decreased by {:.1f}%'.format(100 * (start_mem - end_mem) / start_mem))\n",
    "    \n",
    "    return df"
   ]
  },
  {
   "cell_type": "code",
   "execution_count": 4,
   "id": "983d25af",
   "metadata": {
    "execution": {
     "iopub.execute_input": "2022-05-31T17:45:30.985930Z",
     "iopub.status.busy": "2022-05-31T17:45:30.985241Z",
     "iopub.status.idle": "2022-05-31T17:45:57.953254Z",
     "shell.execute_reply": "2022-05-31T17:45:57.952542Z",
     "shell.execute_reply.started": "2022-05-31T17:35:11.297512Z"
    },
    "papermill": {
     "duration": 27.047156,
     "end_time": "2022-05-31T17:45:57.953413",
     "exception": false,
     "start_time": "2022-05-31T17:45:30.906257",
     "status": "completed"
    },
    "tags": []
   },
   "outputs": [
    {
     "name": "stdout",
     "output_type": "stream",
     "text": [
      "Memory usage of dataframe is 937.63 MB\n",
      "Memory usage after optimization is: 431.23 MB\n",
      "Decreased by 54.0%\n"
     ]
    }
   ],
   "source": [
    "#reduce memory for orders dataset\n",
    "orders = reduce_mem_usage(orders)"
   ]
  },
  {
   "cell_type": "code",
   "execution_count": 5,
   "id": "ce382d18",
   "metadata": {
    "execution": {
     "iopub.execute_input": "2022-05-31T17:45:58.113204Z",
     "iopub.status.busy": "2022-05-31T17:45:58.112316Z",
     "iopub.status.idle": "2022-05-31T17:45:58.128897Z",
     "shell.execute_reply": "2022-05-31T17:45:58.129428Z",
     "shell.execute_reply.started": "2022-05-31T17:35:41.651521Z"
    },
    "papermill": {
     "duration": 0.097942,
     "end_time": "2022-05-31T17:45:58.129608",
     "exception": false,
     "start_time": "2022-05-31T17:45:58.031666",
     "status": "completed"
    },
    "tags": []
   },
   "outputs": [
    {
     "data": {
      "text/html": [
       "<div>\n",
       "<style scoped>\n",
       "    .dataframe tbody tr th:only-of-type {\n",
       "        vertical-align: middle;\n",
       "    }\n",
       "\n",
       "    .dataframe tbody tr th {\n",
       "        vertical-align: top;\n",
       "    }\n",
       "\n",
       "    .dataframe thead th {\n",
       "        text-align: right;\n",
       "    }\n",
       "</style>\n",
       "<table border=\"1\" class=\"dataframe\">\n",
       "  <thead>\n",
       "    <tr style=\"text-align: right;\">\n",
       "      <th></th>\n",
       "      <th>SHOPID</th>\n",
       "      <th>SHOP_NAME</th>\n",
       "      <th>LATITUDE</th>\n",
       "      <th>LONGITUDE</th>\n",
       "    </tr>\n",
       "  </thead>\n",
       "  <tbody>\n",
       "    <tr>\n",
       "      <th>0</th>\n",
       "      <td>408821</td>\n",
       "      <td>Point one retail and wholesale</td>\n",
       "      <td>-1.288216</td>\n",
       "      <td>36.904458</td>\n",
       "    </tr>\n",
       "    <tr>\n",
       "      <th>1</th>\n",
       "      <td>408820</td>\n",
       "      <td>Masai junior shop</td>\n",
       "      <td>-1.252627</td>\n",
       "      <td>36.908463</td>\n",
       "    </tr>\n",
       "    <tr>\n",
       "      <th>2</th>\n",
       "      <td>408819</td>\n",
       "      <td>Maasai junior shop</td>\n",
       "      <td>-1.251378</td>\n",
       "      <td>36.916290</td>\n",
       "    </tr>\n",
       "  </tbody>\n",
       "</table>\n",
       "</div>"
      ],
      "text/plain": [
       "   SHOPID                       SHOP_NAME  LATITUDE  LONGITUDE\n",
       "0  408821  Point one retail and wholesale -1.288216  36.904458\n",
       "1  408820               Masai junior shop -1.252627  36.908463\n",
       "2  408819              Maasai junior shop -1.251378  36.916290"
      ]
     },
     "execution_count": 5,
     "metadata": {},
     "output_type": "execute_result"
    }
   ],
   "source": [
    "#views shops dataframe \n",
    "shops.head(3)"
   ]
  },
  {
   "cell_type": "code",
   "execution_count": 6,
   "id": "ed7352ae",
   "metadata": {
    "execution": {
     "iopub.execute_input": "2022-05-31T17:45:58.287698Z",
     "iopub.status.busy": "2022-05-31T17:45:58.286829Z",
     "iopub.status.idle": "2022-05-31T17:45:58.681350Z",
     "shell.execute_reply": "2022-05-31T17:45:58.680808Z",
     "shell.execute_reply.started": "2022-05-31T17:35:41.678386Z"
    },
    "papermill": {
     "duration": 0.474009,
     "end_time": "2022-05-31T17:45:58.681487",
     "exception": false,
     "start_time": "2022-05-31T17:45:58.207478",
     "status": "completed"
    },
    "tags": []
   },
   "outputs": [],
   "source": [
    "#map the areas using folium \n",
    "import folium\n",
    "import geopy"
   ]
  },
  {
   "cell_type": "code",
   "execution_count": 7,
   "id": "762f713f",
   "metadata": {
    "execution": {
     "iopub.execute_input": "2022-05-31T17:45:58.844820Z",
     "iopub.status.busy": "2022-05-31T17:45:58.844037Z",
     "iopub.status.idle": "2022-05-31T17:45:58.881027Z",
     "shell.execute_reply": "2022-05-31T17:45:58.881501Z",
     "shell.execute_reply.started": "2022-05-31T17:35:42.118805Z"
    },
    "papermill": {
     "duration": 0.122024,
     "end_time": "2022-05-31T17:45:58.881687",
     "exception": false,
     "start_time": "2022-05-31T17:45:58.759663",
     "status": "completed"
    },
    "tags": []
   },
   "outputs": [],
   "source": [
    "shop_mapping = folium.Map(location=[shops.LATITUDE.mean(), shops.LONGITUDE.mean()], zoom_start=14, control_scale=True)\n",
    "for index, location_info in shops.iterrows():\n",
    "    folium.Marker([location_info[\"LATITUDE\"], location_info[\"LONGITUDE\"]], popup=location_info[\"SHOP_NAME\"]).add_to(shop_mapping)"
   ]
  },
  {
   "cell_type": "code",
   "execution_count": 8,
   "id": "0b2b1802",
   "metadata": {
    "execution": {
     "iopub.execute_input": "2022-05-31T17:45:59.207896Z",
     "iopub.status.busy": "2022-05-31T17:45:59.094140Z",
     "iopub.status.idle": "2022-05-31T17:45:59.229335Z",
     "shell.execute_reply": "2022-05-31T17:45:59.229861Z",
     "shell.execute_reply.started": "2022-05-31T17:35:42.159993Z"
    },
    "papermill": {
     "duration": 0.270231,
     "end_time": "2022-05-31T17:45:59.230053",
     "exception": false,
     "start_time": "2022-05-31T17:45:58.959822",
     "status": "completed"
    },
    "tags": []
   },
   "outputs": [
    {
     "data": {
      "text/html": [
       "<div style=\"width:100%;\"><div style=\"position:relative;width:100%;height:0;padding-bottom:60%;\"><span style=\"color:#565656\">Make this Notebook Trusted to load map: File -> Trust Notebook</span><iframe src=\"about:blank\" style=\"position:absolute;width:100%;height:100%;left:0;top:0;border:none !important;\" data-html=%3C%21DOCTYPE%20html%3E%0A%3Chead%3E%20%20%20%20%0A%20%20%20%20%3Cmeta%20http-equiv%3D%22content-type%22%20content%3D%22text/html%3B%20charset%3DUTF-8%22%20/%3E%0A%20%20%20%20%0A%20%20%20%20%20%20%20%20%3Cscript%3E%0A%20%20%20%20%20%20%20%20%20%20%20%20L_NO_TOUCH%20%3D%20false%3B%0A%20%20%20%20%20%20%20%20%20%20%20%20L_DISABLE_3D%20%3D%20false%3B%0A%20%20%20%20%20%20%20%20%3C/script%3E%0A%20%20%20%20%0A%20%20%20%20%3Cstyle%3Ehtml%2C%20body%20%7Bwidth%3A%20100%25%3Bheight%3A%20100%25%3Bmargin%3A%200%3Bpadding%3A%200%3B%7D%3C/style%3E%0A%20%20%20%20%3Cstyle%3E%23map%20%7Bposition%3Aabsolute%3Btop%3A0%3Bbottom%3A0%3Bright%3A0%3Bleft%3A0%3B%7D%3C/style%3E%0A%20%20%20%20%3Cscript%20src%3D%22https%3A//cdn.jsdelivr.net/npm/leaflet%401.6.0/dist/leaflet.js%22%3E%3C/script%3E%0A%20%20%20%20%3Cscript%20src%3D%22https%3A//code.jquery.com/jquery-1.12.4.min.js%22%3E%3C/script%3E%0A%20%20%20%20%3Cscript%20src%3D%22https%3A//maxcdn.bootstrapcdn.com/bootstrap/3.2.0/js/bootstrap.min.js%22%3E%3C/script%3E%0A%20%20%20%20%3Cscript%20src%3D%22https%3A//cdnjs.cloudflare.com/ajax/libs/Leaflet.awesome-markers/2.0.2/leaflet.awesome-markers.js%22%3E%3C/script%3E%0A%20%20%20%20%3Clink%20rel%3D%22stylesheet%22%20href%3D%22https%3A//cdn.jsdelivr.net/npm/leaflet%401.6.0/dist/leaflet.css%22/%3E%0A%20%20%20%20%3Clink%20rel%3D%22stylesheet%22%20href%3D%22https%3A//maxcdn.bootstrapcdn.com/bootstrap/3.2.0/css/bootstrap.min.css%22/%3E%0A%20%20%20%20%3Clink%20rel%3D%22stylesheet%22%20href%3D%22https%3A//maxcdn.bootstrapcdn.com/bootstrap/3.2.0/css/bootstrap-theme.min.css%22/%3E%0A%20%20%20%20%3Clink%20rel%3D%22stylesheet%22%20href%3D%22https%3A//maxcdn.bootstrapcdn.com/font-awesome/4.6.3/css/font-awesome.min.css%22/%3E%0A%20%20%20%20%3Clink%20rel%3D%22stylesheet%22%20href%3D%22https%3A//cdnjs.cloudflare.com/ajax/libs/Leaflet.awesome-markers/2.0.2/leaflet.awesome-markers.css%22/%3E%0A%20%20%20%20%3Clink%20rel%3D%22stylesheet%22%20href%3D%22https%3A//cdn.jsdelivr.net/gh/python-visualization/folium/folium/templates/leaflet.awesome.rotate.min.css%22/%3E%0A%20%20%20%20%0A%20%20%20%20%20%20%20%20%20%20%20%20%3Cmeta%20name%3D%22viewport%22%20content%3D%22width%3Ddevice-width%2C%0A%20%20%20%20%20%20%20%20%20%20%20%20%20%20%20%20initial-scale%3D1.0%2C%20maximum-scale%3D1.0%2C%20user-scalable%3Dno%22%20/%3E%0A%20%20%20%20%20%20%20%20%20%20%20%20%3Cstyle%3E%0A%20%20%20%20%20%20%20%20%20%20%20%20%20%20%20%20%23map_9536b186a26f4cc3aca0740ad35a0f72%20%7B%0A%20%20%20%20%20%20%20%20%20%20%20%20%20%20%20%20%20%20%20%20position%3A%20relative%3B%0A%20%20%20%20%20%20%20%20%20%20%20%20%20%20%20%20%20%20%20%20width%3A%20100.0%25%3B%0A%20%20%20%20%20%20%20%20%20%20%20%20%20%20%20%20%20%20%20%20height%3A%20100.0%25%3B%0A%20%20%20%20%20%20%20%20%20%20%20%20%20%20%20%20%20%20%20%20left%3A%200.0%25%3B%0A%20%20%20%20%20%20%20%20%20%20%20%20%20%20%20%20%20%20%20%20top%3A%200.0%25%3B%0A%20%20%20%20%20%20%20%20%20%20%20%20%20%20%20%20%7D%0A%20%20%20%20%20%20%20%20%20%20%20%20%3C/style%3E%0A%20%20%20%20%20%20%20%20%0A%3C/head%3E%0A%3Cbody%3E%20%20%20%20%0A%20%20%20%20%0A%20%20%20%20%20%20%20%20%20%20%20%20%3Cdiv%20class%3D%22folium-map%22%20id%3D%22map_9536b186a26f4cc3aca0740ad35a0f72%22%20%3E%3C/div%3E%0A%20%20%20%20%20%20%20%20%0A%3C/body%3E%0A%3Cscript%3E%20%20%20%20%0A%20%20%20%20%0A%20%20%20%20%20%20%20%20%20%20%20%20var%20map_9536b186a26f4cc3aca0740ad35a0f72%20%3D%20L.map%28%0A%20%20%20%20%20%20%20%20%20%20%20%20%20%20%20%20%22map_9536b186a26f4cc3aca0740ad35a0f72%22%2C%0A%20%20%20%20%20%20%20%20%20%20%20%20%20%20%20%20%7B%0A%20%20%20%20%20%20%20%20%20%20%20%20%20%20%20%20%20%20%20%20center%3A%20%5B-1.2950644290909088%2C%2036.90061830363635%5D%2C%0A%20%20%20%20%20%20%20%20%20%20%20%20%20%20%20%20%20%20%20%20crs%3A%20L.CRS.EPSG3857%2C%0A%20%20%20%20%20%20%20%20%20%20%20%20%20%20%20%20%20%20%20%20zoom%3A%2014%2C%0A%20%20%20%20%20%20%20%20%20%20%20%20%20%20%20%20%20%20%20%20zoomControl%3A%20true%2C%0A%20%20%20%20%20%20%20%20%20%20%20%20%20%20%20%20%20%20%20%20preferCanvas%3A%20false%2C%0A%20%20%20%20%20%20%20%20%20%20%20%20%20%20%20%20%7D%0A%20%20%20%20%20%20%20%20%20%20%20%20%29%3B%0A%20%20%20%20%20%20%20%20%20%20%20%20L.control.scale%28%29.addTo%28map_9536b186a26f4cc3aca0740ad35a0f72%29%3B%0A%0A%20%20%20%20%20%20%20%20%20%20%20%20%0A%0A%20%20%20%20%20%20%20%20%0A%20%20%20%20%0A%20%20%20%20%20%20%20%20%20%20%20%20var%20tile_layer_58fa6d4ffae94de5a7b303292a65e121%20%3D%20L.tileLayer%28%0A%20%20%20%20%20%20%20%20%20%20%20%20%20%20%20%20%22https%3A//%7Bs%7D.tile.openstreetmap.org/%7Bz%7D/%7Bx%7D/%7By%7D.png%22%2C%0A%20%20%20%20%20%20%20%20%20%20%20%20%20%20%20%20%7B%22attribution%22%3A%20%22Data%20by%20%5Cu0026copy%3B%20%5Cu003ca%20href%3D%5C%22http%3A//openstreetmap.org%5C%22%5Cu003eOpenStreetMap%5Cu003c/a%5Cu003e%2C%20under%20%5Cu003ca%20href%3D%5C%22http%3A//www.openstreetmap.org/copyright%5C%22%5Cu003eODbL%5Cu003c/a%5Cu003e.%22%2C%20%22detectRetina%22%3A%20false%2C%20%22maxNativeZoom%22%3A%2018%2C%20%22maxZoom%22%3A%2018%2C%20%22minZoom%22%3A%200%2C%20%22noWrap%22%3A%20false%2C%20%22opacity%22%3A%201%2C%20%22subdomains%22%3A%20%22abc%22%2C%20%22tms%22%3A%20false%7D%0A%20%20%20%20%20%20%20%20%20%20%20%20%29.addTo%28map_9536b186a26f4cc3aca0740ad35a0f72%29%3B%0A%20%20%20%20%20%20%20%20%0A%20%20%20%20%0A%20%20%20%20%20%20%20%20%20%20%20%20var%20marker_e9dae345bb754e09a77a64b99f613213%20%3D%20L.marker%28%0A%20%20%20%20%20%20%20%20%20%20%20%20%20%20%20%20%5B-1.2882158%2C%2036.9044581%5D%2C%0A%20%20%20%20%20%20%20%20%20%20%20%20%20%20%20%20%7B%7D%0A%20%20%20%20%20%20%20%20%20%20%20%20%29.addTo%28map_9536b186a26f4cc3aca0740ad35a0f72%29%3B%0A%20%20%20%20%20%20%20%20%0A%20%20%20%20%0A%20%20%20%20%20%20%20%20var%20popup_20c3ee522068443bbe141fc0df35f1fb%20%3D%20L.popup%28%7B%22maxWidth%22%3A%20%22100%25%22%7D%29%3B%0A%0A%20%20%20%20%20%20%20%20%0A%20%20%20%20%20%20%20%20%20%20%20%20var%20html_7c0876b041e84207a78278d8af5b6d25%20%3D%20%24%28%60%3Cdiv%20id%3D%22html_7c0876b041e84207a78278d8af5b6d25%22%20style%3D%22width%3A%20100.0%25%3B%20height%3A%20100.0%25%3B%22%3EPoint%20one%20retail%20and%20wholesale%3C/div%3E%60%29%5B0%5D%3B%0A%20%20%20%20%20%20%20%20%20%20%20%20popup_20c3ee522068443bbe141fc0df35f1fb.setContent%28html_7c0876b041e84207a78278d8af5b6d25%29%3B%0A%20%20%20%20%20%20%20%20%0A%0A%20%20%20%20%20%20%20%20marker_e9dae345bb754e09a77a64b99f613213.bindPopup%28popup_20c3ee522068443bbe141fc0df35f1fb%29%0A%20%20%20%20%20%20%20%20%3B%0A%0A%20%20%20%20%20%20%20%20%0A%20%20%20%20%0A%20%20%20%20%0A%20%20%20%20%20%20%20%20%20%20%20%20var%20marker_3c47240461ee447cb0852e30d12b1c9f%20%3D%20L.marker%28%0A%20%20%20%20%20%20%20%20%20%20%20%20%20%20%20%20%5B-1.2526268%2C%2036.9084626%5D%2C%0A%20%20%20%20%20%20%20%20%20%20%20%20%20%20%20%20%7B%7D%0A%20%20%20%20%20%20%20%20%20%20%20%20%29.addTo%28map_9536b186a26f4cc3aca0740ad35a0f72%29%3B%0A%20%20%20%20%20%20%20%20%0A%20%20%20%20%0A%20%20%20%20%20%20%20%20var%20popup_fb96f64e25aa43f096fddeb35cfe2427%20%3D%20L.popup%28%7B%22maxWidth%22%3A%20%22100%25%22%7D%29%3B%0A%0A%20%20%20%20%20%20%20%20%0A%20%20%20%20%20%20%20%20%20%20%20%20var%20html_aca21533a2ed42a19c162e16fe8d5a36%20%3D%20%24%28%60%3Cdiv%20id%3D%22html_aca21533a2ed42a19c162e16fe8d5a36%22%20style%3D%22width%3A%20100.0%25%3B%20height%3A%20100.0%25%3B%22%3EMasai%20junior%20shop%3C/div%3E%60%29%5B0%5D%3B%0A%20%20%20%20%20%20%20%20%20%20%20%20popup_fb96f64e25aa43f096fddeb35cfe2427.setContent%28html_aca21533a2ed42a19c162e16fe8d5a36%29%3B%0A%20%20%20%20%20%20%20%20%0A%0A%20%20%20%20%20%20%20%20marker_3c47240461ee447cb0852e30d12b1c9f.bindPopup%28popup_fb96f64e25aa43f096fddeb35cfe2427%29%0A%20%20%20%20%20%20%20%20%3B%0A%0A%20%20%20%20%20%20%20%20%0A%20%20%20%20%0A%20%20%20%20%0A%20%20%20%20%20%20%20%20%20%20%20%20var%20marker_e308ffdc73654b91946c54c37121465c%20%3D%20L.marker%28%0A%20%20%20%20%20%20%20%20%20%20%20%20%20%20%20%20%5B-1.2513781%2C%2036.91629%5D%2C%0A%20%20%20%20%20%20%20%20%20%20%20%20%20%20%20%20%7B%7D%0A%20%20%20%20%20%20%20%20%20%20%20%20%29.addTo%28map_9536b186a26f4cc3aca0740ad35a0f72%29%3B%0A%20%20%20%20%20%20%20%20%0A%20%20%20%20%0A%20%20%20%20%20%20%20%20var%20popup_0ab3d5eb6cdb4dd091aa7e26f86741ca%20%3D%20L.popup%28%7B%22maxWidth%22%3A%20%22100%25%22%7D%29%3B%0A%0A%20%20%20%20%20%20%20%20%0A%20%20%20%20%20%20%20%20%20%20%20%20var%20html_c4dbfacc1b7a41d29735e9726b5c7ecc%20%3D%20%24%28%60%3Cdiv%20id%3D%22html_c4dbfacc1b7a41d29735e9726b5c7ecc%22%20style%3D%22width%3A%20100.0%25%3B%20height%3A%20100.0%25%3B%22%3EMaasai%20junior%20shop%3C/div%3E%60%29%5B0%5D%3B%0A%20%20%20%20%20%20%20%20%20%20%20%20popup_0ab3d5eb6cdb4dd091aa7e26f86741ca.setContent%28html_c4dbfacc1b7a41d29735e9726b5c7ecc%29%3B%0A%20%20%20%20%20%20%20%20%0A%0A%20%20%20%20%20%20%20%20marker_e308ffdc73654b91946c54c37121465c.bindPopup%28popup_0ab3d5eb6cdb4dd091aa7e26f86741ca%29%0A%20%20%20%20%20%20%20%20%3B%0A%0A%20%20%20%20%20%20%20%20%0A%20%20%20%20%0A%20%20%20%20%0A%20%20%20%20%20%20%20%20%20%20%20%20var%20marker_dd84525763514d8381572d844a2e1933%20%3D%20L.marker%28%0A%20%20%20%20%20%20%20%20%20%20%20%20%20%20%20%20%5B-1.25212%2C%2036.91506%5D%2C%0A%20%20%20%20%20%20%20%20%20%20%20%20%20%20%20%20%7B%7D%0A%20%20%20%20%20%20%20%20%20%20%20%20%29.addTo%28map_9536b186a26f4cc3aca0740ad35a0f72%29%3B%0A%20%20%20%20%20%20%20%20%0A%20%20%20%20%0A%20%20%20%20%20%20%20%20var%20popup_4f9361fb5cad4574a198e013061b72ed%20%3D%20L.popup%28%7B%22maxWidth%22%3A%20%22100%25%22%7D%29%3B%0A%0A%20%20%20%20%20%20%20%20%0A%20%20%20%20%20%20%20%20%20%20%20%20var%20html_13a90608d71840f7a3e8f2936e0706d5%20%3D%20%24%28%60%3Cdiv%20id%3D%22html_13a90608d71840f7a3e8f2936e0706d5%22%20style%3D%22width%3A%20100.0%25%3B%20height%3A%20100.0%25%3B%22%3EJamrco%20investment%20shop%3C/div%3E%60%29%5B0%5D%3B%0A%20%20%20%20%20%20%20%20%20%20%20%20popup_4f9361fb5cad4574a198e013061b72ed.setContent%28html_13a90608d71840f7a3e8f2936e0706d5%29%3B%0A%20%20%20%20%20%20%20%20%0A%0A%20%20%20%20%20%20%20%20marker_dd84525763514d8381572d844a2e1933.bindPopup%28popup_4f9361fb5cad4574a198e013061b72ed%29%0A%20%20%20%20%20%20%20%20%3B%0A%0A%20%20%20%20%20%20%20%20%0A%20%20%20%20%0A%20%20%20%20%0A%20%20%20%20%20%20%20%20%20%20%20%20var%20marker_8004985158894303ae2d42d7e8600f1d%20%3D%20L.marker%28%0A%20%20%20%20%20%20%20%20%20%20%20%20%20%20%20%20%5B-1.2571011%2C%2036.9224599%5D%2C%0A%20%20%20%20%20%20%20%20%20%20%20%20%20%20%20%20%7B%7D%0A%20%20%20%20%20%20%20%20%20%20%20%20%29.addTo%28map_9536b186a26f4cc3aca0740ad35a0f72%29%3B%0A%20%20%20%20%20%20%20%20%0A%20%20%20%20%0A%20%20%20%20%20%20%20%20var%20popup_f03c501ef8414287b71788dacf61b1b9%20%3D%20L.popup%28%7B%22maxWidth%22%3A%20%22100%25%22%7D%29%3B%0A%0A%20%20%20%20%20%20%20%20%0A%20%20%20%20%20%20%20%20%20%20%20%20var%20html_1f8f69bee56f4d16bc9f4892c700eb9b%20%3D%20%24%28%60%3Cdiv%20id%3D%22html_1f8f69bee56f4d16bc9f4892c700eb9b%22%20style%3D%22width%3A%20100.0%25%3B%20height%3A%20100.0%25%3B%22%3EJulius%20shop%3C/div%3E%60%29%5B0%5D%3B%0A%20%20%20%20%20%20%20%20%20%20%20%20popup_f03c501ef8414287b71788dacf61b1b9.setContent%28html_1f8f69bee56f4d16bc9f4892c700eb9b%29%3B%0A%20%20%20%20%20%20%20%20%0A%0A%20%20%20%20%20%20%20%20marker_8004985158894303ae2d42d7e8600f1d.bindPopup%28popup_f03c501ef8414287b71788dacf61b1b9%29%0A%20%20%20%20%20%20%20%20%3B%0A%0A%20%20%20%20%20%20%20%20%0A%20%20%20%20%0A%20%20%20%20%0A%20%20%20%20%20%20%20%20%20%20%20%20var%20marker_0a84b99570bd4aafa22a3487b14a2fee%20%3D%20L.marker%28%0A%20%20%20%20%20%20%20%20%20%20%20%20%20%20%20%20%5B-1.2891135%2C%2036.9046039%5D%2C%0A%20%20%20%20%20%20%20%20%20%20%20%20%20%20%20%20%7B%7D%0A%20%20%20%20%20%20%20%20%20%20%20%20%29.addTo%28map_9536b186a26f4cc3aca0740ad35a0f72%29%3B%0A%20%20%20%20%20%20%20%20%0A%20%20%20%20%0A%20%20%20%20%20%20%20%20var%20popup_324f498effc243999f2e9c9d243c5480%20%3D%20L.popup%28%7B%22maxWidth%22%3A%20%22100%25%22%7D%29%3B%0A%0A%20%20%20%20%20%20%20%20%0A%20%20%20%20%20%20%20%20%20%20%20%20var%20html_d0ed24c0c399428f947814b7a60670c3%20%3D%20%24%28%60%3Cdiv%20id%3D%22html_d0ed24c0c399428f947814b7a60670c3%22%20style%3D%22width%3A%20100.0%25%3B%20height%3A%20100.0%25%3B%22%3EAmani%20shop%3C/div%3E%60%29%5B0%5D%3B%0A%20%20%20%20%20%20%20%20%20%20%20%20popup_324f498effc243999f2e9c9d243c5480.setContent%28html_d0ed24c0c399428f947814b7a60670c3%29%3B%0A%20%20%20%20%20%20%20%20%0A%0A%20%20%20%20%20%20%20%20marker_0a84b99570bd4aafa22a3487b14a2fee.bindPopup%28popup_324f498effc243999f2e9c9d243c5480%29%0A%20%20%20%20%20%20%20%20%3B%0A%0A%20%20%20%20%20%20%20%20%0A%20%20%20%20%0A%20%20%20%20%0A%20%20%20%20%20%20%20%20%20%20%20%20var%20marker_40111587d9ef4283938e8bd6abed927c%20%3D%20L.marker%28%0A%20%20%20%20%20%20%20%20%20%20%20%20%20%20%20%20%5B-1.2528417%2C%2036.9152978%5D%2C%0A%20%20%20%20%20%20%20%20%20%20%20%20%20%20%20%20%7B%7D%0A%20%20%20%20%20%20%20%20%20%20%20%20%29.addTo%28map_9536b186a26f4cc3aca0740ad35a0f72%29%3B%0A%20%20%20%20%20%20%20%20%0A%20%20%20%20%0A%20%20%20%20%20%20%20%20var%20popup_50182ec3079941259eabd1962d90de93%20%3D%20L.popup%28%7B%22maxWidth%22%3A%20%22100%25%22%7D%29%3B%0A%0A%20%20%20%20%20%20%20%20%0A%20%20%20%20%20%20%20%20%20%20%20%20var%20html_e9c5ef09dc5f47928ec185bed739687e%20%3D%20%24%28%60%3Cdiv%20id%3D%22html_e9c5ef09dc5f47928ec185bed739687e%22%20style%3D%22width%3A%20100.0%25%3B%20height%3A%20100.0%25%3B%22%3EWinners%20gen%20shop%3C/div%3E%60%29%5B0%5D%3B%0A%20%20%20%20%20%20%20%20%20%20%20%20popup_50182ec3079941259eabd1962d90de93.setContent%28html_e9c5ef09dc5f47928ec185bed739687e%29%3B%0A%20%20%20%20%20%20%20%20%0A%0A%20%20%20%20%20%20%20%20marker_40111587d9ef4283938e8bd6abed927c.bindPopup%28popup_50182ec3079941259eabd1962d90de93%29%0A%20%20%20%20%20%20%20%20%3B%0A%0A%20%20%20%20%20%20%20%20%0A%20%20%20%20%0A%20%20%20%20%0A%20%20%20%20%20%20%20%20%20%20%20%20var%20marker_f3b984d55fff478c97a906925c5f166f%20%3D%20L.marker%28%0A%20%20%20%20%20%20%20%20%20%20%20%20%20%20%20%20%5B-1.2893036%2C%2036.9043614%5D%2C%0A%20%20%20%20%20%20%20%20%20%20%20%20%20%20%20%20%7B%7D%0A%20%20%20%20%20%20%20%20%20%20%20%20%29.addTo%28map_9536b186a26f4cc3aca0740ad35a0f72%29%3B%0A%20%20%20%20%20%20%20%20%0A%20%20%20%20%0A%20%20%20%20%20%20%20%20var%20popup_539f74861246494697fae906c2427988%20%3D%20L.popup%28%7B%22maxWidth%22%3A%20%22100%25%22%7D%29%3B%0A%0A%20%20%20%20%20%20%20%20%0A%20%20%20%20%20%20%20%20%20%20%20%20var%20html_f2efb6bdbc8b47a1a7294b6b55ea569d%20%3D%20%24%28%60%3Cdiv%20id%3D%22html_f2efb6bdbc8b47a1a7294b6b55ea569d%22%20style%3D%22width%3A%20100.0%25%3B%20height%3A%20100.0%25%3B%22%3EUpendo%20gen%20shop%3C/div%3E%60%29%5B0%5D%3B%0A%20%20%20%20%20%20%20%20%20%20%20%20popup_539f74861246494697fae906c2427988.setContent%28html_f2efb6bdbc8b47a1a7294b6b55ea569d%29%3B%0A%20%20%20%20%20%20%20%20%0A%0A%20%20%20%20%20%20%20%20marker_f3b984d55fff478c97a906925c5f166f.bindPopup%28popup_539f74861246494697fae906c2427988%29%0A%20%20%20%20%20%20%20%20%3B%0A%0A%20%20%20%20%20%20%20%20%0A%20%20%20%20%0A%20%20%20%20%0A%20%20%20%20%20%20%20%20%20%20%20%20var%20marker_d34747c3d517489dab7602ef6b335368%20%3D%20L.marker%28%0A%20%20%20%20%20%20%20%20%20%20%20%20%20%20%20%20%5B-1.2892977%2C%2036.9044594%5D%2C%0A%20%20%20%20%20%20%20%20%20%20%20%20%20%20%20%20%7B%7D%0A%20%20%20%20%20%20%20%20%20%20%20%20%29.addTo%28map_9536b186a26f4cc3aca0740ad35a0f72%29%3B%0A%20%20%20%20%20%20%20%20%0A%20%20%20%20%0A%20%20%20%20%20%20%20%20var%20popup_39b006f1087c4b2ba8b848952ddcacd2%20%3D%20L.popup%28%7B%22maxWidth%22%3A%20%22100%25%22%7D%29%3B%0A%0A%20%20%20%20%20%20%20%20%0A%20%20%20%20%20%20%20%20%20%20%20%20var%20html_53c5523c9d184929af39f8b162ca49e8%20%3D%20%24%28%60%3Cdiv%20id%3D%22html_53c5523c9d184929af39f8b162ca49e8%22%20style%3D%22width%3A%20100.0%25%3B%20height%3A%20100.0%25%3B%22%3EIsinya%20gen%20shop%3C/div%3E%60%29%5B0%5D%3B%0A%20%20%20%20%20%20%20%20%20%20%20%20popup_39b006f1087c4b2ba8b848952ddcacd2.setContent%28html_53c5523c9d184929af39f8b162ca49e8%29%3B%0A%20%20%20%20%20%20%20%20%0A%0A%20%20%20%20%20%20%20%20marker_d34747c3d517489dab7602ef6b335368.bindPopup%28popup_39b006f1087c4b2ba8b848952ddcacd2%29%0A%20%20%20%20%20%20%20%20%3B%0A%0A%20%20%20%20%20%20%20%20%0A%20%20%20%20%0A%20%20%20%20%0A%20%20%20%20%20%20%20%20%20%20%20%20var%20marker_5dfc7089d3fe4882b4fc2448e2f68238%20%3D%20L.marker%28%0A%20%20%20%20%20%20%20%20%20%20%20%20%20%20%20%20%5B-1.2538533%2C%2036.9156883%5D%2C%0A%20%20%20%20%20%20%20%20%20%20%20%20%20%20%20%20%7B%7D%0A%20%20%20%20%20%20%20%20%20%20%20%20%29.addTo%28map_9536b186a26f4cc3aca0740ad35a0f72%29%3B%0A%20%20%20%20%20%20%20%20%0A%20%20%20%20%0A%20%20%20%20%20%20%20%20var%20popup_6a33bfc8302e46eba9404d99cebe5981%20%3D%20L.popup%28%7B%22maxWidth%22%3A%20%22100%25%22%7D%29%3B%0A%0A%20%20%20%20%20%20%20%20%0A%20%20%20%20%20%20%20%20%20%20%20%20var%20html_f7a20715bb344bd98390d9d03a84e0e5%20%3D%20%24%28%60%3Cdiv%20id%3D%22html_f7a20715bb344bd98390d9d03a84e0e5%22%20style%3D%22width%3A%20100.0%25%3B%20height%3A%20100.0%25%3B%22%3EBlessed%20gen%20shop%3C/div%3E%60%29%5B0%5D%3B%0A%20%20%20%20%20%20%20%20%20%20%20%20popup_6a33bfc8302e46eba9404d99cebe5981.setContent%28html_f7a20715bb344bd98390d9d03a84e0e5%29%3B%0A%20%20%20%20%20%20%20%20%0A%0A%20%20%20%20%20%20%20%20marker_5dfc7089d3fe4882b4fc2448e2f68238.bindPopup%28popup_6a33bfc8302e46eba9404d99cebe5981%29%0A%20%20%20%20%20%20%20%20%3B%0A%0A%20%20%20%20%20%20%20%20%0A%20%20%20%20%0A%20%20%20%20%0A%20%20%20%20%20%20%20%20%20%20%20%20var%20marker_d2d092e4c1f34c3593dd579d3c4cb1a5%20%3D%20L.marker%28%0A%20%20%20%20%20%20%20%20%20%20%20%20%20%20%20%20%5B-1.2556036%2C%2036.9215234%5D%2C%0A%20%20%20%20%20%20%20%20%20%20%20%20%20%20%20%20%7B%7D%0A%20%20%20%20%20%20%20%20%20%20%20%20%29.addTo%28map_9536b186a26f4cc3aca0740ad35a0f72%29%3B%0A%20%20%20%20%20%20%20%20%0A%20%20%20%20%0A%20%20%20%20%20%20%20%20var%20popup_3d87e1fa84eb4be9af1677a75fa11b9b%20%3D%20L.popup%28%7B%22maxWidth%22%3A%20%22100%25%22%7D%29%3B%0A%0A%20%20%20%20%20%20%20%20%0A%20%20%20%20%20%20%20%20%20%20%20%20var%20html_4a51ffbb17d14c64bb772da3609c7320%20%3D%20%24%28%60%3Cdiv%20id%3D%22html_4a51ffbb17d14c64bb772da3609c7320%22%20style%3D%22width%3A%20100.0%25%3B%20height%3A%20100.0%25%3B%22%3EWema%20shop%3C/div%3E%60%29%5B0%5D%3B%0A%20%20%20%20%20%20%20%20%20%20%20%20popup_3d87e1fa84eb4be9af1677a75fa11b9b.setContent%28html_4a51ffbb17d14c64bb772da3609c7320%29%3B%0A%20%20%20%20%20%20%20%20%0A%0A%20%20%20%20%20%20%20%20marker_d2d092e4c1f34c3593dd579d3c4cb1a5.bindPopup%28popup_3d87e1fa84eb4be9af1677a75fa11b9b%29%0A%20%20%20%20%20%20%20%20%3B%0A%0A%20%20%20%20%20%20%20%20%0A%20%20%20%20%0A%20%20%20%20%0A%20%20%20%20%20%20%20%20%20%20%20%20var%20marker_a86e541be75c48e69b239c52840436b0%20%3D%20L.marker%28%0A%20%20%20%20%20%20%20%20%20%20%20%20%20%20%20%20%5B-1.2919441%2C%2036.9051407%5D%2C%0A%20%20%20%20%20%20%20%20%20%20%20%20%20%20%20%20%7B%7D%0A%20%20%20%20%20%20%20%20%20%20%20%20%29.addTo%28map_9536b186a26f4cc3aca0740ad35a0f72%29%3B%0A%20%20%20%20%20%20%20%20%0A%20%20%20%20%0A%20%20%20%20%20%20%20%20var%20popup_be8518b0148747a28bb4910ca61a3df5%20%3D%20L.popup%28%7B%22maxWidth%22%3A%20%22100%25%22%7D%29%3B%0A%0A%20%20%20%20%20%20%20%20%0A%20%20%20%20%20%20%20%20%20%20%20%20var%20html_8030e4d2bee442b7b9644534efa17c18%20%3D%20%24%28%60%3Cdiv%20id%3D%22html_8030e4d2bee442b7b9644534efa17c18%22%20style%3D%22width%3A%20100.0%25%3B%20height%3A%20100.0%25%3B%22%3EUpendo%20shop%3C/div%3E%60%29%5B0%5D%3B%0A%20%20%20%20%20%20%20%20%20%20%20%20popup_be8518b0148747a28bb4910ca61a3df5.setContent%28html_8030e4d2bee442b7b9644534efa17c18%29%3B%0A%20%20%20%20%20%20%20%20%0A%0A%20%20%20%20%20%20%20%20marker_a86e541be75c48e69b239c52840436b0.bindPopup%28popup_be8518b0148747a28bb4910ca61a3df5%29%0A%20%20%20%20%20%20%20%20%3B%0A%0A%20%20%20%20%20%20%20%20%0A%20%20%20%20%0A%20%20%20%20%0A%20%20%20%20%20%20%20%20%20%20%20%20var%20marker_ae5efcdb605746ee828a146e23fb5cde%20%3D%20L.marker%28%0A%20%20%20%20%20%20%20%20%20%20%20%20%20%20%20%20%5B-1.2917267%2C%2036.9050367%5D%2C%0A%20%20%20%20%20%20%20%20%20%20%20%20%20%20%20%20%7B%7D%0A%20%20%20%20%20%20%20%20%20%20%20%20%29.addTo%28map_9536b186a26f4cc3aca0740ad35a0f72%29%3B%0A%20%20%20%20%20%20%20%20%0A%20%20%20%20%0A%20%20%20%20%20%20%20%20var%20popup_db3e2053039e401da787f887d5e43746%20%3D%20L.popup%28%7B%22maxWidth%22%3A%20%22100%25%22%7D%29%3B%0A%0A%20%20%20%20%20%20%20%20%0A%20%20%20%20%20%20%20%20%20%20%20%20var%20html_00b4d906b908411e8db52965bd995f99%20%3D%20%24%28%60%3Cdiv%20id%3D%22html_00b4d906b908411e8db52965bd995f99%22%20style%3D%22width%3A%20100.0%25%3B%20height%3A%20100.0%25%3B%22%3ENeema%20shop%3C/div%3E%60%29%5B0%5D%3B%0A%20%20%20%20%20%20%20%20%20%20%20%20popup_db3e2053039e401da787f887d5e43746.setContent%28html_00b4d906b908411e8db52965bd995f99%29%3B%0A%20%20%20%20%20%20%20%20%0A%0A%20%20%20%20%20%20%20%20marker_ae5efcdb605746ee828a146e23fb5cde.bindPopup%28popup_db3e2053039e401da787f887d5e43746%29%0A%20%20%20%20%20%20%20%20%3B%0A%0A%20%20%20%20%20%20%20%20%0A%20%20%20%20%0A%20%20%20%20%0A%20%20%20%20%20%20%20%20%20%20%20%20var%20marker_baa3426a5e9a4047afc2c0916351de92%20%3D%20L.marker%28%0A%20%20%20%20%20%20%20%20%20%20%20%20%20%20%20%20%5B-1.2913785%2C%2036.9051835%5D%2C%0A%20%20%20%20%20%20%20%20%20%20%20%20%20%20%20%20%7B%7D%0A%20%20%20%20%20%20%20%20%20%20%20%20%29.addTo%28map_9536b186a26f4cc3aca0740ad35a0f72%29%3B%0A%20%20%20%20%20%20%20%20%0A%20%20%20%20%0A%20%20%20%20%20%20%20%20var%20popup_0851effb349346b3a21194607a20ac59%20%3D%20L.popup%28%7B%22maxWidth%22%3A%20%22100%25%22%7D%29%3B%0A%0A%20%20%20%20%20%20%20%20%0A%20%20%20%20%20%20%20%20%20%20%20%20var%20html_1b7b04645a5c4b5ea9ed5c6edc48b133%20%3D%20%24%28%60%3Cdiv%20id%3D%22html_1b7b04645a5c4b5ea9ed5c6edc48b133%22%20style%3D%22width%3A%20100.0%25%3B%20height%3A%20100.0%25%3B%22%3EVenah%20shop%3C/div%3E%60%29%5B0%5D%3B%0A%20%20%20%20%20%20%20%20%20%20%20%20popup_0851effb349346b3a21194607a20ac59.setContent%28html_1b7b04645a5c4b5ea9ed5c6edc48b133%29%3B%0A%20%20%20%20%20%20%20%20%0A%0A%20%20%20%20%20%20%20%20marker_baa3426a5e9a4047afc2c0916351de92.bindPopup%28popup_0851effb349346b3a21194607a20ac59%29%0A%20%20%20%20%20%20%20%20%3B%0A%0A%20%20%20%20%20%20%20%20%0A%20%20%20%20%0A%20%20%20%20%0A%20%20%20%20%20%20%20%20%20%20%20%20var%20marker_19eb91ee1db54b1693c1173e64667633%20%3D%20L.marker%28%0A%20%20%20%20%20%20%20%20%20%20%20%20%20%20%20%20%5B-1.2538667%2C%2036.915735%5D%2C%0A%20%20%20%20%20%20%20%20%20%20%20%20%20%20%20%20%7B%7D%0A%20%20%20%20%20%20%20%20%20%20%20%20%29.addTo%28map_9536b186a26f4cc3aca0740ad35a0f72%29%3B%0A%20%20%20%20%20%20%20%20%0A%20%20%20%20%0A%20%20%20%20%20%20%20%20var%20popup_0392bb93c8194e719f40b3a03d20128f%20%3D%20L.popup%28%7B%22maxWidth%22%3A%20%22100%25%22%7D%29%3B%0A%0A%20%20%20%20%20%20%20%20%0A%20%20%20%20%20%20%20%20%20%20%20%20var%20html_daa60e803dff48e79c0cc22c1b2aa032%20%3D%20%24%28%60%3Cdiv%20id%3D%22html_daa60e803dff48e79c0cc22c1b2aa032%22%20style%3D%22width%3A%20100.0%25%3B%20height%3A%20100.0%25%3B%22%3EAli%20shop%3C/div%3E%60%29%5B0%5D%3B%0A%20%20%20%20%20%20%20%20%20%20%20%20popup_0392bb93c8194e719f40b3a03d20128f.setContent%28html_daa60e803dff48e79c0cc22c1b2aa032%29%3B%0A%20%20%20%20%20%20%20%20%0A%0A%20%20%20%20%20%20%20%20marker_19eb91ee1db54b1693c1173e64667633.bindPopup%28popup_0392bb93c8194e719f40b3a03d20128f%29%0A%20%20%20%20%20%20%20%20%3B%0A%0A%20%20%20%20%20%20%20%20%0A%20%20%20%20%0A%20%20%20%20%0A%20%20%20%20%20%20%20%20%20%20%20%20var%20marker_a0a2529e187f4c1dafeb9dc82e0d762b%20%3D%20L.marker%28%0A%20%20%20%20%20%20%20%20%20%20%20%20%20%20%20%20%5B-1.2546133%2C%2036.920786%5D%2C%0A%20%20%20%20%20%20%20%20%20%20%20%20%20%20%20%20%7B%7D%0A%20%20%20%20%20%20%20%20%20%20%20%20%29.addTo%28map_9536b186a26f4cc3aca0740ad35a0f72%29%3B%0A%20%20%20%20%20%20%20%20%0A%20%20%20%20%0A%20%20%20%20%20%20%20%20var%20popup_6b1009794c6e429c807b179a9715741a%20%3D%20L.popup%28%7B%22maxWidth%22%3A%20%22100%25%22%7D%29%3B%0A%0A%20%20%20%20%20%20%20%20%0A%20%20%20%20%20%20%20%20%20%20%20%20var%20html_da3ef108583048c48715e425663f734c%20%3D%20%24%28%60%3Cdiv%20id%3D%22html_da3ef108583048c48715e425663f734c%22%20style%3D%22width%3A%20100.0%25%3B%20height%3A%20100.0%25%3B%22%3EStar%20shop%3C/div%3E%60%29%5B0%5D%3B%0A%20%20%20%20%20%20%20%20%20%20%20%20popup_6b1009794c6e429c807b179a9715741a.setContent%28html_da3ef108583048c48715e425663f734c%29%3B%0A%20%20%20%20%20%20%20%20%0A%0A%20%20%20%20%20%20%20%20marker_a0a2529e187f4c1dafeb9dc82e0d762b.bindPopup%28popup_6b1009794c6e429c807b179a9715741a%29%0A%20%20%20%20%20%20%20%20%3B%0A%0A%20%20%20%20%20%20%20%20%0A%20%20%20%20%0A%20%20%20%20%0A%20%20%20%20%20%20%20%20%20%20%20%20var%20marker_7f4398080003452499a770873d846174%20%3D%20L.marker%28%0A%20%20%20%20%20%20%20%20%20%20%20%20%20%20%20%20%5B-1.2904239%2C%2036.9053047%5D%2C%0A%20%20%20%20%20%20%20%20%20%20%20%20%20%20%20%20%7B%7D%0A%20%20%20%20%20%20%20%20%20%20%20%20%29.addTo%28map_9536b186a26f4cc3aca0740ad35a0f72%29%3B%0A%20%20%20%20%20%20%20%20%0A%20%20%20%20%0A%20%20%20%20%20%20%20%20var%20popup_3e3c7b393b4e430fa973573773ebf9e0%20%3D%20L.popup%28%7B%22maxWidth%22%3A%20%22100%25%22%7D%29%3B%0A%0A%20%20%20%20%20%20%20%20%0A%20%20%20%20%20%20%20%20%20%20%20%20var%20html_8991e7c40adc40ab854e3b1c31390e5a%20%3D%20%24%28%60%3Cdiv%20id%3D%22html_8991e7c40adc40ab854e3b1c31390e5a%22%20style%3D%22width%3A%20100.0%25%3B%20height%3A%20100.0%25%3B%22%3EMashallah%20gen%20shop%3C/div%3E%60%29%5B0%5D%3B%0A%20%20%20%20%20%20%20%20%20%20%20%20popup_3e3c7b393b4e430fa973573773ebf9e0.setContent%28html_8991e7c40adc40ab854e3b1c31390e5a%29%3B%0A%20%20%20%20%20%20%20%20%0A%0A%20%20%20%20%20%20%20%20marker_7f4398080003452499a770873d846174.bindPopup%28popup_3e3c7b393b4e430fa973573773ebf9e0%29%0A%20%20%20%20%20%20%20%20%3B%0A%0A%20%20%20%20%20%20%20%20%0A%20%20%20%20%0A%20%20%20%20%0A%20%20%20%20%20%20%20%20%20%20%20%20var%20marker_a009bea28d804bf2a9cc98b5e0b41ae0%20%3D%20L.marker%28%0A%20%20%20%20%20%20%20%20%20%20%20%20%20%20%20%20%5B-1.2592583%2C%2036.909845%5D%2C%0A%20%20%20%20%20%20%20%20%20%20%20%20%20%20%20%20%7B%7D%0A%20%20%20%20%20%20%20%20%20%20%20%20%29.addTo%28map_9536b186a26f4cc3aca0740ad35a0f72%29%3B%0A%20%20%20%20%20%20%20%20%0A%20%20%20%20%0A%20%20%20%20%20%20%20%20var%20popup_7df1489929c74c948bbb37695d0adc8f%20%3D%20L.popup%28%7B%22maxWidth%22%3A%20%22100%25%22%7D%29%3B%0A%0A%20%20%20%20%20%20%20%20%0A%20%20%20%20%20%20%20%20%20%20%20%20var%20html_72d92b9742854232be2d6a0d881427ec%20%3D%20%24%28%60%3Cdiv%20id%3D%22html_72d92b9742854232be2d6a0d881427ec%22%20style%3D%22width%3A%20100.0%25%3B%20height%3A%20100.0%25%3B%22%3EBienya%20shop%3C/div%3E%60%29%5B0%5D%3B%0A%20%20%20%20%20%20%20%20%20%20%20%20popup_7df1489929c74c948bbb37695d0adc8f.setContent%28html_72d92b9742854232be2d6a0d881427ec%29%3B%0A%20%20%20%20%20%20%20%20%0A%0A%20%20%20%20%20%20%20%20marker_a009bea28d804bf2a9cc98b5e0b41ae0.bindPopup%28popup_7df1489929c74c948bbb37695d0adc8f%29%0A%20%20%20%20%20%20%20%20%3B%0A%0A%20%20%20%20%20%20%20%20%0A%20%20%20%20%0A%20%20%20%20%0A%20%20%20%20%20%20%20%20%20%20%20%20var%20marker_393288a637bc4d018465a49723b764a3%20%3D%20L.marker%28%0A%20%20%20%20%20%20%20%20%20%20%20%20%20%20%20%20%5B-1.2899051%2C%2036.9049516%5D%2C%0A%20%20%20%20%20%20%20%20%20%20%20%20%20%20%20%20%7B%7D%0A%20%20%20%20%20%20%20%20%20%20%20%20%29.addTo%28map_9536b186a26f4cc3aca0740ad35a0f72%29%3B%0A%20%20%20%20%20%20%20%20%0A%20%20%20%20%0A%20%20%20%20%20%20%20%20var%20popup_f2ca5a7b7090458ea9022bdbdf162019%20%3D%20L.popup%28%7B%22maxWidth%22%3A%20%22100%25%22%7D%29%3B%0A%0A%20%20%20%20%20%20%20%20%0A%20%20%20%20%20%20%20%20%20%20%20%20var%20html_00d17a146fbf41ec8d3acfee0e4e4d59%20%3D%20%24%28%60%3Cdiv%20id%3D%22html_00d17a146fbf41ec8d3acfee0e4e4d59%22%20style%3D%22width%3A%20100.0%25%3B%20height%3A%20100.0%25%3B%22%3EAisha%20shop%3C/div%3E%60%29%5B0%5D%3B%0A%20%20%20%20%20%20%20%20%20%20%20%20popup_f2ca5a7b7090458ea9022bdbdf162019.setContent%28html_00d17a146fbf41ec8d3acfee0e4e4d59%29%3B%0A%20%20%20%20%20%20%20%20%0A%0A%20%20%20%20%20%20%20%20marker_393288a637bc4d018465a49723b764a3.bindPopup%28popup_f2ca5a7b7090458ea9022bdbdf162019%29%0A%20%20%20%20%20%20%20%20%3B%0A%0A%20%20%20%20%20%20%20%20%0A%20%20%20%20%0A%20%20%20%20%0A%20%20%20%20%20%20%20%20%20%20%20%20var%20marker_6072ee98beef45e0b04b52ace9a7732d%20%3D%20L.marker%28%0A%20%20%20%20%20%20%20%20%20%20%20%20%20%20%20%20%5B-1.25923%2C%2036.909825%5D%2C%0A%20%20%20%20%20%20%20%20%20%20%20%20%20%20%20%20%7B%7D%0A%20%20%20%20%20%20%20%20%20%20%20%20%29.addTo%28map_9536b186a26f4cc3aca0740ad35a0f72%29%3B%0A%20%20%20%20%20%20%20%20%0A%20%20%20%20%0A%20%20%20%20%20%20%20%20var%20popup_90cf28ce165d4f20bc750327d69a78f5%20%3D%20L.popup%28%7B%22maxWidth%22%3A%20%22100%25%22%7D%29%3B%0A%0A%20%20%20%20%20%20%20%20%0A%20%20%20%20%20%20%20%20%20%20%20%20var%20html_f151774ffc794d6194c98679316727a9%20%3D%20%24%28%60%3Cdiv%20id%3D%22html_f151774ffc794d6194c98679316727a9%22%20style%3D%22width%3A%20100.0%25%3B%20height%3A%20100.0%25%3B%22%3EPasta%20shop%3C/div%3E%60%29%5B0%5D%3B%0A%20%20%20%20%20%20%20%20%20%20%20%20popup_90cf28ce165d4f20bc750327d69a78f5.setContent%28html_f151774ffc794d6194c98679316727a9%29%3B%0A%20%20%20%20%20%20%20%20%0A%0A%20%20%20%20%20%20%20%20marker_6072ee98beef45e0b04b52ace9a7732d.bindPopup%28popup_90cf28ce165d4f20bc750327d69a78f5%29%0A%20%20%20%20%20%20%20%20%3B%0A%0A%20%20%20%20%20%20%20%20%0A%20%20%20%20%0A%20%20%20%20%0A%20%20%20%20%20%20%20%20%20%20%20%20var%20marker_9cd91a050f5e49dfbbbe95e99ba5ecdd%20%3D%20L.marker%28%0A%20%20%20%20%20%20%20%20%20%20%20%20%20%20%20%20%5B-1.3106316%2C%2036.8924883%5D%2C%0A%20%20%20%20%20%20%20%20%20%20%20%20%20%20%20%20%7B%7D%0A%20%20%20%20%20%20%20%20%20%20%20%20%29.addTo%28map_9536b186a26f4cc3aca0740ad35a0f72%29%3B%0A%20%20%20%20%20%20%20%20%0A%20%20%20%20%0A%20%20%20%20%20%20%20%20var%20popup_ce61aa9226ba4c73ad1ff678162c2fa8%20%3D%20L.popup%28%7B%22maxWidth%22%3A%20%22100%25%22%7D%29%3B%0A%0A%20%20%20%20%20%20%20%20%0A%20%20%20%20%20%20%20%20%20%20%20%20var%20html_7bd0b24bbc7545f98daa86010641a1a3%20%3D%20%24%28%60%3Cdiv%20id%3D%22html_7bd0b24bbc7545f98daa86010641a1a3%22%20style%3D%22width%3A%20100.0%25%3B%20height%3A%20100.0%25%3B%22%3EFrenzer%20shop%3C/div%3E%60%29%5B0%5D%3B%0A%20%20%20%20%20%20%20%20%20%20%20%20popup_ce61aa9226ba4c73ad1ff678162c2fa8.setContent%28html_7bd0b24bbc7545f98daa86010641a1a3%29%3B%0A%20%20%20%20%20%20%20%20%0A%0A%20%20%20%20%20%20%20%20marker_9cd91a050f5e49dfbbbe95e99ba5ecdd.bindPopup%28popup_ce61aa9226ba4c73ad1ff678162c2fa8%29%0A%20%20%20%20%20%20%20%20%3B%0A%0A%20%20%20%20%20%20%20%20%0A%20%20%20%20%0A%20%20%20%20%0A%20%20%20%20%20%20%20%20%20%20%20%20var%20marker_20515106cd784bc4a4a86d5d9ab7efb9%20%3D%20L.marker%28%0A%20%20%20%20%20%20%20%20%20%20%20%20%20%20%20%20%5B-1.3022094%2C%2036.9056017%5D%2C%0A%20%20%20%20%20%20%20%20%20%20%20%20%20%20%20%20%7B%7D%0A%20%20%20%20%20%20%20%20%20%20%20%20%29.addTo%28map_9536b186a26f4cc3aca0740ad35a0f72%29%3B%0A%20%20%20%20%20%20%20%20%0A%20%20%20%20%0A%20%20%20%20%20%20%20%20var%20popup_856669673a3e4052a9094c6c88ddf3c4%20%3D%20L.popup%28%7B%22maxWidth%22%3A%20%22100%25%22%7D%29%3B%0A%0A%20%20%20%20%20%20%20%20%0A%20%20%20%20%20%20%20%20%20%20%20%20var%20html_77dac6b322be4caebbf6f67ef081df58%20%3D%20%24%28%60%3Cdiv%20id%3D%22html_77dac6b322be4caebbf6f67ef081df58%22%20style%3D%22width%3A%20100.0%25%3B%20height%3A%20100.0%25%3B%22%3EBismillah%20Wajir%20shop%3C/div%3E%60%29%5B0%5D%3B%0A%20%20%20%20%20%20%20%20%20%20%20%20popup_856669673a3e4052a9094c6c88ddf3c4.setContent%28html_77dac6b322be4caebbf6f67ef081df58%29%3B%0A%20%20%20%20%20%20%20%20%0A%0A%20%20%20%20%20%20%20%20marker_20515106cd784bc4a4a86d5d9ab7efb9.bindPopup%28popup_856669673a3e4052a9094c6c88ddf3c4%29%0A%20%20%20%20%20%20%20%20%3B%0A%0A%20%20%20%20%20%20%20%20%0A%20%20%20%20%0A%20%20%20%20%0A%20%20%20%20%20%20%20%20%20%20%20%20var%20marker_6580722261a44b94b40915d0f21bf5ef%20%3D%20L.marker%28%0A%20%20%20%20%20%20%20%20%20%20%20%20%20%20%20%20%5B-1.3021788%2C%2036.9055873%5D%2C%0A%20%20%20%20%20%20%20%20%20%20%20%20%20%20%20%20%7B%7D%0A%20%20%20%20%20%20%20%20%20%20%20%20%29.addTo%28map_9536b186a26f4cc3aca0740ad35a0f72%29%3B%0A%20%20%20%20%20%20%20%20%0A%20%20%20%20%0A%20%20%20%20%20%20%20%20var%20popup_6529dea0ca9049a0b0038280a51ebedf%20%3D%20L.popup%28%7B%22maxWidth%22%3A%20%22100%25%22%7D%29%3B%0A%0A%20%20%20%20%20%20%20%20%0A%20%20%20%20%20%20%20%20%20%20%20%20var%20html_2391694f2801468b853a144ac399ac13%20%3D%20%24%28%60%3Cdiv%20id%3D%22html_2391694f2801468b853a144ac399ac13%22%20style%3D%22width%3A%20100.0%25%3B%20height%3A%20100.0%25%3B%22%3EProvince%20gen%20shop%3C/div%3E%60%29%5B0%5D%3B%0A%20%20%20%20%20%20%20%20%20%20%20%20popup_6529dea0ca9049a0b0038280a51ebedf.setContent%28html_2391694f2801468b853a144ac399ac13%29%3B%0A%20%20%20%20%20%20%20%20%0A%0A%20%20%20%20%20%20%20%20marker_6580722261a44b94b40915d0f21bf5ef.bindPopup%28popup_6529dea0ca9049a0b0038280a51ebedf%29%0A%20%20%20%20%20%20%20%20%3B%0A%0A%20%20%20%20%20%20%20%20%0A%20%20%20%20%0A%20%20%20%20%0A%20%20%20%20%20%20%20%20%20%20%20%20var%20marker_48c164c81ab74aed8480cdaeedcd2a4b%20%3D%20L.marker%28%0A%20%20%20%20%20%20%20%20%20%20%20%20%20%20%20%20%5B-1.2802917%2C%2036.8898765%5D%2C%0A%20%20%20%20%20%20%20%20%20%20%20%20%20%20%20%20%7B%7D%0A%20%20%20%20%20%20%20%20%20%20%20%20%29.addTo%28map_9536b186a26f4cc3aca0740ad35a0f72%29%3B%0A%20%20%20%20%20%20%20%20%0A%20%20%20%20%0A%20%20%20%20%20%20%20%20var%20popup_a0a9b194288a46c0b6ff8140ef35acde%20%3D%20L.popup%28%7B%22maxWidth%22%3A%20%22100%25%22%7D%29%3B%0A%0A%20%20%20%20%20%20%20%20%0A%20%20%20%20%20%20%20%20%20%20%20%20var%20html_df13f15ca1c241a0a08aae69dbb22ae3%20%3D%20%24%28%60%3Cdiv%20id%3D%22html_df13f15ca1c241a0a08aae69dbb22ae3%22%20style%3D%22width%3A%20100.0%25%3B%20height%3A%20100.0%25%3B%22%3ENjawa%20%20shop%3C/div%3E%60%29%5B0%5D%3B%0A%20%20%20%20%20%20%20%20%20%20%20%20popup_a0a9b194288a46c0b6ff8140ef35acde.setContent%28html_df13f15ca1c241a0a08aae69dbb22ae3%29%3B%0A%20%20%20%20%20%20%20%20%0A%0A%20%20%20%20%20%20%20%20marker_48c164c81ab74aed8480cdaeedcd2a4b.bindPopup%28popup_a0a9b194288a46c0b6ff8140ef35acde%29%0A%20%20%20%20%20%20%20%20%3B%0A%0A%20%20%20%20%20%20%20%20%0A%20%20%20%20%0A%20%20%20%20%0A%20%20%20%20%20%20%20%20%20%20%20%20var%20marker_60bbab2b3e174a08b8129a6b03df26d5%20%3D%20L.marker%28%0A%20%20%20%20%20%20%20%20%20%20%20%20%20%20%20%20%5B-1.2802831%2C%2036.8899286%5D%2C%0A%20%20%20%20%20%20%20%20%20%20%20%20%20%20%20%20%7B%7D%0A%20%20%20%20%20%20%20%20%20%20%20%20%29.addTo%28map_9536b186a26f4cc3aca0740ad35a0f72%29%3B%0A%20%20%20%20%20%20%20%20%0A%20%20%20%20%0A%20%20%20%20%20%20%20%20var%20popup_199b05f98bbc4bd882589efcf3b75d62%20%3D%20L.popup%28%7B%22maxWidth%22%3A%20%22100%25%22%7D%29%3B%0A%0A%20%20%20%20%20%20%20%20%0A%20%20%20%20%20%20%20%20%20%20%20%20var%20html_52ca4000c49945668bd3e80268949468%20%3D%20%24%28%60%3Cdiv%20id%3D%22html_52ca4000c49945668bd3e80268949468%22%20style%3D%22width%3A%20100.0%25%3B%20height%3A%20100.0%25%3B%22%3EHavilla%20mini%20market%3C/div%3E%60%29%5B0%5D%3B%0A%20%20%20%20%20%20%20%20%20%20%20%20popup_199b05f98bbc4bd882589efcf3b75d62.setContent%28html_52ca4000c49945668bd3e80268949468%29%3B%0A%20%20%20%20%20%20%20%20%0A%0A%20%20%20%20%20%20%20%20marker_60bbab2b3e174a08b8129a6b03df26d5.bindPopup%28popup_199b05f98bbc4bd882589efcf3b75d62%29%0A%20%20%20%20%20%20%20%20%3B%0A%0A%20%20%20%20%20%20%20%20%0A%20%20%20%20%0A%20%20%20%20%0A%20%20%20%20%20%20%20%20%20%20%20%20var%20marker_2a7fe451ce3949f4bdd0e0de864b6a5a%20%3D%20L.marker%28%0A%20%20%20%20%20%20%20%20%20%20%20%20%20%20%20%20%5B-1.2889463%2C%2036.9036441%5D%2C%0A%20%20%20%20%20%20%20%20%20%20%20%20%20%20%20%20%7B%7D%0A%20%20%20%20%20%20%20%20%20%20%20%20%29.addTo%28map_9536b186a26f4cc3aca0740ad35a0f72%29%3B%0A%20%20%20%20%20%20%20%20%0A%20%20%20%20%0A%20%20%20%20%20%20%20%20var%20popup_bf4700fddfa34c8e910588510ec1156d%20%3D%20L.popup%28%7B%22maxWidth%22%3A%20%22100%25%22%7D%29%3B%0A%0A%20%20%20%20%20%20%20%20%0A%20%20%20%20%20%20%20%20%20%20%20%20var%20html_e443583ef62c4425ac60a244e7980794%20%3D%20%24%28%60%3Cdiv%20id%3D%22html_e443583ef62c4425ac60a244e7980794%22%20style%3D%22width%3A%20100.0%25%3B%20height%3A%20100.0%25%3B%22%3ERahmani%20shop%3C/div%3E%60%29%5B0%5D%3B%0A%20%20%20%20%20%20%20%20%20%20%20%20popup_bf4700fddfa34c8e910588510ec1156d.setContent%28html_e443583ef62c4425ac60a244e7980794%29%3B%0A%20%20%20%20%20%20%20%20%0A%0A%20%20%20%20%20%20%20%20marker_2a7fe451ce3949f4bdd0e0de864b6a5a.bindPopup%28popup_bf4700fddfa34c8e910588510ec1156d%29%0A%20%20%20%20%20%20%20%20%3B%0A%0A%20%20%20%20%20%20%20%20%0A%20%20%20%20%0A%20%20%20%20%0A%20%20%20%20%20%20%20%20%20%20%20%20var%20marker_1ec2189d868b4c2d88a94f8a044c015a%20%3D%20L.marker%28%0A%20%20%20%20%20%20%20%20%20%20%20%20%20%20%20%20%5B-1.2891213%2C%2036.9034936%5D%2C%0A%20%20%20%20%20%20%20%20%20%20%20%20%20%20%20%20%7B%7D%0A%20%20%20%20%20%20%20%20%20%20%20%20%29.addTo%28map_9536b186a26f4cc3aca0740ad35a0f72%29%3B%0A%20%20%20%20%20%20%20%20%0A%20%20%20%20%0A%20%20%20%20%20%20%20%20var%20popup_c28a8e30a45b47c9b483e05212ae0e11%20%3D%20L.popup%28%7B%22maxWidth%22%3A%20%22100%25%22%7D%29%3B%0A%0A%20%20%20%20%20%20%20%20%0A%20%20%20%20%20%20%20%20%20%20%20%20var%20html_78fb3664fbcc484e82d6bfb83f9d9e93%20%3D%20%24%28%60%3Cdiv%20id%3D%22html_78fb3664fbcc484e82d6bfb83f9d9e93%22%20style%3D%22width%3A%20100.0%25%3B%20height%3A%20100.0%25%3B%22%3EWa%20mercy%20shop%3C/div%3E%60%29%5B0%5D%3B%0A%20%20%20%20%20%20%20%20%20%20%20%20popup_c28a8e30a45b47c9b483e05212ae0e11.setContent%28html_78fb3664fbcc484e82d6bfb83f9d9e93%29%3B%0A%20%20%20%20%20%20%20%20%0A%0A%20%20%20%20%20%20%20%20marker_1ec2189d868b4c2d88a94f8a044c015a.bindPopup%28popup_c28a8e30a45b47c9b483e05212ae0e11%29%0A%20%20%20%20%20%20%20%20%3B%0A%0A%20%20%20%20%20%20%20%20%0A%20%20%20%20%0A%20%20%20%20%0A%20%20%20%20%20%20%20%20%20%20%20%20var%20marker_7e8cc26ae682451b99a659974c470fa6%20%3D%20L.marker%28%0A%20%20%20%20%20%20%20%20%20%20%20%20%20%20%20%20%5B-1.2973074%2C%2036.8878519%5D%2C%0A%20%20%20%20%20%20%20%20%20%20%20%20%20%20%20%20%7B%7D%0A%20%20%20%20%20%20%20%20%20%20%20%20%29.addTo%28map_9536b186a26f4cc3aca0740ad35a0f72%29%3B%0A%20%20%20%20%20%20%20%20%0A%20%20%20%20%0A%20%20%20%20%20%20%20%20var%20popup_d39f24efd29540098587f341b8874e5d%20%3D%20L.popup%28%7B%22maxWidth%22%3A%20%22100%25%22%7D%29%3B%0A%0A%20%20%20%20%20%20%20%20%0A%20%20%20%20%20%20%20%20%20%20%20%20var%20html_935688625514443c81d78a387fc6e807%20%3D%20%24%28%60%3Cdiv%20id%3D%22html_935688625514443c81d78a387fc6e807%22%20style%3D%22width%3A%20100.0%25%3B%20height%3A%20100.0%25%3B%22%3ETester%20shop%3C/div%3E%60%29%5B0%5D%3B%0A%20%20%20%20%20%20%20%20%20%20%20%20popup_d39f24efd29540098587f341b8874e5d.setContent%28html_935688625514443c81d78a387fc6e807%29%3B%0A%20%20%20%20%20%20%20%20%0A%0A%20%20%20%20%20%20%20%20marker_7e8cc26ae682451b99a659974c470fa6.bindPopup%28popup_d39f24efd29540098587f341b8874e5d%29%0A%20%20%20%20%20%20%20%20%3B%0A%0A%20%20%20%20%20%20%20%20%0A%20%20%20%20%0A%20%20%20%20%0A%20%20%20%20%20%20%20%20%20%20%20%20var%20marker_affe9044148c4d0d9db3ca4ce60a747d%20%3D%20L.marker%28%0A%20%20%20%20%20%20%20%20%20%20%20%20%20%20%20%20%5B-1.2891521%2C%2036.903456%5D%2C%0A%20%20%20%20%20%20%20%20%20%20%20%20%20%20%20%20%7B%7D%0A%20%20%20%20%20%20%20%20%20%20%20%20%29.addTo%28map_9536b186a26f4cc3aca0740ad35a0f72%29%3B%0A%20%20%20%20%20%20%20%20%0A%20%20%20%20%0A%20%20%20%20%20%20%20%20var%20popup_679b05dd5c67459caa9bcb9c81f681fa%20%3D%20L.popup%28%7B%22maxWidth%22%3A%20%22100%25%22%7D%29%3B%0A%0A%20%20%20%20%20%20%20%20%0A%20%20%20%20%20%20%20%20%20%20%20%20var%20html_e89d00b8b4a34f43a1167fb6096e4a1e%20%3D%20%24%28%60%3Cdiv%20id%3D%22html_e89d00b8b4a34f43a1167fb6096e4a1e%22%20style%3D%22width%3A%20100.0%25%3B%20height%3A%20100.0%25%3B%22%3EWa%20mercy%20shop%3C/div%3E%60%29%5B0%5D%3B%0A%20%20%20%20%20%20%20%20%20%20%20%20popup_679b05dd5c67459caa9bcb9c81f681fa.setContent%28html_e89d00b8b4a34f43a1167fb6096e4a1e%29%3B%0A%20%20%20%20%20%20%20%20%0A%0A%20%20%20%20%20%20%20%20marker_affe9044148c4d0d9db3ca4ce60a747d.bindPopup%28popup_679b05dd5c67459caa9bcb9c81f681fa%29%0A%20%20%20%20%20%20%20%20%3B%0A%0A%20%20%20%20%20%20%20%20%0A%20%20%20%20%0A%20%20%20%20%0A%20%20%20%20%20%20%20%20%20%20%20%20var%20marker_c87084aa542243babb7760d5a9a4f74b%20%3D%20L.marker%28%0A%20%20%20%20%20%20%20%20%20%20%20%20%20%20%20%20%5B-1.2953783%2C%2036.889515%5D%2C%0A%20%20%20%20%20%20%20%20%20%20%20%20%20%20%20%20%7B%7D%0A%20%20%20%20%20%20%20%20%20%20%20%20%29.addTo%28map_9536b186a26f4cc3aca0740ad35a0f72%29%3B%0A%20%20%20%20%20%20%20%20%0A%20%20%20%20%0A%20%20%20%20%20%20%20%20var%20popup_c88df078bd62458783051d990cff2a49%20%3D%20L.popup%28%7B%22maxWidth%22%3A%20%22100%25%22%7D%29%3B%0A%0A%20%20%20%20%20%20%20%20%0A%20%20%20%20%20%20%20%20%20%20%20%20var%20html_9eaafb3141ad47d892450698ec95a1f7%20%3D%20%24%28%60%3Cdiv%20id%3D%22html_9eaafb3141ad47d892450698ec95a1f7%22%20style%3D%22width%3A%20100.0%25%3B%20height%3A%20100.0%25%3B%22%3EWa%20mercy%20shop%3C/div%3E%60%29%5B0%5D%3B%0A%20%20%20%20%20%20%20%20%20%20%20%20popup_c88df078bd62458783051d990cff2a49.setContent%28html_9eaafb3141ad47d892450698ec95a1f7%29%3B%0A%20%20%20%20%20%20%20%20%0A%0A%20%20%20%20%20%20%20%20marker_c87084aa542243babb7760d5a9a4f74b.bindPopup%28popup_c88df078bd62458783051d990cff2a49%29%0A%20%20%20%20%20%20%20%20%3B%0A%0A%20%20%20%20%20%20%20%20%0A%20%20%20%20%0A%20%20%20%20%0A%20%20%20%20%20%20%20%20%20%20%20%20var%20marker_1e5c8ca3ec58418b9a15614591829332%20%3D%20L.marker%28%0A%20%20%20%20%20%20%20%20%20%20%20%20%20%20%20%20%5B-1.2909905%2C%2036.8868798%5D%2C%0A%20%20%20%20%20%20%20%20%20%20%20%20%20%20%20%20%7B%7D%0A%20%20%20%20%20%20%20%20%20%20%20%20%29.addTo%28map_9536b186a26f4cc3aca0740ad35a0f72%29%3B%0A%20%20%20%20%20%20%20%20%0A%20%20%20%20%0A%20%20%20%20%20%20%20%20var%20popup_c2901d98a3dd4d66b0e64bcd121335bb%20%3D%20L.popup%28%7B%22maxWidth%22%3A%20%22100%25%22%7D%29%3B%0A%0A%20%20%20%20%20%20%20%20%0A%20%20%20%20%20%20%20%20%20%20%20%20var%20html_045cfbf6fa764d5fbce80ed756b7e10c%20%3D%20%24%28%60%3Cdiv%20id%3D%22html_045cfbf6fa764d5fbce80ed756b7e10c%22%20style%3D%22width%3A%20100.0%25%3B%20height%3A%20100.0%25%3B%22%3EWa%20mercy%20shop%3C/div%3E%60%29%5B0%5D%3B%0A%20%20%20%20%20%20%20%20%20%20%20%20popup_c2901d98a3dd4d66b0e64bcd121335bb.setContent%28html_045cfbf6fa764d5fbce80ed756b7e10c%29%3B%0A%20%20%20%20%20%20%20%20%0A%0A%20%20%20%20%20%20%20%20marker_1e5c8ca3ec58418b9a15614591829332.bindPopup%28popup_c2901d98a3dd4d66b0e64bcd121335bb%29%0A%20%20%20%20%20%20%20%20%3B%0A%0A%20%20%20%20%20%20%20%20%0A%20%20%20%20%0A%20%20%20%20%0A%20%20%20%20%20%20%20%20%20%20%20%20var%20marker_e2155a1e31eb40a38adc188581a323fb%20%3D%20L.marker%28%0A%20%20%20%20%20%20%20%20%20%20%20%20%20%20%20%20%5B-1.2940433%2C%2036.8878367%5D%2C%0A%20%20%20%20%20%20%20%20%20%20%20%20%20%20%20%20%7B%7D%0A%20%20%20%20%20%20%20%20%20%20%20%20%29.addTo%28map_9536b186a26f4cc3aca0740ad35a0f72%29%3B%0A%20%20%20%20%20%20%20%20%0A%20%20%20%20%0A%20%20%20%20%20%20%20%20var%20popup_edad6606fd624827bb3215a4722a2f05%20%3D%20L.popup%28%7B%22maxWidth%22%3A%20%22100%25%22%7D%29%3B%0A%0A%20%20%20%20%20%20%20%20%0A%20%20%20%20%20%20%20%20%20%20%20%20var%20html_fa14b2eabd07491d87303b8036f00129%20%3D%20%24%28%60%3Cdiv%20id%3D%22html_fa14b2eabd07491d87303b8036f00129%22%20style%3D%22width%3A%20100.0%25%3B%20height%3A%20100.0%25%3B%22%3EMaina%20shop%3C/div%3E%60%29%5B0%5D%3B%0A%20%20%20%20%20%20%20%20%20%20%20%20popup_edad6606fd624827bb3215a4722a2f05.setContent%28html_fa14b2eabd07491d87303b8036f00129%29%3B%0A%20%20%20%20%20%20%20%20%0A%0A%20%20%20%20%20%20%20%20marker_e2155a1e31eb40a38adc188581a323fb.bindPopup%28popup_edad6606fd624827bb3215a4722a2f05%29%0A%20%20%20%20%20%20%20%20%3B%0A%0A%20%20%20%20%20%20%20%20%0A%20%20%20%20%0A%20%20%20%20%0A%20%20%20%20%20%20%20%20%20%20%20%20var%20marker_f147d98c1ea342cbb96e11acfa1f8892%20%3D%20L.marker%28%0A%20%20%20%20%20%20%20%20%20%20%20%20%20%20%20%20%5B-1.298622%2C%2036.8898152%5D%2C%0A%20%20%20%20%20%20%20%20%20%20%20%20%20%20%20%20%7B%7D%0A%20%20%20%20%20%20%20%20%20%20%20%20%29.addTo%28map_9536b186a26f4cc3aca0740ad35a0f72%29%3B%0A%20%20%20%20%20%20%20%20%0A%20%20%20%20%0A%20%20%20%20%20%20%20%20var%20popup_2648f512a97c4159a02458b497b3faf3%20%3D%20L.popup%28%7B%22maxWidth%22%3A%20%22100%25%22%7D%29%3B%0A%0A%20%20%20%20%20%20%20%20%0A%20%20%20%20%20%20%20%20%20%20%20%20var%20html_671168c80782433699113cf07c6082aa%20%3D%20%24%28%60%3Cdiv%20id%3D%22html_671168c80782433699113cf07c6082aa%22%20style%3D%22width%3A%20100.0%25%3B%20height%3A%20100.0%25%3B%22%3EDarwish%20shop%3C/div%3E%60%29%5B0%5D%3B%0A%20%20%20%20%20%20%20%20%20%20%20%20popup_2648f512a97c4159a02458b497b3faf3.setContent%28html_671168c80782433699113cf07c6082aa%29%3B%0A%20%20%20%20%20%20%20%20%0A%0A%20%20%20%20%20%20%20%20marker_f147d98c1ea342cbb96e11acfa1f8892.bindPopup%28popup_2648f512a97c4159a02458b497b3faf3%29%0A%20%20%20%20%20%20%20%20%3B%0A%0A%20%20%20%20%20%20%20%20%0A%20%20%20%20%0A%20%20%20%20%0A%20%20%20%20%20%20%20%20%20%20%20%20var%20marker_44972965a6f34acf884abaa22e5252ed%20%3D%20L.marker%28%0A%20%20%20%20%20%20%20%20%20%20%20%20%20%20%20%20%5B-1.2986983%2C%2036.8897617%5D%2C%0A%20%20%20%20%20%20%20%20%20%20%20%20%20%20%20%20%7B%7D%0A%20%20%20%20%20%20%20%20%20%20%20%20%29.addTo%28map_9536b186a26f4cc3aca0740ad35a0f72%29%3B%0A%20%20%20%20%20%20%20%20%0A%20%20%20%20%0A%20%20%20%20%20%20%20%20var%20popup_91572722686444aa9db4b11cb308e241%20%3D%20L.popup%28%7B%22maxWidth%22%3A%20%22100%25%22%7D%29%3B%0A%0A%20%20%20%20%20%20%20%20%0A%20%20%20%20%20%20%20%20%20%20%20%20var%20html_b3104b30218e4248899c5be7b8e4eeac%20%3D%20%24%28%60%3Cdiv%20id%3D%22html_b3104b30218e4248899c5be7b8e4eeac%22%20style%3D%22width%3A%20100.0%25%3B%20height%3A%20100.0%25%3B%22%3ENomadic%20shop%3C/div%3E%60%29%5B0%5D%3B%0A%20%20%20%20%20%20%20%20%20%20%20%20popup_91572722686444aa9db4b11cb308e241.setContent%28html_b3104b30218e4248899c5be7b8e4eeac%29%3B%0A%20%20%20%20%20%20%20%20%0A%0A%20%20%20%20%20%20%20%20marker_44972965a6f34acf884abaa22e5252ed.bindPopup%28popup_91572722686444aa9db4b11cb308e241%29%0A%20%20%20%20%20%20%20%20%3B%0A%0A%20%20%20%20%20%20%20%20%0A%20%20%20%20%0A%20%20%20%20%0A%20%20%20%20%20%20%20%20%20%20%20%20var%20marker_941784057cb1433b90dd41f0d53c2b9c%20%3D%20L.marker%28%0A%20%20%20%20%20%20%20%20%20%20%20%20%20%20%20%20%5B-1.2900426%2C%2036.9031531%5D%2C%0A%20%20%20%20%20%20%20%20%20%20%20%20%20%20%20%20%7B%7D%0A%20%20%20%20%20%20%20%20%20%20%20%20%29.addTo%28map_9536b186a26f4cc3aca0740ad35a0f72%29%3B%0A%20%20%20%20%20%20%20%20%0A%20%20%20%20%0A%20%20%20%20%20%20%20%20var%20popup_8bec1d895f744024827cfdca6c6215be%20%3D%20L.popup%28%7B%22maxWidth%22%3A%20%22100%25%22%7D%29%3B%0A%0A%20%20%20%20%20%20%20%20%0A%20%20%20%20%20%20%20%20%20%20%20%20var%20html_aa41cdea696f4bf281ca566b987955fd%20%3D%20%24%28%60%3Cdiv%20id%3D%22html_aa41cdea696f4bf281ca566b987955fd%22%20style%3D%22width%3A%20100.0%25%3B%20height%3A%20100.0%25%3B%22%3EArmini%20shop%3C/div%3E%60%29%5B0%5D%3B%0A%20%20%20%20%20%20%20%20%20%20%20%20popup_8bec1d895f744024827cfdca6c6215be.setContent%28html_aa41cdea696f4bf281ca566b987955fd%29%3B%0A%20%20%20%20%20%20%20%20%0A%0A%20%20%20%20%20%20%20%20marker_941784057cb1433b90dd41f0d53c2b9c.bindPopup%28popup_8bec1d895f744024827cfdca6c6215be%29%0A%20%20%20%20%20%20%20%20%3B%0A%0A%20%20%20%20%20%20%20%20%0A%20%20%20%20%0A%20%20%20%20%0A%20%20%20%20%20%20%20%20%20%20%20%20var%20marker_b4d37180568b41588ed2a1cacde00d22%20%3D%20L.marker%28%0A%20%20%20%20%20%20%20%20%20%20%20%20%20%20%20%20%5B-1.2899783%2C%2036.8862433%5D%2C%0A%20%20%20%20%20%20%20%20%20%20%20%20%20%20%20%20%7B%7D%0A%20%20%20%20%20%20%20%20%20%20%20%20%29.addTo%28map_9536b186a26f4cc3aca0740ad35a0f72%29%3B%0A%20%20%20%20%20%20%20%20%0A%20%20%20%20%0A%20%20%20%20%20%20%20%20var%20popup_2d2cf81084c24c19a89daed4d1ebcc40%20%3D%20L.popup%28%7B%22maxWidth%22%3A%20%22100%25%22%7D%29%3B%0A%0A%20%20%20%20%20%20%20%20%0A%20%20%20%20%20%20%20%20%20%20%20%20var%20html_bd6b5bc21e554929a64a38d7213de2cd%20%3D%20%24%28%60%3Cdiv%20id%3D%22html_bd6b5bc21e554929a64a38d7213de2cd%22%20style%3D%22width%3A%20100.0%25%3B%20height%3A%20100.0%25%3B%22%3EBismillah%20shop%3C/div%3E%60%29%5B0%5D%3B%0A%20%20%20%20%20%20%20%20%20%20%20%20popup_2d2cf81084c24c19a89daed4d1ebcc40.setContent%28html_bd6b5bc21e554929a64a38d7213de2cd%29%3B%0A%20%20%20%20%20%20%20%20%0A%0A%20%20%20%20%20%20%20%20marker_b4d37180568b41588ed2a1cacde00d22.bindPopup%28popup_2d2cf81084c24c19a89daed4d1ebcc40%29%0A%20%20%20%20%20%20%20%20%3B%0A%0A%20%20%20%20%20%20%20%20%0A%20%20%20%20%0A%20%20%20%20%0A%20%20%20%20%20%20%20%20%20%20%20%20var%20marker_d30d665c79e54fa0afa99fa70739eb93%20%3D%20L.marker%28%0A%20%20%20%20%20%20%20%20%20%20%20%20%20%20%20%20%5B-1.2897897%2C%2036.9031671%5D%2C%0A%20%20%20%20%20%20%20%20%20%20%20%20%20%20%20%20%7B%7D%0A%20%20%20%20%20%20%20%20%20%20%20%20%29.addTo%28map_9536b186a26f4cc3aca0740ad35a0f72%29%3B%0A%20%20%20%20%20%20%20%20%0A%20%20%20%20%0A%20%20%20%20%20%20%20%20var%20popup_ad44c751bebf4b46bb755353d4282e67%20%3D%20L.popup%28%7B%22maxWidth%22%3A%20%22100%25%22%7D%29%3B%0A%0A%20%20%20%20%20%20%20%20%0A%20%20%20%20%20%20%20%20%20%20%20%20var%20html_972e755371bc44e7af0f1dc6ab3052eb%20%3D%20%24%28%60%3Cdiv%20id%3D%22html_972e755371bc44e7af0f1dc6ab3052eb%22%20style%3D%22width%3A%20100.0%25%3B%20height%3A%20100.0%25%3B%22%3EHope%20shop%3C/div%3E%60%29%5B0%5D%3B%0A%20%20%20%20%20%20%20%20%20%20%20%20popup_ad44c751bebf4b46bb755353d4282e67.setContent%28html_972e755371bc44e7af0f1dc6ab3052eb%29%3B%0A%20%20%20%20%20%20%20%20%0A%0A%20%20%20%20%20%20%20%20marker_d30d665c79e54fa0afa99fa70739eb93.bindPopup%28popup_ad44c751bebf4b46bb755353d4282e67%29%0A%20%20%20%20%20%20%20%20%3B%0A%0A%20%20%20%20%20%20%20%20%0A%20%20%20%20%0A%20%20%20%20%0A%20%20%20%20%20%20%20%20%20%20%20%20var%20marker_358072b96c3b49a6aa48ee3d3d0a4251%20%3D%20L.marker%28%0A%20%20%20%20%20%20%20%20%20%20%20%20%20%20%20%20%5B-1.2987573%2C%2036.8897394%5D%2C%0A%20%20%20%20%20%20%20%20%20%20%20%20%20%20%20%20%7B%7D%0A%20%20%20%20%20%20%20%20%20%20%20%20%29.addTo%28map_9536b186a26f4cc3aca0740ad35a0f72%29%3B%0A%20%20%20%20%20%20%20%20%0A%20%20%20%20%0A%20%20%20%20%20%20%20%20var%20popup_b3f7187f63c5492b87d05322ae7988e9%20%3D%20L.popup%28%7B%22maxWidth%22%3A%20%22100%25%22%7D%29%3B%0A%0A%20%20%20%20%20%20%20%20%0A%20%20%20%20%20%20%20%20%20%20%20%20var%20html_7411e07560b74d2ab807214454824af6%20%3D%20%24%28%60%3Cdiv%20id%3D%22html_7411e07560b74d2ab807214454824af6%22%20style%3D%22width%3A%20100.0%25%3B%20height%3A%20100.0%25%3B%22%3EKwa%20neema%20shop%3C/div%3E%60%29%5B0%5D%3B%0A%20%20%20%20%20%20%20%20%20%20%20%20popup_b3f7187f63c5492b87d05322ae7988e9.setContent%28html_7411e07560b74d2ab807214454824af6%29%3B%0A%20%20%20%20%20%20%20%20%0A%0A%20%20%20%20%20%20%20%20marker_358072b96c3b49a6aa48ee3d3d0a4251.bindPopup%28popup_b3f7187f63c5492b87d05322ae7988e9%29%0A%20%20%20%20%20%20%20%20%3B%0A%0A%20%20%20%20%20%20%20%20%0A%20%20%20%20%0A%20%20%20%20%0A%20%20%20%20%20%20%20%20%20%20%20%20var%20marker_4aa45bc062aa48bbb8e9a470a2e74b0d%20%3D%20L.marker%28%0A%20%20%20%20%20%20%20%20%20%20%20%20%20%20%20%20%5B-1.2897976%2C%2036.902708%5D%2C%0A%20%20%20%20%20%20%20%20%20%20%20%20%20%20%20%20%7B%7D%0A%20%20%20%20%20%20%20%20%20%20%20%20%29.addTo%28map_9536b186a26f4cc3aca0740ad35a0f72%29%3B%0A%20%20%20%20%20%20%20%20%0A%20%20%20%20%0A%20%20%20%20%20%20%20%20var%20popup_0843fedc9e4b4a5580e1e07fa94bd9fc%20%3D%20L.popup%28%7B%22maxWidth%22%3A%20%22100%25%22%7D%29%3B%0A%0A%20%20%20%20%20%20%20%20%0A%20%20%20%20%20%20%20%20%20%20%20%20var%20html_854d2d2b094b4f6d978219423d7d25ea%20%3D%20%24%28%60%3Cdiv%20id%3D%22html_854d2d2b094b4f6d978219423d7d25ea%22%20style%3D%22width%3A%20100.0%25%3B%20height%3A%20100.0%25%3B%22%3EWalamis%20shop%3C/div%3E%60%29%5B0%5D%3B%0A%20%20%20%20%20%20%20%20%20%20%20%20popup_0843fedc9e4b4a5580e1e07fa94bd9fc.setContent%28html_854d2d2b094b4f6d978219423d7d25ea%29%3B%0A%20%20%20%20%20%20%20%20%0A%0A%20%20%20%20%20%20%20%20marker_4aa45bc062aa48bbb8e9a470a2e74b0d.bindPopup%28popup_0843fedc9e4b4a5580e1e07fa94bd9fc%29%0A%20%20%20%20%20%20%20%20%3B%0A%0A%20%20%20%20%20%20%20%20%0A%20%20%20%20%0A%20%20%20%20%0A%20%20%20%20%20%20%20%20%20%20%20%20var%20marker_b10d4830725643048b1dbca1325ecf01%20%3D%20L.marker%28%0A%20%20%20%20%20%20%20%20%20%20%20%20%20%20%20%20%5B-1.2898049%2C%2036.9027312%5D%2C%0A%20%20%20%20%20%20%20%20%20%20%20%20%20%20%20%20%7B%7D%0A%20%20%20%20%20%20%20%20%20%20%20%20%29.addTo%28map_9536b186a26f4cc3aca0740ad35a0f72%29%3B%0A%20%20%20%20%20%20%20%20%0A%20%20%20%20%0A%20%20%20%20%20%20%20%20var%20popup_217fcd79b91e4cc98c7b132e92b9a7ab%20%3D%20L.popup%28%7B%22maxWidth%22%3A%20%22100%25%22%7D%29%3B%0A%0A%20%20%20%20%20%20%20%20%0A%20%20%20%20%20%20%20%20%20%20%20%20var%20html_50bd305d989b41abbb8a0abf449aac39%20%3D%20%24%28%60%3Cdiv%20id%3D%22html_50bd305d989b41abbb8a0abf449aac39%22%20style%3D%22width%3A%20100.0%25%3B%20height%3A%20100.0%25%3B%22%3EObedience%20shop%202%3C/div%3E%60%29%5B0%5D%3B%0A%20%20%20%20%20%20%20%20%20%20%20%20popup_217fcd79b91e4cc98c7b132e92b9a7ab.setContent%28html_50bd305d989b41abbb8a0abf449aac39%29%3B%0A%20%20%20%20%20%20%20%20%0A%0A%20%20%20%20%20%20%20%20marker_b10d4830725643048b1dbca1325ecf01.bindPopup%28popup_217fcd79b91e4cc98c7b132e92b9a7ab%29%0A%20%20%20%20%20%20%20%20%3B%0A%0A%20%20%20%20%20%20%20%20%0A%20%20%20%20%0A%20%20%20%20%0A%20%20%20%20%20%20%20%20%20%20%20%20var%20marker_c8d8d9527bef447b8d211f24881f9fea%20%3D%20L.marker%28%0A%20%20%20%20%20%20%20%20%20%20%20%20%20%20%20%20%5B-1.2986824%2C%2036.8897126%5D%2C%0A%20%20%20%20%20%20%20%20%20%20%20%20%20%20%20%20%7B%7D%0A%20%20%20%20%20%20%20%20%20%20%20%20%29.addTo%28map_9536b186a26f4cc3aca0740ad35a0f72%29%3B%0A%20%20%20%20%20%20%20%20%0A%20%20%20%20%0A%20%20%20%20%20%20%20%20var%20popup_16d02642c24943f1a870444e81510be5%20%3D%20L.popup%28%7B%22maxWidth%22%3A%20%22100%25%22%7D%29%3B%0A%0A%20%20%20%20%20%20%20%20%0A%20%20%20%20%20%20%20%20%20%20%20%20var%20html_777e192eabfb417c8c6d7365391d19f1%20%3D%20%24%28%60%3Cdiv%20id%3D%22html_777e192eabfb417c8c6d7365391d19f1%22%20style%3D%22width%3A%20100.0%25%3B%20height%3A%20100.0%25%3B%22%3EGreenspan%20kiosk%3C/div%3E%60%29%5B0%5D%3B%0A%20%20%20%20%20%20%20%20%20%20%20%20popup_16d02642c24943f1a870444e81510be5.setContent%28html_777e192eabfb417c8c6d7365391d19f1%29%3B%0A%20%20%20%20%20%20%20%20%0A%0A%20%20%20%20%20%20%20%20marker_c8d8d9527bef447b8d211f24881f9fea.bindPopup%28popup_16d02642c24943f1a870444e81510be5%29%0A%20%20%20%20%20%20%20%20%3B%0A%0A%20%20%20%20%20%20%20%20%0A%20%20%20%20%0A%20%20%20%20%0A%20%20%20%20%20%20%20%20%20%20%20%20var%20marker_9d233192786b4d999d064cff83705206%20%3D%20L.marker%28%0A%20%20%20%20%20%20%20%20%20%20%20%20%20%20%20%20%5B-1.2846541%2C%2036.90588%5D%2C%0A%20%20%20%20%20%20%20%20%20%20%20%20%20%20%20%20%7B%7D%0A%20%20%20%20%20%20%20%20%20%20%20%20%29.addTo%28map_9536b186a26f4cc3aca0740ad35a0f72%29%3B%0A%20%20%20%20%20%20%20%20%0A%20%20%20%20%0A%20%20%20%20%20%20%20%20var%20popup_1c12c53adef5430cbcf5d703a12bf058%20%3D%20L.popup%28%7B%22maxWidth%22%3A%20%22100%25%22%7D%29%3B%0A%0A%20%20%20%20%20%20%20%20%0A%20%20%20%20%20%20%20%20%20%20%20%20var%20html_233a480d770c4aa1ad5d7e879229a5d6%20%3D%20%24%28%60%3Cdiv%20id%3D%22html_233a480d770c4aa1ad5d7e879229a5d6%22%20style%3D%22width%3A%20100.0%25%3B%20height%3A%20100.0%25%3B%22%3EPaloxtina%20kiosk%3C/div%3E%60%29%5B0%5D%3B%0A%20%20%20%20%20%20%20%20%20%20%20%20popup_1c12c53adef5430cbcf5d703a12bf058.setContent%28html_233a480d770c4aa1ad5d7e879229a5d6%29%3B%0A%20%20%20%20%20%20%20%20%0A%0A%20%20%20%20%20%20%20%20marker_9d233192786b4d999d064cff83705206.bindPopup%28popup_1c12c53adef5430cbcf5d703a12bf058%29%0A%20%20%20%20%20%20%20%20%3B%0A%0A%20%20%20%20%20%20%20%20%0A%20%20%20%20%0A%20%20%20%20%0A%20%20%20%20%20%20%20%20%20%20%20%20var%20marker_4c83f1909bc345e796ddaf2865c68604%20%3D%20L.marker%28%0A%20%20%20%20%20%20%20%20%20%20%20%20%20%20%20%20%5B-1.2931921%2C%2036.9012699%5D%2C%0A%20%20%20%20%20%20%20%20%20%20%20%20%20%20%20%20%7B%7D%0A%20%20%20%20%20%20%20%20%20%20%20%20%29.addTo%28map_9536b186a26f4cc3aca0740ad35a0f72%29%3B%0A%20%20%20%20%20%20%20%20%0A%20%20%20%20%0A%20%20%20%20%20%20%20%20var%20popup_69c071d98b754ee1b0240ea68e2e8774%20%3D%20L.popup%28%7B%22maxWidth%22%3A%20%22100%25%22%7D%29%3B%0A%0A%20%20%20%20%20%20%20%20%0A%20%20%20%20%20%20%20%20%20%20%20%20var%20html_466aeed6fdd24b588239c72b74bce7d7%20%3D%20%24%28%60%3Cdiv%20id%3D%22html_466aeed6fdd24b588239c72b74bce7d7%22%20style%3D%22width%3A%20100.0%25%3B%20height%3A%20100.0%25%3B%22%3EIn%20the%20beginning%20shop%3C/div%3E%60%29%5B0%5D%3B%0A%20%20%20%20%20%20%20%20%20%20%20%20popup_69c071d98b754ee1b0240ea68e2e8774.setContent%28html_466aeed6fdd24b588239c72b74bce7d7%29%3B%0A%20%20%20%20%20%20%20%20%0A%0A%20%20%20%20%20%20%20%20marker_4c83f1909bc345e796ddaf2865c68604.bindPopup%28popup_69c071d98b754ee1b0240ea68e2e8774%29%0A%20%20%20%20%20%20%20%20%3B%0A%0A%20%20%20%20%20%20%20%20%0A%20%20%20%20%0A%20%20%20%20%0A%20%20%20%20%20%20%20%20%20%20%20%20var%20marker_911ff648a3cb4aa5a5d4009451d9c445%20%3D%20L.marker%28%0A%20%20%20%20%20%20%20%20%20%20%20%20%20%20%20%20%5B-1.2938235%2C%2036.9018598%5D%2C%0A%20%20%20%20%20%20%20%20%20%20%20%20%20%20%20%20%7B%7D%0A%20%20%20%20%20%20%20%20%20%20%20%20%29.addTo%28map_9536b186a26f4cc3aca0740ad35a0f72%29%3B%0A%20%20%20%20%20%20%20%20%0A%20%20%20%20%0A%20%20%20%20%20%20%20%20var%20popup_dfc1a822069c49939436ab377ce9b7e7%20%3D%20L.popup%28%7B%22maxWidth%22%3A%20%22100%25%22%7D%29%3B%0A%0A%20%20%20%20%20%20%20%20%0A%20%20%20%20%20%20%20%20%20%20%20%20var%20html_13ecadfe042e48dea42a16fdfd5c0900%20%3D%20%24%28%60%3Cdiv%20id%3D%22html_13ecadfe042e48dea42a16fdfd5c0900%22%20style%3D%22width%3A%20100.0%25%3B%20height%3A%20100.0%25%3B%22%3EUstadhi%20shop%3C/div%3E%60%29%5B0%5D%3B%0A%20%20%20%20%20%20%20%20%20%20%20%20popup_dfc1a822069c49939436ab377ce9b7e7.setContent%28html_13ecadfe042e48dea42a16fdfd5c0900%29%3B%0A%20%20%20%20%20%20%20%20%0A%0A%20%20%20%20%20%20%20%20marker_911ff648a3cb4aa5a5d4009451d9c445.bindPopup%28popup_dfc1a822069c49939436ab377ce9b7e7%29%0A%20%20%20%20%20%20%20%20%3B%0A%0A%20%20%20%20%20%20%20%20%0A%20%20%20%20%0A%20%20%20%20%0A%20%20%20%20%20%20%20%20%20%20%20%20var%20marker_51034648d4904eedbb5fcc3e4f0df47f%20%3D%20L.marker%28%0A%20%20%20%20%20%20%20%20%20%20%20%20%20%20%20%20%5B-1.2859426%2C%2036.9043936%5D%2C%0A%20%20%20%20%20%20%20%20%20%20%20%20%20%20%20%20%7B%7D%0A%20%20%20%20%20%20%20%20%20%20%20%20%29.addTo%28map_9536b186a26f4cc3aca0740ad35a0f72%29%3B%0A%20%20%20%20%20%20%20%20%0A%20%20%20%20%0A%20%20%20%20%20%20%20%20var%20popup_92e8b4dc5830468db99e769463af30b4%20%3D%20L.popup%28%7B%22maxWidth%22%3A%20%22100%25%22%7D%29%3B%0A%0A%20%20%20%20%20%20%20%20%0A%20%20%20%20%20%20%20%20%20%20%20%20var%20html_a502dd13872246649667dd4806a63059%20%3D%20%24%28%60%3Cdiv%20id%3D%22html_a502dd13872246649667dd4806a63059%22%20style%3D%22width%3A%20100.0%25%3B%20height%3A%20100.0%25%3B%22%3EEbenezer%20shop%3C/div%3E%60%29%5B0%5D%3B%0A%20%20%20%20%20%20%20%20%20%20%20%20popup_92e8b4dc5830468db99e769463af30b4.setContent%28html_a502dd13872246649667dd4806a63059%29%3B%0A%20%20%20%20%20%20%20%20%0A%0A%20%20%20%20%20%20%20%20marker_51034648d4904eedbb5fcc3e4f0df47f.bindPopup%28popup_92e8b4dc5830468db99e769463af30b4%29%0A%20%20%20%20%20%20%20%20%3B%0A%0A%20%20%20%20%20%20%20%20%0A%20%20%20%20%0A%20%20%20%20%0A%20%20%20%20%20%20%20%20%20%20%20%20var%20marker_958bd29cb88143aabd3b21e596f1beb5%20%3D%20L.marker%28%0A%20%20%20%20%20%20%20%20%20%20%20%20%20%20%20%20%5B-1.2913475%2C%2036.9036462%5D%2C%0A%20%20%20%20%20%20%20%20%20%20%20%20%20%20%20%20%7B%7D%0A%20%20%20%20%20%20%20%20%20%20%20%20%29.addTo%28map_9536b186a26f4cc3aca0740ad35a0f72%29%3B%0A%20%20%20%20%20%20%20%20%0A%20%20%20%20%0A%20%20%20%20%20%20%20%20var%20popup_0c869b7578b742fca9bdd7d11f1a2b3c%20%3D%20L.popup%28%7B%22maxWidth%22%3A%20%22100%25%22%7D%29%3B%0A%0A%20%20%20%20%20%20%20%20%0A%20%20%20%20%20%20%20%20%20%20%20%20var%20html_0174472538a84d9bb0a7f7c96614d916%20%3D%20%24%28%60%3Cdiv%20id%3D%22html_0174472538a84d9bb0a7f7c96614d916%22%20style%3D%22width%3A%20100.0%25%3B%20height%3A%20100.0%25%3B%22%3ENice%20shop%3C/div%3E%60%29%5B0%5D%3B%0A%20%20%20%20%20%20%20%20%20%20%20%20popup_0c869b7578b742fca9bdd7d11f1a2b3c.setContent%28html_0174472538a84d9bb0a7f7c96614d916%29%3B%0A%20%20%20%20%20%20%20%20%0A%0A%20%20%20%20%20%20%20%20marker_958bd29cb88143aabd3b21e596f1beb5.bindPopup%28popup_0c869b7578b742fca9bdd7d11f1a2b3c%29%0A%20%20%20%20%20%20%20%20%3B%0A%0A%20%20%20%20%20%20%20%20%0A%20%20%20%20%0A%20%20%20%20%0A%20%20%20%20%20%20%20%20%20%20%20%20var%20marker_e148a1a4d4294b528561d0265e89bfa1%20%3D%20L.marker%28%0A%20%20%20%20%20%20%20%20%20%20%20%20%20%20%20%20%5B-1.2892833%2C%2036.8968217%5D%2C%0A%20%20%20%20%20%20%20%20%20%20%20%20%20%20%20%20%7B%7D%0A%20%20%20%20%20%20%20%20%20%20%20%20%29.addTo%28map_9536b186a26f4cc3aca0740ad35a0f72%29%3B%0A%20%20%20%20%20%20%20%20%0A%20%20%20%20%0A%20%20%20%20%20%20%20%20var%20popup_3fa0ff277420465eab3425f484ea54a1%20%3D%20L.popup%28%7B%22maxWidth%22%3A%20%22100%25%22%7D%29%3B%0A%0A%20%20%20%20%20%20%20%20%0A%20%20%20%20%20%20%20%20%20%20%20%20var%20html_3ce340fc309b4a1ebdcb7485fbdcd0ec%20%3D%20%24%28%60%3Cdiv%20id%3D%22html_3ce340fc309b4a1ebdcb7485fbdcd0ec%22%20style%3D%22width%3A%20100.0%25%3B%20height%3A%20100.0%25%3B%22%3Ejamarco%20shop%3C/div%3E%60%29%5B0%5D%3B%0A%20%20%20%20%20%20%20%20%20%20%20%20popup_3fa0ff277420465eab3425f484ea54a1.setContent%28html_3ce340fc309b4a1ebdcb7485fbdcd0ec%29%3B%0A%20%20%20%20%20%20%20%20%0A%0A%20%20%20%20%20%20%20%20marker_e148a1a4d4294b528561d0265e89bfa1.bindPopup%28popup_3fa0ff277420465eab3425f484ea54a1%29%0A%20%20%20%20%20%20%20%20%3B%0A%0A%20%20%20%20%20%20%20%20%0A%20%20%20%20%0A%20%20%20%20%0A%20%20%20%20%20%20%20%20%20%20%20%20var%20marker_c72e4d10cc444f9daf525e0f64e9d5c1%20%3D%20L.marker%28%0A%20%20%20%20%20%20%20%20%20%20%20%20%20%20%20%20%5B-1.2936816%2C%2036.9015936%5D%2C%0A%20%20%20%20%20%20%20%20%20%20%20%20%20%20%20%20%7B%7D%0A%20%20%20%20%20%20%20%20%20%20%20%20%29.addTo%28map_9536b186a26f4cc3aca0740ad35a0f72%29%3B%0A%20%20%20%20%20%20%20%20%0A%20%20%20%20%0A%20%20%20%20%20%20%20%20var%20popup_09ee3b51d7444b91b42e6ac2ab769b96%20%3D%20L.popup%28%7B%22maxWidth%22%3A%20%22100%25%22%7D%29%3B%0A%0A%20%20%20%20%20%20%20%20%0A%20%20%20%20%20%20%20%20%20%20%20%20var%20html_a2a83c6d056b4340a2a0857906f1f477%20%3D%20%24%28%60%3Cdiv%20id%3D%22html_a2a83c6d056b4340a2a0857906f1f477%22%20style%3D%22width%3A%20100.0%25%3B%20height%3A%20100.0%25%3B%22%3EBeginner%20shop%3C/div%3E%60%29%5B0%5D%3B%0A%20%20%20%20%20%20%20%20%20%20%20%20popup_09ee3b51d7444b91b42e6ac2ab769b96.setContent%28html_a2a83c6d056b4340a2a0857906f1f477%29%3B%0A%20%20%20%20%20%20%20%20%0A%0A%20%20%20%20%20%20%20%20marker_c72e4d10cc444f9daf525e0f64e9d5c1.bindPopup%28popup_09ee3b51d7444b91b42e6ac2ab769b96%29%0A%20%20%20%20%20%20%20%20%3B%0A%0A%20%20%20%20%20%20%20%20%0A%20%20%20%20%0A%20%20%20%20%0A%20%20%20%20%20%20%20%20%20%20%20%20var%20marker_507f08854b10497ca71ca2daa498eae5%20%3D%20L.marker%28%0A%20%20%20%20%20%20%20%20%20%20%20%20%20%20%20%20%5B-1.2931714%2C%2036.9011766%5D%2C%0A%20%20%20%20%20%20%20%20%20%20%20%20%20%20%20%20%7B%7D%0A%20%20%20%20%20%20%20%20%20%20%20%20%29.addTo%28map_9536b186a26f4cc3aca0740ad35a0f72%29%3B%0A%20%20%20%20%20%20%20%20%0A%20%20%20%20%0A%20%20%20%20%20%20%20%20var%20popup_0c8dce4009ee4e718b6d20a8a7435513%20%3D%20L.popup%28%7B%22maxWidth%22%3A%20%22100%25%22%7D%29%3B%0A%0A%20%20%20%20%20%20%20%20%0A%20%20%20%20%20%20%20%20%20%20%20%20var%20html_e756f9384e52421da7483ecea8e25b87%20%3D%20%24%28%60%3Cdiv%20id%3D%22html_e756f9384e52421da7483ecea8e25b87%22%20style%3D%22width%3A%20100.0%25%3B%20height%3A%20100.0%25%3B%22%3ECoke%20kiosk%3C/div%3E%60%29%5B0%5D%3B%0A%20%20%20%20%20%20%20%20%20%20%20%20popup_0c8dce4009ee4e718b6d20a8a7435513.setContent%28html_e756f9384e52421da7483ecea8e25b87%29%3B%0A%20%20%20%20%20%20%20%20%0A%0A%20%20%20%20%20%20%20%20marker_507f08854b10497ca71ca2daa498eae5.bindPopup%28popup_0c8dce4009ee4e718b6d20a8a7435513%29%0A%20%20%20%20%20%20%20%20%3B%0A%0A%20%20%20%20%20%20%20%20%0A%20%20%20%20%0A%20%20%20%20%0A%20%20%20%20%20%20%20%20%20%20%20%20var%20marker_a0d4290b56fc48a88e453103702d7965%20%3D%20L.marker%28%0A%20%20%20%20%20%20%20%20%20%20%20%20%20%20%20%20%5B-1.2924678%2C%2036.9005739%5D%2C%0A%20%20%20%20%20%20%20%20%20%20%20%20%20%20%20%20%7B%7D%0A%20%20%20%20%20%20%20%20%20%20%20%20%29.addTo%28map_9536b186a26f4cc3aca0740ad35a0f72%29%3B%0A%20%20%20%20%20%20%20%20%0A%20%20%20%20%0A%20%20%20%20%20%20%20%20var%20popup_6ada7253740b404580865a8c7c121f2d%20%3D%20L.popup%28%7B%22maxWidth%22%3A%20%22100%25%22%7D%29%3B%0A%0A%20%20%20%20%20%20%20%20%0A%20%20%20%20%20%20%20%20%20%20%20%20var%20html_63fd52e131c04ad1a94ae9e40abbadad%20%3D%20%24%28%60%3Cdiv%20id%3D%22html_63fd52e131c04ad1a94ae9e40abbadad%22%20style%3D%22width%3A%20100.0%25%3B%20height%3A%20100.0%25%3B%22%3EWaria%20shop%3C/div%3E%60%29%5B0%5D%3B%0A%20%20%20%20%20%20%20%20%20%20%20%20popup_6ada7253740b404580865a8c7c121f2d.setContent%28html_63fd52e131c04ad1a94ae9e40abbadad%29%3B%0A%20%20%20%20%20%20%20%20%0A%0A%20%20%20%20%20%20%20%20marker_a0d4290b56fc48a88e453103702d7965.bindPopup%28popup_6ada7253740b404580865a8c7c121f2d%29%0A%20%20%20%20%20%20%20%20%3B%0A%0A%20%20%20%20%20%20%20%20%0A%20%20%20%20%0A%20%20%20%20%0A%20%20%20%20%20%20%20%20%20%20%20%20var%20marker_f73cc86a19bd4ba68c0be969c6f26224%20%3D%20L.marker%28%0A%20%20%20%20%20%20%20%20%20%20%20%20%20%20%20%20%5B-1.2899846%2C%2036.8972562%5D%2C%0A%20%20%20%20%20%20%20%20%20%20%20%20%20%20%20%20%7B%7D%0A%20%20%20%20%20%20%20%20%20%20%20%20%29.addTo%28map_9536b186a26f4cc3aca0740ad35a0f72%29%3B%0A%20%20%20%20%20%20%20%20%0A%20%20%20%20%0A%20%20%20%20%20%20%20%20var%20popup_092a7f24a539465e800fe12bdac4aa9e%20%3D%20L.popup%28%7B%22maxWidth%22%3A%20%22100%25%22%7D%29%3B%0A%0A%20%20%20%20%20%20%20%20%0A%20%20%20%20%20%20%20%20%20%20%20%20var%20html_3dee11415a2e465fbd4dc72857c1fb46%20%3D%20%24%28%60%3Cdiv%20id%3D%22html_3dee11415a2e465fbd4dc72857c1fb46%22%20style%3D%22width%3A%20100.0%25%3B%20height%3A%20100.0%25%3B%22%3ETina%20shop%3C/div%3E%60%29%5B0%5D%3B%0A%20%20%20%20%20%20%20%20%20%20%20%20popup_092a7f24a539465e800fe12bdac4aa9e.setContent%28html_3dee11415a2e465fbd4dc72857c1fb46%29%3B%0A%20%20%20%20%20%20%20%20%0A%0A%20%20%20%20%20%20%20%20marker_f73cc86a19bd4ba68c0be969c6f26224.bindPopup%28popup_092a7f24a539465e800fe12bdac4aa9e%29%0A%20%20%20%20%20%20%20%20%3B%0A%0A%20%20%20%20%20%20%20%20%0A%20%20%20%20%0A%20%20%20%20%0A%20%20%20%20%20%20%20%20%20%20%20%20var%20marker_c2c3989a1ce24e60be11afbaa1c55940%20%3D%20L.marker%28%0A%20%20%20%20%20%20%20%20%20%20%20%20%20%20%20%20%5B-1.3216606%2C%2036.8951475%5D%2C%0A%20%20%20%20%20%20%20%20%20%20%20%20%20%20%20%20%7B%7D%0A%20%20%20%20%20%20%20%20%20%20%20%20%29.addTo%28map_9536b186a26f4cc3aca0740ad35a0f72%29%3B%0A%20%20%20%20%20%20%20%20%0A%20%20%20%20%0A%20%20%20%20%20%20%20%20var%20popup_523bd50fe8eb4507aac1d44d31c41ff9%20%3D%20L.popup%28%7B%22maxWidth%22%3A%20%22100%25%22%7D%29%3B%0A%0A%20%20%20%20%20%20%20%20%0A%20%20%20%20%20%20%20%20%20%20%20%20var%20html_1bdb54039d7e45f88698abf99b61e856%20%3D%20%24%28%60%3Cdiv%20id%3D%22html_1bdb54039d7e45f88698abf99b61e856%22%20style%3D%22width%3A%20100.0%25%3B%20height%3A%20100.0%25%3B%22%3EIman%20shop%3C/div%3E%60%29%5B0%5D%3B%0A%20%20%20%20%20%20%20%20%20%20%20%20popup_523bd50fe8eb4507aac1d44d31c41ff9.setContent%28html_1bdb54039d7e45f88698abf99b61e856%29%3B%0A%20%20%20%20%20%20%20%20%0A%0A%20%20%20%20%20%20%20%20marker_c2c3989a1ce24e60be11afbaa1c55940.bindPopup%28popup_523bd50fe8eb4507aac1d44d31c41ff9%29%0A%20%20%20%20%20%20%20%20%3B%0A%0A%20%20%20%20%20%20%20%20%0A%20%20%20%20%0A%20%20%20%20%0A%20%20%20%20%20%20%20%20%20%20%20%20var%20marker_5afba82e7cbc441aae44ed2c9d76c2f7%20%3D%20L.marker%28%0A%20%20%20%20%20%20%20%20%20%20%20%20%20%20%20%20%5B-1.289062%2C%2036.8968414%5D%2C%0A%20%20%20%20%20%20%20%20%20%20%20%20%20%20%20%20%7B%7D%0A%20%20%20%20%20%20%20%20%20%20%20%20%29.addTo%28map_9536b186a26f4cc3aca0740ad35a0f72%29%3B%0A%20%20%20%20%20%20%20%20%0A%20%20%20%20%0A%20%20%20%20%20%20%20%20var%20popup_605d8bfc064a47019a7357a24ee648a5%20%3D%20L.popup%28%7B%22maxWidth%22%3A%20%22100%25%22%7D%29%3B%0A%0A%20%20%20%20%20%20%20%20%0A%20%20%20%20%20%20%20%20%20%20%20%20var%20html_e202bb6c0b17419eb3a85f973736826e%20%3D%20%24%28%60%3Cdiv%20id%3D%22html_e202bb6c0b17419eb3a85f973736826e%22%20style%3D%22width%3A%20100.0%25%3B%20height%3A%20100.0%25%3B%22%3EMike%20shop%3C/div%3E%60%29%5B0%5D%3B%0A%20%20%20%20%20%20%20%20%20%20%20%20popup_605d8bfc064a47019a7357a24ee648a5.setContent%28html_e202bb6c0b17419eb3a85f973736826e%29%3B%0A%20%20%20%20%20%20%20%20%0A%0A%20%20%20%20%20%20%20%20marker_5afba82e7cbc441aae44ed2c9d76c2f7.bindPopup%28popup_605d8bfc064a47019a7357a24ee648a5%29%0A%20%20%20%20%20%20%20%20%3B%0A%0A%20%20%20%20%20%20%20%20%0A%20%20%20%20%0A%20%20%20%20%0A%20%20%20%20%20%20%20%20%20%20%20%20var%20marker_04f10fe8f9844e34b1c5c4dc13811636%20%3D%20L.marker%28%0A%20%20%20%20%20%20%20%20%20%20%20%20%20%20%20%20%5B-1.3158967%2C%2036.901005%5D%2C%0A%20%20%20%20%20%20%20%20%20%20%20%20%20%20%20%20%7B%7D%0A%20%20%20%20%20%20%20%20%20%20%20%20%29.addTo%28map_9536b186a26f4cc3aca0740ad35a0f72%29%3B%0A%20%20%20%20%20%20%20%20%0A%20%20%20%20%0A%20%20%20%20%20%20%20%20var%20popup_b49962416f2d48d7bf762b06765a7bb1%20%3D%20L.popup%28%7B%22maxWidth%22%3A%20%22100%25%22%7D%29%3B%0A%0A%20%20%20%20%20%20%20%20%0A%20%20%20%20%20%20%20%20%20%20%20%20var%20html_81b8bc60b82b4b9e898130a03ab0c238%20%3D%20%24%28%60%3Cdiv%20id%3D%22html_81b8bc60b82b4b9e898130a03ab0c238%22%20style%3D%22width%3A%20100.0%25%3B%20height%3A%20100.0%25%3B%22%3ETop%20ten%20two%20shop%3C/div%3E%60%29%5B0%5D%3B%0A%20%20%20%20%20%20%20%20%20%20%20%20popup_b49962416f2d48d7bf762b06765a7bb1.setContent%28html_81b8bc60b82b4b9e898130a03ab0c238%29%3B%0A%20%20%20%20%20%20%20%20%0A%0A%20%20%20%20%20%20%20%20marker_04f10fe8f9844e34b1c5c4dc13811636.bindPopup%28popup_b49962416f2d48d7bf762b06765a7bb1%29%0A%20%20%20%20%20%20%20%20%3B%0A%0A%20%20%20%20%20%20%20%20%0A%20%20%20%20%0A%20%20%20%20%0A%20%20%20%20%20%20%20%20%20%20%20%20var%20marker_d24e9c8c953f4a18ad732fe7c8b3103a%20%3D%20L.marker%28%0A%20%20%20%20%20%20%20%20%20%20%20%20%20%20%20%20%5B-1.2899983%2C%2036.8970233%5D%2C%0A%20%20%20%20%20%20%20%20%20%20%20%20%20%20%20%20%7B%7D%0A%20%20%20%20%20%20%20%20%20%20%20%20%29.addTo%28map_9536b186a26f4cc3aca0740ad35a0f72%29%3B%0A%20%20%20%20%20%20%20%20%0A%20%20%20%20%0A%20%20%20%20%20%20%20%20var%20popup_101296e5ccf64228a7724faf83795dc9%20%3D%20L.popup%28%7B%22maxWidth%22%3A%20%22100%25%22%7D%29%3B%0A%0A%20%20%20%20%20%20%20%20%0A%20%20%20%20%20%20%20%20%20%20%20%20var%20html_e056715ef1a8490bab065bf8b1347c22%20%3D%20%24%28%60%3Cdiv%20id%3D%22html_e056715ef1a8490bab065bf8b1347c22%22%20style%3D%22width%3A%20100.0%25%3B%20height%3A%20100.0%25%3B%22%3E3s%20stores%3C/div%3E%60%29%5B0%5D%3B%0A%20%20%20%20%20%20%20%20%20%20%20%20popup_101296e5ccf64228a7724faf83795dc9.setContent%28html_e056715ef1a8490bab065bf8b1347c22%29%3B%0A%20%20%20%20%20%20%20%20%0A%0A%20%20%20%20%20%20%20%20marker_d24e9c8c953f4a18ad732fe7c8b3103a.bindPopup%28popup_101296e5ccf64228a7724faf83795dc9%29%0A%20%20%20%20%20%20%20%20%3B%0A%0A%20%20%20%20%20%20%20%20%0A%20%20%20%20%0A%20%20%20%20%0A%20%20%20%20%20%20%20%20%20%20%20%20var%20marker_c18d2a841ac642598f4823976c9e6ebc%20%3D%20L.marker%28%0A%20%20%20%20%20%20%20%20%20%20%20%20%20%20%20%20%5B-1.30403%2C%2036.8935533%5D%2C%0A%20%20%20%20%20%20%20%20%20%20%20%20%20%20%20%20%7B%7D%0A%20%20%20%20%20%20%20%20%20%20%20%20%29.addTo%28map_9536b186a26f4cc3aca0740ad35a0f72%29%3B%0A%20%20%20%20%20%20%20%20%0A%20%20%20%20%0A%20%20%20%20%20%20%20%20var%20popup_b996a8fbc7954b8ba95a96148e58d66b%20%3D%20L.popup%28%7B%22maxWidth%22%3A%20%22100%25%22%7D%29%3B%0A%0A%20%20%20%20%20%20%20%20%0A%20%20%20%20%20%20%20%20%20%20%20%20var%20html_81ea14079f4b4c2b801789d18186585b%20%3D%20%24%28%60%3Cdiv%20id%3D%22html_81ea14079f4b4c2b801789d18186585b%22%20style%3D%22width%3A%20100.0%25%3B%20height%3A%20100.0%25%3B%22%3EHarambee%20shop%3C/div%3E%60%29%5B0%5D%3B%0A%20%20%20%20%20%20%20%20%20%20%20%20popup_b996a8fbc7954b8ba95a96148e58d66b.setContent%28html_81ea14079f4b4c2b801789d18186585b%29%3B%0A%20%20%20%20%20%20%20%20%0A%0A%20%20%20%20%20%20%20%20marker_c18d2a841ac642598f4823976c9e6ebc.bindPopup%28popup_b996a8fbc7954b8ba95a96148e58d66b%29%0A%20%20%20%20%20%20%20%20%3B%0A%0A%20%20%20%20%20%20%20%20%0A%20%20%20%20%0A%20%20%20%20%0A%20%20%20%20%20%20%20%20%20%20%20%20var%20marker_a6133d0620cc4fa8b274a83779ca6369%20%3D%20L.marker%28%0A%20%20%20%20%20%20%20%20%20%20%20%20%20%20%20%20%5B-1.321775%2C%2036.895245%5D%2C%0A%20%20%20%20%20%20%20%20%20%20%20%20%20%20%20%20%7B%7D%0A%20%20%20%20%20%20%20%20%20%20%20%20%29.addTo%28map_9536b186a26f4cc3aca0740ad35a0f72%29%3B%0A%20%20%20%20%20%20%20%20%0A%20%20%20%20%0A%20%20%20%20%20%20%20%20var%20popup_3d9f658ff92841ba999f5965d2dbc2d0%20%3D%20L.popup%28%7B%22maxWidth%22%3A%20%22100%25%22%7D%29%3B%0A%0A%20%20%20%20%20%20%20%20%0A%20%20%20%20%20%20%20%20%20%20%20%20var%20html_6b2167baec894f718f1df959b084aaa3%20%3D%20%24%28%60%3Cdiv%20id%3D%22html_6b2167baec894f718f1df959b084aaa3%22%20style%3D%22width%3A%20100.0%25%3B%20height%3A%20100.0%25%3B%22%3EAnnointed%20cereals%20and%20shops%3C/div%3E%60%29%5B0%5D%3B%0A%20%20%20%20%20%20%20%20%20%20%20%20popup_3d9f658ff92841ba999f5965d2dbc2d0.setContent%28html_6b2167baec894f718f1df959b084aaa3%29%3B%0A%20%20%20%20%20%20%20%20%0A%0A%20%20%20%20%20%20%20%20marker_a6133d0620cc4fa8b274a83779ca6369.bindPopup%28popup_3d9f658ff92841ba999f5965d2dbc2d0%29%0A%20%20%20%20%20%20%20%20%3B%0A%0A%20%20%20%20%20%20%20%20%0A%20%20%20%20%0A%20%20%20%20%0A%20%20%20%20%20%20%20%20%20%20%20%20var%20marker_59099b11b79c408aa880b7330b477d14%20%3D%20L.marker%28%0A%20%20%20%20%20%20%20%20%20%20%20%20%20%20%20%20%5B-1.2898599%2C%2036.8972251%5D%2C%0A%20%20%20%20%20%20%20%20%20%20%20%20%20%20%20%20%7B%7D%0A%20%20%20%20%20%20%20%20%20%20%20%20%29.addTo%28map_9536b186a26f4cc3aca0740ad35a0f72%29%3B%0A%20%20%20%20%20%20%20%20%0A%20%20%20%20%0A%20%20%20%20%20%20%20%20var%20popup_50b8e4cf34e249d99c033d564acd191f%20%3D%20L.popup%28%7B%22maxWidth%22%3A%20%22100%25%22%7D%29%3B%0A%0A%20%20%20%20%20%20%20%20%0A%20%20%20%20%20%20%20%20%20%20%20%20var%20html_5191c76a4b0e4286856d9856b63f53af%20%3D%20%24%28%60%3Cdiv%20id%3D%22html_5191c76a4b0e4286856d9856b63f53af%22%20style%3D%22width%3A%20100.0%25%3B%20height%3A%20100.0%25%3B%22%3EBig%20show%20paradise%20shop%3C/div%3E%60%29%5B0%5D%3B%0A%20%20%20%20%20%20%20%20%20%20%20%20popup_50b8e4cf34e249d99c033d564acd191f.setContent%28html_5191c76a4b0e4286856d9856b63f53af%29%3B%0A%20%20%20%20%20%20%20%20%0A%0A%20%20%20%20%20%20%20%20marker_59099b11b79c408aa880b7330b477d14.bindPopup%28popup_50b8e4cf34e249d99c033d564acd191f%29%0A%20%20%20%20%20%20%20%20%3B%0A%0A%20%20%20%20%20%20%20%20%0A%20%20%20%20%0A%20%20%20%20%0A%20%20%20%20%20%20%20%20%20%20%20%20var%20marker_d8f36fc32d4b4fd99ec602aa7c9c33c1%20%3D%20L.marker%28%0A%20%20%20%20%20%20%20%20%20%20%20%20%20%20%20%20%5B-1.2796836%2C%2036.8980392%5D%2C%0A%20%20%20%20%20%20%20%20%20%20%20%20%20%20%20%20%7B%7D%0A%20%20%20%20%20%20%20%20%20%20%20%20%29.addTo%28map_9536b186a26f4cc3aca0740ad35a0f72%29%3B%0A%20%20%20%20%20%20%20%20%0A%20%20%20%20%0A%20%20%20%20%20%20%20%20var%20popup_aeff7d4ce1a344f18daa3be478cfaf7c%20%3D%20L.popup%28%7B%22maxWidth%22%3A%20%22100%25%22%7D%29%3B%0A%0A%20%20%20%20%20%20%20%20%0A%20%20%20%20%20%20%20%20%20%20%20%20var%20html_998f2684f93243999c0162ff68bc16f3%20%3D%20%24%28%60%3Cdiv%20id%3D%22html_998f2684f93243999c0162ff68bc16f3%22%20style%3D%22width%3A%20100.0%25%3B%20height%3A%20100.0%25%3B%22%3EBahati%20shop%3C/div%3E%60%29%5B0%5D%3B%0A%20%20%20%20%20%20%20%20%20%20%20%20popup_aeff7d4ce1a344f18daa3be478cfaf7c.setContent%28html_998f2684f93243999c0162ff68bc16f3%29%3B%0A%20%20%20%20%20%20%20%20%0A%0A%20%20%20%20%20%20%20%20marker_d8f36fc32d4b4fd99ec602aa7c9c33c1.bindPopup%28popup_aeff7d4ce1a344f18daa3be478cfaf7c%29%0A%20%20%20%20%20%20%20%20%3B%0A%0A%20%20%20%20%20%20%20%20%0A%20%20%20%20%0A%20%20%20%20%0A%20%20%20%20%20%20%20%20%20%20%20%20var%20marker_72447631ee084ce0a631218a57a326f2%20%3D%20L.marker%28%0A%20%20%20%20%20%20%20%20%20%20%20%20%20%20%20%20%5B-1.283815%2C%2036.8982483%5D%2C%0A%20%20%20%20%20%20%20%20%20%20%20%20%20%20%20%20%7B%7D%0A%20%20%20%20%20%20%20%20%20%20%20%20%29.addTo%28map_9536b186a26f4cc3aca0740ad35a0f72%29%3B%0A%20%20%20%20%20%20%20%20%0A%20%20%20%20%0A%20%20%20%20%20%20%20%20var%20popup_b4f52428fc29471db5cfd097796d92f1%20%3D%20L.popup%28%7B%22maxWidth%22%3A%20%22100%25%22%7D%29%3B%0A%0A%20%20%20%20%20%20%20%20%0A%20%20%20%20%20%20%20%20%20%20%20%20var%20html_ac778256920e4d44b0f5054e0ef0bd36%20%3D%20%24%28%60%3Cdiv%20id%3D%22html_ac778256920e4d44b0f5054e0ef0bd36%22%20style%3D%22width%3A%20100.0%25%3B%20height%3A%20100.0%25%3B%22%3ECimmerman%20shop%3C/div%3E%60%29%5B0%5D%3B%0A%20%20%20%20%20%20%20%20%20%20%20%20popup_b4f52428fc29471db5cfd097796d92f1.setContent%28html_ac778256920e4d44b0f5054e0ef0bd36%29%3B%0A%20%20%20%20%20%20%20%20%0A%0A%20%20%20%20%20%20%20%20marker_72447631ee084ce0a631218a57a326f2.bindPopup%28popup_b4f52428fc29471db5cfd097796d92f1%29%0A%20%20%20%20%20%20%20%20%3B%0A%0A%20%20%20%20%20%20%20%20%0A%20%20%20%20%0A%20%20%20%20%0A%20%20%20%20%20%20%20%20%20%20%20%20var%20marker_48b25eb2289a46a988476b44fe52a79b%20%3D%20L.marker%28%0A%20%20%20%20%20%20%20%20%20%20%20%20%20%20%20%20%5B-1.2838267%2C%2036.8982567%5D%2C%0A%20%20%20%20%20%20%20%20%20%20%20%20%20%20%20%20%7B%7D%0A%20%20%20%20%20%20%20%20%20%20%20%20%29.addTo%28map_9536b186a26f4cc3aca0740ad35a0f72%29%3B%0A%20%20%20%20%20%20%20%20%0A%20%20%20%20%0A%20%20%20%20%20%20%20%20var%20popup_edd502cb53b444c99f6022ff49cc1847%20%3D%20L.popup%28%7B%22maxWidth%22%3A%20%22100%25%22%7D%29%3B%0A%0A%20%20%20%20%20%20%20%20%0A%20%20%20%20%20%20%20%20%20%20%20%20var%20html_421341f1d3564e7cb9ae1eaee7996fec%20%3D%20%24%28%60%3Cdiv%20id%3D%22html_421341f1d3564e7cb9ae1eaee7996fec%22%20style%3D%22width%3A%20100.0%25%3B%20height%3A%20100.0%25%3B%22%3EMemories%20shop%3C/div%3E%60%29%5B0%5D%3B%0A%20%20%20%20%20%20%20%20%20%20%20%20popup_edd502cb53b444c99f6022ff49cc1847.setContent%28html_421341f1d3564e7cb9ae1eaee7996fec%29%3B%0A%20%20%20%20%20%20%20%20%0A%0A%20%20%20%20%20%20%20%20marker_48b25eb2289a46a988476b44fe52a79b.bindPopup%28popup_edd502cb53b444c99f6022ff49cc1847%29%0A%20%20%20%20%20%20%20%20%3B%0A%0A%20%20%20%20%20%20%20%20%0A%20%20%20%20%0A%20%20%20%20%0A%20%20%20%20%20%20%20%20%20%20%20%20var%20marker_8754fac56eaa42078f0827efefa12ec0%20%3D%20L.marker%28%0A%20%20%20%20%20%20%20%20%20%20%20%20%20%20%20%20%5B-1.2897667%2C%2036.90336%5D%2C%0A%20%20%20%20%20%20%20%20%20%20%20%20%20%20%20%20%7B%7D%0A%20%20%20%20%20%20%20%20%20%20%20%20%29.addTo%28map_9536b186a26f4cc3aca0740ad35a0f72%29%3B%0A%20%20%20%20%20%20%20%20%0A%20%20%20%20%0A%20%20%20%20%20%20%20%20var%20popup_669d9cf530524200a07d47103f361bc2%20%3D%20L.popup%28%7B%22maxWidth%22%3A%20%22100%25%22%7D%29%3B%0A%0A%20%20%20%20%20%20%20%20%0A%20%20%20%20%20%20%20%20%20%20%20%20var%20html_2359dc9dc6a44dd6b6838eb56e19ee47%20%3D%20%24%28%60%3Cdiv%20id%3D%22html_2359dc9dc6a44dd6b6838eb56e19ee47%22%20style%3D%22width%3A%20100.0%25%3B%20height%3A%20100.0%25%3B%22%3EOnyis%20%20shop%3C/div%3E%60%29%5B0%5D%3B%0A%20%20%20%20%20%20%20%20%20%20%20%20popup_669d9cf530524200a07d47103f361bc2.setContent%28html_2359dc9dc6a44dd6b6838eb56e19ee47%29%3B%0A%20%20%20%20%20%20%20%20%0A%0A%20%20%20%20%20%20%20%20marker_8754fac56eaa42078f0827efefa12ec0.bindPopup%28popup_669d9cf530524200a07d47103f361bc2%29%0A%20%20%20%20%20%20%20%20%3B%0A%0A%20%20%20%20%20%20%20%20%0A%20%20%20%20%0A%20%20%20%20%0A%20%20%20%20%20%20%20%20%20%20%20%20var%20marker_6a9cf1f286ff48d1bd66467a56a40cfb%20%3D%20L.marker%28%0A%20%20%20%20%20%20%20%20%20%20%20%20%20%20%20%20%5B-1.2941417%2C%2036.896025%5D%2C%0A%20%20%20%20%20%20%20%20%20%20%20%20%20%20%20%20%7B%7D%0A%20%20%20%20%20%20%20%20%20%20%20%20%29.addTo%28map_9536b186a26f4cc3aca0740ad35a0f72%29%3B%0A%20%20%20%20%20%20%20%20%0A%20%20%20%20%0A%20%20%20%20%20%20%20%20var%20popup_9eeb10c7ef6e4af9b2a2c614d9a52f14%20%3D%20L.popup%28%7B%22maxWidth%22%3A%20%22100%25%22%7D%29%3B%0A%0A%20%20%20%20%20%20%20%20%0A%20%20%20%20%20%20%20%20%20%20%20%20var%20html_a84712b98f274eabba0480172966d64a%20%3D%20%24%28%60%3Cdiv%20id%3D%22html_a84712b98f274eabba0480172966d64a%22%20style%3D%22width%3A%20100.0%25%3B%20height%3A%20100.0%25%3B%22%3Ecorner%20shop%3C/div%3E%60%29%5B0%5D%3B%0A%20%20%20%20%20%20%20%20%20%20%20%20popup_9eeb10c7ef6e4af9b2a2c614d9a52f14.setContent%28html_a84712b98f274eabba0480172966d64a%29%3B%0A%20%20%20%20%20%20%20%20%0A%0A%20%20%20%20%20%20%20%20marker_6a9cf1f286ff48d1bd66467a56a40cfb.bindPopup%28popup_9eeb10c7ef6e4af9b2a2c614d9a52f14%29%0A%20%20%20%20%20%20%20%20%3B%0A%0A%20%20%20%20%20%20%20%20%0A%20%20%20%20%0A%20%20%20%20%0A%20%20%20%20%20%20%20%20%20%20%20%20var%20marker_6f9113e3431b4ac39a6ecce94f5eb360%20%3D%20L.marker%28%0A%20%20%20%20%20%20%20%20%20%20%20%20%20%20%20%20%5B-1.2930931%2C%2036.8933427%5D%2C%0A%20%20%20%20%20%20%20%20%20%20%20%20%20%20%20%20%7B%7D%0A%20%20%20%20%20%20%20%20%20%20%20%20%29.addTo%28map_9536b186a26f4cc3aca0740ad35a0f72%29%3B%0A%20%20%20%20%20%20%20%20%0A%20%20%20%20%0A%20%20%20%20%20%20%20%20var%20popup_2eb5d979cc4f4e91a674d39f99110150%20%3D%20L.popup%28%7B%22maxWidth%22%3A%20%22100%25%22%7D%29%3B%0A%0A%20%20%20%20%20%20%20%20%0A%20%20%20%20%20%20%20%20%20%20%20%20var%20html_05c7ada498154d83aee4c9a29a382cd2%20%3D%20%24%28%60%3Cdiv%20id%3D%22html_05c7ada498154d83aee4c9a29a382cd2%22%20style%3D%22width%3A%20100.0%25%3B%20height%3A%20100.0%25%3B%22%3EMaple%20shop%3C/div%3E%60%29%5B0%5D%3B%0A%20%20%20%20%20%20%20%20%20%20%20%20popup_2eb5d979cc4f4e91a674d39f99110150.setContent%28html_05c7ada498154d83aee4c9a29a382cd2%29%3B%0A%20%20%20%20%20%20%20%20%0A%0A%20%20%20%20%20%20%20%20marker_6f9113e3431b4ac39a6ecce94f5eb360.bindPopup%28popup_2eb5d979cc4f4e91a674d39f99110150%29%0A%20%20%20%20%20%20%20%20%3B%0A%0A%20%20%20%20%20%20%20%20%0A%20%20%20%20%0A%20%20%20%20%0A%20%20%20%20%20%20%20%20%20%20%20%20var%20marker_2f02882a1f24458db6e6b7e72d2e9a0d%20%3D%20L.marker%28%0A%20%20%20%20%20%20%20%20%20%20%20%20%20%20%20%20%5B-1.301024%2C%2036.8888246%5D%2C%0A%20%20%20%20%20%20%20%20%20%20%20%20%20%20%20%20%7B%7D%0A%20%20%20%20%20%20%20%20%20%20%20%20%29.addTo%28map_9536b186a26f4cc3aca0740ad35a0f72%29%3B%0A%20%20%20%20%20%20%20%20%0A%20%20%20%20%0A%20%20%20%20%20%20%20%20var%20popup_e98de305874340828be801fbd5fd5bfa%20%3D%20L.popup%28%7B%22maxWidth%22%3A%20%22100%25%22%7D%29%3B%0A%0A%20%20%20%20%20%20%20%20%0A%20%20%20%20%20%20%20%20%20%20%20%20var%20html_3ae279486d8840a3873c4e978e2e22dd%20%3D%20%24%28%60%3Cdiv%20id%3D%22html_3ae279486d8840a3873c4e978e2e22dd%22%20style%3D%22width%3A%20100.0%25%3B%20height%3A%20100.0%25%3B%22%3EGreen%20shop%3C/div%3E%60%29%5B0%5D%3B%0A%20%20%20%20%20%20%20%20%20%20%20%20popup_e98de305874340828be801fbd5fd5bfa.setContent%28html_3ae279486d8840a3873c4e978e2e22dd%29%3B%0A%20%20%20%20%20%20%20%20%0A%0A%20%20%20%20%20%20%20%20marker_2f02882a1f24458db6e6b7e72d2e9a0d.bindPopup%28popup_e98de305874340828be801fbd5fd5bfa%29%0A%20%20%20%20%20%20%20%20%3B%0A%0A%20%20%20%20%20%20%20%20%0A%20%20%20%20%0A%20%20%20%20%0A%20%20%20%20%20%20%20%20%20%20%20%20var%20marker_44a718683ff948568469cbe1bbaef451%20%3D%20L.marker%28%0A%20%20%20%20%20%20%20%20%20%20%20%20%20%20%20%20%5B-1.3041072%2C%2036.9025761%5D%2C%0A%20%20%20%20%20%20%20%20%20%20%20%20%20%20%20%20%7B%7D%0A%20%20%20%20%20%20%20%20%20%20%20%20%29.addTo%28map_9536b186a26f4cc3aca0740ad35a0f72%29%3B%0A%20%20%20%20%20%20%20%20%0A%20%20%20%20%0A%20%20%20%20%20%20%20%20var%20popup_8ee90ee3f43f4bf2b1518e9c77e73ccd%20%3D%20L.popup%28%7B%22maxWidth%22%3A%20%22100%25%22%7D%29%3B%0A%0A%20%20%20%20%20%20%20%20%0A%20%20%20%20%20%20%20%20%20%20%20%20var%20html_4818b2e4f4f843ddbf3534fd4c92fac3%20%3D%20%24%28%60%3Cdiv%20id%3D%22html_4818b2e4f4f843ddbf3534fd4c92fac3%22%20style%3D%22width%3A%20100.0%25%3B%20height%3A%20100.0%25%3B%22%3EKanji%20shop%3C/div%3E%60%29%5B0%5D%3B%0A%20%20%20%20%20%20%20%20%20%20%20%20popup_8ee90ee3f43f4bf2b1518e9c77e73ccd.setContent%28html_4818b2e4f4f843ddbf3534fd4c92fac3%29%3B%0A%20%20%20%20%20%20%20%20%0A%0A%20%20%20%20%20%20%20%20marker_44a718683ff948568469cbe1bbaef451.bindPopup%28popup_8ee90ee3f43f4bf2b1518e9c77e73ccd%29%0A%20%20%20%20%20%20%20%20%3B%0A%0A%20%20%20%20%20%20%20%20%0A%20%20%20%20%0A%20%20%20%20%0A%20%20%20%20%20%20%20%20%20%20%20%20var%20marker_01e9c6f4b08544d89cca7ef4614435cb%20%3D%20L.marker%28%0A%20%20%20%20%20%20%20%20%20%20%20%20%20%20%20%20%5B-1.3041072%2C%2036.9025761%5D%2C%0A%20%20%20%20%20%20%20%20%20%20%20%20%20%20%20%20%7B%7D%0A%20%20%20%20%20%20%20%20%20%20%20%20%29.addTo%28map_9536b186a26f4cc3aca0740ad35a0f72%29%3B%0A%20%20%20%20%20%20%20%20%0A%20%20%20%20%0A%20%20%20%20%20%20%20%20var%20popup_97ef134236684f2d9d734b5428d21ff7%20%3D%20L.popup%28%7B%22maxWidth%22%3A%20%22100%25%22%7D%29%3B%0A%0A%20%20%20%20%20%20%20%20%0A%20%20%20%20%20%20%20%20%20%20%20%20var%20html_774f166704ff42869fac8312f0228940%20%3D%20%24%28%60%3Cdiv%20id%3D%22html_774f166704ff42869fac8312f0228940%22%20style%3D%22width%3A%20100.0%25%3B%20height%3A%20100.0%25%3B%22%3EGebrifine%20shop%3C/div%3E%60%29%5B0%5D%3B%0A%20%20%20%20%20%20%20%20%20%20%20%20popup_97ef134236684f2d9d734b5428d21ff7.setContent%28html_774f166704ff42869fac8312f0228940%29%3B%0A%20%20%20%20%20%20%20%20%0A%0A%20%20%20%20%20%20%20%20marker_01e9c6f4b08544d89cca7ef4614435cb.bindPopup%28popup_97ef134236684f2d9d734b5428d21ff7%29%0A%20%20%20%20%20%20%20%20%3B%0A%0A%20%20%20%20%20%20%20%20%0A%20%20%20%20%0A%20%20%20%20%0A%20%20%20%20%20%20%20%20%20%20%20%20var%20marker_a7ddabfdca7340c988d31877aa0e287a%20%3D%20L.marker%28%0A%20%20%20%20%20%20%20%20%20%20%20%20%20%20%20%20%5B-1.3039508%2C%2036.9026402%5D%2C%0A%20%20%20%20%20%20%20%20%20%20%20%20%20%20%20%20%7B%7D%0A%20%20%20%20%20%20%20%20%20%20%20%20%29.addTo%28map_9536b186a26f4cc3aca0740ad35a0f72%29%3B%0A%20%20%20%20%20%20%20%20%0A%20%20%20%20%0A%20%20%20%20%20%20%20%20var%20popup_5251a6389bd9456a8e29a44b6ce52841%20%3D%20L.popup%28%7B%22maxWidth%22%3A%20%22100%25%22%7D%29%3B%0A%0A%20%20%20%20%20%20%20%20%0A%20%20%20%20%20%20%20%20%20%20%20%20var%20html_204557fe1eaf4181beee8a507217e563%20%3D%20%24%28%60%3Cdiv%20id%3D%22html_204557fe1eaf4181beee8a507217e563%22%20style%3D%22width%3A%20100.0%25%3B%20height%3A%20100.0%25%3B%22%3ERosmat%20gen%3C/div%3E%60%29%5B0%5D%3B%0A%20%20%20%20%20%20%20%20%20%20%20%20popup_5251a6389bd9456a8e29a44b6ce52841.setContent%28html_204557fe1eaf4181beee8a507217e563%29%3B%0A%20%20%20%20%20%20%20%20%0A%0A%20%20%20%20%20%20%20%20marker_a7ddabfdca7340c988d31877aa0e287a.bindPopup%28popup_5251a6389bd9456a8e29a44b6ce52841%29%0A%20%20%20%20%20%20%20%20%3B%0A%0A%20%20%20%20%20%20%20%20%0A%20%20%20%20%0A%20%20%20%20%0A%20%20%20%20%20%20%20%20%20%20%20%20var%20marker_81e55f3c2e9d4c0baf7e253825997416%20%3D%20L.marker%28%0A%20%20%20%20%20%20%20%20%20%20%20%20%20%20%20%20%5B-1.3034334%2C%2036.9028639%5D%2C%0A%20%20%20%20%20%20%20%20%20%20%20%20%20%20%20%20%7B%7D%0A%20%20%20%20%20%20%20%20%20%20%20%20%29.addTo%28map_9536b186a26f4cc3aca0740ad35a0f72%29%3B%0A%20%20%20%20%20%20%20%20%0A%20%20%20%20%0A%20%20%20%20%20%20%20%20var%20popup_e5fa425e94554c5a8bc0b3a3871d6120%20%3D%20L.popup%28%7B%22maxWidth%22%3A%20%22100%25%22%7D%29%3B%0A%0A%20%20%20%20%20%20%20%20%0A%20%20%20%20%20%20%20%20%20%20%20%20var%20html_5004b14f05184771bdf01e65bb15610d%20%3D%20%24%28%60%3Cdiv%20id%3D%22html_5004b14f05184771bdf01e65bb15610d%22%20style%3D%22width%3A%20100.0%25%3B%20height%3A%20100.0%25%3B%22%3EGeneral%20shop%3C/div%3E%60%29%5B0%5D%3B%0A%20%20%20%20%20%20%20%20%20%20%20%20popup_e5fa425e94554c5a8bc0b3a3871d6120.setContent%28html_5004b14f05184771bdf01e65bb15610d%29%3B%0A%20%20%20%20%20%20%20%20%0A%0A%20%20%20%20%20%20%20%20marker_81e55f3c2e9d4c0baf7e253825997416.bindPopup%28popup_e5fa425e94554c5a8bc0b3a3871d6120%29%0A%20%20%20%20%20%20%20%20%3B%0A%0A%20%20%20%20%20%20%20%20%0A%20%20%20%20%0A%20%20%20%20%0A%20%20%20%20%20%20%20%20%20%20%20%20var%20marker_e22ab70f95f14d0187576ad0b68e2928%20%3D%20L.marker%28%0A%20%20%20%20%20%20%20%20%20%20%20%20%20%20%20%20%5B-1.3030756%2C%2036.9030164%5D%2C%0A%20%20%20%20%20%20%20%20%20%20%20%20%20%20%20%20%7B%7D%0A%20%20%20%20%20%20%20%20%20%20%20%20%29.addTo%28map_9536b186a26f4cc3aca0740ad35a0f72%29%3B%0A%20%20%20%20%20%20%20%20%0A%20%20%20%20%0A%20%20%20%20%20%20%20%20var%20popup_94d1a3fc529a48d68a101ef8496ff977%20%3D%20L.popup%28%7B%22maxWidth%22%3A%20%22100%25%22%7D%29%3B%0A%0A%20%20%20%20%20%20%20%20%0A%20%20%20%20%20%20%20%20%20%20%20%20var%20html_cc07115ebc044e1184c4c8a9195b2eb3%20%3D%20%24%28%60%3Cdiv%20id%3D%22html_cc07115ebc044e1184c4c8a9195b2eb3%22%20style%3D%22width%3A%20100.0%25%3B%20height%3A%20100.0%25%3B%22%3EGen%20shop%3C/div%3E%60%29%5B0%5D%3B%0A%20%20%20%20%20%20%20%20%20%20%20%20popup_94d1a3fc529a48d68a101ef8496ff977.setContent%28html_cc07115ebc044e1184c4c8a9195b2eb3%29%3B%0A%20%20%20%20%20%20%20%20%0A%0A%20%20%20%20%20%20%20%20marker_e22ab70f95f14d0187576ad0b68e2928.bindPopup%28popup_94d1a3fc529a48d68a101ef8496ff977%29%0A%20%20%20%20%20%20%20%20%3B%0A%0A%20%20%20%20%20%20%20%20%0A%20%20%20%20%0A%20%20%20%20%0A%20%20%20%20%20%20%20%20%20%20%20%20var%20marker_bcfe6b1e95ae45ba91e1ee063d16546e%20%3D%20L.marker%28%0A%20%20%20%20%20%20%20%20%20%20%20%20%20%20%20%20%5B-1.3028972%2C%2036.9028403%5D%2C%0A%20%20%20%20%20%20%20%20%20%20%20%20%20%20%20%20%7B%7D%0A%20%20%20%20%20%20%20%20%20%20%20%20%29.addTo%28map_9536b186a26f4cc3aca0740ad35a0f72%29%3B%0A%20%20%20%20%20%20%20%20%0A%20%20%20%20%0A%20%20%20%20%20%20%20%20var%20popup_a3dfdb24c5c94919aa83cf0b393772e8%20%3D%20L.popup%28%7B%22maxWidth%22%3A%20%22100%25%22%7D%29%3B%0A%0A%20%20%20%20%20%20%20%20%0A%20%20%20%20%20%20%20%20%20%20%20%20var%20html_b4c7adb10c6246fd88f483417fb8ac49%20%3D%20%24%28%60%3Cdiv%20id%3D%22html_b4c7adb10c6246fd88f483417fb8ac49%22%20style%3D%22width%3A%20100.0%25%3B%20height%3A%20100.0%25%3B%22%3EAziza%20traders%3C/div%3E%60%29%5B0%5D%3B%0A%20%20%20%20%20%20%20%20%20%20%20%20popup_a3dfdb24c5c94919aa83cf0b393772e8.setContent%28html_b4c7adb10c6246fd88f483417fb8ac49%29%3B%0A%20%20%20%20%20%20%20%20%0A%0A%20%20%20%20%20%20%20%20marker_bcfe6b1e95ae45ba91e1ee063d16546e.bindPopup%28popup_a3dfdb24c5c94919aa83cf0b393772e8%29%0A%20%20%20%20%20%20%20%20%3B%0A%0A%20%20%20%20%20%20%20%20%0A%20%20%20%20%0A%20%20%20%20%0A%20%20%20%20%20%20%20%20%20%20%20%20var%20marker_876b2890b6434b9dacdb60bc5e15727d%20%3D%20L.marker%28%0A%20%20%20%20%20%20%20%20%20%20%20%20%20%20%20%20%5B-1.3039085%2C%2036.9022111%5D%2C%0A%20%20%20%20%20%20%20%20%20%20%20%20%20%20%20%20%7B%7D%0A%20%20%20%20%20%20%20%20%20%20%20%20%29.addTo%28map_9536b186a26f4cc3aca0740ad35a0f72%29%3B%0A%20%20%20%20%20%20%20%20%0A%20%20%20%20%0A%20%20%20%20%20%20%20%20var%20popup_c5ff432b008941fbb7b12264b5734819%20%3D%20L.popup%28%7B%22maxWidth%22%3A%20%22100%25%22%7D%29%3B%0A%0A%20%20%20%20%20%20%20%20%0A%20%20%20%20%20%20%20%20%20%20%20%20var%20html_b953106207444a798bf6d115ac873337%20%3D%20%24%28%60%3Cdiv%20id%3D%22html_b953106207444a798bf6d115ac873337%22%20style%3D%22width%3A%20100.0%25%3B%20height%3A%20100.0%25%3B%22%3EBen%27s%20shop%3C/div%3E%60%29%5B0%5D%3B%0A%20%20%20%20%20%20%20%20%20%20%20%20popup_c5ff432b008941fbb7b12264b5734819.setContent%28html_b953106207444a798bf6d115ac873337%29%3B%0A%20%20%20%20%20%20%20%20%0A%0A%20%20%20%20%20%20%20%20marker_876b2890b6434b9dacdb60bc5e15727d.bindPopup%28popup_c5ff432b008941fbb7b12264b5734819%29%0A%20%20%20%20%20%20%20%20%3B%0A%0A%20%20%20%20%20%20%20%20%0A%20%20%20%20%0A%20%20%20%20%0A%20%20%20%20%20%20%20%20%20%20%20%20var%20marker_ca7fe6c88a1c4a0192d649c61df0a988%20%3D%20L.marker%28%0A%20%20%20%20%20%20%20%20%20%20%20%20%20%20%20%20%5B-1.3074228%2C%2036.9016793%5D%2C%0A%20%20%20%20%20%20%20%20%20%20%20%20%20%20%20%20%7B%7D%0A%20%20%20%20%20%20%20%20%20%20%20%20%29.addTo%28map_9536b186a26f4cc3aca0740ad35a0f72%29%3B%0A%20%20%20%20%20%20%20%20%0A%20%20%20%20%0A%20%20%20%20%20%20%20%20var%20popup_501ca6d98eed4a9ba720d483bd2b78f3%20%3D%20L.popup%28%7B%22maxWidth%22%3A%20%22100%25%22%7D%29%3B%0A%0A%20%20%20%20%20%20%20%20%0A%20%20%20%20%20%20%20%20%20%20%20%20var%20html_6c92fa3aee164e8e9290840aec8c92d3%20%3D%20%24%28%60%3Cdiv%20id%3D%22html_6c92fa3aee164e8e9290840aec8c92d3%22%20style%3D%22width%3A%20100.0%25%3B%20height%3A%20100.0%25%3B%22%3EMilk%20ATM%20shop%3C/div%3E%60%29%5B0%5D%3B%0A%20%20%20%20%20%20%20%20%20%20%20%20popup_501ca6d98eed4a9ba720d483bd2b78f3.setContent%28html_6c92fa3aee164e8e9290840aec8c92d3%29%3B%0A%20%20%20%20%20%20%20%20%0A%0A%20%20%20%20%20%20%20%20marker_ca7fe6c88a1c4a0192d649c61df0a988.bindPopup%28popup_501ca6d98eed4a9ba720d483bd2b78f3%29%0A%20%20%20%20%20%20%20%20%3B%0A%0A%20%20%20%20%20%20%20%20%0A%20%20%20%20%0A%20%20%20%20%0A%20%20%20%20%20%20%20%20%20%20%20%20var%20marker_a588258376f147549d3c22f09335e973%20%3D%20L.marker%28%0A%20%20%20%20%20%20%20%20%20%20%20%20%20%20%20%20%5B-1.3053805%2C%2036.9022267%5D%2C%0A%20%20%20%20%20%20%20%20%20%20%20%20%20%20%20%20%7B%7D%0A%20%20%20%20%20%20%20%20%20%20%20%20%29.addTo%28map_9536b186a26f4cc3aca0740ad35a0f72%29%3B%0A%20%20%20%20%20%20%20%20%0A%20%20%20%20%0A%20%20%20%20%20%20%20%20var%20popup_cff786b01eae4f078287246f32c9db49%20%3D%20L.popup%28%7B%22maxWidth%22%3A%20%22100%25%22%7D%29%3B%0A%0A%20%20%20%20%20%20%20%20%0A%20%20%20%20%20%20%20%20%20%20%20%20var%20html_9ab02880d3a64cbf9615a05ce6f2d3f2%20%3D%20%24%28%60%3Cdiv%20id%3D%22html_9ab02880d3a64cbf9615a05ce6f2d3f2%22%20style%3D%22width%3A%20100.0%25%3B%20height%3A%20100.0%25%3B%22%3EJambo%20Matt%20supermarket%3C/div%3E%60%29%5B0%5D%3B%0A%20%20%20%20%20%20%20%20%20%20%20%20popup_cff786b01eae4f078287246f32c9db49.setContent%28html_9ab02880d3a64cbf9615a05ce6f2d3f2%29%3B%0A%20%20%20%20%20%20%20%20%0A%0A%20%20%20%20%20%20%20%20marker_a588258376f147549d3c22f09335e973.bindPopup%28popup_cff786b01eae4f078287246f32c9db49%29%0A%20%20%20%20%20%20%20%20%3B%0A%0A%20%20%20%20%20%20%20%20%0A%20%20%20%20%0A%20%20%20%20%0A%20%20%20%20%20%20%20%20%20%20%20%20var%20marker_b167737cb2904240aa736e2c8f724c34%20%3D%20L.marker%28%0A%20%20%20%20%20%20%20%20%20%20%20%20%20%20%20%20%5B-1.3056947%2C%2036.9019526%5D%2C%0A%20%20%20%20%20%20%20%20%20%20%20%20%20%20%20%20%7B%7D%0A%20%20%20%20%20%20%20%20%20%20%20%20%29.addTo%28map_9536b186a26f4cc3aca0740ad35a0f72%29%3B%0A%20%20%20%20%20%20%20%20%0A%20%20%20%20%0A%20%20%20%20%20%20%20%20var%20popup_cae2f863bc1e41e9bcd1c94c179ed840%20%3D%20L.popup%28%7B%22maxWidth%22%3A%20%22100%25%22%7D%29%3B%0A%0A%20%20%20%20%20%20%20%20%0A%20%20%20%20%20%20%20%20%20%20%20%20var%20html_11f615689c1c4e049dcfc6391b7e4723%20%3D%20%24%28%60%3Cdiv%20id%3D%22html_11f615689c1c4e049dcfc6391b7e4723%22%20style%3D%22width%3A%20100.0%25%3B%20height%3A%20100.0%25%3B%22%3ELilac%20gen%20shop%3C/div%3E%60%29%5B0%5D%3B%0A%20%20%20%20%20%20%20%20%20%20%20%20popup_cae2f863bc1e41e9bcd1c94c179ed840.setContent%28html_11f615689c1c4e049dcfc6391b7e4723%29%3B%0A%20%20%20%20%20%20%20%20%0A%0A%20%20%20%20%20%20%20%20marker_b167737cb2904240aa736e2c8f724c34.bindPopup%28popup_cae2f863bc1e41e9bcd1c94c179ed840%29%0A%20%20%20%20%20%20%20%20%3B%0A%0A%20%20%20%20%20%20%20%20%0A%20%20%20%20%0A%20%20%20%20%0A%20%20%20%20%20%20%20%20%20%20%20%20var%20marker_f8e8bc4441934edf8a92a7f793e35c16%20%3D%20L.marker%28%0A%20%20%20%20%20%20%20%20%20%20%20%20%20%20%20%20%5B-1.3056947%2C%2036.9019526%5D%2C%0A%20%20%20%20%20%20%20%20%20%20%20%20%20%20%20%20%7B%7D%0A%20%20%20%20%20%20%20%20%20%20%20%20%29.addTo%28map_9536b186a26f4cc3aca0740ad35a0f72%29%3B%0A%20%20%20%20%20%20%20%20%0A%20%20%20%20%0A%20%20%20%20%20%20%20%20var%20popup_94d60bac85e240c98dd1f08a527d0fad%20%3D%20L.popup%28%7B%22maxWidth%22%3A%20%22100%25%22%7D%29%3B%0A%0A%20%20%20%20%20%20%20%20%0A%20%20%20%20%20%20%20%20%20%20%20%20var%20html_6d4c8a57c6fe41a490a91cf828917eef%20%3D%20%24%28%60%3Cdiv%20id%3D%22html_6d4c8a57c6fe41a490a91cf828917eef%22%20style%3D%22width%3A%20100.0%25%3B%20height%3A%20100.0%25%3B%22%3ENazal%20shop%3C/div%3E%60%29%5B0%5D%3B%0A%20%20%20%20%20%20%20%20%20%20%20%20popup_94d60bac85e240c98dd1f08a527d0fad.setContent%28html_6d4c8a57c6fe41a490a91cf828917eef%29%3B%0A%20%20%20%20%20%20%20%20%0A%0A%20%20%20%20%20%20%20%20marker_f8e8bc4441934edf8a92a7f793e35c16.bindPopup%28popup_94d60bac85e240c98dd1f08a527d0fad%29%0A%20%20%20%20%20%20%20%20%3B%0A%0A%20%20%20%20%20%20%20%20%0A%20%20%20%20%0A%20%20%20%20%0A%20%20%20%20%20%20%20%20%20%20%20%20var%20marker_38f5df57ecc249b3b028a3dead30d40d%20%3D%20L.marker%28%0A%20%20%20%20%20%20%20%20%20%20%20%20%20%20%20%20%5B-1.3054063%2C%2036.9020012%5D%2C%0A%20%20%20%20%20%20%20%20%20%20%20%20%20%20%20%20%7B%7D%0A%20%20%20%20%20%20%20%20%20%20%20%20%29.addTo%28map_9536b186a26f4cc3aca0740ad35a0f72%29%3B%0A%20%20%20%20%20%20%20%20%0A%20%20%20%20%0A%20%20%20%20%20%20%20%20var%20popup_c34f17ed671548328a275db968ec453d%20%3D%20L.popup%28%7B%22maxWidth%22%3A%20%22100%25%22%7D%29%3B%0A%0A%20%20%20%20%20%20%20%20%0A%20%20%20%20%20%20%20%20%20%20%20%20var%20html_40ffc4b66fdd489f9c6d36ec791a014f%20%3D%20%24%28%60%3Cdiv%20id%3D%22html_40ffc4b66fdd489f9c6d36ec791a014f%22%20style%3D%22width%3A%20100.0%25%3B%20height%3A%20100.0%25%3B%22%3ESilmax%20g%20shop%3C/div%3E%60%29%5B0%5D%3B%0A%20%20%20%20%20%20%20%20%20%20%20%20popup_c34f17ed671548328a275db968ec453d.setContent%28html_40ffc4b66fdd489f9c6d36ec791a014f%29%3B%0A%20%20%20%20%20%20%20%20%0A%0A%20%20%20%20%20%20%20%20marker_38f5df57ecc249b3b028a3dead30d40d.bindPopup%28popup_c34f17ed671548328a275db968ec453d%29%0A%20%20%20%20%20%20%20%20%3B%0A%0A%20%20%20%20%20%20%20%20%0A%20%20%20%20%0A%20%20%20%20%0A%20%20%20%20%20%20%20%20%20%20%20%20var%20marker_d204f228e0a444909c910f82de9bf001%20%3D%20L.marker%28%0A%20%20%20%20%20%20%20%20%20%20%20%20%20%20%20%20%5B-1.3051161%2C%2036.9021671%5D%2C%0A%20%20%20%20%20%20%20%20%20%20%20%20%20%20%20%20%7B%7D%0A%20%20%20%20%20%20%20%20%20%20%20%20%29.addTo%28map_9536b186a26f4cc3aca0740ad35a0f72%29%3B%0A%20%20%20%20%20%20%20%20%0A%20%20%20%20%0A%20%20%20%20%20%20%20%20var%20popup_eb29474b832e45a6a6814b84124708b7%20%3D%20L.popup%28%7B%22maxWidth%22%3A%20%22100%25%22%7D%29%3B%0A%0A%20%20%20%20%20%20%20%20%0A%20%20%20%20%20%20%20%20%20%20%20%20var%20html_d2cb276a6dc842adb0eb4d1b756ba669%20%3D%20%24%28%60%3Cdiv%20id%3D%22html_d2cb276a6dc842adb0eb4d1b756ba669%22%20style%3D%22width%3A%20100.0%25%3B%20height%3A%20100.0%25%3B%22%3ENjamuga%20gen%20shop%3C/div%3E%60%29%5B0%5D%3B%0A%20%20%20%20%20%20%20%20%20%20%20%20popup_eb29474b832e45a6a6814b84124708b7.setContent%28html_d2cb276a6dc842adb0eb4d1b756ba669%29%3B%0A%20%20%20%20%20%20%20%20%0A%0A%20%20%20%20%20%20%20%20marker_d204f228e0a444909c910f82de9bf001.bindPopup%28popup_eb29474b832e45a6a6814b84124708b7%29%0A%20%20%20%20%20%20%20%20%3B%0A%0A%20%20%20%20%20%20%20%20%0A%20%20%20%20%0A%20%20%20%20%0A%20%20%20%20%20%20%20%20%20%20%20%20var%20marker_e90fa4a5ebca4458b74bb02bb25b270b%20%3D%20L.marker%28%0A%20%20%20%20%20%20%20%20%20%20%20%20%20%20%20%20%5B-1.3049417%2C%2036.9023603%5D%2C%0A%20%20%20%20%20%20%20%20%20%20%20%20%20%20%20%20%7B%7D%0A%20%20%20%20%20%20%20%20%20%20%20%20%29.addTo%28map_9536b186a26f4cc3aca0740ad35a0f72%29%3B%0A%20%20%20%20%20%20%20%20%0A%20%20%20%20%0A%20%20%20%20%20%20%20%20var%20popup_21e1d0ada7f24b87bb939d81ce4b5c60%20%3D%20L.popup%28%7B%22maxWidth%22%3A%20%22100%25%22%7D%29%3B%0A%0A%20%20%20%20%20%20%20%20%0A%20%20%20%20%20%20%20%20%20%20%20%20var%20html_156bf3ee2e2e44bab5416994c72d82e9%20%3D%20%24%28%60%3Cdiv%20id%3D%22html_156bf3ee2e2e44bab5416994c72d82e9%22%20style%3D%22width%3A%20100.0%25%3B%20height%3A%20100.0%25%3B%22%3EJestman%20shop%3C/div%3E%60%29%5B0%5D%3B%0A%20%20%20%20%20%20%20%20%20%20%20%20popup_21e1d0ada7f24b87bb939d81ce4b5c60.setContent%28html_156bf3ee2e2e44bab5416994c72d82e9%29%3B%0A%20%20%20%20%20%20%20%20%0A%0A%20%20%20%20%20%20%20%20marker_e90fa4a5ebca4458b74bb02bb25b270b.bindPopup%28popup_21e1d0ada7f24b87bb939d81ce4b5c60%29%0A%20%20%20%20%20%20%20%20%3B%0A%0A%20%20%20%20%20%20%20%20%0A%20%20%20%20%0A%20%20%20%20%0A%20%20%20%20%20%20%20%20%20%20%20%20var%20marker_27d4557ecc614b89947f7862111d693b%20%3D%20L.marker%28%0A%20%20%20%20%20%20%20%20%20%20%20%20%20%20%20%20%5B-1.3051804%2C%2036.9025254%5D%2C%0A%20%20%20%20%20%20%20%20%20%20%20%20%20%20%20%20%7B%7D%0A%20%20%20%20%20%20%20%20%20%20%20%20%29.addTo%28map_9536b186a26f4cc3aca0740ad35a0f72%29%3B%0A%20%20%20%20%20%20%20%20%0A%20%20%20%20%0A%20%20%20%20%20%20%20%20var%20popup_58b4a376dc14498cb9b6ba12462d3e14%20%3D%20L.popup%28%7B%22maxWidth%22%3A%20%22100%25%22%7D%29%3B%0A%0A%20%20%20%20%20%20%20%20%0A%20%20%20%20%20%20%20%20%20%20%20%20var%20html_fa2fd44db1264086952265c6d18aec69%20%3D%20%24%28%60%3Cdiv%20id%3D%22html_fa2fd44db1264086952265c6d18aec69%22%20style%3D%22width%3A%20100.0%25%3B%20height%3A%20100.0%25%3B%22%3EWa%20shavii%20shop%3C/div%3E%60%29%5B0%5D%3B%0A%20%20%20%20%20%20%20%20%20%20%20%20popup_58b4a376dc14498cb9b6ba12462d3e14.setContent%28html_fa2fd44db1264086952265c6d18aec69%29%3B%0A%20%20%20%20%20%20%20%20%0A%0A%20%20%20%20%20%20%20%20marker_27d4557ecc614b89947f7862111d693b.bindPopup%28popup_58b4a376dc14498cb9b6ba12462d3e14%29%0A%20%20%20%20%20%20%20%20%3B%0A%0A%20%20%20%20%20%20%20%20%0A%20%20%20%20%0A%20%20%20%20%0A%20%20%20%20%20%20%20%20%20%20%20%20var%20marker_1d9579488176441b8d337d3e7c4959a9%20%3D%20L.marker%28%0A%20%20%20%20%20%20%20%20%20%20%20%20%20%20%20%20%5B-1.3059705%2C%2036.9026372%5D%2C%0A%20%20%20%20%20%20%20%20%20%20%20%20%20%20%20%20%7B%7D%0A%20%20%20%20%20%20%20%20%20%20%20%20%29.addTo%28map_9536b186a26f4cc3aca0740ad35a0f72%29%3B%0A%20%20%20%20%20%20%20%20%0A%20%20%20%20%0A%20%20%20%20%20%20%20%20var%20popup_988b9311ebe0458db7368681cecb8f46%20%3D%20L.popup%28%7B%22maxWidth%22%3A%20%22100%25%22%7D%29%3B%0A%0A%20%20%20%20%20%20%20%20%0A%20%20%20%20%20%20%20%20%20%20%20%20var%20html_c0725ce26f864135b8fd38e53c87804b%20%3D%20%24%28%60%3Cdiv%20id%3D%22html_c0725ce26f864135b8fd38e53c87804b%22%20style%3D%22width%3A%20100.0%25%3B%20height%3A%20100.0%25%3B%22%3EMpesa%20kiosk%3C/div%3E%60%29%5B0%5D%3B%0A%20%20%20%20%20%20%20%20%20%20%20%20popup_988b9311ebe0458db7368681cecb8f46.setContent%28html_c0725ce26f864135b8fd38e53c87804b%29%3B%0A%20%20%20%20%20%20%20%20%0A%0A%20%20%20%20%20%20%20%20marker_1d9579488176441b8d337d3e7c4959a9.bindPopup%28popup_988b9311ebe0458db7368681cecb8f46%29%0A%20%20%20%20%20%20%20%20%3B%0A%0A%20%20%20%20%20%20%20%20%0A%20%20%20%20%0A%20%20%20%20%0A%20%20%20%20%20%20%20%20%20%20%20%20var%20marker_a8caf80a618047d1b3541716423d8ac9%20%3D%20L.marker%28%0A%20%20%20%20%20%20%20%20%20%20%20%20%20%20%20%20%5B-1.3079332%2C%2036.9037741%5D%2C%0A%20%20%20%20%20%20%20%20%20%20%20%20%20%20%20%20%7B%7D%0A%20%20%20%20%20%20%20%20%20%20%20%20%29.addTo%28map_9536b186a26f4cc3aca0740ad35a0f72%29%3B%0A%20%20%20%20%20%20%20%20%0A%20%20%20%20%0A%20%20%20%20%20%20%20%20var%20popup_9dea6ca91c3641158a2f37c76de21722%20%3D%20L.popup%28%7B%22maxWidth%22%3A%20%22100%25%22%7D%29%3B%0A%0A%20%20%20%20%20%20%20%20%0A%20%20%20%20%20%20%20%20%20%20%20%20var%20html_846bfbc387da48979214ee84b22bd105%20%3D%20%24%28%60%3Cdiv%20id%3D%22html_846bfbc387da48979214ee84b22bd105%22%20style%3D%22width%3A%20100.0%25%3B%20height%3A%20100.0%25%3B%22%3EUncle%20Sam%20shop%3C/div%3E%60%29%5B0%5D%3B%0A%20%20%20%20%20%20%20%20%20%20%20%20popup_9dea6ca91c3641158a2f37c76de21722.setContent%28html_846bfbc387da48979214ee84b22bd105%29%3B%0A%20%20%20%20%20%20%20%20%0A%0A%20%20%20%20%20%20%20%20marker_a8caf80a618047d1b3541716423d8ac9.bindPopup%28popup_9dea6ca91c3641158a2f37c76de21722%29%0A%20%20%20%20%20%20%20%20%3B%0A%0A%20%20%20%20%20%20%20%20%0A%20%20%20%20%0A%20%20%20%20%0A%20%20%20%20%20%20%20%20%20%20%20%20var%20marker_1420ee2aa21e4e3bb99ab812a2f79fe2%20%3D%20L.marker%28%0A%20%20%20%20%20%20%20%20%20%20%20%20%20%20%20%20%5B-1.3079332%2C%2036.9037741%5D%2C%0A%20%20%20%20%20%20%20%20%20%20%20%20%20%20%20%20%7B%7D%0A%20%20%20%20%20%20%20%20%20%20%20%20%29.addTo%28map_9536b186a26f4cc3aca0740ad35a0f72%29%3B%0A%20%20%20%20%20%20%20%20%0A%20%20%20%20%0A%20%20%20%20%20%20%20%20var%20popup_439f0ea90d024a8a912cca194dfbf3e2%20%3D%20L.popup%28%7B%22maxWidth%22%3A%20%22100%25%22%7D%29%3B%0A%0A%20%20%20%20%20%20%20%20%0A%20%20%20%20%20%20%20%20%20%20%20%20var%20html_50731f6ef057477ba6acabae68a060c3%20%3D%20%24%28%60%3Cdiv%20id%3D%22html_50731f6ef057477ba6acabae68a060c3%22%20style%3D%22width%3A%20100.0%25%3B%20height%3A%20100.0%25%3B%22%3EJB%20general%20retail%20shop%3C/div%3E%60%29%5B0%5D%3B%0A%20%20%20%20%20%20%20%20%20%20%20%20popup_439f0ea90d024a8a912cca194dfbf3e2.setContent%28html_50731f6ef057477ba6acabae68a060c3%29%3B%0A%20%20%20%20%20%20%20%20%0A%0A%20%20%20%20%20%20%20%20marker_1420ee2aa21e4e3bb99ab812a2f79fe2.bindPopup%28popup_439f0ea90d024a8a912cca194dfbf3e2%29%0A%20%20%20%20%20%20%20%20%3B%0A%0A%20%20%20%20%20%20%20%20%0A%20%20%20%20%0A%20%20%20%20%0A%20%20%20%20%20%20%20%20%20%20%20%20var%20marker_fab2eff714ab4ab3b9f27fbd2909ca8d%20%3D%20L.marker%28%0A%20%20%20%20%20%20%20%20%20%20%20%20%20%20%20%20%5B-1.3079644%2C%2036.9036155%5D%2C%0A%20%20%20%20%20%20%20%20%20%20%20%20%20%20%20%20%7B%7D%0A%20%20%20%20%20%20%20%20%20%20%20%20%29.addTo%28map_9536b186a26f4cc3aca0740ad35a0f72%29%3B%0A%20%20%20%20%20%20%20%20%0A%20%20%20%20%0A%20%20%20%20%20%20%20%20var%20popup_3dba890b4b27437fa5c49b50ee04fc3a%20%3D%20L.popup%28%7B%22maxWidth%22%3A%20%22100%25%22%7D%29%3B%0A%0A%20%20%20%20%20%20%20%20%0A%20%20%20%20%20%20%20%20%20%20%20%20var%20html_3a2d1785987143f480e10bb41de07d8f%20%3D%20%24%28%60%3Cdiv%20id%3D%22html_3a2d1785987143f480e10bb41de07d8f%22%20style%3D%22width%3A%20100.0%25%3B%20height%3A%20100.0%25%3B%22%3EA05%20Retail%20shop%3C/div%3E%60%29%5B0%5D%3B%0A%20%20%20%20%20%20%20%20%20%20%20%20popup_3dba890b4b27437fa5c49b50ee04fc3a.setContent%28html_3a2d1785987143f480e10bb41de07d8f%29%3B%0A%20%20%20%20%20%20%20%20%0A%0A%20%20%20%20%20%20%20%20marker_fab2eff714ab4ab3b9f27fbd2909ca8d.bindPopup%28popup_3dba890b4b27437fa5c49b50ee04fc3a%29%0A%20%20%20%20%20%20%20%20%3B%0A%0A%20%20%20%20%20%20%20%20%0A%20%20%20%20%0A%20%20%20%20%0A%20%20%20%20%20%20%20%20%20%20%20%20var%20marker_e0f0643100364c428b07e3642559a445%20%3D%20L.marker%28%0A%20%20%20%20%20%20%20%20%20%20%20%20%20%20%20%20%5B-1.3085031%2C%2036.9021499%5D%2C%0A%20%20%20%20%20%20%20%20%20%20%20%20%20%20%20%20%7B%7D%0A%20%20%20%20%20%20%20%20%20%20%20%20%29.addTo%28map_9536b186a26f4cc3aca0740ad35a0f72%29%3B%0A%20%20%20%20%20%20%20%20%0A%20%20%20%20%0A%20%20%20%20%20%20%20%20var%20popup_1bab277d15c84c5da633e99bf124f0fc%20%3D%20L.popup%28%7B%22maxWidth%22%3A%20%22100%25%22%7D%29%3B%0A%0A%20%20%20%20%20%20%20%20%0A%20%20%20%20%20%20%20%20%20%20%20%20var%20html_75028576d59d430894d647342e55925a%20%3D%20%24%28%60%3Cdiv%20id%3D%22html_75028576d59d430894d647342e55925a%22%20style%3D%22width%3A%20100.0%25%3B%20height%3A%20100.0%25%3B%22%3EEmbakasi%20mini%20shop%3C/div%3E%60%29%5B0%5D%3B%0A%20%20%20%20%20%20%20%20%20%20%20%20popup_1bab277d15c84c5da633e99bf124f0fc.setContent%28html_75028576d59d430894d647342e55925a%29%3B%0A%20%20%20%20%20%20%20%20%0A%0A%20%20%20%20%20%20%20%20marker_e0f0643100364c428b07e3642559a445.bindPopup%28popup_1bab277d15c84c5da633e99bf124f0fc%29%0A%20%20%20%20%20%20%20%20%3B%0A%0A%20%20%20%20%20%20%20%20%0A%20%20%20%20%0A%20%20%20%20%0A%20%20%20%20%20%20%20%20%20%20%20%20var%20marker_238af5daf85f4092a91b327ce306f984%20%3D%20L.marker%28%0A%20%20%20%20%20%20%20%20%20%20%20%20%20%20%20%20%5B-1.308717%2C%2036.9023132%5D%2C%0A%20%20%20%20%20%20%20%20%20%20%20%20%20%20%20%20%7B%7D%0A%20%20%20%20%20%20%20%20%20%20%20%20%29.addTo%28map_9536b186a26f4cc3aca0740ad35a0f72%29%3B%0A%20%20%20%20%20%20%20%20%0A%20%20%20%20%0A%20%20%20%20%20%20%20%20var%20popup_03952b00da6a4c4e938c6f1eac91f1a2%20%3D%20L.popup%28%7B%22maxWidth%22%3A%20%22100%25%22%7D%29%3B%0A%0A%20%20%20%20%20%20%20%20%0A%20%20%20%20%20%20%20%20%20%20%20%20var%20html_b3cd856bfe1140e79cfc12ce0f016a36%20%3D%20%24%28%60%3Cdiv%20id%3D%22html_b3cd856bfe1140e79cfc12ce0f016a36%22%20style%3D%22width%3A%20100.0%25%3B%20height%3A%20100.0%25%3B%22%3EJoben%20shop%3C/div%3E%60%29%5B0%5D%3B%0A%20%20%20%20%20%20%20%20%20%20%20%20popup_03952b00da6a4c4e938c6f1eac91f1a2.setContent%28html_b3cd856bfe1140e79cfc12ce0f016a36%29%3B%0A%20%20%20%20%20%20%20%20%0A%0A%20%20%20%20%20%20%20%20marker_238af5daf85f4092a91b327ce306f984.bindPopup%28popup_03952b00da6a4c4e938c6f1eac91f1a2%29%0A%20%20%20%20%20%20%20%20%3B%0A%0A%20%20%20%20%20%20%20%20%0A%20%20%20%20%0A%20%20%20%20%0A%20%20%20%20%20%20%20%20%20%20%20%20var%20marker_7fc0ec6573ef486995be2ee374f507b2%20%3D%20L.marker%28%0A%20%20%20%20%20%20%20%20%20%20%20%20%20%20%20%20%5B-1.3091267%2C%2036.9014879%5D%2C%0A%20%20%20%20%20%20%20%20%20%20%20%20%20%20%20%20%7B%7D%0A%20%20%20%20%20%20%20%20%20%20%20%20%29.addTo%28map_9536b186a26f4cc3aca0740ad35a0f72%29%3B%0A%20%20%20%20%20%20%20%20%0A%20%20%20%20%0A%20%20%20%20%20%20%20%20var%20popup_cfa96053e5544f9a8f6a6fdada6572a1%20%3D%20L.popup%28%7B%22maxWidth%22%3A%20%22100%25%22%7D%29%3B%0A%0A%20%20%20%20%20%20%20%20%0A%20%20%20%20%20%20%20%20%20%20%20%20var%20html_33fd2f26beca470987d5aa339ee13351%20%3D%20%24%28%60%3Cdiv%20id%3D%22html_33fd2f26beca470987d5aa339ee13351%22%20style%3D%22width%3A%20100.0%25%3B%20height%3A%20100.0%25%3B%22%3EMother%20Teresa%20shop%3C/div%3E%60%29%5B0%5D%3B%0A%20%20%20%20%20%20%20%20%20%20%20%20popup_cfa96053e5544f9a8f6a6fdada6572a1.setContent%28html_33fd2f26beca470987d5aa339ee13351%29%3B%0A%20%20%20%20%20%20%20%20%0A%0A%20%20%20%20%20%20%20%20marker_7fc0ec6573ef486995be2ee374f507b2.bindPopup%28popup_cfa96053e5544f9a8f6a6fdada6572a1%29%0A%20%20%20%20%20%20%20%20%3B%0A%0A%20%20%20%20%20%20%20%20%0A%20%20%20%20%0A%20%20%20%20%0A%20%20%20%20%20%20%20%20%20%20%20%20var%20marker_ed5d4637ee12433b86df3664c05d16e5%20%3D%20L.marker%28%0A%20%20%20%20%20%20%20%20%20%20%20%20%20%20%20%20%5B-1.3089766%2C%2036.9013799%5D%2C%0A%20%20%20%20%20%20%20%20%20%20%20%20%20%20%20%20%7B%7D%0A%20%20%20%20%20%20%20%20%20%20%20%20%29.addTo%28map_9536b186a26f4cc3aca0740ad35a0f72%29%3B%0A%20%20%20%20%20%20%20%20%0A%20%20%20%20%0A%20%20%20%20%20%20%20%20var%20popup_734aaf9bb42248bd919d749342a1be69%20%3D%20L.popup%28%7B%22maxWidth%22%3A%20%22100%25%22%7D%29%3B%0A%0A%20%20%20%20%20%20%20%20%0A%20%20%20%20%20%20%20%20%20%20%20%20var%20html_9c99a2cba3234c6ca123638e1f5bc390%20%3D%20%24%28%60%3Cdiv%20id%3D%22html_9c99a2cba3234c6ca123638e1f5bc390%22%20style%3D%22width%3A%20100.0%25%3B%20height%3A%20100.0%25%3B%22%3ESilver%20springs%20shop%3C/div%3E%60%29%5B0%5D%3B%0A%20%20%20%20%20%20%20%20%20%20%20%20popup_734aaf9bb42248bd919d749342a1be69.setContent%28html_9c99a2cba3234c6ca123638e1f5bc390%29%3B%0A%20%20%20%20%20%20%20%20%0A%0A%20%20%20%20%20%20%20%20marker_ed5d4637ee12433b86df3664c05d16e5.bindPopup%28popup_734aaf9bb42248bd919d749342a1be69%29%0A%20%20%20%20%20%20%20%20%3B%0A%0A%20%20%20%20%20%20%20%20%0A%20%20%20%20%0A%20%20%20%20%0A%20%20%20%20%20%20%20%20%20%20%20%20var%20marker_3285ce0a8ee646398b57708e6a0e2b1e%20%3D%20L.marker%28%0A%20%20%20%20%20%20%20%20%20%20%20%20%20%20%20%20%5B-1.3085132%2C%2036.9011481%5D%2C%0A%20%20%20%20%20%20%20%20%20%20%20%20%20%20%20%20%7B%7D%0A%20%20%20%20%20%20%20%20%20%20%20%20%29.addTo%28map_9536b186a26f4cc3aca0740ad35a0f72%29%3B%0A%20%20%20%20%20%20%20%20%0A%20%20%20%20%0A%20%20%20%20%20%20%20%20var%20popup_e9732d9704064fe2a51edf86396be7f5%20%3D%20L.popup%28%7B%22maxWidth%22%3A%20%22100%25%22%7D%29%3B%0A%0A%20%20%20%20%20%20%20%20%0A%20%20%20%20%20%20%20%20%20%20%20%20var%20html_4c6587e700d3498c9debc089d0432a4c%20%3D%20%24%28%60%3Cdiv%20id%3D%22html_4c6587e700d3498c9debc089d0432a4c%22%20style%3D%22width%3A%20100.0%25%3B%20height%3A%20100.0%25%3B%22%3EGerols%20pishori%20shop%3C/div%3E%60%29%5B0%5D%3B%0A%20%20%20%20%20%20%20%20%20%20%20%20popup_e9732d9704064fe2a51edf86396be7f5.setContent%28html_4c6587e700d3498c9debc089d0432a4c%29%3B%0A%20%20%20%20%20%20%20%20%0A%0A%20%20%20%20%20%20%20%20marker_3285ce0a8ee646398b57708e6a0e2b1e.bindPopup%28popup_e9732d9704064fe2a51edf86396be7f5%29%0A%20%20%20%20%20%20%20%20%3B%0A%0A%20%20%20%20%20%20%20%20%0A%20%20%20%20%0A%20%20%20%20%0A%20%20%20%20%20%20%20%20%20%20%20%20var%20marker_3271677b07b5458990a0481a04a10d22%20%3D%20L.marker%28%0A%20%20%20%20%20%20%20%20%20%20%20%20%20%20%20%20%5B-1.3087415%2C%2036.9010955%5D%2C%0A%20%20%20%20%20%20%20%20%20%20%20%20%20%20%20%20%7B%7D%0A%20%20%20%20%20%20%20%20%20%20%20%20%29.addTo%28map_9536b186a26f4cc3aca0740ad35a0f72%29%3B%0A%20%20%20%20%20%20%20%20%0A%20%20%20%20%0A%20%20%20%20%20%20%20%20var%20popup_9cbc68f68f2c40a489f2d648a3c684eb%20%3D%20L.popup%28%7B%22maxWidth%22%3A%20%22100%25%22%7D%29%3B%0A%0A%20%20%20%20%20%20%20%20%0A%20%20%20%20%20%20%20%20%20%20%20%20var%20html_e518c71d99604b41923563811aa698f3%20%3D%20%24%28%60%3Cdiv%20id%3D%22html_e518c71d99604b41923563811aa698f3%22%20style%3D%22width%3A%20100.0%25%3B%20height%3A%20100.0%25%3B%22%3EEdny%20shop%3C/div%3E%60%29%5B0%5D%3B%0A%20%20%20%20%20%20%20%20%20%20%20%20popup_9cbc68f68f2c40a489f2d648a3c684eb.setContent%28html_e518c71d99604b41923563811aa698f3%29%3B%0A%20%20%20%20%20%20%20%20%0A%0A%20%20%20%20%20%20%20%20marker_3271677b07b5458990a0481a04a10d22.bindPopup%28popup_9cbc68f68f2c40a489f2d648a3c684eb%29%0A%20%20%20%20%20%20%20%20%3B%0A%0A%20%20%20%20%20%20%20%20%0A%20%20%20%20%0A%20%20%20%20%0A%20%20%20%20%20%20%20%20%20%20%20%20var%20marker_17806df5eacd47329e1a6ffea89fc846%20%3D%20L.marker%28%0A%20%20%20%20%20%20%20%20%20%20%20%20%20%20%20%20%5B-1.3060883%2C%2036.9000698%5D%2C%0A%20%20%20%20%20%20%20%20%20%20%20%20%20%20%20%20%7B%7D%0A%20%20%20%20%20%20%20%20%20%20%20%20%29.addTo%28map_9536b186a26f4cc3aca0740ad35a0f72%29%3B%0A%20%20%20%20%20%20%20%20%0A%20%20%20%20%0A%20%20%20%20%20%20%20%20var%20popup_5494d292e02c48efb80f18b58999e595%20%3D%20L.popup%28%7B%22maxWidth%22%3A%20%22100%25%22%7D%29%3B%0A%0A%20%20%20%20%20%20%20%20%0A%20%20%20%20%20%20%20%20%20%20%20%20var%20html_7f2388f304624d968d01e8831296c33e%20%3D%20%24%28%60%3Cdiv%20id%3D%22html_7f2388f304624d968d01e8831296c33e%22%20style%3D%22width%3A%20100.0%25%3B%20height%3A%20100.0%25%3B%22%3Ewa%20ndaya%20shop%3C/div%3E%60%29%5B0%5D%3B%0A%20%20%20%20%20%20%20%20%20%20%20%20popup_5494d292e02c48efb80f18b58999e595.setContent%28html_7f2388f304624d968d01e8831296c33e%29%3B%0A%20%20%20%20%20%20%20%20%0A%0A%20%20%20%20%20%20%20%20marker_17806df5eacd47329e1a6ffea89fc846.bindPopup%28popup_5494d292e02c48efb80f18b58999e595%29%0A%20%20%20%20%20%20%20%20%3B%0A%0A%20%20%20%20%20%20%20%20%0A%20%20%20%20%0A%20%20%20%20%0A%20%20%20%20%20%20%20%20%20%20%20%20var%20marker_c1bfd30e84244a3fbaf7de0429438729%20%3D%20L.marker%28%0A%20%20%20%20%20%20%20%20%20%20%20%20%20%20%20%20%5B-1.3057084%2C%2036.9017257%5D%2C%0A%20%20%20%20%20%20%20%20%20%20%20%20%20%20%20%20%7B%7D%0A%20%20%20%20%20%20%20%20%20%20%20%20%29.addTo%28map_9536b186a26f4cc3aca0740ad35a0f72%29%3B%0A%20%20%20%20%20%20%20%20%0A%20%20%20%20%0A%20%20%20%20%20%20%20%20var%20popup_3fac233891f1412f910c18fd88d76664%20%3D%20L.popup%28%7B%22maxWidth%22%3A%20%22100%25%22%7D%29%3B%0A%0A%20%20%20%20%20%20%20%20%0A%20%20%20%20%20%20%20%20%20%20%20%20var%20html_183c8045748543cc89b813dab8cc9061%20%3D%20%24%28%60%3Cdiv%20id%3D%22html_183c8045748543cc89b813dab8cc9061%22%20style%3D%22width%3A%20100.0%25%3B%20height%3A%20100.0%25%3B%22%3Ejimmaur%20gen%20shop%3C/div%3E%60%29%5B0%5D%3B%0A%20%20%20%20%20%20%20%20%20%20%20%20popup_3fac233891f1412f910c18fd88d76664.setContent%28html_183c8045748543cc89b813dab8cc9061%29%3B%0A%20%20%20%20%20%20%20%20%0A%0A%20%20%20%20%20%20%20%20marker_c1bfd30e84244a3fbaf7de0429438729.bindPopup%28popup_3fac233891f1412f910c18fd88d76664%29%0A%20%20%20%20%20%20%20%20%3B%0A%0A%20%20%20%20%20%20%20%20%0A%20%20%20%20%0A%20%20%20%20%0A%20%20%20%20%20%20%20%20%20%20%20%20var%20marker_9b983179c46f436da0714bde2999ebfc%20%3D%20L.marker%28%0A%20%20%20%20%20%20%20%20%20%20%20%20%20%20%20%20%5B-1.3071408%2C%2036.8993139%5D%2C%0A%20%20%20%20%20%20%20%20%20%20%20%20%20%20%20%20%7B%7D%0A%20%20%20%20%20%20%20%20%20%20%20%20%29.addTo%28map_9536b186a26f4cc3aca0740ad35a0f72%29%3B%0A%20%20%20%20%20%20%20%20%0A%20%20%20%20%0A%20%20%20%20%20%20%20%20var%20popup_52ea21380de44cab89b9f53f12a19112%20%3D%20L.popup%28%7B%22maxWidth%22%3A%20%22100%25%22%7D%29%3B%0A%0A%20%20%20%20%20%20%20%20%0A%20%20%20%20%20%20%20%20%20%20%20%20var%20html_ad2dfc0700f1443bb5653e740f52f7b6%20%3D%20%24%28%60%3Cdiv%20id%3D%22html_ad2dfc0700f1443bb5653e740f52f7b6%22%20style%3D%22width%3A%20100.0%25%3B%20height%3A%20100.0%25%3B%22%3Evision%20shop%3C/div%3E%60%29%5B0%5D%3B%0A%20%20%20%20%20%20%20%20%20%20%20%20popup_52ea21380de44cab89b9f53f12a19112.setContent%28html_ad2dfc0700f1443bb5653e740f52f7b6%29%3B%0A%20%20%20%20%20%20%20%20%0A%0A%20%20%20%20%20%20%20%20marker_9b983179c46f436da0714bde2999ebfc.bindPopup%28popup_52ea21380de44cab89b9f53f12a19112%29%0A%20%20%20%20%20%20%20%20%3B%0A%0A%20%20%20%20%20%20%20%20%0A%20%20%20%20%0A%20%20%20%20%0A%20%20%20%20%20%20%20%20%20%20%20%20var%20marker_958a635f6873429da0991fc9c54db5f8%20%3D%20L.marker%28%0A%20%20%20%20%20%20%20%20%20%20%20%20%20%20%20%20%5B-1.3075142%2C%2036.8993269%5D%2C%0A%20%20%20%20%20%20%20%20%20%20%20%20%20%20%20%20%7B%7D%0A%20%20%20%20%20%20%20%20%20%20%20%20%29.addTo%28map_9536b186a26f4cc3aca0740ad35a0f72%29%3B%0A%20%20%20%20%20%20%20%20%0A%20%20%20%20%0A%20%20%20%20%20%20%20%20var%20popup_571dd319c08f4f64926f595017fa9b00%20%3D%20L.popup%28%7B%22maxWidth%22%3A%20%22100%25%22%7D%29%3B%0A%0A%20%20%20%20%20%20%20%20%0A%20%20%20%20%20%20%20%20%20%20%20%20var%20html_c02d5d1563734f89a6b320080a645884%20%3D%20%24%28%60%3Cdiv%20id%3D%22html_c02d5d1563734f89a6b320080a645884%22%20style%3D%22width%3A%20100.0%25%3B%20height%3A%20100.0%25%3B%22%3Echepe%20chepe%20mini%20mart%3C/div%3E%60%29%5B0%5D%3B%0A%20%20%20%20%20%20%20%20%20%20%20%20popup_571dd319c08f4f64926f595017fa9b00.setContent%28html_c02d5d1563734f89a6b320080a645884%29%3B%0A%20%20%20%20%20%20%20%20%0A%0A%20%20%20%20%20%20%20%20marker_958a635f6873429da0991fc9c54db5f8.bindPopup%28popup_571dd319c08f4f64926f595017fa9b00%29%0A%20%20%20%20%20%20%20%20%3B%0A%0A%20%20%20%20%20%20%20%20%0A%20%20%20%20%0A%20%20%20%20%0A%20%20%20%20%20%20%20%20%20%20%20%20var%20marker_d34a5ed46f494bad8cbd049da9bd2904%20%3D%20L.marker%28%0A%20%20%20%20%20%20%20%20%20%20%20%20%20%20%20%20%5B-1.3087579%2C%2036.8973957%5D%2C%0A%20%20%20%20%20%20%20%20%20%20%20%20%20%20%20%20%7B%7D%0A%20%20%20%20%20%20%20%20%20%20%20%20%29.addTo%28map_9536b186a26f4cc3aca0740ad35a0f72%29%3B%0A%20%20%20%20%20%20%20%20%0A%20%20%20%20%0A%20%20%20%20%20%20%20%20var%20popup_bf32d2cd60474c9d8138b831472ee0e0%20%3D%20L.popup%28%7B%22maxWidth%22%3A%20%22100%25%22%7D%29%3B%0A%0A%20%20%20%20%20%20%20%20%0A%20%20%20%20%20%20%20%20%20%20%20%20var%20html_1b44340f2bc243c4be670d1a27f080cb%20%3D%20%24%28%60%3Cdiv%20id%3D%22html_1b44340f2bc243c4be670d1a27f080cb%22%20style%3D%22width%3A%20100.0%25%3B%20height%3A%20100.0%25%3B%22%3Ewambua%20mtaani%3C/div%3E%60%29%5B0%5D%3B%0A%20%20%20%20%20%20%20%20%20%20%20%20popup_bf32d2cd60474c9d8138b831472ee0e0.setContent%28html_1b44340f2bc243c4be670d1a27f080cb%29%3B%0A%20%20%20%20%20%20%20%20%0A%0A%20%20%20%20%20%20%20%20marker_d34a5ed46f494bad8cbd049da9bd2904.bindPopup%28popup_bf32d2cd60474c9d8138b831472ee0e0%29%0A%20%20%20%20%20%20%20%20%3B%0A%0A%20%20%20%20%20%20%20%20%0A%20%20%20%20%0A%20%20%20%20%0A%20%20%20%20%20%20%20%20%20%20%20%20var%20marker_cfc05ccdcb12491187f2ae503f364792%20%3D%20L.marker%28%0A%20%20%20%20%20%20%20%20%20%20%20%20%20%20%20%20%5B-1.3109282%2C%2036.8966185%5D%2C%0A%20%20%20%20%20%20%20%20%20%20%20%20%20%20%20%20%7B%7D%0A%20%20%20%20%20%20%20%20%20%20%20%20%29.addTo%28map_9536b186a26f4cc3aca0740ad35a0f72%29%3B%0A%20%20%20%20%20%20%20%20%0A%20%20%20%20%0A%20%20%20%20%20%20%20%20var%20popup_465499a1b0504a8b8e9570403805206b%20%3D%20L.popup%28%7B%22maxWidth%22%3A%20%22100%25%22%7D%29%3B%0A%0A%20%20%20%20%20%20%20%20%0A%20%20%20%20%20%20%20%20%20%20%20%20var%20html_d25287bae12242f3b57a4e7d8b7c1318%20%3D%20%24%28%60%3Cdiv%20id%3D%22html_d25287bae12242f3b57a4e7d8b7c1318%22%20style%3D%22width%3A%20100.0%25%3B%20height%3A%20100.0%25%3B%22%3Ethe%20badari%20shop%3C/div%3E%60%29%5B0%5D%3B%0A%20%20%20%20%20%20%20%20%20%20%20%20popup_465499a1b0504a8b8e9570403805206b.setContent%28html_d25287bae12242f3b57a4e7d8b7c1318%29%3B%0A%20%20%20%20%20%20%20%20%0A%0A%20%20%20%20%20%20%20%20marker_cfc05ccdcb12491187f2ae503f364792.bindPopup%28popup_465499a1b0504a8b8e9570403805206b%29%0A%20%20%20%20%20%20%20%20%3B%0A%0A%20%20%20%20%20%20%20%20%0A%20%20%20%20%0A%20%20%20%20%0A%20%20%20%20%20%20%20%20%20%20%20%20var%20marker_5fbc4bda30b34870a00687e7c07d4b4e%20%3D%20L.marker%28%0A%20%20%20%20%20%20%20%20%20%20%20%20%20%20%20%20%5B-1.3115725%2C%2036.8963201%5D%2C%0A%20%20%20%20%20%20%20%20%20%20%20%20%20%20%20%20%7B%7D%0A%20%20%20%20%20%20%20%20%20%20%20%20%29.addTo%28map_9536b186a26f4cc3aca0740ad35a0f72%29%3B%0A%20%20%20%20%20%20%20%20%0A%20%20%20%20%0A%20%20%20%20%20%20%20%20var%20popup_423a8184ce994bbb81865606d50b4e71%20%3D%20L.popup%28%7B%22maxWidth%22%3A%20%22100%25%22%7D%29%3B%0A%0A%20%20%20%20%20%20%20%20%0A%20%20%20%20%20%20%20%20%20%20%20%20var%20html_40ab5decc731470f8a97aead692e4a98%20%3D%20%24%28%60%3Cdiv%20id%3D%22html_40ab5decc731470f8a97aead692e4a98%22%20style%3D%22width%3A%20100.0%25%3B%20height%3A%20100.0%25%3B%22%3Esuper%20matt%3C/div%3E%60%29%5B0%5D%3B%0A%20%20%20%20%20%20%20%20%20%20%20%20popup_423a8184ce994bbb81865606d50b4e71.setContent%28html_40ab5decc731470f8a97aead692e4a98%29%3B%0A%20%20%20%20%20%20%20%20%0A%0A%20%20%20%20%20%20%20%20marker_5fbc4bda30b34870a00687e7c07d4b4e.bindPopup%28popup_423a8184ce994bbb81865606d50b4e71%29%0A%20%20%20%20%20%20%20%20%3B%0A%0A%20%20%20%20%20%20%20%20%0A%20%20%20%20%0A%20%20%20%20%0A%20%20%20%20%20%20%20%20%20%20%20%20var%20marker_046771f6fe074525854a1a422b44231e%20%3D%20L.marker%28%0A%20%20%20%20%20%20%20%20%20%20%20%20%20%20%20%20%5B-1.3099572%2C%2036.8930728%5D%2C%0A%20%20%20%20%20%20%20%20%20%20%20%20%20%20%20%20%7B%7D%0A%20%20%20%20%20%20%20%20%20%20%20%20%29.addTo%28map_9536b186a26f4cc3aca0740ad35a0f72%29%3B%0A%20%20%20%20%20%20%20%20%0A%20%20%20%20%0A%20%20%20%20%20%20%20%20var%20popup_aac8e6bb56f84a7da87b140a1bad8e3c%20%3D%20L.popup%28%7B%22maxWidth%22%3A%20%22100%25%22%7D%29%3B%0A%0A%20%20%20%20%20%20%20%20%0A%20%20%20%20%20%20%20%20%20%20%20%20var%20html_943d9ec3d8a94d8d83864fc83d8d712a%20%3D%20%24%28%60%3Cdiv%20id%3D%22html_943d9ec3d8a94d8d83864fc83d8d712a%22%20style%3D%22width%3A%20100.0%25%3B%20height%3A%20100.0%25%3B%22%3Emama%20Mike%20gen%20shop%3C/div%3E%60%29%5B0%5D%3B%0A%20%20%20%20%20%20%20%20%20%20%20%20popup_aac8e6bb56f84a7da87b140a1bad8e3c.setContent%28html_943d9ec3d8a94d8d83864fc83d8d712a%29%3B%0A%20%20%20%20%20%20%20%20%0A%0A%20%20%20%20%20%20%20%20marker_046771f6fe074525854a1a422b44231e.bindPopup%28popup_aac8e6bb56f84a7da87b140a1bad8e3c%29%0A%20%20%20%20%20%20%20%20%3B%0A%0A%20%20%20%20%20%20%20%20%0A%20%20%20%20%0A%20%20%20%20%0A%20%20%20%20%20%20%20%20%20%20%20%20var%20marker_365b0e94f9464802bc2278698024c593%20%3D%20L.marker%28%0A%20%20%20%20%20%20%20%20%20%20%20%20%20%20%20%20%5B-1.3092098%2C%2036.8931677%5D%2C%0A%20%20%20%20%20%20%20%20%20%20%20%20%20%20%20%20%7B%7D%0A%20%20%20%20%20%20%20%20%20%20%20%20%29.addTo%28map_9536b186a26f4cc3aca0740ad35a0f72%29%3B%0A%20%20%20%20%20%20%20%20%0A%20%20%20%20%0A%20%20%20%20%20%20%20%20var%20popup_7157383d8af34470ba2b73f74f94fb5c%20%3D%20L.popup%28%7B%22maxWidth%22%3A%20%22100%25%22%7D%29%3B%0A%0A%20%20%20%20%20%20%20%20%0A%20%20%20%20%20%20%20%20%20%20%20%20var%20html_4ded1c78507149af9eb21c51fd3fa225%20%3D%20%24%28%60%3Cdiv%20id%3D%22html_4ded1c78507149af9eb21c51fd3fa225%22%20style%3D%22width%3A%20100.0%25%3B%20height%3A%20100.0%25%3B%22%3Ekangeta%20gen%20shop%3C/div%3E%60%29%5B0%5D%3B%0A%20%20%20%20%20%20%20%20%20%20%20%20popup_7157383d8af34470ba2b73f74f94fb5c.setContent%28html_4ded1c78507149af9eb21c51fd3fa225%29%3B%0A%20%20%20%20%20%20%20%20%0A%0A%20%20%20%20%20%20%20%20marker_365b0e94f9464802bc2278698024c593.bindPopup%28popup_7157383d8af34470ba2b73f74f94fb5c%29%0A%20%20%20%20%20%20%20%20%3B%0A%0A%20%20%20%20%20%20%20%20%0A%20%20%20%20%0A%20%20%20%20%0A%20%20%20%20%20%20%20%20%20%20%20%20var%20marker_c99e4f797b5c4ce0bd46b399359a383b%20%3D%20L.marker%28%0A%20%20%20%20%20%20%20%20%20%20%20%20%20%20%20%20%5B-1.3081231%2C%2036.8932864%5D%2C%0A%20%20%20%20%20%20%20%20%20%20%20%20%20%20%20%20%7B%7D%0A%20%20%20%20%20%20%20%20%20%20%20%20%29.addTo%28map_9536b186a26f4cc3aca0740ad35a0f72%29%3B%0A%20%20%20%20%20%20%20%20%0A%20%20%20%20%0A%20%20%20%20%20%20%20%20var%20popup_0813d9daab954b998a714367ded86a02%20%3D%20L.popup%28%7B%22maxWidth%22%3A%20%22100%25%22%7D%29%3B%0A%0A%20%20%20%20%20%20%20%20%0A%20%20%20%20%20%20%20%20%20%20%20%20var%20html_ec9877a52ff64f2795f9eb5cb08feaca%20%3D%20%24%28%60%3Cdiv%20id%3D%22html_ec9877a52ff64f2795f9eb5cb08feaca%22%20style%3D%22width%3A%20100.0%25%3B%20height%3A%20100.0%25%3B%22%3Emasinga%20shop%3C/div%3E%60%29%5B0%5D%3B%0A%20%20%20%20%20%20%20%20%20%20%20%20popup_0813d9daab954b998a714367ded86a02.setContent%28html_ec9877a52ff64f2795f9eb5cb08feaca%29%3B%0A%20%20%20%20%20%20%20%20%0A%0A%20%20%20%20%20%20%20%20marker_c99e4f797b5c4ce0bd46b399359a383b.bindPopup%28popup_0813d9daab954b998a714367ded86a02%29%0A%20%20%20%20%20%20%20%20%3B%0A%0A%20%20%20%20%20%20%20%20%0A%20%20%20%20%0A%20%20%20%20%0A%20%20%20%20%20%20%20%20%20%20%20%20var%20marker_b6fd2768bb47456e985828e9340c6f7c%20%3D%20L.marker%28%0A%20%20%20%20%20%20%20%20%20%20%20%20%20%20%20%20%5B-1.3084893%2C%2036.8915058%5D%2C%0A%20%20%20%20%20%20%20%20%20%20%20%20%20%20%20%20%7B%7D%0A%20%20%20%20%20%20%20%20%20%20%20%20%29.addTo%28map_9536b186a26f4cc3aca0740ad35a0f72%29%3B%0A%20%20%20%20%20%20%20%20%0A%20%20%20%20%0A%20%20%20%20%20%20%20%20var%20popup_9ec8e3aea4764754815b844bbc19e7c9%20%3D%20L.popup%28%7B%22maxWidth%22%3A%20%22100%25%22%7D%29%3B%0A%0A%20%20%20%20%20%20%20%20%0A%20%20%20%20%20%20%20%20%20%20%20%20var%20html_24133b56b2c6414c826a30440bef6036%20%3D%20%24%28%60%3Cdiv%20id%3D%22html_24133b56b2c6414c826a30440bef6036%22%20style%3D%22width%3A%20100.0%25%3B%20height%3A%20100.0%25%3B%22%3Etop%20grain%20shop%3C/div%3E%60%29%5B0%5D%3B%0A%20%20%20%20%20%20%20%20%20%20%20%20popup_9ec8e3aea4764754815b844bbc19e7c9.setContent%28html_24133b56b2c6414c826a30440bef6036%29%3B%0A%20%20%20%20%20%20%20%20%0A%0A%20%20%20%20%20%20%20%20marker_b6fd2768bb47456e985828e9340c6f7c.bindPopup%28popup_9ec8e3aea4764754815b844bbc19e7c9%29%0A%20%20%20%20%20%20%20%20%3B%0A%0A%20%20%20%20%20%20%20%20%0A%20%20%20%20%0A%20%20%20%20%0A%20%20%20%20%20%20%20%20%20%20%20%20var%20marker_6be13f8a8fc7489b9673895ca203c9e6%20%3D%20L.marker%28%0A%20%20%20%20%20%20%20%20%20%20%20%20%20%20%20%20%5B-1.3086514%2C%2036.8910091%5D%2C%0A%20%20%20%20%20%20%20%20%20%20%20%20%20%20%20%20%7B%7D%0A%20%20%20%20%20%20%20%20%20%20%20%20%29.addTo%28map_9536b186a26f4cc3aca0740ad35a0f72%29%3B%0A%20%20%20%20%20%20%20%20%0A%20%20%20%20%0A%20%20%20%20%20%20%20%20var%20popup_0e7c167915354bff9ca8657fe7a0d6a6%20%3D%20L.popup%28%7B%22maxWidth%22%3A%20%22100%25%22%7D%29%3B%0A%0A%20%20%20%20%20%20%20%20%0A%20%20%20%20%20%20%20%20%20%20%20%20var%20html_832fbe5789784a8da702e00152b69e93%20%3D%20%24%28%60%3Cdiv%20id%3D%22html_832fbe5789784a8da702e00152b69e93%22%20style%3D%22width%3A%20100.0%25%3B%20height%3A%20100.0%25%3B%22%3Emama%20faith%3C/div%3E%60%29%5B0%5D%3B%0A%20%20%20%20%20%20%20%20%20%20%20%20popup_0e7c167915354bff9ca8657fe7a0d6a6.setContent%28html_832fbe5789784a8da702e00152b69e93%29%3B%0A%20%20%20%20%20%20%20%20%0A%0A%20%20%20%20%20%20%20%20marker_6be13f8a8fc7489b9673895ca203c9e6.bindPopup%28popup_0e7c167915354bff9ca8657fe7a0d6a6%29%0A%20%20%20%20%20%20%20%20%3B%0A%0A%20%20%20%20%20%20%20%20%0A%20%20%20%20%0A%20%20%20%20%0A%20%20%20%20%20%20%20%20%20%20%20%20var%20marker_6586d25ffc8c42fc88670c1b3429cf5b%20%3D%20L.marker%28%0A%20%20%20%20%20%20%20%20%20%20%20%20%20%20%20%20%5B-1.309251%2C%2036.8915973%5D%2C%0A%20%20%20%20%20%20%20%20%20%20%20%20%20%20%20%20%7B%7D%0A%20%20%20%20%20%20%20%20%20%20%20%20%29.addTo%28map_9536b186a26f4cc3aca0740ad35a0f72%29%3B%0A%20%20%20%20%20%20%20%20%0A%20%20%20%20%0A%20%20%20%20%20%20%20%20var%20popup_df42511083404007926810a17ad8f8f2%20%3D%20L.popup%28%7B%22maxWidth%22%3A%20%22100%25%22%7D%29%3B%0A%0A%20%20%20%20%20%20%20%20%0A%20%20%20%20%20%20%20%20%20%20%20%20var%20html_da485501f8d84c5fa367e62bca8257d0%20%3D%20%24%28%60%3Cdiv%20id%3D%22html_da485501f8d84c5fa367e62bca8257d0%22%20style%3D%22width%3A%20100.0%25%3B%20height%3A%20100.0%25%3B%22%3Epappilon%20shop%3C/div%3E%60%29%5B0%5D%3B%0A%20%20%20%20%20%20%20%20%20%20%20%20popup_df42511083404007926810a17ad8f8f2.setContent%28html_da485501f8d84c5fa367e62bca8257d0%29%3B%0A%20%20%20%20%20%20%20%20%0A%0A%20%20%20%20%20%20%20%20marker_6586d25ffc8c42fc88670c1b3429cf5b.bindPopup%28popup_df42511083404007926810a17ad8f8f2%29%0A%20%20%20%20%20%20%20%20%3B%0A%0A%20%20%20%20%20%20%20%20%0A%20%20%20%20%0A%20%20%20%20%0A%20%20%20%20%20%20%20%20%20%20%20%20var%20marker_f8a0fd50d0224a4e8a8c064fe0d537c6%20%3D%20L.marker%28%0A%20%20%20%20%20%20%20%20%20%20%20%20%20%20%20%20%5B-1.309251%2C%2036.8915973%5D%2C%0A%20%20%20%20%20%20%20%20%20%20%20%20%20%20%20%20%7B%7D%0A%20%20%20%20%20%20%20%20%20%20%20%20%29.addTo%28map_9536b186a26f4cc3aca0740ad35a0f72%29%3B%0A%20%20%20%20%20%20%20%20%0A%20%20%20%20%0A%20%20%20%20%20%20%20%20var%20popup_3a8d465f71e8418db956c37da430a0f5%20%3D%20L.popup%28%7B%22maxWidth%22%3A%20%22100%25%22%7D%29%3B%0A%0A%20%20%20%20%20%20%20%20%0A%20%20%20%20%20%20%20%20%20%20%20%20var%20html_64cbd6d2f310417490966b630e08f5c4%20%3D%20%24%28%60%3Cdiv%20id%3D%22html_64cbd6d2f310417490966b630e08f5c4%22%20style%3D%22width%3A%20100.0%25%3B%20height%3A%20100.0%25%3B%22%3Evary%20enterprises%3C/div%3E%60%29%5B0%5D%3B%0A%20%20%20%20%20%20%20%20%20%20%20%20popup_3a8d465f71e8418db956c37da430a0f5.setContent%28html_64cbd6d2f310417490966b630e08f5c4%29%3B%0A%20%20%20%20%20%20%20%20%0A%0A%20%20%20%20%20%20%20%20marker_f8a0fd50d0224a4e8a8c064fe0d537c6.bindPopup%28popup_3a8d465f71e8418db956c37da430a0f5%29%0A%20%20%20%20%20%20%20%20%3B%0A%0A%20%20%20%20%20%20%20%20%0A%20%20%20%20%0A%20%20%20%20%0A%20%20%20%20%20%20%20%20%20%20%20%20var%20marker_07eb813dbe29413d8ec19d36857ac1c0%20%3D%20L.marker%28%0A%20%20%20%20%20%20%20%20%20%20%20%20%20%20%20%20%5B-1.3122936%2C%2036.893125%5D%2C%0A%20%20%20%20%20%20%20%20%20%20%20%20%20%20%20%20%7B%7D%0A%20%20%20%20%20%20%20%20%20%20%20%20%29.addTo%28map_9536b186a26f4cc3aca0740ad35a0f72%29%3B%0A%20%20%20%20%20%20%20%20%0A%20%20%20%20%0A%20%20%20%20%20%20%20%20var%20popup_c66fe742ac364397ab65ec90ff5d80ef%20%3D%20L.popup%28%7B%22maxWidth%22%3A%20%22100%25%22%7D%29%3B%0A%0A%20%20%20%20%20%20%20%20%0A%20%20%20%20%20%20%20%20%20%20%20%20var%20html_a7ef23fcf5cc4969bc23ae94bed06de5%20%3D%20%24%28%60%3Cdiv%20id%3D%22html_a7ef23fcf5cc4969bc23ae94bed06de5%22%20style%3D%22width%3A%20100.0%25%3B%20height%3A%20100.0%25%3B%22%3Eharakish%20shop%3C/div%3E%60%29%5B0%5D%3B%0A%20%20%20%20%20%20%20%20%20%20%20%20popup_c66fe742ac364397ab65ec90ff5d80ef.setContent%28html_a7ef23fcf5cc4969bc23ae94bed06de5%29%3B%0A%20%20%20%20%20%20%20%20%0A%0A%20%20%20%20%20%20%20%20marker_07eb813dbe29413d8ec19d36857ac1c0.bindPopup%28popup_c66fe742ac364397ab65ec90ff5d80ef%29%0A%20%20%20%20%20%20%20%20%3B%0A%0A%20%20%20%20%20%20%20%20%0A%20%20%20%20%0A%20%20%20%20%0A%20%20%20%20%20%20%20%20%20%20%20%20var%20marker_d0e390b14b38470d8fdf193b5214d1e5%20%3D%20L.marker%28%0A%20%20%20%20%20%20%20%20%20%20%20%20%20%20%20%20%5B-1.3079078%2C%2036.8960602%5D%2C%0A%20%20%20%20%20%20%20%20%20%20%20%20%20%20%20%20%7B%7D%0A%20%20%20%20%20%20%20%20%20%20%20%20%29.addTo%28map_9536b186a26f4cc3aca0740ad35a0f72%29%3B%0A%20%20%20%20%20%20%20%20%0A%20%20%20%20%0A%20%20%20%20%20%20%20%20var%20popup_33cb0bd6d0484494b915a69dde381729%20%3D%20L.popup%28%7B%22maxWidth%22%3A%20%22100%25%22%7D%29%3B%0A%0A%20%20%20%20%20%20%20%20%0A%20%20%20%20%20%20%20%20%20%20%20%20var%20html_d53aeee70df2435aa2339cb634f5ff0c%20%3D%20%24%28%60%3Cdiv%20id%3D%22html_d53aeee70df2435aa2339cb634f5ff0c%22%20style%3D%22width%3A%20100.0%25%3B%20height%3A%20100.0%25%3B%22%3EGen%20shop%3C/div%3E%60%29%5B0%5D%3B%0A%20%20%20%20%20%20%20%20%20%20%20%20popup_33cb0bd6d0484494b915a69dde381729.setContent%28html_d53aeee70df2435aa2339cb634f5ff0c%29%3B%0A%20%20%20%20%20%20%20%20%0A%0A%20%20%20%20%20%20%20%20marker_d0e390b14b38470d8fdf193b5214d1e5.bindPopup%28popup_33cb0bd6d0484494b915a69dde381729%29%0A%20%20%20%20%20%20%20%20%3B%0A%0A%20%20%20%20%20%20%20%20%0A%20%20%20%20%0A%20%20%20%20%0A%20%20%20%20%20%20%20%20%20%20%20%20var%20marker_2de3f8871ea54ac5b5499a135c8fa74b%20%3D%20L.marker%28%0A%20%20%20%20%20%20%20%20%20%20%20%20%20%20%20%20%5B-1.3040744%2C%2036.9002861%5D%2C%0A%20%20%20%20%20%20%20%20%20%20%20%20%20%20%20%20%7B%7D%0A%20%20%20%20%20%20%20%20%20%20%20%20%29.addTo%28map_9536b186a26f4cc3aca0740ad35a0f72%29%3B%0A%20%20%20%20%20%20%20%20%0A%20%20%20%20%0A%20%20%20%20%20%20%20%20var%20popup_184c0ea6c806485d90476515ffc14b93%20%3D%20L.popup%28%7B%22maxWidth%22%3A%20%22100%25%22%7D%29%3B%0A%0A%20%20%20%20%20%20%20%20%0A%20%20%20%20%20%20%20%20%20%20%20%20var%20html_f05b522afdc44e19bd7c13384283cedd%20%3D%20%24%28%60%3Cdiv%20id%3D%22html_f05b522afdc44e19bd7c13384283cedd%22%20style%3D%22width%3A%20100.0%25%3B%20height%3A%20100.0%25%3B%22%3Emjomba%20shop%3C/div%3E%60%29%5B0%5D%3B%0A%20%20%20%20%20%20%20%20%20%20%20%20popup_184c0ea6c806485d90476515ffc14b93.setContent%28html_f05b522afdc44e19bd7c13384283cedd%29%3B%0A%20%20%20%20%20%20%20%20%0A%0A%20%20%20%20%20%20%20%20marker_2de3f8871ea54ac5b5499a135c8fa74b.bindPopup%28popup_184c0ea6c806485d90476515ffc14b93%29%0A%20%20%20%20%20%20%20%20%3B%0A%0A%20%20%20%20%20%20%20%20%0A%20%20%20%20%0A%20%20%20%20%0A%20%20%20%20%20%20%20%20%20%20%20%20var%20marker_78b68839733e4640b219f2af6d258b9a%20%3D%20L.marker%28%0A%20%20%20%20%20%20%20%20%20%20%20%20%20%20%20%20%5B-1.3041535%2C%2036.9001211%5D%2C%0A%20%20%20%20%20%20%20%20%20%20%20%20%20%20%20%20%7B%7D%0A%20%20%20%20%20%20%20%20%20%20%20%20%29.addTo%28map_9536b186a26f4cc3aca0740ad35a0f72%29%3B%0A%20%20%20%20%20%20%20%20%0A%20%20%20%20%0A%20%20%20%20%20%20%20%20var%20popup_85d15a6269164ae190aae7d6e5070362%20%3D%20L.popup%28%7B%22maxWidth%22%3A%20%22100%25%22%7D%29%3B%0A%0A%20%20%20%20%20%20%20%20%0A%20%20%20%20%20%20%20%20%20%20%20%20var%20html_5026e29eb4d74e359ae118fe74e0aa29%20%3D%20%24%28%60%3Cdiv%20id%3D%22html_5026e29eb4d74e359ae118fe74e0aa29%22%20style%3D%22width%3A%20100.0%25%3B%20height%3A%20100.0%25%3B%22%3Ecorner%20shop%3C/div%3E%60%29%5B0%5D%3B%0A%20%20%20%20%20%20%20%20%20%20%20%20popup_85d15a6269164ae190aae7d6e5070362.setContent%28html_5026e29eb4d74e359ae118fe74e0aa29%29%3B%0A%20%20%20%20%20%20%20%20%0A%0A%20%20%20%20%20%20%20%20marker_78b68839733e4640b219f2af6d258b9a.bindPopup%28popup_85d15a6269164ae190aae7d6e5070362%29%0A%20%20%20%20%20%20%20%20%3B%0A%0A%20%20%20%20%20%20%20%20%0A%20%20%20%20%0A%20%20%20%20%0A%20%20%20%20%20%20%20%20%20%20%20%20var%20marker_81d1a2000d5d41dfbcb14dfda2d97b78%20%3D%20L.marker%28%0A%20%20%20%20%20%20%20%20%20%20%20%20%20%20%20%20%5B-1.3041164%2C%2036.9001326%5D%2C%0A%20%20%20%20%20%20%20%20%20%20%20%20%20%20%20%20%7B%7D%0A%20%20%20%20%20%20%20%20%20%20%20%20%29.addTo%28map_9536b186a26f4cc3aca0740ad35a0f72%29%3B%0A%20%20%20%20%20%20%20%20%0A%20%20%20%20%0A%20%20%20%20%20%20%20%20var%20popup_82a28f4e166a4d7cba4ced594a835821%20%3D%20L.popup%28%7B%22maxWidth%22%3A%20%22100%25%22%7D%29%3B%0A%0A%20%20%20%20%20%20%20%20%0A%20%20%20%20%20%20%20%20%20%20%20%20var%20html_9d370e5d1e8f4c798221e862de3771e7%20%3D%20%24%28%60%3Cdiv%20id%3D%22html_9d370e5d1e8f4c798221e862de3771e7%22%20style%3D%22width%3A%20100.0%25%3B%20height%3A%20100.0%25%3B%22%3EBetty%20shop%3C/div%3E%60%29%5B0%5D%3B%0A%20%20%20%20%20%20%20%20%20%20%20%20popup_82a28f4e166a4d7cba4ced594a835821.setContent%28html_9d370e5d1e8f4c798221e862de3771e7%29%3B%0A%20%20%20%20%20%20%20%20%0A%0A%20%20%20%20%20%20%20%20marker_81d1a2000d5d41dfbcb14dfda2d97b78.bindPopup%28popup_82a28f4e166a4d7cba4ced594a835821%29%0A%20%20%20%20%20%20%20%20%3B%0A%0A%20%20%20%20%20%20%20%20%0A%20%20%20%20%0A%20%20%20%20%0A%20%20%20%20%20%20%20%20%20%20%20%20var%20marker_faf79c7195d3493280f6cea267051850%20%3D%20L.marker%28%0A%20%20%20%20%20%20%20%20%20%20%20%20%20%20%20%20%5B-1.3075114%2C%2036.899044%5D%2C%0A%20%20%20%20%20%20%20%20%20%20%20%20%20%20%20%20%7B%7D%0A%20%20%20%20%20%20%20%20%20%20%20%20%29.addTo%28map_9536b186a26f4cc3aca0740ad35a0f72%29%3B%0A%20%20%20%20%20%20%20%20%0A%20%20%20%20%0A%20%20%20%20%20%20%20%20var%20popup_49cc6a0a1bb147d1a4662e72c4636582%20%3D%20L.popup%28%7B%22maxWidth%22%3A%20%22100%25%22%7D%29%3B%0A%0A%20%20%20%20%20%20%20%20%0A%20%20%20%20%20%20%20%20%20%20%20%20var%20html_3b14285bab6347f58dcef616d29eb03a%20%3D%20%24%28%60%3Cdiv%20id%3D%22html_3b14285bab6347f58dcef616d29eb03a%22%20style%3D%22width%3A%20100.0%25%3B%20height%3A%20100.0%25%3B%22%3Esoft%20shop%3C/div%3E%60%29%5B0%5D%3B%0A%20%20%20%20%20%20%20%20%20%20%20%20popup_49cc6a0a1bb147d1a4662e72c4636582.setContent%28html_3b14285bab6347f58dcef616d29eb03a%29%3B%0A%20%20%20%20%20%20%20%20%0A%0A%20%20%20%20%20%20%20%20marker_faf79c7195d3493280f6cea267051850.bindPopup%28popup_49cc6a0a1bb147d1a4662e72c4636582%29%0A%20%20%20%20%20%20%20%20%3B%0A%0A%20%20%20%20%20%20%20%20%0A%20%20%20%20%0A%3C/script%3E onload=\"this.contentDocument.open();this.contentDocument.write(    decodeURIComponent(this.getAttribute('data-html')));this.contentDocument.close();\" allowfullscreen webkitallowfullscreen mozallowfullscreen></iframe></div></div>"
      ],
      "text/plain": [
       "<folium.folium.Map at 0x7f1543627f10>"
      ]
     },
     "execution_count": 8,
     "metadata": {},
     "output_type": "execute_result"
    }
   ],
   "source": [
    "#view our map\n",
    "shop_mapping"
   ]
  },
  {
   "cell_type": "code",
   "execution_count": 9,
   "id": "6493e7f4",
   "metadata": {
    "execution": {
     "iopub.execute_input": "2022-05-31T17:45:59.394709Z",
     "iopub.status.busy": "2022-05-31T17:45:59.394221Z",
     "iopub.status.idle": "2022-05-31T17:45:59.421217Z",
     "shell.execute_reply": "2022-05-31T17:45:59.420614Z",
     "shell.execute_reply.started": "2022-05-31T17:35:42.359130Z"
    },
    "papermill": {
     "duration": 0.112109,
     "end_time": "2022-05-31T17:45:59.421349",
     "exception": false,
     "start_time": "2022-05-31T17:45:59.309240",
     "status": "completed"
    },
    "tags": []
   },
   "outputs": [
    {
     "data": {
      "text/html": [
       "<div>\n",
       "<style scoped>\n",
       "    .dataframe tbody tr th:only-of-type {\n",
       "        vertical-align: middle;\n",
       "    }\n",
       "\n",
       "    .dataframe tbody tr th {\n",
       "        vertical-align: top;\n",
       "    }\n",
       "\n",
       "    .dataframe thead th {\n",
       "        text-align: right;\n",
       "    }\n",
       "</style>\n",
       "<table border=\"1\" class=\"dataframe\">\n",
       "  <thead>\n",
       "    <tr style=\"text-align: right;\">\n",
       "      <th></th>\n",
       "      <th>VISITID</th>\n",
       "      <th>ENTRY_ID</th>\n",
       "      <th>ENTRY_TYPE</th>\n",
       "      <th>USERID</th>\n",
       "      <th>SALES_REP</th>\n",
       "      <th>REP_CATEGORY</th>\n",
       "      <th>SUPERVISOR</th>\n",
       "      <th>SHOPID</th>\n",
       "      <th>CUSTOMER_ERP_CODE</th>\n",
       "      <th>CUSTOMER_NAME</th>\n",
       "      <th>CUSTOMER_ACCOUNT</th>\n",
       "      <th>USERCATEGORY</th>\n",
       "      <th>CUSTOMER_ADDED_DATE</th>\n",
       "      <th>CUSTOMER_VERIFICATION</th>\n",
       "      <th>CUSTOMER_CATEGORY</th>\n",
       "      <th>LOCATION_ID</th>\n",
       "      <th>LOCATION_NAME</th>\n",
       "      <th>TERRITORY_ID</th>\n",
       "      <th>TERRITORY_NAME</th>\n",
       "      <th>ROUTE_NAME</th>\n",
       "      <th>REGION_NAME</th>\n",
       "      <th>PRODUCT_CATEGORY</th>\n",
       "      <th>PRODUCT_NAME</th>\n",
       "      <th>PRODUCT_SKU</th>\n",
       "      <th>PIECES_SOLD</th>\n",
       "      <th>CARTONS_SOLD</th>\n",
       "      <th>VALUE_SOLD</th>\n",
       "      <th>ENTRY_TIME</th>\n",
       "    </tr>\n",
       "  </thead>\n",
       "  <tbody>\n",
       "    <tr>\n",
       "      <th>0</th>\n",
       "      <td>NaN</td>\n",
       "      <td>1239693</td>\n",
       "      <td>Sale</td>\n",
       "      <td>25</td>\n",
       "      <td>ALEX OKETCH ODIPO</td>\n",
       "      <td>Van-Sellers</td>\n",
       "      <td>SUPERVISOR</td>\n",
       "      <td>143707</td>\n",
       "      <td>143707</td>\n",
       "      <td>JOSE</td>\n",
       "      <td>NaN</td>\n",
       "      <td>Van-Sellers</td>\n",
       "      <td>2018-08-13 14:49:26</td>\n",
       "      <td>Pending</td>\n",
       "      <td>WHOLESALERS</td>\n",
       "      <td>0.0</td>\n",
       "      <td>NaN</td>\n",
       "      <td>NaN</td>\n",
       "      <td>NaN</td>\n",
       "      <td>KISUMU - UGUNJA</td>\n",
       "      <td>EASTERN</td>\n",
       "      <td>FRESH 10S ACTIVE</td>\n",
       "      <td>FRESH 10S ACTIVE</td>\n",
       "      <td>FRESH WATERMELON 8 TRAYS X 30 X10 PCS</td>\n",
       "      <td>40.0</td>\n",
       "      <td>5.0</td>\n",
       "      <td>10800.0</td>\n",
       "      <td>2019-01-07 14:51:31</td>\n",
       "    </tr>\n",
       "    <tr>\n",
       "      <th>1</th>\n",
       "      <td>NaN</td>\n",
       "      <td>1239693</td>\n",
       "      <td>Sale</td>\n",
       "      <td>25</td>\n",
       "      <td>ALEX OKETCH ODIPO</td>\n",
       "      <td>Van-Sellers</td>\n",
       "      <td>SUPERVISOR</td>\n",
       "      <td>143707</td>\n",
       "      <td>143707</td>\n",
       "      <td>JOSE</td>\n",
       "      <td>NaN</td>\n",
       "      <td>Van-Sellers</td>\n",
       "      <td>2018-08-13 14:49:26</td>\n",
       "      <td>Pending</td>\n",
       "      <td>WHOLESALERS</td>\n",
       "      <td>0.0</td>\n",
       "      <td>NaN</td>\n",
       "      <td>NaN</td>\n",
       "      <td>NaN</td>\n",
       "      <td>KISUMU - UGUNJA</td>\n",
       "      <td>EASTERN</td>\n",
       "      <td>FRESH 10S</td>\n",
       "      <td>FRESH 10S</td>\n",
       "      <td>FRESH MENTHOL 8 TRAYS X 30 X10 PCS</td>\n",
       "      <td>40.0</td>\n",
       "      <td>5.0</td>\n",
       "      <td>10800.0</td>\n",
       "      <td>2019-01-07 14:51:31</td>\n",
       "    </tr>\n",
       "    <tr>\n",
       "      <th>2</th>\n",
       "      <td>NaN</td>\n",
       "      <td>1239693</td>\n",
       "      <td>Sale</td>\n",
       "      <td>25</td>\n",
       "      <td>ALEX OKETCH ODIPO</td>\n",
       "      <td>Van-Sellers</td>\n",
       "      <td>SUPERVISOR</td>\n",
       "      <td>143707</td>\n",
       "      <td>143707</td>\n",
       "      <td>JOSE</td>\n",
       "      <td>NaN</td>\n",
       "      <td>Van-Sellers</td>\n",
       "      <td>2018-08-13 14:49:26</td>\n",
       "      <td>Pending</td>\n",
       "      <td>WHOLESALERS</td>\n",
       "      <td>0.0</td>\n",
       "      <td>NaN</td>\n",
       "      <td>NaN</td>\n",
       "      <td>NaN</td>\n",
       "      <td>KISUMU - UGUNJA</td>\n",
       "      <td>EASTERN</td>\n",
       "      <td>FRESH 10S</td>\n",
       "      <td>FRESH 10S</td>\n",
       "      <td>FRESH FRUITY 8 TRAYS X 30 X10 PCS</td>\n",
       "      <td>40.0</td>\n",
       "      <td>5.0</td>\n",
       "      <td>10800.0</td>\n",
       "      <td>2019-01-07 14:51:31</td>\n",
       "    </tr>\n",
       "  </tbody>\n",
       "</table>\n",
       "</div>"
      ],
      "text/plain": [
       "  VISITID  ENTRY_ID ENTRY_TYPE  USERID          SALES_REP REP_CATEGORY  \\\n",
       "0     NaN   1239693       Sale      25  ALEX OKETCH ODIPO  Van-Sellers   \n",
       "1     NaN   1239693       Sale      25  ALEX OKETCH ODIPO  Van-Sellers   \n",
       "2     NaN   1239693       Sale      25  ALEX OKETCH ODIPO  Van-Sellers   \n",
       "\n",
       "   SUPERVISOR  SHOPID  CUSTOMER_ERP_CODE CUSTOMER_NAME  CUSTOMER_ACCOUNT  \\\n",
       "0  SUPERVISOR  143707             143707          JOSE               NaN   \n",
       "1  SUPERVISOR  143707             143707          JOSE               NaN   \n",
       "2  SUPERVISOR  143707             143707          JOSE               NaN   \n",
       "\n",
       "  USERCATEGORY  CUSTOMER_ADDED_DATE CUSTOMER_VERIFICATION CUSTOMER_CATEGORY  \\\n",
       "0  Van-Sellers  2018-08-13 14:49:26               Pending       WHOLESALERS   \n",
       "1  Van-Sellers  2018-08-13 14:49:26               Pending       WHOLESALERS   \n",
       "2  Van-Sellers  2018-08-13 14:49:26               Pending       WHOLESALERS   \n",
       "\n",
       "   LOCATION_ID LOCATION_NAME  TERRITORY_ID  TERRITORY_NAME       ROUTE_NAME  \\\n",
       "0          0.0           NaN           NaN             NaN  KISUMU - UGUNJA   \n",
       "1          0.0           NaN           NaN             NaN  KISUMU - UGUNJA   \n",
       "2          0.0           NaN           NaN             NaN  KISUMU - UGUNJA   \n",
       "\n",
       "  REGION_NAME  PRODUCT_CATEGORY      PRODUCT_NAME  \\\n",
       "0     EASTERN  FRESH 10S ACTIVE  FRESH 10S ACTIVE   \n",
       "1     EASTERN         FRESH 10S         FRESH 10S   \n",
       "2     EASTERN         FRESH 10S         FRESH 10S   \n",
       "\n",
       "                             PRODUCT_SKU  PIECES_SOLD  CARTONS_SOLD  \\\n",
       "0  FRESH WATERMELON 8 TRAYS X 30 X10 PCS         40.0           5.0   \n",
       "1     FRESH MENTHOL 8 TRAYS X 30 X10 PCS         40.0           5.0   \n",
       "2      FRESH FRUITY 8 TRAYS X 30 X10 PCS         40.0           5.0   \n",
       "\n",
       "   VALUE_SOLD           ENTRY_TIME  \n",
       "0     10800.0  2019-01-07 14:51:31  \n",
       "1     10800.0  2019-01-07 14:51:31  \n",
       "2     10800.0  2019-01-07 14:51:31  "
      ]
     },
     "execution_count": 9,
     "metadata": {},
     "output_type": "execute_result"
    }
   ],
   "source": [
    "orders.head(3)"
   ]
  },
  {
   "cell_type": "code",
   "execution_count": 10,
   "id": "9182d520",
   "metadata": {
    "execution": {
     "iopub.execute_input": "2022-05-31T17:45:59.587318Z",
     "iopub.status.busy": "2022-05-31T17:45:59.586694Z",
     "iopub.status.idle": "2022-05-31T17:45:59.807491Z",
     "shell.execute_reply": "2022-05-31T17:45:59.807907Z",
     "shell.execute_reply.started": "2022-05-31T17:35:42.397023Z"
    },
    "papermill": {
     "duration": 0.305933,
     "end_time": "2022-05-31T17:45:59.808051",
     "exception": false,
     "start_time": "2022-05-31T17:45:59.502118",
     "status": "completed"
    },
    "tags": []
   },
   "outputs": [
    {
     "data": {
      "text/plain": [
       "(1224561, 28)"
      ]
     },
     "execution_count": 10,
     "metadata": {},
     "output_type": "execute_result"
    }
   ],
   "source": [
    "# limit our study to Nairobi region\n",
    "ord_nrb = orders[orders['REGION_NAME']=='NAIROBI']\n",
    "ord_nrb.shape"
   ]
  },
  {
   "cell_type": "code",
   "execution_count": 11,
   "id": "2a66fa2b",
   "metadata": {
    "execution": {
     "iopub.execute_input": "2022-05-31T17:45:59.917369Z",
     "iopub.status.busy": "2022-05-31T17:45:59.916859Z",
     "iopub.status.idle": "2022-05-31T17:45:59.944127Z",
     "shell.execute_reply": "2022-05-31T17:45:59.944618Z",
     "shell.execute_reply.started": "2022-05-31T17:35:42.595724Z"
    },
    "papermill": {
     "duration": 0.082877,
     "end_time": "2022-05-31T17:45:59.944744",
     "exception": false,
     "start_time": "2022-05-31T17:45:59.861867",
     "status": "completed"
    },
    "tags": []
   },
   "outputs": [
    {
     "data": {
      "text/html": [
       "<div>\n",
       "<style scoped>\n",
       "    .dataframe tbody tr th:only-of-type {\n",
       "        vertical-align: middle;\n",
       "    }\n",
       "\n",
       "    .dataframe tbody tr th {\n",
       "        vertical-align: top;\n",
       "    }\n",
       "\n",
       "    .dataframe thead th {\n",
       "        text-align: right;\n",
       "    }\n",
       "</style>\n",
       "<table border=\"1\" class=\"dataframe\">\n",
       "  <thead>\n",
       "    <tr style=\"text-align: right;\">\n",
       "      <th></th>\n",
       "      <th>VISITID</th>\n",
       "      <th>ENTRY_ID</th>\n",
       "      <th>ENTRY_TYPE</th>\n",
       "      <th>USERID</th>\n",
       "      <th>SALES_REP</th>\n",
       "      <th>REP_CATEGORY</th>\n",
       "      <th>SUPERVISOR</th>\n",
       "      <th>SHOPID</th>\n",
       "      <th>CUSTOMER_ERP_CODE</th>\n",
       "      <th>CUSTOMER_NAME</th>\n",
       "      <th>CUSTOMER_ACCOUNT</th>\n",
       "      <th>USERCATEGORY</th>\n",
       "      <th>CUSTOMER_ADDED_DATE</th>\n",
       "      <th>CUSTOMER_VERIFICATION</th>\n",
       "      <th>CUSTOMER_CATEGORY</th>\n",
       "      <th>LOCATION_ID</th>\n",
       "      <th>LOCATION_NAME</th>\n",
       "      <th>TERRITORY_ID</th>\n",
       "      <th>TERRITORY_NAME</th>\n",
       "      <th>ROUTE_NAME</th>\n",
       "      <th>REGION_NAME</th>\n",
       "      <th>PRODUCT_CATEGORY</th>\n",
       "      <th>PRODUCT_NAME</th>\n",
       "      <th>PRODUCT_SKU</th>\n",
       "      <th>PIECES_SOLD</th>\n",
       "      <th>CARTONS_SOLD</th>\n",
       "      <th>VALUE_SOLD</th>\n",
       "      <th>ENTRY_TIME</th>\n",
       "    </tr>\n",
       "  </thead>\n",
       "  <tbody>\n",
       "    <tr>\n",
       "      <th>26670</th>\n",
       "      <td>NaN</td>\n",
       "      <td>1243905</td>\n",
       "      <td>skip</td>\n",
       "      <td>38</td>\n",
       "      <td>MILDRED MUSINGA NAOMI</td>\n",
       "      <td>FootSoldiers - Brilliantdom</td>\n",
       "      <td>SUPERVISOR</td>\n",
       "      <td>238808</td>\n",
       "      <td>238808</td>\n",
       "      <td>BRINGBRING</td>\n",
       "      <td>NaN</td>\n",
       "      <td>FootSoldiers - Brilliantdom</td>\n",
       "      <td>2018-12-04 04:58:15</td>\n",
       "      <td>Valid</td>\n",
       "      <td>SHOP</td>\n",
       "      <td>117.0</td>\n",
       "      <td>KIBERA</td>\n",
       "      <td>NaN</td>\n",
       "      <td>NaN</td>\n",
       "      <td>OLYMPIC/AYANY</td>\n",
       "      <td>NAIROBI</td>\n",
       "      <td>NaN</td>\n",
       "      <td>NaN</td>\n",
       "      <td>NaN</td>\n",
       "      <td>NaN</td>\n",
       "      <td>NaN</td>\n",
       "      <td>NaN</td>\n",
       "      <td>2019-01-08 08:03:09</td>\n",
       "    </tr>\n",
       "    <tr>\n",
       "      <th>26671</th>\n",
       "      <td>NaN</td>\n",
       "      <td>1245619</td>\n",
       "      <td>skip</td>\n",
       "      <td>38</td>\n",
       "      <td>MILDRED MUSINGA NAOMI</td>\n",
       "      <td>FootSoldiers - Brilliantdom</td>\n",
       "      <td>SUPERVISOR</td>\n",
       "      <td>238815</td>\n",
       "      <td>238815</td>\n",
       "      <td>BOYO</td>\n",
       "      <td>NaN</td>\n",
       "      <td>FootSoldiers - Brilliantdom</td>\n",
       "      <td>2018-12-04 05:07:49</td>\n",
       "      <td>Pending</td>\n",
       "      <td>SHOP</td>\n",
       "      <td>117.0</td>\n",
       "      <td>KIBERA</td>\n",
       "      <td>NaN</td>\n",
       "      <td>NaN</td>\n",
       "      <td>OLYMPIC/AYANY</td>\n",
       "      <td>NAIROBI</td>\n",
       "      <td>NaN</td>\n",
       "      <td>NaN</td>\n",
       "      <td>NaN</td>\n",
       "      <td>NaN</td>\n",
       "      <td>NaN</td>\n",
       "      <td>NaN</td>\n",
       "      <td>2019-01-08 10:14:17</td>\n",
       "    </tr>\n",
       "    <tr>\n",
       "      <th>26672</th>\n",
       "      <td>NaN</td>\n",
       "      <td>1248165</td>\n",
       "      <td>skip</td>\n",
       "      <td>38</td>\n",
       "      <td>MILDRED MUSINGA NAOMI</td>\n",
       "      <td>FootSoldiers - Brilliantdom</td>\n",
       "      <td>SUPERVISOR</td>\n",
       "      <td>238825</td>\n",
       "      <td>238825</td>\n",
       "      <td>SIMO</td>\n",
       "      <td>NaN</td>\n",
       "      <td>FootSoldiers - Brilliantdom</td>\n",
       "      <td>2018-12-04 05:24:44</td>\n",
       "      <td>Pending</td>\n",
       "      <td>SHOP</td>\n",
       "      <td>117.0</td>\n",
       "      <td>KIBERA</td>\n",
       "      <td>NaN</td>\n",
       "      <td>NaN</td>\n",
       "      <td>OLYMPIC/AYANY</td>\n",
       "      <td>NAIROBI</td>\n",
       "      <td>NaN</td>\n",
       "      <td>NaN</td>\n",
       "      <td>NaN</td>\n",
       "      <td>NaN</td>\n",
       "      <td>NaN</td>\n",
       "      <td>NaN</td>\n",
       "      <td>2019-01-08 12:22:04</td>\n",
       "    </tr>\n",
       "  </tbody>\n",
       "</table>\n",
       "</div>"
      ],
      "text/plain": [
       "      VISITID  ENTRY_ID ENTRY_TYPE  USERID              SALES_REP  \\\n",
       "26670     NaN   1243905       skip      38  MILDRED MUSINGA NAOMI   \n",
       "26671     NaN   1245619       skip      38  MILDRED MUSINGA NAOMI   \n",
       "26672     NaN   1248165       skip      38  MILDRED MUSINGA NAOMI   \n",
       "\n",
       "                      REP_CATEGORY  SUPERVISOR  SHOPID  CUSTOMER_ERP_CODE  \\\n",
       "26670  FootSoldiers - Brilliantdom  SUPERVISOR  238808             238808   \n",
       "26671  FootSoldiers - Brilliantdom  SUPERVISOR  238815             238815   \n",
       "26672  FootSoldiers - Brilliantdom  SUPERVISOR  238825             238825   \n",
       "\n",
       "      CUSTOMER_NAME  CUSTOMER_ACCOUNT                 USERCATEGORY  \\\n",
       "26670    BRINGBRING               NaN  FootSoldiers - Brilliantdom   \n",
       "26671          BOYO               NaN  FootSoldiers - Brilliantdom   \n",
       "26672          SIMO               NaN  FootSoldiers - Brilliantdom   \n",
       "\n",
       "       CUSTOMER_ADDED_DATE CUSTOMER_VERIFICATION CUSTOMER_CATEGORY  \\\n",
       "26670  2018-12-04 04:58:15                 Valid              SHOP   \n",
       "26671  2018-12-04 05:07:49               Pending              SHOP   \n",
       "26672  2018-12-04 05:24:44               Pending              SHOP   \n",
       "\n",
       "       LOCATION_ID LOCATION_NAME  TERRITORY_ID  TERRITORY_NAME     ROUTE_NAME  \\\n",
       "26670        117.0        KIBERA           NaN             NaN  OLYMPIC/AYANY   \n",
       "26671        117.0        KIBERA           NaN             NaN  OLYMPIC/AYANY   \n",
       "26672        117.0        KIBERA           NaN             NaN  OLYMPIC/AYANY   \n",
       "\n",
       "      REGION_NAME PRODUCT_CATEGORY PRODUCT_NAME PRODUCT_SKU  PIECES_SOLD  \\\n",
       "26670     NAIROBI              NaN          NaN         NaN          NaN   \n",
       "26671     NAIROBI              NaN          NaN         NaN          NaN   \n",
       "26672     NAIROBI              NaN          NaN         NaN          NaN   \n",
       "\n",
       "       CARTONS_SOLD  VALUE_SOLD           ENTRY_TIME  \n",
       "26670           NaN         NaN  2019-01-08 08:03:09  \n",
       "26671           NaN         NaN  2019-01-08 10:14:17  \n",
       "26672           NaN         NaN  2019-01-08 12:22:04  "
      ]
     },
     "execution_count": 11,
     "metadata": {},
     "output_type": "execute_result"
    }
   ],
   "source": [
    "ord_nrb.head(3)"
   ]
  },
  {
   "cell_type": "code",
   "execution_count": 12,
   "id": "555031ca",
   "metadata": {
    "execution": {
     "iopub.execute_input": "2022-05-31T17:46:00.053364Z",
     "iopub.status.busy": "2022-05-31T17:46:00.052872Z",
     "iopub.status.idle": "2022-05-31T17:46:00.066039Z",
     "shell.execute_reply": "2022-05-31T17:46:00.066412Z",
     "shell.execute_reply.started": "2022-05-31T17:35:42.630354Z"
    },
    "papermill": {
     "duration": 0.069205,
     "end_time": "2022-05-31T17:46:00.066573",
     "exception": false,
     "start_time": "2022-05-31T17:45:59.997368",
     "status": "completed"
    },
    "tags": []
   },
   "outputs": [
    {
     "data": {
      "text/plain": [
       "1"
      ]
     },
     "execution_count": 12,
     "metadata": {},
     "output_type": "execute_result"
    }
   ],
   "source": [
    "ord_nrb['REGION_NAME'].nunique()"
   ]
  },
  {
   "cell_type": "code",
   "execution_count": 13,
   "id": "31cf9cb3",
   "metadata": {
    "execution": {
     "iopub.execute_input": "2022-05-31T17:46:00.181247Z",
     "iopub.status.busy": "2022-05-31T17:46:00.180400Z",
     "iopub.status.idle": "2022-05-31T17:46:00.184185Z",
     "shell.execute_reply": "2022-05-31T17:46:00.184829Z",
     "shell.execute_reply.started": "2022-05-31T17:35:42.658398Z"
    },
    "papermill": {
     "duration": 0.065044,
     "end_time": "2022-05-31T17:46:00.185036",
     "exception": false,
     "start_time": "2022-05-31T17:46:00.119992",
     "status": "completed"
    },
    "tags": []
   },
   "outputs": [],
   "source": [
    "ord_nrb.reset_index(drop=True,inplace=True)\n"
   ]
  },
  {
   "cell_type": "code",
   "execution_count": 14,
   "id": "167f9719",
   "metadata": {
    "execution": {
     "iopub.execute_input": "2022-05-31T17:46:00.365029Z",
     "iopub.status.busy": "2022-05-31T17:46:00.362369Z",
     "iopub.status.idle": "2022-05-31T17:46:00.391545Z",
     "shell.execute_reply": "2022-05-31T17:46:00.391911Z",
     "shell.execute_reply.started": "2022-05-31T17:35:42.667039Z"
    },
    "papermill": {
     "duration": 0.114701,
     "end_time": "2022-05-31T17:46:00.392047",
     "exception": false,
     "start_time": "2022-05-31T17:46:00.277346",
     "status": "completed"
    },
    "tags": []
   },
   "outputs": [
    {
     "data": {
      "text/html": [
       "<div>\n",
       "<style scoped>\n",
       "    .dataframe tbody tr th:only-of-type {\n",
       "        vertical-align: middle;\n",
       "    }\n",
       "\n",
       "    .dataframe tbody tr th {\n",
       "        vertical-align: top;\n",
       "    }\n",
       "\n",
       "    .dataframe thead th {\n",
       "        text-align: right;\n",
       "    }\n",
       "</style>\n",
       "<table border=\"1\" class=\"dataframe\">\n",
       "  <thead>\n",
       "    <tr style=\"text-align: right;\">\n",
       "      <th></th>\n",
       "      <th>VISITID</th>\n",
       "      <th>ENTRY_ID</th>\n",
       "      <th>ENTRY_TYPE</th>\n",
       "      <th>USERID</th>\n",
       "      <th>SALES_REP</th>\n",
       "      <th>REP_CATEGORY</th>\n",
       "      <th>SUPERVISOR</th>\n",
       "      <th>SHOPID</th>\n",
       "      <th>CUSTOMER_ERP_CODE</th>\n",
       "      <th>CUSTOMER_NAME</th>\n",
       "      <th>CUSTOMER_ACCOUNT</th>\n",
       "      <th>USERCATEGORY</th>\n",
       "      <th>CUSTOMER_ADDED_DATE</th>\n",
       "      <th>CUSTOMER_VERIFICATION</th>\n",
       "      <th>CUSTOMER_CATEGORY</th>\n",
       "      <th>LOCATION_ID</th>\n",
       "      <th>LOCATION_NAME</th>\n",
       "      <th>TERRITORY_ID</th>\n",
       "      <th>TERRITORY_NAME</th>\n",
       "      <th>ROUTE_NAME</th>\n",
       "      <th>REGION_NAME</th>\n",
       "      <th>PRODUCT_CATEGORY</th>\n",
       "      <th>PRODUCT_NAME</th>\n",
       "      <th>PRODUCT_SKU</th>\n",
       "      <th>PIECES_SOLD</th>\n",
       "      <th>CARTONS_SOLD</th>\n",
       "      <th>VALUE_SOLD</th>\n",
       "      <th>ENTRY_TIME</th>\n",
       "    </tr>\n",
       "  </thead>\n",
       "  <tbody>\n",
       "    <tr>\n",
       "      <th>0</th>\n",
       "      <td>NaN</td>\n",
       "      <td>1243905</td>\n",
       "      <td>skip</td>\n",
       "      <td>38</td>\n",
       "      <td>MILDRED MUSINGA NAOMI</td>\n",
       "      <td>FootSoldiers - Brilliantdom</td>\n",
       "      <td>SUPERVISOR</td>\n",
       "      <td>238808</td>\n",
       "      <td>238808</td>\n",
       "      <td>BRINGBRING</td>\n",
       "      <td>NaN</td>\n",
       "      <td>FootSoldiers - Brilliantdom</td>\n",
       "      <td>2018-12-04 04:58:15</td>\n",
       "      <td>Valid</td>\n",
       "      <td>SHOP</td>\n",
       "      <td>117.0</td>\n",
       "      <td>KIBERA</td>\n",
       "      <td>NaN</td>\n",
       "      <td>NaN</td>\n",
       "      <td>OLYMPIC/AYANY</td>\n",
       "      <td>NAIROBI</td>\n",
       "      <td>NaN</td>\n",
       "      <td>NaN</td>\n",
       "      <td>NaN</td>\n",
       "      <td>NaN</td>\n",
       "      <td>NaN</td>\n",
       "      <td>NaN</td>\n",
       "      <td>2019-01-08 08:03:09</td>\n",
       "    </tr>\n",
       "    <tr>\n",
       "      <th>1</th>\n",
       "      <td>NaN</td>\n",
       "      <td>1245619</td>\n",
       "      <td>skip</td>\n",
       "      <td>38</td>\n",
       "      <td>MILDRED MUSINGA NAOMI</td>\n",
       "      <td>FootSoldiers - Brilliantdom</td>\n",
       "      <td>SUPERVISOR</td>\n",
       "      <td>238815</td>\n",
       "      <td>238815</td>\n",
       "      <td>BOYO</td>\n",
       "      <td>NaN</td>\n",
       "      <td>FootSoldiers - Brilliantdom</td>\n",
       "      <td>2018-12-04 05:07:49</td>\n",
       "      <td>Pending</td>\n",
       "      <td>SHOP</td>\n",
       "      <td>117.0</td>\n",
       "      <td>KIBERA</td>\n",
       "      <td>NaN</td>\n",
       "      <td>NaN</td>\n",
       "      <td>OLYMPIC/AYANY</td>\n",
       "      <td>NAIROBI</td>\n",
       "      <td>NaN</td>\n",
       "      <td>NaN</td>\n",
       "      <td>NaN</td>\n",
       "      <td>NaN</td>\n",
       "      <td>NaN</td>\n",
       "      <td>NaN</td>\n",
       "      <td>2019-01-08 10:14:17</td>\n",
       "    </tr>\n",
       "    <tr>\n",
       "      <th>2</th>\n",
       "      <td>NaN</td>\n",
       "      <td>1248165</td>\n",
       "      <td>skip</td>\n",
       "      <td>38</td>\n",
       "      <td>MILDRED MUSINGA NAOMI</td>\n",
       "      <td>FootSoldiers - Brilliantdom</td>\n",
       "      <td>SUPERVISOR</td>\n",
       "      <td>238825</td>\n",
       "      <td>238825</td>\n",
       "      <td>SIMO</td>\n",
       "      <td>NaN</td>\n",
       "      <td>FootSoldiers - Brilliantdom</td>\n",
       "      <td>2018-12-04 05:24:44</td>\n",
       "      <td>Pending</td>\n",
       "      <td>SHOP</td>\n",
       "      <td>117.0</td>\n",
       "      <td>KIBERA</td>\n",
       "      <td>NaN</td>\n",
       "      <td>NaN</td>\n",
       "      <td>OLYMPIC/AYANY</td>\n",
       "      <td>NAIROBI</td>\n",
       "      <td>NaN</td>\n",
       "      <td>NaN</td>\n",
       "      <td>NaN</td>\n",
       "      <td>NaN</td>\n",
       "      <td>NaN</td>\n",
       "      <td>NaN</td>\n",
       "      <td>2019-01-08 12:22:04</td>\n",
       "    </tr>\n",
       "  </tbody>\n",
       "</table>\n",
       "</div>"
      ],
      "text/plain": [
       "  VISITID  ENTRY_ID ENTRY_TYPE  USERID              SALES_REP  \\\n",
       "0     NaN   1243905       skip      38  MILDRED MUSINGA NAOMI   \n",
       "1     NaN   1245619       skip      38  MILDRED MUSINGA NAOMI   \n",
       "2     NaN   1248165       skip      38  MILDRED MUSINGA NAOMI   \n",
       "\n",
       "                  REP_CATEGORY  SUPERVISOR  SHOPID  CUSTOMER_ERP_CODE  \\\n",
       "0  FootSoldiers - Brilliantdom  SUPERVISOR  238808             238808   \n",
       "1  FootSoldiers - Brilliantdom  SUPERVISOR  238815             238815   \n",
       "2  FootSoldiers - Brilliantdom  SUPERVISOR  238825             238825   \n",
       "\n",
       "  CUSTOMER_NAME  CUSTOMER_ACCOUNT                 USERCATEGORY  \\\n",
       "0    BRINGBRING               NaN  FootSoldiers - Brilliantdom   \n",
       "1          BOYO               NaN  FootSoldiers - Brilliantdom   \n",
       "2          SIMO               NaN  FootSoldiers - Brilliantdom   \n",
       "\n",
       "   CUSTOMER_ADDED_DATE CUSTOMER_VERIFICATION CUSTOMER_CATEGORY  LOCATION_ID  \\\n",
       "0  2018-12-04 04:58:15                 Valid              SHOP        117.0   \n",
       "1  2018-12-04 05:07:49               Pending              SHOP        117.0   \n",
       "2  2018-12-04 05:24:44               Pending              SHOP        117.0   \n",
       "\n",
       "  LOCATION_NAME  TERRITORY_ID  TERRITORY_NAME     ROUTE_NAME REGION_NAME  \\\n",
       "0        KIBERA           NaN             NaN  OLYMPIC/AYANY     NAIROBI   \n",
       "1        KIBERA           NaN             NaN  OLYMPIC/AYANY     NAIROBI   \n",
       "2        KIBERA           NaN             NaN  OLYMPIC/AYANY     NAIROBI   \n",
       "\n",
       "  PRODUCT_CATEGORY PRODUCT_NAME PRODUCT_SKU  PIECES_SOLD  CARTONS_SOLD  \\\n",
       "0              NaN          NaN         NaN          NaN           NaN   \n",
       "1              NaN          NaN         NaN          NaN           NaN   \n",
       "2              NaN          NaN         NaN          NaN           NaN   \n",
       "\n",
       "   VALUE_SOLD           ENTRY_TIME  \n",
       "0         NaN  2019-01-08 08:03:09  \n",
       "1         NaN  2019-01-08 10:14:17  \n",
       "2         NaN  2019-01-08 12:22:04  "
      ]
     },
     "execution_count": 14,
     "metadata": {},
     "output_type": "execute_result"
    }
   ],
   "source": [
    "ord_nrb.head(3)"
   ]
  },
  {
   "cell_type": "code",
   "execution_count": 15,
   "id": "c4480f3e",
   "metadata": {
    "execution": {
     "iopub.execute_input": "2022-05-31T17:46:00.507874Z",
     "iopub.status.busy": "2022-05-31T17:46:00.502539Z",
     "iopub.status.idle": "2022-05-31T17:46:01.384759Z",
     "shell.execute_reply": "2022-05-31T17:46:01.385220Z",
     "shell.execute_reply.started": "2022-05-31T17:35:42.709029Z"
    },
    "papermill": {
     "duration": 0.938893,
     "end_time": "2022-05-31T17:46:01.385382",
     "exception": false,
     "start_time": "2022-05-31T17:46:00.446489",
     "status": "completed"
    },
    "tags": []
   },
   "outputs": [
    {
     "data": {
      "image/png": "[encoded data removed]",
      "text/plain": [
       "<Figure size 648x720 with 1 Axes>"
      ]
     },
     "metadata": {
      "needs_background": "light"
     },
     "output_type": "display_data"
    }
   ],
   "source": [
    "# Check if there any missing values in shops\n",
    "ax = ord_nrb.isna().sum().sort_values().plot(kind = 'barh', figsize = (9, 10))\n",
    "plt.title('Percentage of Missing Values Per Column', fontdict={'size':15})\n",
    "for p in ax.patches:\n",
    "    percentage ='{:,.0f}%'.format((p.get_width()/ord_nrb.shape[0])*100)\n",
    "    width, height =p.get_width(),p.get_height()\n",
    "    x=p.get_x()+width+0.02\n",
    "    y=p.get_y()+height/2\n",
    "    ax.annotate(percentage,(x,y))"
   ]
  },
  {
   "cell_type": "code",
   "execution_count": 16,
   "id": "d16cfaf4",
   "metadata": {
    "execution": {
     "iopub.execute_input": "2022-05-31T17:46:01.554265Z",
     "iopub.status.busy": "2022-05-31T17:46:01.553700Z",
     "iopub.status.idle": "2022-05-31T17:46:01.573776Z",
     "shell.execute_reply": "2022-05-31T17:46:01.574289Z",
     "shell.execute_reply.started": "2022-05-31T17:35:43.711516Z"
    },
    "papermill": {
     "duration": 0.106185,
     "end_time": "2022-05-31T17:46:01.574461",
     "exception": false,
     "start_time": "2022-05-31T17:46:01.468276",
     "status": "completed"
    },
    "tags": []
   },
   "outputs": [],
   "source": [
    "# drop some columns \n",
    "ord_nrb.drop(['VISITID','SUPERVISOR','CUSTOMER_ERP_CODE','TERRITORY_ID','TERRITORY_NAME','CUSTOMER_ACCOUNT','REGION_NAME'],axis=1,inplace=True)"
   ]
  },
  {
   "cell_type": "code",
   "execution_count": 17,
   "id": "78173a01",
   "metadata": {
    "execution": {
     "iopub.execute_input": "2022-05-31T17:46:01.745386Z",
     "iopub.status.busy": "2022-05-31T17:46:01.744800Z",
     "iopub.status.idle": "2022-05-31T17:46:02.009296Z",
     "shell.execute_reply": "2022-05-31T17:46:02.008854Z",
     "shell.execute_reply.started": "2022-05-31T17:35:43.737722Z"
    },
    "papermill": {
     "duration": 0.351251,
     "end_time": "2022-05-31T17:46:02.009400",
     "exception": false,
     "start_time": "2022-05-31T17:46:01.658149",
     "status": "completed"
    },
    "tags": []
   },
   "outputs": [
    {
     "data": {
      "text/plain": [
       "0"
      ]
     },
     "execution_count": 17,
     "metadata": {},
     "output_type": "execute_result"
    }
   ],
   "source": [
    "# filling in the missing values \n",
    "ord_nrb['PRODUCT_CATEGORY'].fillna(ord_nrb['PRODUCT_CATEGORY'].mode()[0],inplace=True)\n",
    "ord_nrb['PRODUCT_NAME'].fillna(ord_nrb['PRODUCT_NAME'].mode()[0],inplace=True)\n",
    "ord_nrb['PRODUCT_SKU'].fillna(ord_nrb['PRODUCT_SKU'].mode()[0],inplace=True)\n",
    "\n",
    "ord_nrb['PIECES_SOLD'].fillna(0,inplace=True)\n",
    "ord_nrb['CARTONS_SOLD'].fillna(0,inplace=True)\n",
    "ord_nrb['VALUE_SOLD'].fillna(0,inplace=True)\n",
    "\n",
    "ord_nrb['CUSTOMER_NAME'].fillna(ord_nrb['CUSTOMER_NAME'].mode()[0],inplace=True)\n",
    "ord_nrb['CUSTOMER_CATEGORY'].fillna(ord_nrb['CUSTOMER_CATEGORY'].mode()[0],inplace=True)\n",
    "ord_nrb['LOCATION_NAME'].fillna(ord_nrb['LOCATION_NAME'].mode()[0],inplace=True)\n",
    "ord_nrb['LOCATION_ID'].fillna(ord_nrb['LOCATION_ID'].mode()[0],inplace=True)\n",
    "ord_nrb.isnull().sum().sum()"
   ]
  },
  {
   "cell_type": "code",
   "execution_count": 18,
   "id": "81ecf5fe",
   "metadata": {
    "execution": {
     "iopub.execute_input": "2022-05-31T17:46:02.122326Z",
     "iopub.status.busy": "2022-05-31T17:46:02.121864Z",
     "iopub.status.idle": "2022-05-31T17:46:02.132284Z",
     "shell.execute_reply": "2022-05-31T17:46:02.132740Z",
     "shell.execute_reply.started": "2022-05-31T17:35:43.956033Z"
    },
    "papermill": {
     "duration": 0.068472,
     "end_time": "2022-05-31T17:46:02.132865",
     "exception": false,
     "start_time": "2022-05-31T17:46:02.064393",
     "status": "completed"
    },
    "tags": []
   },
   "outputs": [
    {
     "data": {
      "text/plain": [
       "427"
      ]
     },
     "execution_count": 18,
     "metadata": {},
     "output_type": "execute_result"
    }
   ],
   "source": [
    "#Number of unique sales representatives in Nairobi County\n",
    "ord_nrb['SALES_REP'].nunique()"
   ]
  },
  {
   "cell_type": "code",
   "execution_count": 19,
   "id": "9422a067",
   "metadata": {
    "execution": {
     "iopub.execute_input": "2022-05-31T17:46:02.262484Z",
     "iopub.status.busy": "2022-05-31T17:46:02.261998Z",
     "iopub.status.idle": "2022-05-31T17:46:02.312992Z",
     "shell.execute_reply": "2022-05-31T17:46:02.313357Z",
     "shell.execute_reply.started": "2022-05-31T17:35:44.194915Z"
    },
    "papermill": {
     "duration": 0.122728,
     "end_time": "2022-05-31T17:46:02.313507",
     "exception": false,
     "start_time": "2022-05-31T17:46:02.190779",
     "status": "completed"
    },
    "tags": []
   },
   "outputs": [],
   "source": [
    "#Supervisor Sales by Customer Category\n",
    "sales_sup =ord_nrb.pivot_table(index='SALES_REP', columns='CUSTOMER_CATEGORY',values='VALUE_SOLD')"
   ]
  },
  {
   "cell_type": "code",
   "execution_count": 20,
   "id": "9d184139",
   "metadata": {
    "execution": {
     "iopub.execute_input": "2022-05-31T17:46:02.441620Z",
     "iopub.status.busy": "2022-05-31T17:46:02.441110Z",
     "iopub.status.idle": "2022-05-31T17:46:02.444023Z",
     "shell.execute_reply": "2022-05-31T17:46:02.444444Z",
     "shell.execute_reply.started": "2022-05-31T17:35:50.188660Z"
    },
    "papermill": {
     "duration": 0.074655,
     "end_time": "2022-05-31T17:46:02.444617",
     "exception": false,
     "start_time": "2022-05-31T17:46:02.369962",
     "status": "completed"
    },
    "tags": []
   },
   "outputs": [
    {
     "data": {
      "text/html": [
       "<div>\n",
       "<style scoped>\n",
       "    .dataframe tbody tr th:only-of-type {\n",
       "        vertical-align: middle;\n",
       "    }\n",
       "\n",
       "    .dataframe tbody tr th {\n",
       "        vertical-align: top;\n",
       "    }\n",
       "\n",
       "    .dataframe thead th {\n",
       "        text-align: right;\n",
       "    }\n",
       "</style>\n",
       "<table border=\"1\" class=\"dataframe\">\n",
       "  <thead>\n",
       "    <tr style=\"text-align: right;\">\n",
       "      <th>CUSTOMER_CATEGORY</th>\n",
       "      <th>KIOSKS</th>\n",
       "      <th>MINI MARKET</th>\n",
       "      <th>SHOP</th>\n",
       "      <th>SUPERMARKET</th>\n",
       "      <th>TABLE TOPS</th>\n",
       "      <th>WHOLESALERS</th>\n",
       "    </tr>\n",
       "    <tr>\n",
       "      <th>SALES_REP</th>\n",
       "      <th></th>\n",
       "      <th></th>\n",
       "      <th></th>\n",
       "      <th></th>\n",
       "      <th></th>\n",
       "      <th></th>\n",
       "    </tr>\n",
       "  </thead>\n",
       "  <tbody>\n",
       "    <tr>\n",
       "      <th>ACHIENG BEATRICE</th>\n",
       "      <td>185.689651</td>\n",
       "      <td>132.500000</td>\n",
       "      <td>162.482162</td>\n",
       "      <td>NaN</td>\n",
       "      <td>195.000000</td>\n",
       "      <td>192.593979</td>\n",
       "    </tr>\n",
       "    <tr>\n",
       "      <th>ADHIAMBO BEATRICE</th>\n",
       "      <td>0.000000</td>\n",
       "      <td>NaN</td>\n",
       "      <td>12.121212</td>\n",
       "      <td>83.333336</td>\n",
       "      <td>NaN</td>\n",
       "      <td>NaN</td>\n",
       "    </tr>\n",
       "    <tr>\n",
       "      <th>AGGREY KISANYA</th>\n",
       "      <td>98.171242</td>\n",
       "      <td>NaN</td>\n",
       "      <td>102.541946</td>\n",
       "      <td>NaN</td>\n",
       "      <td>115.551109</td>\n",
       "      <td>92.379501</td>\n",
       "    </tr>\n",
       "    <tr>\n",
       "      <th>AGNES MUTUA</th>\n",
       "      <td>70.054344</td>\n",
       "      <td>28.333334</td>\n",
       "      <td>56.389706</td>\n",
       "      <td>55.833332</td>\n",
       "      <td>68.750000</td>\n",
       "      <td>75.648148</td>\n",
       "    </tr>\n",
       "    <tr>\n",
       "      <th>AGNES OKETCH</th>\n",
       "      <td>7550.541504</td>\n",
       "      <td>3890.847412</td>\n",
       "      <td>5516.593750</td>\n",
       "      <td>5360.231445</td>\n",
       "      <td>5243.200195</td>\n",
       "      <td>5287.132812</td>\n",
       "    </tr>\n",
       "  </tbody>\n",
       "</table>\n",
       "</div>"
      ],
      "text/plain": [
       "CUSTOMER_CATEGORY       KIOSKS  MINI MARKET         SHOP  SUPERMARKET  \\\n",
       "SALES_REP                                                               \n",
       "ACHIENG BEATRICE    185.689651   132.500000   162.482162          NaN   \n",
       "ADHIAMBO BEATRICE     0.000000          NaN    12.121212    83.333336   \n",
       "AGGREY KISANYA       98.171242          NaN   102.541946          NaN   \n",
       "AGNES MUTUA          70.054344    28.333334    56.389706    55.833332   \n",
       "AGNES OKETCH       7550.541504  3890.847412  5516.593750  5360.231445   \n",
       "\n",
       "CUSTOMER_CATEGORY   TABLE TOPS  WHOLESALERS  \n",
       "SALES_REP                                    \n",
       "ACHIENG BEATRICE    195.000000   192.593979  \n",
       "ADHIAMBO BEATRICE          NaN          NaN  \n",
       "AGGREY KISANYA      115.551109    92.379501  \n",
       "AGNES MUTUA          68.750000    75.648148  \n",
       "AGNES OKETCH       5243.200195  5287.132812  "
      ]
     },
     "execution_count": 20,
     "metadata": {},
     "output_type": "execute_result"
    }
   ],
   "source": [
    "sales_sup.head()"
   ]
  },
  {
   "cell_type": "code",
   "execution_count": 21,
   "id": "0e32ba5c",
   "metadata": {
    "execution": {
     "iopub.execute_input": "2022-05-31T17:46:02.561845Z",
     "iopub.status.busy": "2022-05-31T17:46:02.561324Z",
     "iopub.status.idle": "2022-05-31T17:46:05.276103Z",
     "shell.execute_reply": "2022-05-31T17:46:05.275720Z",
     "shell.execute_reply.started": "2022-05-31T17:35:50.751270Z"
    },
    "papermill": {
     "duration": 2.773327,
     "end_time": "2022-05-31T17:46:05.276209",
     "exception": false,
     "start_time": "2022-05-31T17:46:02.502882",
     "status": "completed"
    },
    "tags": []
   },
   "outputs": [
    {
     "data": {
      "text/html": [
       "<div>\n",
       "<style scoped>\n",
       "    .dataframe tbody tr th:only-of-type {\n",
       "        vertical-align: middle;\n",
       "    }\n",
       "\n",
       "    .dataframe tbody tr th {\n",
       "        vertical-align: top;\n",
       "    }\n",
       "\n",
       "    .dataframe thead th {\n",
       "        text-align: right;\n",
       "    }\n",
       "</style>\n",
       "<table border=\"1\" class=\"dataframe\">\n",
       "  <thead>\n",
       "    <tr style=\"text-align: right;\">\n",
       "      <th></th>\n",
       "      <th>ENTRY_TYPE</th>\n",
       "      <th>SALES_REP</th>\n",
       "      <th>REP_CATEGORY</th>\n",
       "      <th>CUSTOMER_NAME</th>\n",
       "      <th>USERCATEGORY</th>\n",
       "      <th>CUSTOMER_ADDED_DATE</th>\n",
       "      <th>CUSTOMER_VERIFICATION</th>\n",
       "      <th>CUSTOMER_CATEGORY</th>\n",
       "      <th>LOCATION_NAME</th>\n",
       "      <th>ROUTE_NAME</th>\n",
       "      <th>PRODUCT_CATEGORY</th>\n",
       "      <th>PRODUCT_NAME</th>\n",
       "      <th>PRODUCT_SKU</th>\n",
       "      <th>ENTRY_TIME</th>\n",
       "    </tr>\n",
       "  </thead>\n",
       "  <tbody>\n",
       "    <tr>\n",
       "      <th>count</th>\n",
       "      <td>1224561</td>\n",
       "      <td>1224561</td>\n",
       "      <td>1224561</td>\n",
       "      <td>1224561</td>\n",
       "      <td>1224561</td>\n",
       "      <td>1224561</td>\n",
       "      <td>1224561</td>\n",
       "      <td>1224561</td>\n",
       "      <td>1224561</td>\n",
       "      <td>1224561</td>\n",
       "      <td>1224561</td>\n",
       "      <td>1224561</td>\n",
       "      <td>1224561</td>\n",
       "      <td>1224561</td>\n",
       "    </tr>\n",
       "    <tr>\n",
       "      <th>unique</th>\n",
       "      <td>4</td>\n",
       "      <td>427</td>\n",
       "      <td>19</td>\n",
       "      <td>52787</td>\n",
       "      <td>19</td>\n",
       "      <td>90854</td>\n",
       "      <td>3</td>\n",
       "      <td>6</td>\n",
       "      <td>164</td>\n",
       "      <td>1109</td>\n",
       "      <td>17</td>\n",
       "      <td>60</td>\n",
       "      <td>173</td>\n",
       "      <td>912050</td>\n",
       "    </tr>\n",
       "    <tr>\n",
       "      <th>top</th>\n",
       "      <td>Sale</td>\n",
       "      <td>LILIAN MBULA</td>\n",
       "      <td>FootSoldiers - Brilliantdom</td>\n",
       "      <td>BARAKA</td>\n",
       "      <td>FootSoldiers - Brilliantdom</td>\n",
       "      <td>2018-05-09 10:14:58</td>\n",
       "      <td>Pending</td>\n",
       "      <td>SHOP</td>\n",
       "      <td>NAIROBI CBD</td>\n",
       "      <td>PARK ROAD</td>\n",
       "      <td>FRESH 4S</td>\n",
       "      <td>FRESH 4S</td>\n",
       "      <td>TING TINGS STRAWBERRY BBG 12 PKTS X 50Pc</td>\n",
       "      <td>2019-04-13 15:44:51</td>\n",
       "    </tr>\n",
       "    <tr>\n",
       "      <th>freq</th>\n",
       "      <td>759271</td>\n",
       "      <td>42065</td>\n",
       "      <td>470712</td>\n",
       "      <td>15219</td>\n",
       "      <td>470712</td>\n",
       "      <td>4589</td>\n",
       "      <td>933305</td>\n",
       "      <td>842736</td>\n",
       "      <td>226431</td>\n",
       "      <td>15943</td>\n",
       "      <td>794591</td>\n",
       "      <td>794591</td>\n",
       "      <td>479905</td>\n",
       "      <td>32</td>\n",
       "    </tr>\n",
       "  </tbody>\n",
       "</table>\n",
       "</div>"
      ],
      "text/plain": [
       "       ENTRY_TYPE     SALES_REP                 REP_CATEGORY CUSTOMER_NAME  \\\n",
       "count     1224561       1224561                      1224561       1224561   \n",
       "unique          4           427                           19         52787   \n",
       "top          Sale  LILIAN MBULA  FootSoldiers - Brilliantdom        BARAKA   \n",
       "freq       759271         42065                       470712         15219   \n",
       "\n",
       "                       USERCATEGORY  CUSTOMER_ADDED_DATE  \\\n",
       "count                       1224561              1224561   \n",
       "unique                           19                90854   \n",
       "top     FootSoldiers - Brilliantdom  2018-05-09 10:14:58   \n",
       "freq                         470712                 4589   \n",
       "\n",
       "       CUSTOMER_VERIFICATION CUSTOMER_CATEGORY LOCATION_NAME ROUTE_NAME  \\\n",
       "count                1224561           1224561       1224561    1224561   \n",
       "unique                     3                 6           164       1109   \n",
       "top                  Pending              SHOP   NAIROBI CBD  PARK ROAD   \n",
       "freq                  933305            842736        226431      15943   \n",
       "\n",
       "       PRODUCT_CATEGORY PRODUCT_NAME  \\\n",
       "count           1224561      1224561   \n",
       "unique               17           60   \n",
       "top            FRESH 4S     FRESH 4S   \n",
       "freq             794591       794591   \n",
       "\n",
       "                                     PRODUCT_SKU           ENTRY_TIME  \n",
       "count                                    1224561              1224561  \n",
       "unique                                       173               912050  \n",
       "top     TING TINGS STRAWBERRY BBG 12 PKTS X 50Pc  2019-04-13 15:44:51  \n",
       "freq                                      479905                   32  "
      ]
     },
     "execution_count": 21,
     "metadata": {},
     "output_type": "execute_result"
    }
   ],
   "source": [
    "ord_nrb.describe(include=['category'])"
   ]
  },
  {
   "cell_type": "code",
   "execution_count": 22,
   "id": "fbb0b6b3",
   "metadata": {
    "execution": {
     "iopub.execute_input": "2022-05-31T17:46:05.390629Z",
     "iopub.status.busy": "2022-05-31T17:46:05.390128Z",
     "iopub.status.idle": "2022-05-31T17:46:06.149664Z",
     "shell.execute_reply": "2022-05-31T17:46:06.150155Z",
     "shell.execute_reply.started": "2022-05-31T17:35:59.129959Z"
    },
    "papermill": {
     "duration": 0.818233,
     "end_time": "2022-05-31T17:46:06.150316",
     "exception": false,
     "start_time": "2022-05-31T17:46:05.332083",
     "status": "completed"
    },
    "tags": []
   },
   "outputs": [],
   "source": [
    "\n",
    "threshold = 1000 # Anything that occurs less than this will be removed.\n",
    "value_counts = ord_nrb['LOCATION_NAME'].value_counts() # Entire DataFrame \n",
    "to_remove = value_counts[value_counts <= threshold].index\n",
    "ord_nrb['LOCATION_NAME'].replace(to_remove, np.nan, inplace=True)"
   ]
  },
  {
   "cell_type": "code",
   "execution_count": 23,
   "id": "889ec7a2",
   "metadata": {
    "execution": {
     "iopub.execute_input": "2022-05-31T17:46:06.326217Z",
     "iopub.status.busy": "2022-05-31T17:46:06.325308Z",
     "iopub.status.idle": "2022-05-31T17:46:06.988893Z",
     "shell.execute_reply": "2022-05-31T17:46:06.988370Z",
     "shell.execute_reply.started": "2022-05-31T17:35:59.640168Z"
    },
    "papermill": {
     "duration": 0.752476,
     "end_time": "2022-05-31T17:46:06.989020",
     "exception": false,
     "start_time": "2022-05-31T17:46:06.236544",
     "status": "completed"
    },
    "tags": []
   },
   "outputs": [
    {
     "data": {
      "text/html": [
       "<div>\n",
       "<style scoped>\n",
       "    .dataframe tbody tr th:only-of-type {\n",
       "        vertical-align: middle;\n",
       "    }\n",
       "\n",
       "    .dataframe tbody tr th {\n",
       "        vertical-align: top;\n",
       "    }\n",
       "\n",
       "    .dataframe thead th {\n",
       "        text-align: right;\n",
       "    }\n",
       "</style>\n",
       "<table border=\"1\" class=\"dataframe\">\n",
       "  <thead>\n",
       "    <tr style=\"text-align: right;\">\n",
       "      <th></th>\n",
       "      <th>ENTRY_TYPE</th>\n",
       "      <th>SALES_REP</th>\n",
       "      <th>REP_CATEGORY</th>\n",
       "      <th>CUSTOMER_NAME</th>\n",
       "      <th>USERCATEGORY</th>\n",
       "      <th>CUSTOMER_ADDED_DATE</th>\n",
       "      <th>CUSTOMER_VERIFICATION</th>\n",
       "      <th>CUSTOMER_CATEGORY</th>\n",
       "      <th>LOCATION_NAME</th>\n",
       "      <th>ROUTE_NAME</th>\n",
       "      <th>PRODUCT_CATEGORY</th>\n",
       "      <th>PRODUCT_NAME</th>\n",
       "      <th>PRODUCT_SKU</th>\n",
       "      <th>ENTRY_TIME</th>\n",
       "    </tr>\n",
       "  </thead>\n",
       "  <tbody>\n",
       "    <tr>\n",
       "      <th>count</th>\n",
       "      <td>1224561</td>\n",
       "      <td>1224561</td>\n",
       "      <td>1224561</td>\n",
       "      <td>1224561</td>\n",
       "      <td>1224561</td>\n",
       "      <td>1224561</td>\n",
       "      <td>1224561</td>\n",
       "      <td>1224561</td>\n",
       "      <td>1215184</td>\n",
       "      <td>1224561</td>\n",
       "      <td>1224561</td>\n",
       "      <td>1224561</td>\n",
       "      <td>1224561</td>\n",
       "      <td>1224561</td>\n",
       "    </tr>\n",
       "    <tr>\n",
       "      <th>unique</th>\n",
       "      <td>4</td>\n",
       "      <td>427</td>\n",
       "      <td>19</td>\n",
       "      <td>52787</td>\n",
       "      <td>19</td>\n",
       "      <td>90854</td>\n",
       "      <td>3</td>\n",
       "      <td>6</td>\n",
       "      <td>64</td>\n",
       "      <td>1109</td>\n",
       "      <td>17</td>\n",
       "      <td>60</td>\n",
       "      <td>173</td>\n",
       "      <td>912050</td>\n",
       "    </tr>\n",
       "    <tr>\n",
       "      <th>top</th>\n",
       "      <td>Sale</td>\n",
       "      <td>LILIAN MBULA</td>\n",
       "      <td>FootSoldiers - Brilliantdom</td>\n",
       "      <td>BARAKA</td>\n",
       "      <td>FootSoldiers - Brilliantdom</td>\n",
       "      <td>2018-05-09 10:14:58</td>\n",
       "      <td>Pending</td>\n",
       "      <td>SHOP</td>\n",
       "      <td>NAIROBI CBD</td>\n",
       "      <td>PARK ROAD</td>\n",
       "      <td>FRESH 4S</td>\n",
       "      <td>FRESH 4S</td>\n",
       "      <td>TING TINGS STRAWBERRY BBG 12 PKTS X 50Pc</td>\n",
       "      <td>2019-04-13 15:44:51</td>\n",
       "    </tr>\n",
       "    <tr>\n",
       "      <th>freq</th>\n",
       "      <td>759271</td>\n",
       "      <td>42065</td>\n",
       "      <td>470712</td>\n",
       "      <td>15219</td>\n",
       "      <td>470712</td>\n",
       "      <td>4589</td>\n",
       "      <td>933305</td>\n",
       "      <td>842736</td>\n",
       "      <td>226431</td>\n",
       "      <td>15943</td>\n",
       "      <td>794591</td>\n",
       "      <td>794591</td>\n",
       "      <td>479905</td>\n",
       "      <td>32</td>\n",
       "    </tr>\n",
       "  </tbody>\n",
       "</table>\n",
       "</div>"
      ],
      "text/plain": [
       "       ENTRY_TYPE     SALES_REP                 REP_CATEGORY CUSTOMER_NAME  \\\n",
       "count     1224561       1224561                      1224561       1224561   \n",
       "unique          4           427                           19         52787   \n",
       "top          Sale  LILIAN MBULA  FootSoldiers - Brilliantdom        BARAKA   \n",
       "freq       759271         42065                       470712         15219   \n",
       "\n",
       "                       USERCATEGORY  CUSTOMER_ADDED_DATE  \\\n",
       "count                       1224561              1224561   \n",
       "unique                           19                90854   \n",
       "top     FootSoldiers - Brilliantdom  2018-05-09 10:14:58   \n",
       "freq                         470712                 4589   \n",
       "\n",
       "       CUSTOMER_VERIFICATION CUSTOMER_CATEGORY LOCATION_NAME ROUTE_NAME  \\\n",
       "count                1224561           1224561       1215184    1224561   \n",
       "unique                     3                 6            64       1109   \n",
       "top                  Pending              SHOP   NAIROBI CBD  PARK ROAD   \n",
       "freq                  933305            842736        226431      15943   \n",
       "\n",
       "       PRODUCT_CATEGORY PRODUCT_NAME  \\\n",
       "count           1224561      1224561   \n",
       "unique               17           60   \n",
       "top            FRESH 4S     FRESH 4S   \n",
       "freq             794591       794591   \n",
       "\n",
       "                                     PRODUCT_SKU           ENTRY_TIME  \n",
       "count                                    1224561              1224561  \n",
       "unique                                       173               912050  \n",
       "top     TING TINGS STRAWBERRY BBG 12 PKTS X 50Pc  2019-04-13 15:44:51  \n",
       "freq                                      479905                   32  "
      ]
     },
     "execution_count": 23,
     "metadata": {},
     "output_type": "execute_result"
    }
   ],
   "source": [
    "ord_nrb.describe(include=['category'])"
   ]
  },
  {
   "cell_type": "code",
   "execution_count": 24,
   "id": "1d3ac403",
   "metadata": {
    "execution": {
     "iopub.execute_input": "2022-05-31T17:46:07.164276Z",
     "iopub.status.busy": "2022-05-31T17:46:07.163398Z",
     "iopub.status.idle": "2022-05-31T17:46:07.178911Z",
     "shell.execute_reply": "2022-05-31T17:46:07.179509Z",
     "shell.execute_reply.started": "2022-05-31T17:36:03.200531Z"
    },
    "papermill": {
     "duration": 0.104605,
     "end_time": "2022-05-31T17:46:07.179711",
     "exception": false,
     "start_time": "2022-05-31T17:46:07.075106",
     "status": "completed"
    },
    "tags": []
   },
   "outputs": [
    {
     "data": {
      "text/plain": [
       "NAIROBI CBD    226431\n",
       "GITHURAI        63291\n",
       "UMOJA           53851\n",
       "KAWANGWARE      46373\n",
       "KIAMBU          45173\n",
       "                ...  \n",
       "MAREBA           1876\n",
       "SHAURI MOYO      1491\n",
       "MADARAKA         1216\n",
       "BAHATI           1163\n",
       "HAMZA            1130\n",
       "Name: LOCATION_NAME, Length: 64, dtype: int64"
      ]
     },
     "execution_count": 24,
     "metadata": {},
     "output_type": "execute_result"
    }
   ],
   "source": [
    "ord_nrb['LOCATION_NAME'].value_counts()"
   ]
  },
  {
   "cell_type": "code",
   "execution_count": 25,
   "id": "13b23603",
   "metadata": {
    "execution": {
     "iopub.execute_input": "2022-05-31T17:46:07.356590Z",
     "iopub.status.busy": "2022-05-31T17:46:07.355898Z",
     "iopub.status.idle": "2022-05-31T17:46:07.376351Z",
     "shell.execute_reply": "2022-05-31T17:46:07.375767Z",
     "shell.execute_reply.started": "2022-05-31T17:36:03.672862Z"
    },
    "papermill": {
     "duration": 0.109418,
     "end_time": "2022-05-31T17:46:07.376513",
     "exception": false,
     "start_time": "2022-05-31T17:46:07.267095",
     "status": "completed"
    },
    "tags": []
   },
   "outputs": [
    {
     "data": {
      "text/plain": [
       "LOCATION_NAME\n",
       "TASSIA           1137.524048\n",
       "RUIRU             882.216736\n",
       "NAIROBI CBD       855.642517\n",
       "LIMURU            788.450684\n",
       "UTHIRU            735.772278\n",
       "                    ...     \n",
       "HAMZA             109.815041\n",
       "JERUSALEM         105.850166\n",
       "GITHOGORO         100.588501\n",
       "MOMBASA C.B.D     100.571465\n",
       "MATHARE            84.556686\n",
       "Name: VALUE_SOLD, Length: 64, dtype: float32"
      ]
     },
     "execution_count": 25,
     "metadata": {},
     "output_type": "execute_result"
    }
   ],
   "source": [
    "# group sales by location \n",
    "ord_nrb.groupby(['LOCATION_NAME'])['VALUE_SOLD'].mean().sort_values(ascending=False)"
   ]
  },
  {
   "cell_type": "code",
   "execution_count": 26,
   "id": "f4e3cd14",
   "metadata": {
    "execution": {
     "iopub.execute_input": "2022-05-31T17:46:07.555255Z",
     "iopub.status.busy": "2022-05-31T17:46:07.554673Z",
     "iopub.status.idle": "2022-05-31T17:46:07.560614Z",
     "shell.execute_reply": "2022-05-31T17:46:07.561063Z",
     "shell.execute_reply.started": "2022-05-31T17:36:07.433356Z"
    },
    "papermill": {
     "duration": 0.097549,
     "end_time": "2022-05-31T17:46:07.561213",
     "exception": false,
     "start_time": "2022-05-31T17:46:07.463664",
     "status": "completed"
    },
    "tags": []
   },
   "outputs": [
    {
     "data": {
      "text/plain": [
       "True"
      ]
     },
     "execution_count": 26,
     "metadata": {},
     "output_type": "execute_result"
    }
   ],
   "source": [
    "#USERCATEGORY\n",
    "ord_nrb['USERCATEGORY'].equals(ord_nrb['REP_CATEGORY'])"
   ]
  },
  {
   "cell_type": "code",
   "execution_count": 27,
   "id": "5fe5e66a",
   "metadata": {
    "execution": {
     "iopub.execute_input": "2022-05-31T17:46:07.784002Z",
     "iopub.status.busy": "2022-05-31T17:46:07.783238Z",
     "iopub.status.idle": "2022-05-31T17:46:07.808036Z",
     "shell.execute_reply": "2022-05-31T17:46:07.808509Z",
     "shell.execute_reply.started": "2022-05-31T17:36:08.359713Z"
    },
    "papermill": {
     "duration": 0.159341,
     "end_time": "2022-05-31T17:46:07.808689",
     "exception": false,
     "start_time": "2022-05-31T17:46:07.649348",
     "status": "completed"
    },
    "tags": []
   },
   "outputs": [],
   "source": [
    "# drop one column \n",
    "orders.drop(['REP_CATEGORY'],axis=1,inplace=True)"
   ]
  },
  {
   "cell_type": "code",
   "execution_count": 28,
   "id": "c999b2e9",
   "metadata": {
    "execution": {
     "iopub.execute_input": "2022-05-31T17:46:07.987885Z",
     "iopub.status.busy": "2022-05-31T17:46:07.985926Z",
     "iopub.status.idle": "2022-05-31T17:46:08.005376Z",
     "shell.execute_reply": "2022-05-31T17:46:08.004770Z",
     "shell.execute_reply.started": "2022-05-31T17:36:15.178877Z"
    },
    "papermill": {
     "duration": 0.109448,
     "end_time": "2022-05-31T17:46:08.005511",
     "exception": false,
     "start_time": "2022-05-31T17:46:07.896063",
     "status": "completed"
    },
    "tags": []
   },
   "outputs": [
    {
     "data": {
      "text/plain": [
       "REP_CATEGORY\n",
       "Kenafric Industries            7760.486328\n",
       "Wholesale Champions            6764.887207\n",
       "Tuk Tuk                        2303.075928\n",
       "Beverage Presellers            1804.692749\n",
       "KCP POS                         883.713440\n",
       "Tassia KCP                      433.041626\n",
       "Motorbike - BrilliantDom        285.759705\n",
       "TRADCO MBSR                     233.973282\n",
       "FootSoldiers - IM Salaried      210.298096\n",
       "Kawangware KCP                  207.052719\n",
       "FootSoldiers - TRADCO           180.291183\n",
       "Test Agency                     178.333328\n",
       "Baba Dogo KCP                   169.459885\n",
       "FootSoldiers - Brilliantdom     140.222733\n",
       "FRESH ACTIVE TEAM               126.414581\n",
       "JILAG                           113.883423\n",
       "ADSUM VENTURES                   54.504715\n",
       "ICL Uganda                       52.917389\n",
       "FootSoldiers - AV                52.296436\n",
       "BISCUIT PRESELLERS                     NaN\n",
       "Van-Sellers                            NaN\n",
       "Name: VALUE_SOLD, dtype: float32"
      ]
     },
     "execution_count": 28,
     "metadata": {},
     "output_type": "execute_result"
    }
   ],
   "source": [
    "# group sales by location \n",
    "ord_nrb.groupby(['REP_CATEGORY'])['VALUE_SOLD'].mean().sort_values(ascending=False)"
   ]
  },
  {
   "cell_type": "code",
   "execution_count": 29,
   "id": "e863b63d",
   "metadata": {
    "execution": {
     "iopub.execute_input": "2022-05-31T17:46:08.186059Z",
     "iopub.status.busy": "2022-05-31T17:46:08.185445Z",
     "iopub.status.idle": "2022-05-31T17:46:08.206460Z",
     "shell.execute_reply": "2022-05-31T17:46:08.206980Z",
     "shell.execute_reply.started": "2022-05-31T17:36:16.229039Z"
    },
    "papermill": {
     "duration": 0.113455,
     "end_time": "2022-05-31T17:46:08.207154",
     "exception": false,
     "start_time": "2022-05-31T17:46:08.093699",
     "status": "completed"
    },
    "tags": []
   },
   "outputs": [],
   "source": [
    "orders['ENTRY_TYPE'].replace({'0':'Sale'}, inplace = True)"
   ]
  },
  {
   "cell_type": "code",
   "execution_count": 30,
   "id": "8652910d",
   "metadata": {
    "execution": {
     "iopub.execute_input": "2022-05-31T17:46:08.392077Z",
     "iopub.status.busy": "2022-05-31T17:46:08.391129Z",
     "iopub.status.idle": "2022-05-31T17:46:08.405241Z",
     "shell.execute_reply": "2022-05-31T17:46:08.405804Z",
     "shell.execute_reply.started": "2022-05-31T17:36:20.227657Z"
    },
    "papermill": {
     "duration": 0.108696,
     "end_time": "2022-05-31T17:46:08.405963",
     "exception": false,
     "start_time": "2022-05-31T17:46:08.297267",
     "status": "completed"
    },
    "tags": []
   },
   "outputs": [
    {
     "data": {
      "text/plain": [
       "ENTRY_TYPE\n",
       "Order    7063.690430\n",
       "Sale      278.493927\n",
       "skip        0.000412\n",
       "0           0.000000\n",
       "Name: VALUE_SOLD, dtype: float32"
      ]
     },
     "execution_count": 30,
     "metadata": {},
     "output_type": "execute_result"
    }
   ],
   "source": [
    "ord_nrb.groupby(['ENTRY_TYPE'])['VALUE_SOLD'].mean().sort_values(ascending=False)"
   ]
  },
  {
   "cell_type": "code",
   "execution_count": 31,
   "id": "15a8595c",
   "metadata": {
    "execution": {
     "iopub.execute_input": "2022-05-31T17:46:08.542115Z",
     "iopub.status.busy": "2022-05-31T17:46:08.541459Z",
     "iopub.status.idle": "2022-05-31T17:46:08.557841Z",
     "shell.execute_reply": "2022-05-31T17:46:08.558421Z",
     "shell.execute_reply.started": "2022-05-31T17:36:21.125933Z"
    },
    "papermill": {
     "duration": 0.081937,
     "end_time": "2022-05-31T17:46:08.558606",
     "exception": false,
     "start_time": "2022-05-31T17:46:08.476669",
     "status": "completed"
    },
    "tags": []
   },
   "outputs": [
    {
     "data": {
      "text/plain": [
       "CUSTOMER_VERIFICATION\n",
       "Pending    530.981445\n",
       "Valid      310.437836\n",
       "Invalid    160.378433\n",
       "Name: VALUE_SOLD, dtype: float32"
      ]
     },
     "execution_count": 31,
     "metadata": {},
     "output_type": "execute_result"
    }
   ],
   "source": [
    "ord_nrb.groupby(['CUSTOMER_VERIFICATION'])['VALUE_SOLD'].mean().sort_values(ascending=False)"
   ]
  },
  {
   "cell_type": "code",
   "execution_count": 32,
   "id": "0e15e048",
   "metadata": {
    "execution": {
     "iopub.execute_input": "2022-05-31T17:46:08.738414Z",
     "iopub.status.busy": "2022-05-31T17:46:08.737768Z",
     "iopub.status.idle": "2022-05-31T17:46:08.761333Z",
     "shell.execute_reply": "2022-05-31T17:46:08.762000Z",
     "shell.execute_reply.started": "2022-05-31T17:36:22.343406Z"
    },
    "papermill": {
     "duration": 0.115129,
     "end_time": "2022-05-31T17:46:08.762168",
     "exception": false,
     "start_time": "2022-05-31T17:46:08.647039",
     "status": "completed"
    },
    "tags": []
   },
   "outputs": [
    {
     "data": {
      "text/html": [
       "<div>\n",
       "<style scoped>\n",
       "    .dataframe tbody tr th:only-of-type {\n",
       "        vertical-align: middle;\n",
       "    }\n",
       "\n",
       "    .dataframe tbody tr th {\n",
       "        vertical-align: top;\n",
       "    }\n",
       "\n",
       "    .dataframe thead th {\n",
       "        text-align: right;\n",
       "    }\n",
       "</style>\n",
       "<table border=\"1\" class=\"dataframe\">\n",
       "  <thead>\n",
       "    <tr style=\"text-align: right;\">\n",
       "      <th></th>\n",
       "      <th>ENTRY_ID</th>\n",
       "      <th>ENTRY_TYPE</th>\n",
       "      <th>USERID</th>\n",
       "      <th>SALES_REP</th>\n",
       "      <th>REP_CATEGORY</th>\n",
       "      <th>SHOPID</th>\n",
       "      <th>CUSTOMER_NAME</th>\n",
       "      <th>USERCATEGORY</th>\n",
       "      <th>CUSTOMER_ADDED_DATE</th>\n",
       "      <th>CUSTOMER_VERIFICATION</th>\n",
       "      <th>CUSTOMER_CATEGORY</th>\n",
       "      <th>LOCATION_ID</th>\n",
       "      <th>LOCATION_NAME</th>\n",
       "      <th>ROUTE_NAME</th>\n",
       "      <th>PRODUCT_CATEGORY</th>\n",
       "      <th>PRODUCT_NAME</th>\n",
       "      <th>PRODUCT_SKU</th>\n",
       "      <th>PIECES_SOLD</th>\n",
       "      <th>CARTONS_SOLD</th>\n",
       "      <th>VALUE_SOLD</th>\n",
       "      <th>ENTRY_TIME</th>\n",
       "    </tr>\n",
       "  </thead>\n",
       "  <tbody>\n",
       "    <tr>\n",
       "      <th>0</th>\n",
       "      <td>1243905</td>\n",
       "      <td>skip</td>\n",
       "      <td>38</td>\n",
       "      <td>MILDRED MUSINGA NAOMI</td>\n",
       "      <td>FootSoldiers - Brilliantdom</td>\n",
       "      <td>238808</td>\n",
       "      <td>BRINGBRING</td>\n",
       "      <td>FootSoldiers - Brilliantdom</td>\n",
       "      <td>2018-12-04 04:58:15</td>\n",
       "      <td>Valid</td>\n",
       "      <td>SHOP</td>\n",
       "      <td>117.0</td>\n",
       "      <td>KIBERA</td>\n",
       "      <td>OLYMPIC/AYANY</td>\n",
       "      <td>FRESH 4S</td>\n",
       "      <td>FRESH 4S</td>\n",
       "      <td>TING TINGS STRAWBERRY BBG 12 PKTS X 50Pc</td>\n",
       "      <td>0.0</td>\n",
       "      <td>0.0</td>\n",
       "      <td>0.0</td>\n",
       "      <td>2019-01-08 08:03:09</td>\n",
       "    </tr>\n",
       "    <tr>\n",
       "      <th>1</th>\n",
       "      <td>1245619</td>\n",
       "      <td>skip</td>\n",
       "      <td>38</td>\n",
       "      <td>MILDRED MUSINGA NAOMI</td>\n",
       "      <td>FootSoldiers - Brilliantdom</td>\n",
       "      <td>238815</td>\n",
       "      <td>BOYO</td>\n",
       "      <td>FootSoldiers - Brilliantdom</td>\n",
       "      <td>2018-12-04 05:07:49</td>\n",
       "      <td>Pending</td>\n",
       "      <td>SHOP</td>\n",
       "      <td>117.0</td>\n",
       "      <td>KIBERA</td>\n",
       "      <td>OLYMPIC/AYANY</td>\n",
       "      <td>FRESH 4S</td>\n",
       "      <td>FRESH 4S</td>\n",
       "      <td>TING TINGS STRAWBERRY BBG 12 PKTS X 50Pc</td>\n",
       "      <td>0.0</td>\n",
       "      <td>0.0</td>\n",
       "      <td>0.0</td>\n",
       "      <td>2019-01-08 10:14:17</td>\n",
       "    </tr>\n",
       "    <tr>\n",
       "      <th>2</th>\n",
       "      <td>1248165</td>\n",
       "      <td>skip</td>\n",
       "      <td>38</td>\n",
       "      <td>MILDRED MUSINGA NAOMI</td>\n",
       "      <td>FootSoldiers - Brilliantdom</td>\n",
       "      <td>238825</td>\n",
       "      <td>SIMO</td>\n",
       "      <td>FootSoldiers - Brilliantdom</td>\n",
       "      <td>2018-12-04 05:24:44</td>\n",
       "      <td>Pending</td>\n",
       "      <td>SHOP</td>\n",
       "      <td>117.0</td>\n",
       "      <td>KIBERA</td>\n",
       "      <td>OLYMPIC/AYANY</td>\n",
       "      <td>FRESH 4S</td>\n",
       "      <td>FRESH 4S</td>\n",
       "      <td>TING TINGS STRAWBERRY BBG 12 PKTS X 50Pc</td>\n",
       "      <td>0.0</td>\n",
       "      <td>0.0</td>\n",
       "      <td>0.0</td>\n",
       "      <td>2019-01-08 12:22:04</td>\n",
       "    </tr>\n",
       "  </tbody>\n",
       "</table>\n",
       "</div>"
      ],
      "text/plain": [
       "   ENTRY_ID ENTRY_TYPE  USERID              SALES_REP  \\\n",
       "0   1243905       skip      38  MILDRED MUSINGA NAOMI   \n",
       "1   1245619       skip      38  MILDRED MUSINGA NAOMI   \n",
       "2   1248165       skip      38  MILDRED MUSINGA NAOMI   \n",
       "\n",
       "                  REP_CATEGORY  SHOPID CUSTOMER_NAME  \\\n",
       "0  FootSoldiers - Brilliantdom  238808    BRINGBRING   \n",
       "1  FootSoldiers - Brilliantdom  238815          BOYO   \n",
       "2  FootSoldiers - Brilliantdom  238825          SIMO   \n",
       "\n",
       "                  USERCATEGORY  CUSTOMER_ADDED_DATE CUSTOMER_VERIFICATION  \\\n",
       "0  FootSoldiers - Brilliantdom  2018-12-04 04:58:15                 Valid   \n",
       "1  FootSoldiers - Brilliantdom  2018-12-04 05:07:49               Pending   \n",
       "2  FootSoldiers - Brilliantdom  2018-12-04 05:24:44               Pending   \n",
       "\n",
       "  CUSTOMER_CATEGORY  LOCATION_ID LOCATION_NAME     ROUTE_NAME  \\\n",
       "0              SHOP        117.0        KIBERA  OLYMPIC/AYANY   \n",
       "1              SHOP        117.0        KIBERA  OLYMPIC/AYANY   \n",
       "2              SHOP        117.0        KIBERA  OLYMPIC/AYANY   \n",
       "\n",
       "  PRODUCT_CATEGORY PRODUCT_NAME                               PRODUCT_SKU  \\\n",
       "0         FRESH 4S     FRESH 4S  TING TINGS STRAWBERRY BBG 12 PKTS X 50Pc   \n",
       "1         FRESH 4S     FRESH 4S  TING TINGS STRAWBERRY BBG 12 PKTS X 50Pc   \n",
       "2         FRESH 4S     FRESH 4S  TING TINGS STRAWBERRY BBG 12 PKTS X 50Pc   \n",
       "\n",
       "   PIECES_SOLD  CARTONS_SOLD  VALUE_SOLD           ENTRY_TIME  \n",
       "0          0.0           0.0         0.0  2019-01-08 08:03:09  \n",
       "1          0.0           0.0         0.0  2019-01-08 10:14:17  \n",
       "2          0.0           0.0         0.0  2019-01-08 12:22:04  "
      ]
     },
     "execution_count": 32,
     "metadata": {},
     "output_type": "execute_result"
    }
   ],
   "source": [
    "ord_nrb.head(3)"
   ]
  },
  {
   "cell_type": "code",
   "execution_count": 33,
   "id": "e3c27c43",
   "metadata": {
    "execution": {
     "iopub.execute_input": "2022-05-31T17:46:08.948082Z",
     "iopub.status.busy": "2022-05-31T17:46:08.947418Z",
     "iopub.status.idle": "2022-05-31T17:46:08.949826Z",
     "shell.execute_reply": "2022-05-31T17:46:08.950306Z",
     "shell.execute_reply.started": "2022-05-31T17:36:33.275480Z"
    },
    "papermill": {
     "duration": 0.096737,
     "end_time": "2022-05-31T17:46:08.950461",
     "exception": false,
     "start_time": "2022-05-31T17:46:08.853724",
     "status": "completed"
    },
    "tags": []
   },
   "outputs": [
    {
     "data": {
      "text/plain": [
       "(1224561, 21)"
      ]
     },
     "execution_count": 33,
     "metadata": {},
     "output_type": "execute_result"
    }
   ],
   "source": [
    "ord_nrb.shape"
   ]
  },
  {
   "cell_type": "code",
   "execution_count": 34,
   "id": "7142f530",
   "metadata": {
    "execution": {
     "iopub.execute_input": "2022-05-31T17:46:09.134158Z",
     "iopub.status.busy": "2022-05-31T17:46:09.133529Z",
     "iopub.status.idle": "2022-05-31T17:46:45.251212Z",
     "shell.execute_reply": "2022-05-31T17:46:45.250659Z",
     "shell.execute_reply.started": "2022-05-31T17:36:52.986188Z"
    },
    "papermill": {
     "duration": 36.210989,
     "end_time": "2022-05-31T17:46:45.251342",
     "exception": false,
     "start_time": "2022-05-31T17:46:09.040353",
     "status": "completed"
    },
    "tags": []
   },
   "outputs": [],
   "source": [
    "ord_nrb.to_csv('nairobi_sales.csv')"
   ]
  },
  {
   "cell_type": "code",
   "execution_count": 35,
   "id": "64ec6f82",
   "metadata": {
    "execution": {
     "iopub.execute_input": "2022-05-31T17:46:45.435860Z",
     "iopub.status.busy": "2022-05-31T17:46:45.435222Z",
     "iopub.status.idle": "2022-05-31T17:46:45.964818Z",
     "shell.execute_reply": "2022-05-31T17:46:45.964253Z",
     "shell.execute_reply.started": "2022-05-31T17:37:37.997163Z"
    },
    "papermill": {
     "duration": 0.622674,
     "end_time": "2022-05-31T17:46:45.965014",
     "exception": false,
     "start_time": "2022-05-31T17:46:45.342340",
     "status": "completed"
    },
    "tags": []
   },
   "outputs": [],
   "source": [
    "# attempting clustering \n",
    "from sklearn.cluster import DBSCAN\n",
    "import sklearn.utils\n",
    "from sklearn.preprocessing import StandardScaler\n",
    "\n",
    "clus = ord_nrb[['PIECES_SOLD','CARTONS_SOLD','VALUE_SOLD']]\n",
    "#Clus_dataSet = np.nan_to_num(Clus_dataSet)\n",
    "#Clus_dataSet = np.array(Clus_dataSet, dtype=np.float64)\n",
    "Clus_dataSet = StandardScaler().fit_transform(clus)"
   ]
  },
  {
   "cell_type": "code",
   "execution_count": 36,
   "id": "093cb8c4",
   "metadata": {
    "execution": {
     "iopub.execute_input": "2022-05-31T17:46:46.965168Z",
     "iopub.status.busy": "2022-05-31T17:46:46.964498Z",
     "iopub.status.idle": "2022-05-31T17:46:46.969393Z",
     "shell.execute_reply": "2022-05-31T17:46:46.969770Z",
     "shell.execute_reply.started": "2022-05-31T17:39:39.685935Z"
    },
    "papermill": {
     "duration": 0.914538,
     "end_time": "2022-05-31T17:46:46.969892",
     "exception": false,
     "start_time": "2022-05-31T17:46:46.055354",
     "status": "completed"
    },
    "tags": []
   },
   "outputs": [
    {
     "data": {
      "text/plain": [
       "array([[-0.3337336 , -0.08339726, -0.10931834],\n",
       "       [-0.3337336 , -0.08339726, -0.10931834],\n",
       "       [-0.3337336 , -0.08339726, -0.10931834],\n",
       "       ...,\n",
       "       [-0.07527021, -0.03974696, -0.05432367],\n",
       "       [-0.07527021, -0.03974696, -0.05661512],\n",
       "       [-0.07527021, -0.03974696, -0.05661512]], dtype=float32)"
      ]
     },
     "execution_count": 36,
     "metadata": {},
     "output_type": "execute_result"
    }
   ],
   "source": [
    "Clus_dataSet"
   ]
  },
  {
   "cell_type": "code",
   "execution_count": 37,
   "id": "b99aa2d0",
   "metadata": {
    "execution": {
     "iopub.execute_input": "2022-05-31T17:46:47.092594Z",
     "iopub.status.busy": "2022-05-31T17:46:47.091094Z",
     "iopub.status.idle": "2022-05-31T17:46:47.095164Z",
     "shell.execute_reply": "2022-05-31T17:46:47.094673Z",
     "shell.execute_reply.started": "2022-05-31T17:39:40.126465Z"
    },
    "papermill": {
     "duration": 0.065645,
     "end_time": "2022-05-31T17:46:47.095288",
     "exception": false,
     "start_time": "2022-05-31T17:46:47.029643",
     "status": "completed"
    },
    "tags": []
   },
   "outputs": [],
   "source": [
    "from sklearn.cluster import KMeans #K-Means"
   ]
  },
  {
   "cell_type": "code",
   "execution_count": 38,
   "id": "3ef13a55",
   "metadata": {
    "execution": {
     "iopub.execute_input": "2022-05-31T17:46:47.282234Z",
     "iopub.status.busy": "2022-05-31T17:46:47.281510Z",
     "iopub.status.idle": "2022-05-31T17:46:51.054197Z",
     "shell.execute_reply": "2022-05-31T17:46:51.054599Z",
     "shell.execute_reply.started": "2022-05-31T17:40:15.679826Z"
    },
    "papermill": {
     "duration": 3.8683,
     "end_time": "2022-05-31T17:46:51.054726",
     "exception": false,
     "start_time": "2022-05-31T17:46:47.186426",
     "status": "completed"
    },
    "tags": []
   },
   "outputs": [
    {
     "data": {
      "image/png": "[encoded data removed]",
      "text/plain": [
       "<Figure size 800x400 with 1 Axes>"
      ]
     },
     "metadata": {
      "needs_background": "light"
     },
     "output_type": "display_data"
    }
   ],
   "source": [
    "#scatter plot\n",
    "plt.figure(figsize = (8,4), dpi = 100)\n",
    "sns.scatterplot(data=clus,x='PIECES_SOLD',y='VALUE_SOLD')\n",
    "plt.show()"
   ]
  },
  {
   "cell_type": "code",
   "execution_count": 39,
   "id": "c835e18f",
   "metadata": {
    "execution": {
     "iopub.execute_input": "2022-05-31T17:46:51.182960Z",
     "iopub.status.busy": "2022-05-31T17:46:51.182374Z",
     "iopub.status.idle": "2022-05-31T17:46:55.090255Z",
     "shell.execute_reply": "2022-05-31T17:46:55.089747Z",
     "shell.execute_reply.started": "2022-05-31T17:40:21.512868Z"
    },
    "papermill": {
     "duration": 3.974612,
     "end_time": "2022-05-31T17:46:55.090383",
     "exception": false,
     "start_time": "2022-05-31T17:46:51.115771",
     "status": "completed"
    },
    "tags": []
   },
   "outputs": [
    {
     "data": {
      "image/png": "[encoded data removed]",
      "text/plain": [
       "<Figure size 800x400 with 1 Axes>"
      ]
     },
     "metadata": {
      "needs_background": "light"
     },
     "output_type": "display_data"
    }
   ],
   "source": [
    "#scatter plot\n",
    "plt.figure(figsize = (8,4), dpi = 100)\n",
    "sns.scatterplot(data=clus,x='CARTONS_SOLD',y='VALUE_SOLD')\n",
    "plt.show()"
   ]
  },
  {
   "cell_type": "code",
   "execution_count": 40,
   "id": "72a385d5",
   "metadata": {
    "execution": {
     "iopub.execute_input": "2022-05-31T17:46:55.233724Z",
     "iopub.status.busy": "2022-05-31T17:46:55.226753Z",
     "iopub.status.idle": "2022-05-31T17:46:59.028328Z",
     "shell.execute_reply": "2022-05-31T17:46:59.027730Z",
     "shell.execute_reply.started": "2022-05-31T17:40:25.330281Z"
    },
    "papermill": {
     "duration": 3.87409,
     "end_time": "2022-05-31T17:46:59.028457",
     "exception": false,
     "start_time": "2022-05-31T17:46:55.154367",
     "status": "completed"
    },
    "tags": []
   },
   "outputs": [
    {
     "data": {
      "image/png": "[encoded data removed]",
      "text/plain": [
       "<Figure size 800x400 with 1 Axes>"
      ]
     },
     "metadata": {
      "needs_background": "light"
     },
     "output_type": "display_data"
    }
   ],
   "source": [
    "#scatter plot\n",
    "plt.figure(figsize = (8,4), dpi = 100)\n",
    "sns.scatterplot(data=clus,x='PIECES_SOLD',y='CARTONS_SOLD')\n",
    "plt.show()"
   ]
  },
  {
   "cell_type": "code",
   "execution_count": 41,
   "id": "9d695542",
   "metadata": {
    "execution": {
     "iopub.execute_input": "2022-05-31T17:46:59.222213Z",
     "iopub.status.busy": "2022-05-31T17:46:59.218841Z",
     "iopub.status.idle": "2022-05-31T17:46:59.224070Z",
     "shell.execute_reply": "2022-05-31T17:46:59.224686Z",
     "shell.execute_reply.started": "2022-05-31T17:40:39.315069Z"
    },
    "papermill": {
     "duration": 0.103423,
     "end_time": "2022-05-31T17:46:59.224851",
     "exception": false,
     "start_time": "2022-05-31T17:46:59.121428",
     "status": "completed"
    },
    "tags": []
   },
   "outputs": [],
   "source": [
    "#define the function \n",
    "def display_categories(model,data):\n",
    "    labels = model.fit_predict(data)\n",
    "    plt.figure(figsize = (8,4), dpi = 100)\n",
    "    sns.scatterplot(data=data,x='VALUE_SOLD',y='PIECES_SOLD',hue=labels,palette='Set1')\n",
    "    plt.show()"
   ]
  },
  {
   "cell_type": "code",
   "execution_count": 42,
   "id": "bd18665f",
   "metadata": {
    "execution": {
     "iopub.execute_input": "2022-05-31T17:46:59.415463Z",
     "iopub.status.busy": "2022-05-31T17:46:59.414873Z",
     "iopub.status.idle": "2022-05-31T17:47:31.317064Z",
     "shell.execute_reply": "2022-05-31T17:47:31.317611Z",
     "shell.execute_reply.started": "2022-05-31T17:40:40.169922Z"
    },
    "papermill": {
     "duration": 31.999037,
     "end_time": "2022-05-31T17:47:31.317769",
     "exception": false,
     "start_time": "2022-05-31T17:46:59.318732",
     "status": "completed"
    },
    "tags": []
   },
   "outputs": [
    {
     "data": {
      "image/png": "[encoded data removed]",
      "text/plain": [
       "<Figure size 800x400 with 1 Axes>"
      ]
     },
     "metadata": {
      "needs_background": "light"
     },
     "output_type": "display_data"
    }
   ],
   "source": [
    "#intiate the model\n",
    "model = KMeans(n_clusters = 2)\n",
    "display_categories(model,clus)"
   ]
  },
  {
   "cell_type": "code",
   "execution_count": 43,
   "id": "22746922",
   "metadata": {
    "execution": {
     "iopub.execute_input": "2022-05-31T17:47:31.511179Z",
     "iopub.status.busy": "2022-05-31T17:47:31.510584Z",
     "iopub.status.idle": "2022-05-31T17:48:04.260941Z",
     "shell.execute_reply": "2022-05-31T17:48:04.261443Z",
     "shell.execute_reply.started": "2022-05-31T17:41:21.514044Z"
    },
    "papermill": {
     "duration": 32.848846,
     "end_time": "2022-05-31T17:48:04.261620",
     "exception": false,
     "start_time": "2022-05-31T17:47:31.412774",
     "status": "completed"
    },
    "tags": []
   },
   "outputs": [
    {
     "data": {
      "image/png": "[encoded data removed]",
      "text/plain": [
       "<Figure size 800x400 with 1 Axes>"
      ]
     },
     "metadata": {
      "needs_background": "light"
     },
     "output_type": "display_data"
    }
   ],
   "source": [
    "#intiate the model\n",
    "model = KMeans(n_clusters = 3)\n",
    "display_categories(model,clus)"
   ]
  },
  {
   "cell_type": "code",
   "execution_count": 44,
   "id": "377ad20a",
   "metadata": {
    "execution": {
     "iopub.execute_input": "2022-05-31T17:48:04.460275Z",
     "iopub.status.busy": "2022-05-31T17:48:04.459491Z",
     "iopub.status.idle": "2022-05-31T17:48:04.515656Z",
     "shell.execute_reply": "2022-05-31T17:48:04.516135Z",
     "shell.execute_reply.started": "2022-05-31T17:42:04.004236Z"
    },
    "papermill": {
     "duration": 0.158795,
     "end_time": "2022-05-31T17:48:04.516303",
     "exception": false,
     "start_time": "2022-05-31T17:48:04.357508",
     "status": "completed"
    },
    "tags": []
   },
   "outputs": [],
   "source": [
    "# Tassia Mappings \n",
    "df = pd.merge(ord_nrb,shops, on='SHOPID')"
   ]
  },
  {
   "cell_type": "code",
   "execution_count": 45,
   "id": "1a47f5e1",
   "metadata": {
    "execution": {
     "iopub.execute_input": "2022-05-31T17:48:04.715402Z",
     "iopub.status.busy": "2022-05-31T17:48:04.714605Z",
     "iopub.status.idle": "2022-05-31T17:48:04.801271Z",
     "shell.execute_reply": "2022-05-31T17:48:04.801905Z",
     "shell.execute_reply.started": "2022-05-31T17:42:04.077341Z"
    },
    "papermill": {
     "duration": 0.188808,
     "end_time": "2022-05-31T17:48:04.802101",
     "exception": false,
     "start_time": "2022-05-31T17:48:04.613293",
     "status": "completed"
    },
    "tags": []
   },
   "outputs": [],
   "source": [
    "df.to_csv('tassia_mappings.csv')"
   ]
  },
  {
   "cell_type": "code",
   "execution_count": 46,
   "id": "4f921567",
   "metadata": {
    "execution": {
     "iopub.execute_input": "2022-05-31T17:48:05.005050Z",
     "iopub.status.busy": "2022-05-31T17:48:05.001426Z",
     "iopub.status.idle": "2022-05-31T17:48:05.013469Z",
     "shell.execute_reply": "2022-05-31T17:48:05.014031Z",
     "shell.execute_reply.started": "2022-05-31T17:42:04.199301Z"
    },
    "papermill": {
     "duration": 0.113894,
     "end_time": "2022-05-31T17:48:05.014188",
     "exception": false,
     "start_time": "2022-05-31T17:48:04.900294",
     "status": "completed"
    },
    "tags": []
   },
   "outputs": [
    {
     "data": {
      "text/html": [
       "<div>\n",
       "<style scoped>\n",
       "    .dataframe tbody tr th:only-of-type {\n",
       "        vertical-align: middle;\n",
       "    }\n",
       "\n",
       "    .dataframe tbody tr th {\n",
       "        vertical-align: top;\n",
       "    }\n",
       "\n",
       "    .dataframe thead th {\n",
       "        text-align: right;\n",
       "    }\n",
       "</style>\n",
       "<table border=\"1\" class=\"dataframe\">\n",
       "  <thead>\n",
       "    <tr style=\"text-align: right;\">\n",
       "      <th></th>\n",
       "      <th>SHOPID</th>\n",
       "      <th>VALUE_SOLD</th>\n",
       "    </tr>\n",
       "  </thead>\n",
       "  <tbody>\n",
       "    <tr>\n",
       "      <th>0</th>\n",
       "      <td>243861</td>\n",
       "      <td>28220.0</td>\n",
       "    </tr>\n",
       "    <tr>\n",
       "      <th>1</th>\n",
       "      <td>243864</td>\n",
       "      <td>24965.0</td>\n",
       "    </tr>\n",
       "    <tr>\n",
       "      <th>2</th>\n",
       "      <td>243905</td>\n",
       "      <td>9045.0</td>\n",
       "    </tr>\n",
       "    <tr>\n",
       "      <th>3</th>\n",
       "      <td>243942</td>\n",
       "      <td>7575.0</td>\n",
       "    </tr>\n",
       "    <tr>\n",
       "      <th>4</th>\n",
       "      <td>244089</td>\n",
       "      <td>4335.0</td>\n",
       "    </tr>\n",
       "  </tbody>\n",
       "</table>\n",
       "</div>"
      ],
      "text/plain": [
       "   SHOPID  VALUE_SOLD\n",
       "0  243861     28220.0\n",
       "1  243864     24965.0\n",
       "2  243905      9045.0\n",
       "3  243942      7575.0\n",
       "4  244089      4335.0"
      ]
     },
     "execution_count": 46,
     "metadata": {},
     "output_type": "execute_result"
    }
   ],
   "source": [
    "#Performing RFM \n",
    "#Extracting R (Recency), F (Frequency), M (Monetary) columns form the data.\n",
    "# Monetary Function\n",
    "# Finding total amount spent per shop\n",
    "monetary = df.groupby(\"SHOPID\").VALUE_SOLD.sum()\n",
    "monetary = monetary.reset_index()\n",
    "monetary.head()"
   ]
  },
  {
   "cell_type": "code",
   "execution_count": 47,
   "id": "9d362e90",
   "metadata": {
    "execution": {
     "iopub.execute_input": "2022-05-31T17:48:05.213672Z",
     "iopub.status.busy": "2022-05-31T17:48:05.212886Z",
     "iopub.status.idle": "2022-05-31T17:48:05.223287Z",
     "shell.execute_reply": "2022-05-31T17:48:05.223903Z",
     "shell.execute_reply.started": "2022-05-31T17:42:04.218569Z"
    },
    "papermill": {
     "duration": 0.111835,
     "end_time": "2022-05-31T17:48:05.224053",
     "exception": false,
     "start_time": "2022-05-31T17:48:05.112218",
     "status": "completed"
    },
    "tags": []
   },
   "outputs": [
    {
     "data": {
      "text/html": [
       "<div>\n",
       "<style scoped>\n",
       "    .dataframe tbody tr th:only-of-type {\n",
       "        vertical-align: middle;\n",
       "    }\n",
       "\n",
       "    .dataframe tbody tr th {\n",
       "        vertical-align: top;\n",
       "    }\n",
       "\n",
       "    .dataframe thead th {\n",
       "        text-align: right;\n",
       "    }\n",
       "</style>\n",
       "<table border=\"1\" class=\"dataframe\">\n",
       "  <thead>\n",
       "    <tr style=\"text-align: right;\">\n",
       "      <th></th>\n",
       "      <th>SHOPID</th>\n",
       "      <th>CUSTOMER_VERIFICATION</th>\n",
       "    </tr>\n",
       "  </thead>\n",
       "  <tbody>\n",
       "    <tr>\n",
       "      <th>0</th>\n",
       "      <td>243861</td>\n",
       "      <td>75</td>\n",
       "    </tr>\n",
       "    <tr>\n",
       "      <th>1</th>\n",
       "      <td>243864</td>\n",
       "      <td>74</td>\n",
       "    </tr>\n",
       "    <tr>\n",
       "      <th>2</th>\n",
       "      <td>243905</td>\n",
       "      <td>63</td>\n",
       "    </tr>\n",
       "    <tr>\n",
       "      <th>3</th>\n",
       "      <td>243942</td>\n",
       "      <td>55</td>\n",
       "    </tr>\n",
       "    <tr>\n",
       "      <th>4</th>\n",
       "      <td>244089</td>\n",
       "      <td>46</td>\n",
       "    </tr>\n",
       "  </tbody>\n",
       "</table>\n",
       "</div>"
      ],
      "text/plain": [
       "   SHOPID  CUSTOMER_VERIFICATION\n",
       "0  243861                     75\n",
       "1  243864                     74\n",
       "2  243905                     63\n",
       "3  243942                     55\n",
       "4  244089                     46"
      ]
     },
     "execution_count": 47,
     "metadata": {},
     "output_type": "execute_result"
    }
   ],
   "source": [
    "#Frequency function\n",
    "\n",
    "# Getting the count of customer verification made by each shop based on SHOPID.\n",
    "frequency = df.groupby(\"SHOPID\").CUSTOMER_VERIFICATION.count()\n",
    "frequency = frequency.reset_index()\n",
    "frequency.head()"
   ]
  },
  {
   "cell_type": "code",
   "execution_count": 48,
   "id": "b81a4242",
   "metadata": {
    "execution": {
     "iopub.execute_input": "2022-05-31T17:48:05.424701Z",
     "iopub.status.busy": "2022-05-31T17:48:05.423802Z",
     "iopub.status.idle": "2022-05-31T17:48:05.429407Z",
     "shell.execute_reply": "2022-05-31T17:48:05.429908Z",
     "shell.execute_reply.started": "2022-05-31T17:42:04.242193Z"
    },
    "papermill": {
     "duration": 0.107788,
     "end_time": "2022-05-31T17:48:05.430066",
     "exception": false,
     "start_time": "2022-05-31T17:48:05.322278",
     "status": "completed"
    },
    "tags": []
   },
   "outputs": [],
   "source": [
    "df.drop(['CUSTOMER_ADDED_DATE'],axis=1,inplace=True)"
   ]
  },
  {
   "cell_type": "code",
   "execution_count": 49,
   "id": "031bb704",
   "metadata": {
    "execution": {
     "iopub.execute_input": "2022-05-31T17:48:05.628903Z",
     "iopub.status.busy": "2022-05-31T17:48:05.628275Z",
     "iopub.status.idle": "2022-05-31T17:48:05.643282Z",
     "shell.execute_reply": "2022-05-31T17:48:05.642769Z",
     "shell.execute_reply.started": "2022-05-31T17:42:04.252542Z"
    },
    "papermill": {
     "duration": 0.115944,
     "end_time": "2022-05-31T17:48:05.643412",
     "exception": false,
     "start_time": "2022-05-31T17:48:05.527468",
     "status": "completed"
    },
    "tags": []
   },
   "outputs": [
    {
     "data": {
      "text/html": [
       "<div>\n",
       "<style scoped>\n",
       "    .dataframe tbody tr th:only-of-type {\n",
       "        vertical-align: middle;\n",
       "    }\n",
       "\n",
       "    .dataframe tbody tr th {\n",
       "        vertical-align: top;\n",
       "    }\n",
       "\n",
       "    .dataframe thead th {\n",
       "        text-align: right;\n",
       "    }\n",
       "</style>\n",
       "<table border=\"1\" class=\"dataframe\">\n",
       "  <thead>\n",
       "    <tr style=\"text-align: right;\">\n",
       "      <th></th>\n",
       "      <th>SHOPID</th>\n",
       "      <th>VALUE_SOLD</th>\n",
       "      <th>CUSTOMER_VERIFICATION</th>\n",
       "    </tr>\n",
       "  </thead>\n",
       "  <tbody>\n",
       "    <tr>\n",
       "      <th>0</th>\n",
       "      <td>243861</td>\n",
       "      <td>28220.0</td>\n",
       "      <td>75</td>\n",
       "    </tr>\n",
       "    <tr>\n",
       "      <th>1</th>\n",
       "      <td>243864</td>\n",
       "      <td>24965.0</td>\n",
       "      <td>74</td>\n",
       "    </tr>\n",
       "    <tr>\n",
       "      <th>2</th>\n",
       "      <td>243905</td>\n",
       "      <td>9045.0</td>\n",
       "      <td>63</td>\n",
       "    </tr>\n",
       "    <tr>\n",
       "      <th>3</th>\n",
       "      <td>243942</td>\n",
       "      <td>7575.0</td>\n",
       "      <td>55</td>\n",
       "    </tr>\n",
       "    <tr>\n",
       "      <th>4</th>\n",
       "      <td>244089</td>\n",
       "      <td>4335.0</td>\n",
       "      <td>46</td>\n",
       "    </tr>\n",
       "  </tbody>\n",
       "</table>\n",
       "</div>"
      ],
      "text/plain": [
       "   SHOPID  VALUE_SOLD  CUSTOMER_VERIFICATION\n",
       "0  243861     28220.0                     75\n",
       "1  243864     24965.0                     74\n",
       "2  243905      9045.0                     63\n",
       "3  243942      7575.0                     55\n",
       "4  244089      4335.0                     46"
      ]
     },
     "execution_count": 49,
     "metadata": {},
     "output_type": "execute_result"
    }
   ],
   "source": [
    "#creating master dataset\n",
    "master = monetary.merge(frequency, on = \"SHOPID\", how = \"inner\")\n",
    "master.head()"
   ]
  },
  {
   "cell_type": "code",
   "execution_count": 50,
   "id": "700c45ec",
   "metadata": {
    "execution": {
     "iopub.execute_input": "2022-05-31T17:48:05.842844Z",
     "iopub.status.busy": "2022-05-31T17:48:05.842214Z",
     "iopub.status.idle": "2022-05-31T17:48:06.013892Z",
     "shell.execute_reply": "2022-05-31T17:48:06.013273Z",
     "shell.execute_reply.started": "2022-05-31T17:42:04.281350Z"
    },
    "papermill": {
     "duration": 0.272702,
     "end_time": "2022-05-31T17:48:06.014026",
     "exception": false,
     "start_time": "2022-05-31T17:48:05.741324",
     "status": "completed"
    },
    "tags": []
   },
   "outputs": [],
   "source": [
    "# parse date\n",
    "df['ENTRY_TIME'] = pd.to_datetime(df['ENTRY_TIME'],infer_datetime_format = True, utc = True).astype('datetime64[ns]')"
   ]
  },
  {
   "cell_type": "code",
   "execution_count": 51,
   "id": "0a293c86",
   "metadata": {
    "execution": {
     "iopub.execute_input": "2022-05-31T17:48:06.280814Z",
     "iopub.status.busy": "2022-05-31T17:48:06.280166Z",
     "iopub.status.idle": "2022-05-31T17:48:06.281446Z",
     "shell.execute_reply": "2022-05-31T17:48:06.281942Z",
     "shell.execute_reply.started": "2022-05-31T17:42:04.482881Z"
    },
    "papermill": {
     "duration": 0.108721,
     "end_time": "2022-05-31T17:48:06.282102",
     "exception": false,
     "start_time": "2022-05-31T17:48:06.173381",
     "status": "completed"
    },
    "tags": []
   },
   "outputs": [],
   "source": [
    "# Finding max data\n",
    "maximum = max(df.ENTRY_TIME)"
   ]
  },
  {
   "cell_type": "code",
   "execution_count": 52,
   "id": "fabdc6cf",
   "metadata": {
    "execution": {
     "iopub.execute_input": "2022-05-31T17:48:06.478335Z",
     "iopub.status.busy": "2022-05-31T17:48:06.477752Z",
     "iopub.status.idle": "2022-05-31T17:48:06.484158Z",
     "shell.execute_reply": "2022-05-31T17:48:06.484670Z",
     "shell.execute_reply.started": "2022-05-31T17:42:04.495463Z"
    },
    "papermill": {
     "duration": 0.107098,
     "end_time": "2022-05-31T17:48:06.484830",
     "exception": false,
     "start_time": "2022-05-31T17:48:06.377732",
     "status": "completed"
    },
    "tags": []
   },
   "outputs": [],
   "source": [
    "# Adding one more day to the max data, so that the max date will have 1 as the difference and not zero.\n",
    "maximum = maximum + pd.DateOffset(days = 1)"
   ]
  },
  {
   "cell_type": "code",
   "execution_count": 53,
   "id": "d90ea4f7",
   "metadata": {
    "execution": {
     "iopub.execute_input": "2022-05-31T17:48:06.717143Z",
     "iopub.status.busy": "2022-05-31T17:48:06.691170Z",
     "iopub.status.idle": "2022-05-31T17:48:06.720680Z",
     "shell.execute_reply": "2022-05-31T17:48:06.721171Z",
     "shell.execute_reply.started": "2022-05-31T17:42:04.515588Z"
    },
    "papermill": {
     "duration": 0.137823,
     "end_time": "2022-05-31T17:48:06.721327",
     "exception": false,
     "start_time": "2022-05-31T17:48:06.583504",
     "status": "completed"
    },
    "tags": []
   },
   "outputs": [
    {
     "data": {
      "text/html": [
       "<div>\n",
       "<style scoped>\n",
       "    .dataframe tbody tr th:only-of-type {\n",
       "        vertical-align: middle;\n",
       "    }\n",
       "\n",
       "    .dataframe tbody tr th {\n",
       "        vertical-align: top;\n",
       "    }\n",
       "\n",
       "    .dataframe thead th {\n",
       "        text-align: right;\n",
       "    }\n",
       "</style>\n",
       "<table border=\"1\" class=\"dataframe\">\n",
       "  <thead>\n",
       "    <tr style=\"text-align: right;\">\n",
       "      <th></th>\n",
       "      <th>ENTRY_ID</th>\n",
       "      <th>ENTRY_TYPE</th>\n",
       "      <th>USERID</th>\n",
       "      <th>SALES_REP</th>\n",
       "      <th>REP_CATEGORY</th>\n",
       "      <th>SHOPID</th>\n",
       "      <th>CUSTOMER_NAME</th>\n",
       "      <th>USERCATEGORY</th>\n",
       "      <th>CUSTOMER_VERIFICATION</th>\n",
       "      <th>CUSTOMER_CATEGORY</th>\n",
       "      <th>LOCATION_ID</th>\n",
       "      <th>LOCATION_NAME</th>\n",
       "      <th>ROUTE_NAME</th>\n",
       "      <th>PRODUCT_CATEGORY</th>\n",
       "      <th>PRODUCT_NAME</th>\n",
       "      <th>PRODUCT_SKU</th>\n",
       "      <th>PIECES_SOLD</th>\n",
       "      <th>CARTONS_SOLD</th>\n",
       "      <th>VALUE_SOLD</th>\n",
       "      <th>ENTRY_TIME</th>\n",
       "      <th>SHOP_NAME</th>\n",
       "      <th>LATITUDE</th>\n",
       "      <th>LONGITUDE</th>\n",
       "      <th>DIFF</th>\n",
       "    </tr>\n",
       "  </thead>\n",
       "  <tbody>\n",
       "    <tr>\n",
       "      <th>0</th>\n",
       "      <td>1305822</td>\n",
       "      <td>Sale</td>\n",
       "      <td>77</td>\n",
       "      <td>ROBERT MUGAMBI</td>\n",
       "      <td>FootSoldiers - Brilliantdom</td>\n",
       "      <td>243861</td>\n",
       "      <td>SOFT SHOP</td>\n",
       "      <td>FootSoldiers - Brilliantdom</td>\n",
       "      <td>Valid</td>\n",
       "      <td>SHOP</td>\n",
       "      <td>137.0</td>\n",
       "      <td>TASSIA</td>\n",
       "      <td>TASSIA</td>\n",
       "      <td>FRESH 4S</td>\n",
       "      <td>FRESH 4S</td>\n",
       "      <td>FRESH MENTHOL 12BAGS X 50PCS</td>\n",
       "      <td>1.0</td>\n",
       "      <td>0.083313</td>\n",
       "      <td>180.0</td>\n",
       "      <td>2019-01-14 10:00:45</td>\n",
       "      <td>soft shop</td>\n",
       "      <td>-1.307511</td>\n",
       "      <td>36.899044</td>\n",
       "      <td>351 days 08:45:56</td>\n",
       "    </tr>\n",
       "    <tr>\n",
       "      <th>1</th>\n",
       "      <td>1305822</td>\n",
       "      <td>Sale</td>\n",
       "      <td>77</td>\n",
       "      <td>ROBERT MUGAMBI</td>\n",
       "      <td>FootSoldiers - Brilliantdom</td>\n",
       "      <td>243861</td>\n",
       "      <td>SOFT SHOP</td>\n",
       "      <td>FootSoldiers - Brilliantdom</td>\n",
       "      <td>Valid</td>\n",
       "      <td>SHOP</td>\n",
       "      <td>137.0</td>\n",
       "      <td>TASSIA</td>\n",
       "      <td>TASSIA</td>\n",
       "      <td>FRESH 4S</td>\n",
       "      <td>FRESH 4S</td>\n",
       "      <td>FRESH FRUIT 12BAGS X 50PCS</td>\n",
       "      <td>1.0</td>\n",
       "      <td>0.083313</td>\n",
       "      <td>180.0</td>\n",
       "      <td>2019-01-14 10:00:45</td>\n",
       "      <td>soft shop</td>\n",
       "      <td>-1.307511</td>\n",
       "      <td>36.899044</td>\n",
       "      <td>351 days 08:45:56</td>\n",
       "    </tr>\n",
       "    <tr>\n",
       "      <th>2</th>\n",
       "      <td>1305822</td>\n",
       "      <td>Sale</td>\n",
       "      <td>77</td>\n",
       "      <td>ROBERT MUGAMBI</td>\n",
       "      <td>FootSoldiers - Brilliantdom</td>\n",
       "      <td>243861</td>\n",
       "      <td>SOFT SHOP</td>\n",
       "      <td>FootSoldiers - Brilliantdom</td>\n",
       "      <td>Valid</td>\n",
       "      <td>SHOP</td>\n",
       "      <td>137.0</td>\n",
       "      <td>TASSIA</td>\n",
       "      <td>TASSIA</td>\n",
       "      <td>FRESH 4S</td>\n",
       "      <td>FRESH 4S</td>\n",
       "      <td>FRESH STRAWBERRY 12BAGS X 50PCS</td>\n",
       "      <td>1.0</td>\n",
       "      <td>0.083313</td>\n",
       "      <td>180.0</td>\n",
       "      <td>2019-01-14 10:00:45</td>\n",
       "      <td>soft shop</td>\n",
       "      <td>-1.307511</td>\n",
       "      <td>36.899044</td>\n",
       "      <td>351 days 08:45:56</td>\n",
       "    </tr>\n",
       "    <tr>\n",
       "      <th>3</th>\n",
       "      <td>1374743</td>\n",
       "      <td>skip</td>\n",
       "      <td>77</td>\n",
       "      <td>ROBERT MUGAMBI</td>\n",
       "      <td>FootSoldiers - Brilliantdom</td>\n",
       "      <td>243861</td>\n",
       "      <td>SOFT SHOP</td>\n",
       "      <td>FootSoldiers - Brilliantdom</td>\n",
       "      <td>Valid</td>\n",
       "      <td>SHOP</td>\n",
       "      <td>137.0</td>\n",
       "      <td>TASSIA</td>\n",
       "      <td>TASSIA</td>\n",
       "      <td>FRESH 4S</td>\n",
       "      <td>FRESH 4S</td>\n",
       "      <td>TING TINGS STRAWBERRY BBG 12 PKTS X 50Pc</td>\n",
       "      <td>0.0</td>\n",
       "      <td>0.000000</td>\n",
       "      <td>0.0</td>\n",
       "      <td>2019-01-21 08:52:10</td>\n",
       "      <td>soft shop</td>\n",
       "      <td>-1.307511</td>\n",
       "      <td>36.899044</td>\n",
       "      <td>344 days 09:54:31</td>\n",
       "    </tr>\n",
       "    <tr>\n",
       "      <th>4</th>\n",
       "      <td>1450700</td>\n",
       "      <td>Sale</td>\n",
       "      <td>77</td>\n",
       "      <td>ROBERT MUGAMBI</td>\n",
       "      <td>FootSoldiers - Brilliantdom</td>\n",
       "      <td>243861</td>\n",
       "      <td>SOFT SHOP</td>\n",
       "      <td>FootSoldiers - Brilliantdom</td>\n",
       "      <td>Valid</td>\n",
       "      <td>SHOP</td>\n",
       "      <td>137.0</td>\n",
       "      <td>TASSIA</td>\n",
       "      <td>TASSIA</td>\n",
       "      <td>FRESH 4S</td>\n",
       "      <td>FRESH 4S</td>\n",
       "      <td>FRESH MENTHOL 12BAGS X 50PCS</td>\n",
       "      <td>1.0</td>\n",
       "      <td>0.083313</td>\n",
       "      <td>165.0</td>\n",
       "      <td>2019-01-28 10:05:46</td>\n",
       "      <td>soft shop</td>\n",
       "      <td>-1.307511</td>\n",
       "      <td>36.899044</td>\n",
       "      <td>337 days 08:40:55</td>\n",
       "    </tr>\n",
       "  </tbody>\n",
       "</table>\n",
       "</div>"
      ],
      "text/plain": [
       "   ENTRY_ID ENTRY_TYPE  USERID       SALES_REP                 REP_CATEGORY  \\\n",
       "0   1305822       Sale      77  ROBERT MUGAMBI  FootSoldiers - Brilliantdom   \n",
       "1   1305822       Sale      77  ROBERT MUGAMBI  FootSoldiers - Brilliantdom   \n",
       "2   1305822       Sale      77  ROBERT MUGAMBI  FootSoldiers - Brilliantdom   \n",
       "3   1374743       skip      77  ROBERT MUGAMBI  FootSoldiers - Brilliantdom   \n",
       "4   1450700       Sale      77  ROBERT MUGAMBI  FootSoldiers - Brilliantdom   \n",
       "\n",
       "   SHOPID CUSTOMER_NAME                 USERCATEGORY CUSTOMER_VERIFICATION  \\\n",
       "0  243861     SOFT SHOP  FootSoldiers - Brilliantdom                 Valid   \n",
       "1  243861     SOFT SHOP  FootSoldiers - Brilliantdom                 Valid   \n",
       "2  243861     SOFT SHOP  FootSoldiers - Brilliantdom                 Valid   \n",
       "3  243861     SOFT SHOP  FootSoldiers - Brilliantdom                 Valid   \n",
       "4  243861     SOFT SHOP  FootSoldiers - Brilliantdom                 Valid   \n",
       "\n",
       "  CUSTOMER_CATEGORY  LOCATION_ID LOCATION_NAME ROUTE_NAME PRODUCT_CATEGORY  \\\n",
       "0              SHOP        137.0        TASSIA     TASSIA         FRESH 4S   \n",
       "1              SHOP        137.0        TASSIA     TASSIA         FRESH 4S   \n",
       "2              SHOP        137.0        TASSIA     TASSIA         FRESH 4S   \n",
       "3              SHOP        137.0        TASSIA     TASSIA         FRESH 4S   \n",
       "4              SHOP        137.0        TASSIA     TASSIA         FRESH 4S   \n",
       "\n",
       "  PRODUCT_NAME                               PRODUCT_SKU  PIECES_SOLD  \\\n",
       "0     FRESH 4S              FRESH MENTHOL 12BAGS X 50PCS          1.0   \n",
       "1     FRESH 4S                FRESH FRUIT 12BAGS X 50PCS          1.0   \n",
       "2     FRESH 4S           FRESH STRAWBERRY 12BAGS X 50PCS          1.0   \n",
       "3     FRESH 4S  TING TINGS STRAWBERRY BBG 12 PKTS X 50Pc          0.0   \n",
       "4     FRESH 4S              FRESH MENTHOL 12BAGS X 50PCS          1.0   \n",
       "\n",
       "   CARTONS_SOLD  VALUE_SOLD          ENTRY_TIME  SHOP_NAME  LATITUDE  \\\n",
       "0      0.083313       180.0 2019-01-14 10:00:45  soft shop -1.307511   \n",
       "1      0.083313       180.0 2019-01-14 10:00:45  soft shop -1.307511   \n",
       "2      0.083313       180.0 2019-01-14 10:00:45  soft shop -1.307511   \n",
       "3      0.000000         0.0 2019-01-21 08:52:10  soft shop -1.307511   \n",
       "4      0.083313       165.0 2019-01-28 10:05:46  soft shop -1.307511   \n",
       "\n",
       "   LONGITUDE              DIFF  \n",
       "0  36.899044 351 days 08:45:56  \n",
       "1  36.899044 351 days 08:45:56  \n",
       "2  36.899044 351 days 08:45:56  \n",
       "3  36.899044 344 days 09:54:31  \n",
       "4  36.899044 337 days 08:40:55  "
      ]
     },
     "execution_count": 53,
     "metadata": {},
     "output_type": "execute_result"
    }
   ],
   "source": [
    "df['DIFF'] = maximum - df['ENTRY_TIME']\n",
    "df.head()"
   ]
  },
  {
   "cell_type": "code",
   "execution_count": 54,
   "id": "a3ba6079",
   "metadata": {
    "execution": {
     "iopub.execute_input": "2022-05-31T17:48:06.936209Z",
     "iopub.status.busy": "2022-05-31T17:48:06.923596Z",
     "iopub.status.idle": "2022-05-31T17:48:06.938321Z",
     "shell.execute_reply": "2022-05-31T17:48:06.938874Z",
     "shell.execute_reply.started": "2022-05-31T17:42:04.568233Z"
    },
    "papermill": {
     "duration": 0.117788,
     "end_time": "2022-05-31T17:48:06.939026",
     "exception": false,
     "start_time": "2022-05-31T17:48:06.821238",
     "status": "completed"
    },
    "tags": []
   },
   "outputs": [
    {
     "data": {
      "text/html": [
       "<div>\n",
       "<style scoped>\n",
       "    .dataframe tbody tr th:only-of-type {\n",
       "        vertical-align: middle;\n",
       "    }\n",
       "\n",
       "    .dataframe tbody tr th {\n",
       "        vertical-align: top;\n",
       "    }\n",
       "\n",
       "    .dataframe thead th {\n",
       "        text-align: right;\n",
       "    }\n",
       "</style>\n",
       "<table border=\"1\" class=\"dataframe\">\n",
       "  <thead>\n",
       "    <tr style=\"text-align: right;\">\n",
       "      <th></th>\n",
       "      <th>SHOPID</th>\n",
       "      <th>DIFF</th>\n",
       "    </tr>\n",
       "  </thead>\n",
       "  <tbody>\n",
       "    <tr>\n",
       "      <th>0</th>\n",
       "      <td>243861</td>\n",
       "      <td>1 days 00:09:19</td>\n",
       "    </tr>\n",
       "    <tr>\n",
       "      <th>1</th>\n",
       "      <td>243864</td>\n",
       "      <td>1 days 00:00:00</td>\n",
       "    </tr>\n",
       "    <tr>\n",
       "      <th>2</th>\n",
       "      <td>243905</td>\n",
       "      <td>7 days 23:14:10</td>\n",
       "    </tr>\n",
       "    <tr>\n",
       "      <th>3</th>\n",
       "      <td>243942</td>\n",
       "      <td>7 days 22:46:27</td>\n",
       "    </tr>\n",
       "    <tr>\n",
       "      <th>4</th>\n",
       "      <td>244089</td>\n",
       "      <td>162 days 04:09:52</td>\n",
       "    </tr>\n",
       "  </tbody>\n",
       "</table>\n",
       "</div>"
      ],
      "text/plain": [
       "   SHOPID              DIFF\n",
       "0  243861   1 days 00:09:19\n",
       "1  243864   1 days 00:00:00\n",
       "2  243905   7 days 23:14:10\n",
       "3  243942   7 days 22:46:27\n",
       "4  244089 162 days 04:09:52"
      ]
     },
     "execution_count": 54,
     "metadata": {},
     "output_type": "execute_result"
    }
   ],
   "source": [
    "#Recency Value\n",
    "#Dataframe merging by recency\n",
    "recency = df.groupby('SHOPID')['DIFF'].min()\n",
    "recency = recency.reset_index()\n",
    "recency.head()"
   ]
  },
  {
   "cell_type": "code",
   "execution_count": 55,
   "id": "a5c12209",
   "metadata": {
    "execution": {
     "iopub.execute_input": "2022-05-31T17:48:07.143457Z",
     "iopub.status.busy": "2022-05-31T17:48:07.142852Z",
     "iopub.status.idle": "2022-05-31T17:48:07.156291Z",
     "shell.execute_reply": "2022-05-31T17:48:07.156856Z",
     "shell.execute_reply.started": "2022-05-31T17:42:04.594998Z"
    },
    "papermill": {
     "duration": 0.116809,
     "end_time": "2022-05-31T17:48:07.157013",
     "exception": false,
     "start_time": "2022-05-31T17:48:07.040204",
     "status": "completed"
    },
    "tags": []
   },
   "outputs": [
    {
     "data": {
      "text/html": [
       "<div>\n",
       "<style scoped>\n",
       "    .dataframe tbody tr th:only-of-type {\n",
       "        vertical-align: middle;\n",
       "    }\n",
       "\n",
       "    .dataframe tbody tr th {\n",
       "        vertical-align: top;\n",
       "    }\n",
       "\n",
       "    .dataframe thead th {\n",
       "        text-align: right;\n",
       "    }\n",
       "</style>\n",
       "<table border=\"1\" class=\"dataframe\">\n",
       "  <thead>\n",
       "    <tr style=\"text-align: right;\">\n",
       "      <th></th>\n",
       "      <th>SHOPID</th>\n",
       "      <th>VALUE_SOLD</th>\n",
       "      <th>FREQUENCY</th>\n",
       "      <th>RECENCY</th>\n",
       "    </tr>\n",
       "  </thead>\n",
       "  <tbody>\n",
       "    <tr>\n",
       "      <th>0</th>\n",
       "      <td>243861</td>\n",
       "      <td>28220.0</td>\n",
       "      <td>75</td>\n",
       "      <td>1 days 00:09:19</td>\n",
       "    </tr>\n",
       "    <tr>\n",
       "      <th>1</th>\n",
       "      <td>243864</td>\n",
       "      <td>24965.0</td>\n",
       "      <td>74</td>\n",
       "      <td>1 days 00:00:00</td>\n",
       "    </tr>\n",
       "    <tr>\n",
       "      <th>2</th>\n",
       "      <td>243905</td>\n",
       "      <td>9045.0</td>\n",
       "      <td>63</td>\n",
       "      <td>7 days 23:14:10</td>\n",
       "    </tr>\n",
       "    <tr>\n",
       "      <th>3</th>\n",
       "      <td>243942</td>\n",
       "      <td>7575.0</td>\n",
       "      <td>55</td>\n",
       "      <td>7 days 22:46:27</td>\n",
       "    </tr>\n",
       "    <tr>\n",
       "      <th>4</th>\n",
       "      <td>244089</td>\n",
       "      <td>4335.0</td>\n",
       "      <td>46</td>\n",
       "      <td>162 days 04:09:52</td>\n",
       "    </tr>\n",
       "  </tbody>\n",
       "</table>\n",
       "</div>"
      ],
      "text/plain": [
       "   SHOPID  VALUE_SOLD  FREQUENCY           RECENCY\n",
       "0  243861     28220.0         75   1 days 00:09:19\n",
       "1  243864     24965.0         74   1 days 00:00:00\n",
       "2  243905      9045.0         63   7 days 23:14:10\n",
       "3  243942      7575.0         55   7 days 22:46:27\n",
       "4  244089      4335.0         46 162 days 04:09:52"
      ]
     },
     "execution_count": 55,
     "metadata": {},
     "output_type": "execute_result"
    }
   ],
   "source": [
    "#RFM combined DataFrame\n",
    "#Combining all recency, frequency and monetary parameters\n",
    "RFM = master.merge(recency, on = \"SHOPID\")\n",
    "RFM.columns = ['SHOPID','VALUE_SOLD','FREQUENCY','RECENCY']\n",
    "RFM.head()"
   ]
  },
  {
   "cell_type": "code",
   "execution_count": 56,
   "id": "5463012f",
   "metadata": {
    "execution": {
     "iopub.execute_input": "2022-05-31T17:48:07.366576Z",
     "iopub.status.busy": "2022-05-31T17:48:07.365920Z",
     "iopub.status.idle": "2022-05-31T17:48:07.688151Z",
     "shell.execute_reply": "2022-05-31T17:48:07.687513Z",
     "shell.execute_reply.started": "2022-05-31T17:42:04.614387Z"
    },
    "papermill": {
     "duration": 0.429181,
     "end_time": "2022-05-31T17:48:07.688291",
     "exception": false,
     "start_time": "2022-05-31T17:48:07.259110",
     "status": "completed"
    },
    "tags": []
   },
   "outputs": [
    {
     "data": {
      "image/png": "[encoded data removed]",
      "text/plain": [
       "<Figure size 1080x360 with 3 Axes>"
      ]
     },
     "metadata": {
      "needs_background": "light"
     },
     "output_type": "display_data"
    }
   ],
   "source": [
    "#Outlier Treatment\n",
    "import seaborn as sns \n",
    "# outlier treatment for VALUE_SOLD.\n",
    "fig, axs = plt.subplots(1,3, figsize = (15,5))\n",
    "\n",
    "sns.boxplot(RFM.VALUE_SOLD, ax = axs[0])\n",
    "sns.boxplot(RFM.FREQUENCY, ax = axs[1])\n",
    "sns.boxplot(RFM.RECENCY.dt.days, ax = axs[2])\n",
    "\n",
    "plt.tight_layout\n",
    "plt.show()"
   ]
  },
  {
   "cell_type": "code",
   "execution_count": 57,
   "id": "8f79cbf5",
   "metadata": {
    "execution": {
     "iopub.execute_input": "2022-05-31T17:48:07.899233Z",
     "iopub.status.busy": "2022-05-31T17:48:07.898329Z",
     "iopub.status.idle": "2022-05-31T17:48:07.905416Z",
     "shell.execute_reply": "2022-05-31T17:48:07.905943Z",
     "shell.execute_reply.started": "2022-05-31T17:42:04.971709Z"
    },
    "papermill": {
     "duration": 0.114403,
     "end_time": "2022-05-31T17:48:07.906098",
     "exception": false,
     "start_time": "2022-05-31T17:48:07.791695",
     "status": "completed"
    },
    "tags": []
   },
   "outputs": [],
   "source": [
    "# outlier treatment for VALUE_SOLD\n",
    "Q1 = RFM.VALUE_SOLD.quantile(0.25)\n",
    "Q3 = RFM.VALUE_SOLD.quantile(0.75)\n",
    "IQR = Q3 - Q1\n",
    "RFM = RFM[(RFM.VALUE_SOLD >= Q1 - 1.5*IQR) & (RFM.VALUE_SOLD <= Q3 + 1.5*IQR)]"
   ]
  },
  {
   "cell_type": "code",
   "execution_count": 58,
   "id": "41d7c7e2",
   "metadata": {
    "execution": {
     "iopub.execute_input": "2022-05-31T17:48:08.116035Z",
     "iopub.status.busy": "2022-05-31T17:48:08.115154Z",
     "iopub.status.idle": "2022-05-31T17:48:08.122280Z",
     "shell.execute_reply": "2022-05-31T17:48:08.122806Z",
     "shell.execute_reply.started": "2022-05-31T17:42:04.983178Z"
    },
    "papermill": {
     "duration": 0.112654,
     "end_time": "2022-05-31T17:48:08.122970",
     "exception": false,
     "start_time": "2022-05-31T17:48:08.010316",
     "status": "completed"
    },
    "tags": []
   },
   "outputs": [],
   "source": [
    "# outlier treatment for FREQUENCY\n",
    "Q1 = RFM.FREQUENCY.quantile(0.25)\n",
    "Q3 = RFM.FREQUENCY.quantile(0.75)\n",
    "IQR = Q3 - Q1\n",
    "RFM = RFM[(RFM.FREQUENCY >= Q1 - 1.5*IQR) & (RFM.FREQUENCY <= Q3 + 1.5*IQR)]"
   ]
  },
  {
   "cell_type": "code",
   "execution_count": 59,
   "id": "fef6d666",
   "metadata": {
    "execution": {
     "iopub.execute_input": "2022-05-31T17:48:08.336067Z",
     "iopub.status.busy": "2022-05-31T17:48:08.335143Z",
     "iopub.status.idle": "2022-05-31T17:48:08.338831Z",
     "shell.execute_reply": "2022-05-31T17:48:08.339386Z",
     "shell.execute_reply.started": "2022-05-31T17:42:05.001396Z"
    },
    "papermill": {
     "duration": 0.114845,
     "end_time": "2022-05-31T17:48:08.339538",
     "exception": false,
     "start_time": "2022-05-31T17:48:08.224693",
     "status": "completed"
    },
    "tags": []
   },
   "outputs": [],
   "source": [
    "#Scaling the RFM data\n",
    "# standardise all parameters\n",
    "RFM_norm1 = RFM.drop(\"SHOPID\", axis=1)\n",
    "RFM_norm1.RECENCY = RFM_norm1.RECENCY.dt.days\n",
    "\n",
    "from sklearn.preprocessing import StandardScaler\n",
    "standard_scaler = StandardScaler()\n",
    "RFM_norm1 = standard_scaler.fit_transform(RFM_norm1)"
   ]
  },
  {
   "cell_type": "code",
   "execution_count": 60,
   "id": "e4c2a349",
   "metadata": {
    "execution": {
     "iopub.execute_input": "2022-05-31T17:48:08.547939Z",
     "iopub.status.busy": "2022-05-31T17:48:08.547107Z",
     "iopub.status.idle": "2022-05-31T17:48:08.555757Z",
     "shell.execute_reply": "2022-05-31T17:48:08.556295Z",
     "shell.execute_reply.started": "2022-05-31T17:42:05.024694Z"
    },
    "papermill": {
     "duration": 0.11475,
     "end_time": "2022-05-31T17:48:08.556450",
     "exception": false,
     "start_time": "2022-05-31T17:48:08.441700",
     "status": "completed"
    },
    "tags": []
   },
   "outputs": [
    {
     "data": {
      "text/html": [
       "<div>\n",
       "<style scoped>\n",
       "    .dataframe tbody tr th:only-of-type {\n",
       "        vertical-align: middle;\n",
       "    }\n",
       "\n",
       "    .dataframe tbody tr th {\n",
       "        vertical-align: top;\n",
       "    }\n",
       "\n",
       "    .dataframe thead th {\n",
       "        text-align: right;\n",
       "    }\n",
       "</style>\n",
       "<table border=\"1\" class=\"dataframe\">\n",
       "  <thead>\n",
       "    <tr style=\"text-align: right;\">\n",
       "      <th></th>\n",
       "      <th>FREQUENCY</th>\n",
       "      <th>VALUE_SOLD</th>\n",
       "      <th>RECENCY</th>\n",
       "    </tr>\n",
       "  </thead>\n",
       "  <tbody>\n",
       "    <tr>\n",
       "      <th>0</th>\n",
       "      <td>3.979839</td>\n",
       "      <td>2.310231</td>\n",
       "      <td>-1.358088</td>\n",
       "    </tr>\n",
       "    <tr>\n",
       "      <th>1</th>\n",
       "      <td>-0.362698</td>\n",
       "      <td>-0.324243</td>\n",
       "      <td>-0.066023</td>\n",
       "    </tr>\n",
       "    <tr>\n",
       "      <th>2</th>\n",
       "      <td>-0.027789</td>\n",
       "      <td>0.202652</td>\n",
       "      <td>-0.066023</td>\n",
       "    </tr>\n",
       "    <tr>\n",
       "      <th>3</th>\n",
       "      <td>-0.313779</td>\n",
       "      <td>0.202652</td>\n",
       "      <td>-0.066023</td>\n",
       "    </tr>\n",
       "    <tr>\n",
       "      <th>4</th>\n",
       "      <td>1.345718</td>\n",
       "      <td>0.992994</td>\n",
       "      <td>-0.102939</td>\n",
       "    </tr>\n",
       "  </tbody>\n",
       "</table>\n",
       "</div>"
      ],
      "text/plain": [
       "   FREQUENCY  VALUE_SOLD   RECENCY\n",
       "0   3.979839    2.310231 -1.358088\n",
       "1  -0.362698   -0.324243 -0.066023\n",
       "2  -0.027789    0.202652 -0.066023\n",
       "3  -0.313779    0.202652 -0.066023\n",
       "4   1.345718    0.992994 -0.102939"
      ]
     },
     "execution_count": 60,
     "metadata": {},
     "output_type": "execute_result"
    }
   ],
   "source": [
    "RFM_norm1 = pd.DataFrame(RFM_norm1)\n",
    "RFM_norm1.columns = ['FREQUENCY','VALUE_SOLD','RECENCY']\n",
    "RFM_norm1.head()"
   ]
  },
  {
   "cell_type": "code",
   "execution_count": 61,
   "id": "620e2e63",
   "metadata": {
    "execution": {
     "iopub.execute_input": "2022-05-31T17:48:08.762881Z",
     "iopub.status.busy": "2022-05-31T17:48:08.761904Z",
     "iopub.status.idle": "2022-05-31T17:48:08.786920Z",
     "shell.execute_reply": "2022-05-31T17:48:08.787474Z",
     "shell.execute_reply.started": "2022-05-31T17:42:05.045582Z"
    },
    "papermill": {
     "duration": 0.128755,
     "end_time": "2022-05-31T17:48:08.787666",
     "exception": false,
     "start_time": "2022-05-31T17:48:08.658911",
     "status": "completed"
    },
    "tags": []
   },
   "outputs": [
    {
     "data": {
      "text/plain": [
       "0.8095813659642154"
      ]
     },
     "execution_count": 61,
     "metadata": {},
     "output_type": "execute_result"
    }
   ],
   "source": [
    "from sklearn.neighbors import NearestNeighbors\n",
    "from random import sample\n",
    "from numpy.random import uniform\n",
    "import numpy as np\n",
    "from math import isnan\n",
    " \n",
    "def hopkins(X):\n",
    "    d = X.shape[1]\n",
    "    #d = len(vars) # columns\n",
    "    n = len(X) # rows\n",
    "    m = int(0.1 * n) \n",
    "    nbrs = NearestNeighbors(n_neighbors=1).fit(X.values)\n",
    " \n",
    "    rand_X = sample(range(0, n, 1), m)\n",
    " \n",
    "    ujd = []\n",
    "    wjd = []\n",
    "    for j in range(0, m):\n",
    "        u_dist, _ = nbrs.kneighbors(uniform(np.amin(X,axis=0),np.amax(X,axis=0),d).reshape(1, -1), 2, return_distance=True)\n",
    "        ujd.append(u_dist[0][1])\n",
    "        w_dist, _ = nbrs.kneighbors(X.iloc[rand_X[j]].values.reshape(1, -1), 2, return_distance=True)\n",
    "        wjd.append(w_dist[0][1])\n",
    " \n",
    "    H = sum(ujd) / (sum(ujd) + sum(wjd))\n",
    "    if isnan(H):\n",
    "        print(ujd, wjd)\n",
    "        H = 0\n",
    " \n",
    "    return H\n",
    "\n",
    "hopkins(RFM_norm1)"
   ]
  },
  {
   "cell_type": "code",
   "execution_count": 62,
   "id": "8a7e80f6",
   "metadata": {
    "execution": {
     "iopub.execute_input": "2022-05-31T17:48:08.996226Z",
     "iopub.status.busy": "2022-05-31T17:48:08.995629Z",
     "iopub.status.idle": "2022-05-31T17:48:09.396403Z",
     "shell.execute_reply": "2022-05-31T17:48:09.396962Z",
     "shell.execute_reply.started": "2022-05-31T17:42:05.083462Z"
    },
    "papermill": {
     "duration": 0.506099,
     "end_time": "2022-05-31T17:48:09.397136",
     "exception": false,
     "start_time": "2022-05-31T17:48:08.891037",
     "status": "completed"
    },
    "tags": []
   },
   "outputs": [],
   "source": [
    "from sklearn.metrics import silhouette_score\n",
    "# To perform KMeans clustering \n",
    "from sklearn.cluster import KMeans\n",
    "sse_ = []\n",
    "for k in range(2, 15):\n",
    "    kmeans = KMeans(n_clusters=k).fit(RFM_norm1)\n",
    "    sse_.append([k, silhouette_score(RFM_norm1, kmeans.labels_)])"
   ]
  },
  {
   "cell_type": "code",
   "execution_count": 63,
   "id": "3c906df0",
   "metadata": {
    "execution": {
     "iopub.execute_input": "2022-05-31T17:48:09.611699Z",
     "iopub.status.busy": "2022-05-31T17:48:09.611058Z",
     "iopub.status.idle": "2022-05-31T17:48:09.761009Z",
     "shell.execute_reply": "2022-05-31T17:48:09.760353Z",
     "shell.execute_reply.started": "2022-05-31T17:42:05.679006Z"
    },
    "papermill": {
     "duration": 0.259447,
     "end_time": "2022-05-31T17:48:09.761140",
     "exception": false,
     "start_time": "2022-05-31T17:48:09.501693",
     "status": "completed"
    },
    "tags": []
   },
   "outputs": [
    {
     "data": {
      "image/png": "[encoded data removed]",
      "text/plain": [
       "<Figure size 432x288 with 1 Axes>"
      ]
     },
     "metadata": {
      "needs_background": "light"
     },
     "output_type": "display_data"
    }
   ],
   "source": [
    "plt.plot(pd.DataFrame(sse_)[0], pd.DataFrame(sse_)[1]);"
   ]
  },
  {
   "cell_type": "code",
   "execution_count": 64,
   "id": "63ab9edd",
   "metadata": {
    "execution": {
     "iopub.execute_input": "2022-05-31T17:48:09.976137Z",
     "iopub.status.busy": "2022-05-31T17:48:09.975419Z",
     "iopub.status.idle": "2022-05-31T17:48:11.139139Z",
     "shell.execute_reply": "2022-05-31T17:48:11.138484Z",
     "shell.execute_reply.started": "2022-05-31T17:42:05.901728Z"
    },
    "papermill": {
     "duration": 1.274898,
     "end_time": "2022-05-31T17:48:11.139265",
     "exception": false,
     "start_time": "2022-05-31T17:48:09.864367",
     "status": "completed"
    },
    "tags": []
   },
   "outputs": [
    {
     "data": {
      "text/plain": [
       "[<matplotlib.lines.Line2D at 0x7f1545bded50>]"
      ]
     },
     "execution_count": 64,
     "metadata": {},
     "output_type": "execute_result"
    },
    {
     "data": {
      "image/png": "[encoded data removed]",
      "text/plain": [
       "<Figure size 432x288 with 1 Axes>"
      ]
     },
     "metadata": {
      "needs_background": "light"
     },
     "output_type": "display_data"
    }
   ],
   "source": [
    "# sum of squared distances\n",
    "ssd = []\n",
    "for num_clusters in list(range(1,21)):\n",
    "    model_clus = KMeans(n_clusters = num_clusters, max_iter=100)\n",
    "    model_clus.fit(RFM_norm1)\n",
    "    ssd.append(model_clus.inertia_)\n",
    "\n",
    "plt.plot(ssd)"
   ]
  },
  {
   "cell_type": "code",
   "execution_count": 65,
   "id": "794e7e54",
   "metadata": {
    "execution": {
     "iopub.execute_input": "2022-05-31T17:48:11.357545Z",
     "iopub.status.busy": "2022-05-31T17:48:11.356930Z",
     "iopub.status.idle": "2022-05-31T17:48:11.388327Z",
     "shell.execute_reply": "2022-05-31T17:48:11.387695Z",
     "shell.execute_reply.started": "2022-05-31T17:42:07.315123Z"
    },
    "papermill": {
     "duration": 0.143477,
     "end_time": "2022-05-31T17:48:11.388456",
     "exception": false,
     "start_time": "2022-05-31T17:48:11.244979",
     "status": "completed"
    },
    "tags": []
   },
   "outputs": [
    {
     "data": {
      "text/plain": [
       "KMeans(max_iter=100, n_clusters=4)"
      ]
     },
     "execution_count": 65,
     "metadata": {},
     "output_type": "execute_result"
    }
   ],
   "source": [
    "# Kmeans with K=5\n",
    "model_clus5 = KMeans(n_clusters = 4, max_iter=100)\n",
    "model_clus5.fit(RFM_norm1)"
   ]
  },
  {
   "cell_type": "code",
   "execution_count": 66,
   "id": "60e7b12b",
   "metadata": {
    "execution": {
     "iopub.execute_input": "2022-05-31T17:48:11.617146Z",
     "iopub.status.busy": "2022-05-31T17:48:11.616393Z",
     "iopub.status.idle": "2022-05-31T17:48:11.620011Z",
     "shell.execute_reply": "2022-05-31T17:48:11.619352Z",
     "shell.execute_reply.started": "2022-05-31T17:42:07.358278Z"
    },
    "papermill": {
     "duration": 0.125463,
     "end_time": "2022-05-31T17:48:11.620138",
     "exception": false,
     "start_time": "2022-05-31T17:48:11.494675",
     "status": "completed"
    },
    "tags": []
   },
   "outputs": [
    {
     "data": {
      "text/html": [
       "<div>\n",
       "<style scoped>\n",
       "    .dataframe tbody tr th:only-of-type {\n",
       "        vertical-align: middle;\n",
       "    }\n",
       "\n",
       "    .dataframe tbody tr th {\n",
       "        vertical-align: top;\n",
       "    }\n",
       "\n",
       "    .dataframe thead th {\n",
       "        text-align: right;\n",
       "    }\n",
       "</style>\n",
       "<table border=\"1\" class=\"dataframe\">\n",
       "  <thead>\n",
       "    <tr style=\"text-align: right;\">\n",
       "      <th></th>\n",
       "      <th>SHOPID</th>\n",
       "      <th>VALUE_SOLD</th>\n",
       "      <th>FREQUENCY</th>\n",
       "      <th>RECENCY</th>\n",
       "      <th>CLUSTERID</th>\n",
       "    </tr>\n",
       "  </thead>\n",
       "  <tbody>\n",
       "    <tr>\n",
       "      <th>0</th>\n",
       "      <td>408687</td>\n",
       "      <td>6265.0</td>\n",
       "      <td>13</td>\n",
       "      <td>75 days 03:21:03</td>\n",
       "      <td>1</td>\n",
       "    </tr>\n",
       "    <tr>\n",
       "      <th>1</th>\n",
       "      <td>408704</td>\n",
       "      <td>495.0</td>\n",
       "      <td>3</td>\n",
       "      <td>110 days 05:39:44</td>\n",
       "      <td>3</td>\n",
       "    </tr>\n",
       "    <tr>\n",
       "      <th>2</th>\n",
       "      <td>408706</td>\n",
       "      <td>940.0</td>\n",
       "      <td>5</td>\n",
       "      <td>110 days 05:37:30</td>\n",
       "      <td>0</td>\n",
       "    </tr>\n",
       "    <tr>\n",
       "      <th>3</th>\n",
       "      <td>408708</td>\n",
       "      <td>560.0</td>\n",
       "      <td>5</td>\n",
       "      <td>110 days 04:06:11</td>\n",
       "      <td>0</td>\n",
       "    </tr>\n",
       "    <tr>\n",
       "      <th>4</th>\n",
       "      <td>408709</td>\n",
       "      <td>2765.0</td>\n",
       "      <td>8</td>\n",
       "      <td>109 days 23:31:26</td>\n",
       "      <td>0</td>\n",
       "    </tr>\n",
       "  </tbody>\n",
       "</table>\n",
       "</div>"
      ],
      "text/plain": [
       "   SHOPID  VALUE_SOLD  FREQUENCY           RECENCY  CLUSTERID\n",
       "0  408687      6265.0         13  75 days 03:21:03          1\n",
       "1  408704       495.0          3 110 days 05:39:44          3\n",
       "2  408706       940.0          5 110 days 05:37:30          0\n",
       "3  408708       560.0          5 110 days 04:06:11          0\n",
       "4  408709      2765.0          8 109 days 23:31:26          0"
      ]
     },
     "execution_count": 66,
     "metadata": {},
     "output_type": "execute_result"
    }
   ],
   "source": [
    "# analysis of clusters formed\n",
    "RFM.index = pd.RangeIndex(len(RFM.index))\n",
    "RFM_km = pd.concat([RFM, pd.Series(model_clus5.labels_)], axis=1)\n",
    "RFM_km.columns = ['SHOPID', 'VALUE_SOLD', 'FREQUENCY', 'RECENCY', 'CLUSTERID']\n",
    "RFM_km.head()"
   ]
  },
  {
   "cell_type": "code",
   "execution_count": 67,
   "id": "974d667c",
   "metadata": {
    "execution": {
     "iopub.execute_input": "2022-05-31T17:48:11.831325Z",
     "iopub.status.busy": "2022-05-31T17:48:11.830738Z",
     "iopub.status.idle": "2022-05-31T17:48:11.838833Z",
     "shell.execute_reply": "2022-05-31T17:48:11.839338Z",
     "shell.execute_reply.started": "2022-05-31T17:42:07.377732Z"
    },
    "papermill": {
     "duration": 0.115495,
     "end_time": "2022-05-31T17:48:11.839497",
     "exception": false,
     "start_time": "2022-05-31T17:48:11.724002",
     "status": "completed"
    },
    "tags": []
   },
   "outputs": [],
   "source": [
    "RFM_km.RECENCY = RFM_km.RECENCY.dt.days\n",
    "km_clusters_amount = pd.DataFrame(RFM_km.groupby([\"CLUSTERID\"]).VALUE_SOLD.mean())\n",
    "km_clusters_frequency = pd.DataFrame(RFM_km.groupby([\"CLUSTERID\"]).FREQUENCY.mean())\n",
    "km_clusters_recency = pd.DataFrame(RFM_km.groupby([\"CLUSTERID\"]).RECENCY.mean())"
   ]
  },
  {
   "cell_type": "code",
   "execution_count": 68,
   "id": "c03419db",
   "metadata": {
    "execution": {
     "iopub.execute_input": "2022-05-31T17:48:12.050706Z",
     "iopub.status.busy": "2022-05-31T17:48:12.050055Z",
     "iopub.status.idle": "2022-05-31T17:48:12.060655Z",
     "shell.execute_reply": "2022-05-31T17:48:12.061250Z",
     "shell.execute_reply.started": "2022-05-31T17:42:07.394201Z"
    },
    "papermill": {
     "duration": 0.117885,
     "end_time": "2022-05-31T17:48:12.061419",
     "exception": false,
     "start_time": "2022-05-31T17:48:11.943534",
     "status": "completed"
    },
    "tags": []
   },
   "outputs": [
    {
     "data": {
      "text/html": [
       "<div>\n",
       "<style scoped>\n",
       "    .dataframe tbody tr th:only-of-type {\n",
       "        vertical-align: middle;\n",
       "    }\n",
       "\n",
       "    .dataframe tbody tr th {\n",
       "        vertical-align: top;\n",
       "    }\n",
       "\n",
       "    .dataframe thead th {\n",
       "        text-align: right;\n",
       "    }\n",
       "</style>\n",
       "<table border=\"1\" class=\"dataframe\">\n",
       "  <thead>\n",
       "    <tr style=\"text-align: right;\">\n",
       "      <th></th>\n",
       "      <th>CLUSTERID</th>\n",
       "      <th>VALUE_SOLD_MEAN</th>\n",
       "      <th>FREQUENCY_MEAN</th>\n",
       "      <th>RECENCY_MEAN</th>\n",
       "    </tr>\n",
       "  </thead>\n",
       "  <tbody>\n",
       "    <tr>\n",
       "      <th>0</th>\n",
       "      <td>0</td>\n",
       "      <td>1446.666626</td>\n",
       "      <td>7.666667</td>\n",
       "      <td>112.75000</td>\n",
       "    </tr>\n",
       "    <tr>\n",
       "      <th>1</th>\n",
       "      <td>1</td>\n",
       "      <td>4417.000000</td>\n",
       "      <td>12.200000</td>\n",
       "      <td>80.00000</td>\n",
       "    </tr>\n",
       "    <tr>\n",
       "      <th>2</th>\n",
       "      <td>2</td>\n",
       "      <td>269.166656</td>\n",
       "      <td>2.333333</td>\n",
       "      <td>55.00000</td>\n",
       "    </tr>\n",
       "    <tr>\n",
       "      <th>3</th>\n",
       "      <td>3</td>\n",
       "      <td>335.862061</td>\n",
       "      <td>1.827586</td>\n",
       "      <td>128.62069</td>\n",
       "    </tr>\n",
       "  </tbody>\n",
       "</table>\n",
       "</div>"
      ],
      "text/plain": [
       "   CLUSTERID  VALUE_SOLD_MEAN  FREQUENCY_MEAN  RECENCY_MEAN\n",
       "0          0      1446.666626        7.666667     112.75000\n",
       "1          1      4417.000000       12.200000      80.00000\n",
       "2          2       269.166656        2.333333      55.00000\n",
       "3          3       335.862061        1.827586     128.62069"
      ]
     },
     "execution_count": 68,
     "metadata": {},
     "output_type": "execute_result"
    }
   ],
   "source": [
    "df_rfm = pd.concat([pd.Series([0,1,2,3]), km_clusters_amount, km_clusters_frequency, km_clusters_recency], axis=1)\n",
    "df_rfm.columns = [\"CLUSTERID\", \"VALUE_SOLD_MEAN\", \"FREQUENCY_MEAN\", \"RECENCY_MEAN\"]\n",
    "df_rfm.head()"
   ]
  },
  {
   "cell_type": "code",
   "execution_count": 69,
   "id": "ad61cdea",
   "metadata": {
    "execution": {
     "iopub.execute_input": "2022-05-31T17:48:12.322965Z",
     "iopub.status.busy": "2022-05-31T17:48:12.322261Z",
     "iopub.status.idle": "2022-05-31T17:48:12.946618Z",
     "shell.execute_reply": "2022-05-31T17:48:12.947118Z",
     "shell.execute_reply.started": "2022-05-31T17:42:07.413413Z"
    },
    "papermill": {
     "duration": 0.779059,
     "end_time": "2022-05-31T17:48:12.947278",
     "exception": false,
     "start_time": "2022-05-31T17:48:12.168219",
     "status": "completed"
    },
    "tags": []
   },
   "outputs": [
    {
     "data": {
      "image/png": "[encoded data removed]",
      "text/plain": [
       "<Figure size 1080x360 with 3 Axes>"
      ]
     },
     "metadata": {
      "needs_background": "light"
     },
     "output_type": "display_data"
    }
   ],
   "source": [
    "fig, axs = plt.subplots(1,3, figsize = (15,5))\n",
    "\n",
    "sns.barplot(x=df_rfm.CLUSTERID, y=df_rfm.VALUE_SOLD_MEAN, ax = axs[0])\n",
    "sns.barplot(x=df_rfm.CLUSTERID, y=df_rfm.FREQUENCY_MEAN, ax = axs[1])\n",
    "sns.barplot(x=df_rfm.CLUSTERID, y=df_rfm.RECENCY_MEAN, ax = axs[2])\n",
    "plt.tight_layout()            \n",
    "plt.show()"
   ]
  },
  {
   "cell_type": "code",
   "execution_count": 70,
   "id": "4574724b",
   "metadata": {
    "execution": {
     "iopub.execute_input": "2022-05-31T17:48:13.175097Z",
     "iopub.status.busy": "2022-05-31T17:48:13.172578Z",
     "iopub.status.idle": "2022-05-31T17:48:13.200956Z",
     "shell.execute_reply": "2022-05-31T17:48:13.200526Z",
     "shell.execute_reply.started": "2022-05-31T17:42:08.129008Z"
    },
    "papermill": {
     "duration": 0.141651,
     "end_time": "2022-05-31T17:48:13.201061",
     "exception": false,
     "start_time": "2022-05-31T17:48:13.059410",
     "status": "completed"
    },
    "tags": []
   },
   "outputs": [
    {
     "data": {
      "text/html": [
       "<div>\n",
       "<style scoped>\n",
       "    .dataframe tbody tr th:only-of-type {\n",
       "        vertical-align: middle;\n",
       "    }\n",
       "\n",
       "    .dataframe tbody tr th {\n",
       "        vertical-align: top;\n",
       "    }\n",
       "\n",
       "    .dataframe thead th {\n",
       "        text-align: right;\n",
       "    }\n",
       "</style>\n",
       "<table border=\"1\" class=\"dataframe\">\n",
       "  <thead>\n",
       "    <tr style=\"text-align: right;\">\n",
       "      <th></th>\n",
       "      <th>ENTRY_ID</th>\n",
       "      <th>ENTRY_TYPE</th>\n",
       "      <th>USERID</th>\n",
       "      <th>SALES_REP</th>\n",
       "      <th>REP_CATEGORY</th>\n",
       "      <th>SHOPID</th>\n",
       "      <th>CUSTOMER_NAME</th>\n",
       "      <th>USERCATEGORY</th>\n",
       "      <th>CUSTOMER_VERIFICATION</th>\n",
       "      <th>CUSTOMER_CATEGORY</th>\n",
       "      <th>LOCATION_ID</th>\n",
       "      <th>LOCATION_NAME</th>\n",
       "      <th>ROUTE_NAME</th>\n",
       "      <th>PRODUCT_CATEGORY</th>\n",
       "      <th>PRODUCT_NAME</th>\n",
       "      <th>PRODUCT_SKU</th>\n",
       "      <th>PIECES_SOLD</th>\n",
       "      <th>CARTONS_SOLD</th>\n",
       "      <th>VALUE_SOLD</th>\n",
       "      <th>ENTRY_TIME</th>\n",
       "      <th>SHOP_NAME</th>\n",
       "      <th>LATITUDE</th>\n",
       "      <th>LONGITUDE</th>\n",
       "      <th>DIFF</th>\n",
       "    </tr>\n",
       "  </thead>\n",
       "  <tbody>\n",
       "    <tr>\n",
       "      <th>0</th>\n",
       "      <td>1305822</td>\n",
       "      <td>Sale</td>\n",
       "      <td>77</td>\n",
       "      <td>ROBERT MUGAMBI</td>\n",
       "      <td>FootSoldiers - Brilliantdom</td>\n",
       "      <td>243861</td>\n",
       "      <td>SOFT SHOP</td>\n",
       "      <td>FootSoldiers - Brilliantdom</td>\n",
       "      <td>Valid</td>\n",
       "      <td>SHOP</td>\n",
       "      <td>137.0</td>\n",
       "      <td>TASSIA</td>\n",
       "      <td>TASSIA</td>\n",
       "      <td>FRESH 4S</td>\n",
       "      <td>FRESH 4S</td>\n",
       "      <td>FRESH MENTHOL 12BAGS X 50PCS</td>\n",
       "      <td>1.0</td>\n",
       "      <td>0.083313</td>\n",
       "      <td>180.0</td>\n",
       "      <td>2019-01-14 10:00:45</td>\n",
       "      <td>soft shop</td>\n",
       "      <td>-1.307511</td>\n",
       "      <td>36.899044</td>\n",
       "      <td>351 days 08:45:56</td>\n",
       "    </tr>\n",
       "    <tr>\n",
       "      <th>1</th>\n",
       "      <td>1305822</td>\n",
       "      <td>Sale</td>\n",
       "      <td>77</td>\n",
       "      <td>ROBERT MUGAMBI</td>\n",
       "      <td>FootSoldiers - Brilliantdom</td>\n",
       "      <td>243861</td>\n",
       "      <td>SOFT SHOP</td>\n",
       "      <td>FootSoldiers - Brilliantdom</td>\n",
       "      <td>Valid</td>\n",
       "      <td>SHOP</td>\n",
       "      <td>137.0</td>\n",
       "      <td>TASSIA</td>\n",
       "      <td>TASSIA</td>\n",
       "      <td>FRESH 4S</td>\n",
       "      <td>FRESH 4S</td>\n",
       "      <td>FRESH FRUIT 12BAGS X 50PCS</td>\n",
       "      <td>1.0</td>\n",
       "      <td>0.083313</td>\n",
       "      <td>180.0</td>\n",
       "      <td>2019-01-14 10:00:45</td>\n",
       "      <td>soft shop</td>\n",
       "      <td>-1.307511</td>\n",
       "      <td>36.899044</td>\n",
       "      <td>351 days 08:45:56</td>\n",
       "    </tr>\n",
       "  </tbody>\n",
       "</table>\n",
       "</div>"
      ],
      "text/plain": [
       "   ENTRY_ID ENTRY_TYPE  USERID       SALES_REP                 REP_CATEGORY  \\\n",
       "0   1305822       Sale      77  ROBERT MUGAMBI  FootSoldiers - Brilliantdom   \n",
       "1   1305822       Sale      77  ROBERT MUGAMBI  FootSoldiers - Brilliantdom   \n",
       "\n",
       "   SHOPID CUSTOMER_NAME                 USERCATEGORY CUSTOMER_VERIFICATION  \\\n",
       "0  243861     SOFT SHOP  FootSoldiers - Brilliantdom                 Valid   \n",
       "1  243861     SOFT SHOP  FootSoldiers - Brilliantdom                 Valid   \n",
       "\n",
       "  CUSTOMER_CATEGORY  LOCATION_ID LOCATION_NAME ROUTE_NAME PRODUCT_CATEGORY  \\\n",
       "0              SHOP        137.0        TASSIA     TASSIA         FRESH 4S   \n",
       "1              SHOP        137.0        TASSIA     TASSIA         FRESH 4S   \n",
       "\n",
       "  PRODUCT_NAME                   PRODUCT_SKU  PIECES_SOLD  CARTONS_SOLD  \\\n",
       "0     FRESH 4S  FRESH MENTHOL 12BAGS X 50PCS          1.0      0.083313   \n",
       "1     FRESH 4S    FRESH FRUIT 12BAGS X 50PCS          1.0      0.083313   \n",
       "\n",
       "   VALUE_SOLD          ENTRY_TIME  SHOP_NAME  LATITUDE  LONGITUDE  \\\n",
       "0       180.0 2019-01-14 10:00:45  soft shop -1.307511  36.899044   \n",
       "1       180.0 2019-01-14 10:00:45  soft shop -1.307511  36.899044   \n",
       "\n",
       "               DIFF  \n",
       "0 351 days 08:45:56  \n",
       "1 351 days 08:45:56  "
      ]
     },
     "execution_count": 70,
     "metadata": {},
     "output_type": "execute_result"
    }
   ],
   "source": [
    "df.head(2)"
   ]
  },
  {
   "cell_type": "code",
   "execution_count": 71,
   "id": "0ce23c42",
   "metadata": {
    "execution": {
     "iopub.execute_input": "2022-05-31T17:48:13.351179Z",
     "iopub.status.busy": "2022-05-31T17:48:13.348208Z",
     "iopub.status.idle": "2022-05-31T17:48:15.745329Z",
     "shell.execute_reply": "2022-05-31T17:48:15.745763Z",
     "shell.execute_reply.started": "2022-05-31T17:42:08.163449Z"
    },
    "papermill": {
     "duration": 2.471865,
     "end_time": "2022-05-31T17:48:15.745922",
     "exception": false,
     "start_time": "2022-05-31T17:48:13.274057",
     "status": "completed"
    },
    "tags": []
   },
   "outputs": [
    {
     "data": {
      "text/html": [
       "        <script type=\"text/javascript\">\n",
       "        window.PlotlyConfig = {MathJaxConfig: 'local'};\n",
       "        if (window.MathJax) {MathJax.Hub.Config({SVG: {font: \"STIX-Web\"}});}\n",
       "        if (typeof require !== 'undefined') {\n",
       "        require.undef(\"plotly\");\n",
       "        requirejs.config({\n",
       "            paths: {\n",
       "                'plotly': ['https://cdn.plot.ly/plotly-2.4.2.min']\n",
       "            }\n",
       "        });\n",
       "        require(['plotly'], function(Plotly) {\n",
       "            window._Plotly = Plotly;\n",
       "        });\n",
       "        }\n",
       "        </script>\n",
       "        "
      ]
     },
     "metadata": {},
     "output_type": "display_data"
    },
    {
     "data": {
      "text/html": [
       "<div>                            <div id=\"91bf9f9a-b822-4092-ab55-cb21f264d812\" class=\"plotly-graph-div\" style=\"height:525px; width:100%;\"></div>            <script type=\"text/javascript\">                require([\"plotly\"], function(Plotly) {                    window.PLOTLYENV=window.PLOTLYENV || {};                                    if (document.getElementById(\"91bf9f9a-b822-4092-ab55-cb21f264d812\")) {                    Plotly.newPlot(                        \"91bf9f9a-b822-4092-ab55-cb21f264d812\",                        [{\"hovertemplate\":\"LONGITUDE=%{x}<br>LATITUDE=%{y}<br>VALUE_SOLD=%{marker.color}<extra></extra>\",\"legendgroup\":\"\",\"marker\":{\"color\":[180.0,180.0,180.0,0.0,165.0,165.0,165.0,165.0,165.0,165.0,165.0,0.0,165.0,0.0,0.0,165.0,165.0,165.0,165.0,165.0,165.0,0.0,165.0,165.0,165.0,165.0,165.0,165.0,165.0,330.0,165.0,0.0,0.0,165.0,165.0,165.0,0.0,0.0,825.0,990.0,825.0,825.0,825.0,825.0,1980.0,1980.0,1980.0,1980.0,1980.0,1840.0,1980.0,1320.0,0.0,460.0,1980.0,240.0,0.0,0.0,0.0,0.0,0.0,0.0,0.0,240.0,0.0,0.0,0.0,0.0,0.0,150.0,0.0,0.0,0.0,0.0,0.0,180.0,180.0,165.0,165.0,165.0,165.0,165.0,165.0,165.0,165.0,165.0,270.0,165.0,165.0,165.0,165.0,165.0,165.0,165.0,0.0,0.0,165.0,165.0,165.0,0.0,165.0,165.0,170.0,330.0,0.0,165.0,165.0,165.0,165.0,165.0,0.0,170.0,825.0,1650.0,165.0,1650.0,3300.0,825.0,825.0,495.0,990.0,990.0,1840.0,0.0,990.0,1980.0,1980.0,0.0,0.0,240.0,0.0,240.0,0.0,0.0,0.0,0.0,0.0,0.0,0.0,150.0,240.0,0.0,0.0,0.0,0.0,0.0,0.0,0.0,0.0,180.0,180.0,180.0,165.0,165.0,165.0,165.0,165.0,0.0,0.0,330.0,165.0,165.0,0.0,165.0,165.0,330.0,0.0,165.0,165.0,165.0,165.0,165.0,165.0,165.0,165.0,165.0,165.0,165.0,165.0,165.0,165.0,0.0,330.0,165.0,165.0,0.0,495.0,825.0,330.0,240.0,0.0,0.0,0.0,0.0,0.0,0.0,0.0,240.0,150.0,0.0,0.0,240.0,0.0,240.0,0.0,240.0,150.0,0.0,0.0,240.0,0.0,0.0,180.0,0.0,0.0,0.0,0.0,165.0,165.0,0.0,165.0,165.0,165.0,0.0,165.0,165.0,165.0,165.0,330.0,165.0,165.0,165.0,165.0,165.0,0.0,165.0,165.0,0.0,165.0,165.0,165.0,330.0,165.0,165.0,0.0,0.0,165.0,0.0,660.0,1485.0,0.0,0.0,0.0,0.0,0.0,0.0,0.0,0.0,240.0,0.0,240.0,0.0,0.0,0.0,240.0,0.0,240.0,0.0,0.0,0.0,330.0,165.0,165.0,0.0,165.0,0.0,165.0,165.0,165.0,165.0,165.0,0.0,0.0,0.0,165.0,0.0,165.0,165.0,165.0,0.0,0.0,165.0,165.0,0.0,0.0,165.0,330.0,330.0,0.0,0.0,0.0,240.0,0.0,0.0,0.0,240.0,0.0,240.0,0.0,150.0,0.0,0.0,0.0,0.0,0.0,165.0,165.0,165.0,165.0,165.0,0.0,495.0,165.0,330.0,165.0,0.0,165.0,165.0,0.0,0.0,165.0,165.0,165.0,165.0,0.0,0.0,0.0,0.0,150.0,240.0,240.0,250.0,0.0,0.0,0.0,165.0,480.0,330.0,330.0,330.0,330.0,0.0,0.0,165.0,1050.0,495.0,165.0,165.0,1440.0,0.0,165.0,330.0,110.0,165.0,165.0,165.0,165.0,65.0,165.0,120.0,825.0,825.0,825.0,1380.0,500.0,1150.0,600.0,220.0,660.0,460.0,330.0,330.0,330.0,330.0,165.0,660.0,165.0,330.0,110.0,50.0,165.0,165.0,165.0,165.0,165.0,165.0,100.0,0.0,0.0,0.0,165.0,165.0,230.0,720.0,1650.0,825.0,130.0,165.0,990.0,495.0,825.0,825.0,825.0,660.0,440.0,460.0,300.0,165.0,165.0,165.0,165.0,165.0,165.0,65.0,495.0,660.0,660.0,330.0,460.0,330.0,200.0,65.0,65.0,150.0,65.0,60.0,60.0,65.0,330.0,330.0,330.0,330.0,110.0,110.0,50.0,130.0,65.0,65.0,0.0,165.0,165.0,165.0,230.0,330.0,130.0,130.0,130.0,130.0,330.0,330.0,690.0,550.0,360.0,330.0,330.0,330.0,825.0,825.0,825.0,330.0,825.0,660.0,200.0,165.0,165.0,165.0,165.0,165.0,230.0,330.0,330.0,330.0,100.0,130.0,165.0,165.0,165.0,165.0,165.0,165.0,165.0,165.0,165.0,325.0,65.0,65.0,165.0,330.0,825.0,165.0,230.0,220.0,50.0,390.0,165.0,495.0,330.0,330.0,165.0,165.0,495.0,495.0,325.0,825.0,825.0,825.0,825.0,240.0,165.0,300.0,165.0,70.0,0.0,110.0,120.0,165.0,165.0,330.0,195.0,165.0,165.0,0.0,660.0,330.0,920.0,0.0,180.0,330.0,330.0,210.0,360.0,825.0,825.0,825.0,825.0,825.0,325.0,350.0,660.0,660.0,990.0,120.0,120.0,120.0,130.0,825.0,825.0,170.0,330.0,330.0,330.0,330.0,250.0,330.0,330.0,165.0,165.0,165.0,165.0,165.0,165.0,50.0,165.0,165.0,165.0,165.0,165.0,120.0,150.0,60.0,495.0,660.0,660.0,330.0,230.0,220.0,100.0,390.0,130.0,165.0,120.0,165.0,165.0,120.0,165.0,495.0,165.0,165.0,120.0,60.0,0.0,120.0,60.0,165.0,165.0,240.0,165.0,165.0,165.0,165.0,495.0,330.0,330.0,165.0,165.0,165.0,240.0,165.0,0.0,0.0,0.0,0.0,0.0,165.0,165.0,165.0,120.0,165.0,120.0,0.0,60.0,0.0,240.0,120.0,165.0,165.0,0.0,0.0,165.0,130.0,0.0,330.0,0.0,165.0,0.0,165.0,165.0,180.0,165.0,0.0,165.0,165.0,165.0,0.0,165.0,240.0,180.0,330.0,330.0,220.0,360.0,480.0,330.0,165.0,165.0,660.0,165.0,330.0,0.0,495.0,495.0,0.0,660.0,0.0,330.0,165.0,165.0,165.0,165.0,165.0,495.0,660.0,330.0,330.0,330.0,330.0,330.0,330.0,240.0,120.0,165.0,165.0,330.0,825.0,825.0,825.0,495.0,330.0,480.0,165.0,660.0,165.0,60.0,330.0,240.0,825.0,165.0,165.0,120.0,60.0,165.0,165.0,165.0,330.0,240.0,140.0,130.0,0.0,165.0,165.0,165.0,165.0,165.0,65.0,65.0,0.0,0.0,0.0,60.0,60.0,120.0,0.0,165.0,140.0,65.0,0.0,495.0,120.0,165.0,130.0,60.0,0.0,60.0,0.0,165.0,110.0,165.0,495.0,60.0,165.0,0.0,165.0,330.0,165.0,120.0,60.0,60.0,200.0,920.0,260.0,330.0,165.0,330.0,120.0,165.0,165.0,165.0,65.0,330.0,330.0,825.0,460.0,165.0,2475.0,825.0,825.0,660.0,825.0,825.0,495.0,495.0,495.0,330.0,165.0,165.0,165.0,165.0,165.0,165.0,330.0,330.0,330.0,330.0,330.0,330.0,330.0,330.0,165.0,330.0,330.0,110.0,110.0,120.0,50.0,260.0,65.0,65.0,60.0,60.0,60.0,165.0],\"coloraxis\":\"coloraxis\",\"symbol\":\"circle\"},\"mode\":\"markers\",\"name\":\"\",\"orientation\":\"v\",\"showlegend\":false,\"type\":\"scatter\",\"x\":[36.899044,36.899044,36.899044,36.899044,36.899044,36.899044,36.899044,36.899044,36.899044,36.899044,36.899044,36.899044,36.899044,36.899044,36.899044,36.899044,36.899044,36.899044,36.899044,36.899044,36.899044,36.899044,36.899044,36.899044,36.899044,36.899044,36.899044,36.899044,36.899044,36.899044,36.899044,36.899044,36.899044,36.899044,36.899044,36.899044,36.899044,36.899044,36.899044,36.899044,36.899044,36.899044,36.899044,36.899044,36.899044,36.899044,36.899044,36.899044,36.899044,36.899044,36.899044,36.899044,36.899044,36.899044,36.899044,36.899044,36.899044,36.899044,36.899044,36.899044,36.899044,36.899044,36.899044,36.899044,36.899044,36.899044,36.899044,36.899044,36.899044,36.899044,36.899044,36.899044,36.899044,36.899044,36.899044,36.9001326,36.9001326,36.9001326,36.9001326,36.9001326,36.9001326,36.9001326,36.9001326,36.9001326,36.9001326,36.9001326,36.9001326,36.9001326,36.9001326,36.9001326,36.9001326,36.9001326,36.9001326,36.9001326,36.9001326,36.9001326,36.9001326,36.9001326,36.9001326,36.9001326,36.9001326,36.9001326,36.9001326,36.9001326,36.9001326,36.9001326,36.9001326,36.9001326,36.9001326,36.9001326,36.9001326,36.9001326,36.9001326,36.9001326,36.9001326,36.9001326,36.9001326,36.9001326,36.9001326,36.9001326,36.9001326,36.9001326,36.9001326,36.9001326,36.9001326,36.9001326,36.9001326,36.9001326,36.9001326,36.9001326,36.9001326,36.9001326,36.9001326,36.9001326,36.9001326,36.9001326,36.9001326,36.9001326,36.9001326,36.9001326,36.9001326,36.9001326,36.9001326,36.9001326,36.9001326,36.9001326,36.9001326,36.9001326,36.9001326,36.9001211,36.9001211,36.9001211,36.9001211,36.9001211,36.9001211,36.9001211,36.9001211,36.9001211,36.9001211,36.9001211,36.9001211,36.9001211,36.9001211,36.9001211,36.9001211,36.9001211,36.9001211,36.9001211,36.9001211,36.9001211,36.9001211,36.9001211,36.9001211,36.9001211,36.9001211,36.9001211,36.9001211,36.9001211,36.9001211,36.9001211,36.9001211,36.9001211,36.9001211,36.9001211,36.9001211,36.9001211,36.9001211,36.9001211,36.9001211,36.9001211,36.9001211,36.9001211,36.9001211,36.9001211,36.9001211,36.9001211,36.9001211,36.9001211,36.9001211,36.9001211,36.9001211,36.9001211,36.9001211,36.9001211,36.9001211,36.9001211,36.9001211,36.9001211,36.9001211,36.9001211,36.9001211,36.9001211,36.9002861,36.9002861,36.9002861,36.9002861,36.9002861,36.9002861,36.9002861,36.9002861,36.9002861,36.9002861,36.9002861,36.9002861,36.9002861,36.9002861,36.9002861,36.9002861,36.9002861,36.9002861,36.9002861,36.9002861,36.9002861,36.9002861,36.9002861,36.9002861,36.9002861,36.9002861,36.9002861,36.9002861,36.9002861,36.9002861,36.9002861,36.9002861,36.9002861,36.9002861,36.9002861,36.9002861,36.9002861,36.9002861,36.9002861,36.9002861,36.9002861,36.9002861,36.9002861,36.9002861,36.9002861,36.9002861,36.9002861,36.9002861,36.9002861,36.9002861,36.9002861,36.9002861,36.9002861,36.9002861,36.9002861,36.8960602,36.8960602,36.8960602,36.8960602,36.8960602,36.8960602,36.8960602,36.8960602,36.8960602,36.8960602,36.8960602,36.8960602,36.8960602,36.8960602,36.8960602,36.8960602,36.8960602,36.8960602,36.8960602,36.8960602,36.8960602,36.8960602,36.8960602,36.8960602,36.8960602,36.8960602,36.8960602,36.8960602,36.8960602,36.8960602,36.8960602,36.8960602,36.8960602,36.8960602,36.8960602,36.8960602,36.8960602,36.8960602,36.8960602,36.8960602,36.8960602,36.8960602,36.8960602,36.8960602,36.8960602,36.8960602,36.893125,36.893125,36.893125,36.893125,36.893125,36.893125,36.893125,36.893125,36.893125,36.893125,36.893125,36.893125,36.893125,36.893125,36.893125,36.893125,36.893125,36.893125,36.893125,36.893125,36.893125,36.893125,36.893125,36.893125,36.893125,36.893125,36.893125,36.893125,36.893125,36.893125,36.893125,36.893125,36.9053047,36.9053047,36.9053047,36.9053047,36.9053047,36.9053047,36.9051407,36.9051407,36.9050367,36.9050367,36.91629,36.91629,36.91629,36.9215234,36.9215234,36.9215234,36.8924883,36.8924883,36.8924883,36.8924883,36.8924883,36.8924883,36.8924883,36.8924883,36.8924883,36.8924883,36.8924883,36.8924883,36.8924883,36.8924883,36.8924883,36.8924883,36.8924883,36.8924883,36.8924883,36.8924883,36.8924883,36.8924883,36.8924883,36.8924883,36.8924883,36.8924883,36.8924883,36.8924883,36.8924883,36.8924883,36.8924883,36.8924883,36.8924883,36.8924883,36.8924883,36.8924883,36.8888246,36.8888246,36.8888246,36.8888246,36.8888246,36.8888246,36.8888246,36.8888246,36.8888246,36.8888246,36.8888246,36.8888246,36.8888246,36.8888246,36.8888246,36.8888246,36.8888246,36.8888246,36.8888246,36.8888246,36.8888246,36.8888246,36.8888246,36.8888246,36.8888246,36.8888246,36.8888246,36.8888246,36.8888246,36.8888246,36.8888246,36.8888246,36.8888246,36.8888246,36.8888246,36.8888246,36.8888246,36.8888246,36.8888246,36.8888246,36.8888246,36.8888246,36.8888246,36.8888246,36.8888246,36.8888246,36.8888246,36.8888246,36.8888246,36.8888246,36.8888246,36.8933427,36.8933427,36.8933427,36.8933427,36.8933427,36.8933427,36.8933427,36.8933427,36.8933427,36.8933427,36.8933427,36.8933427,36.8933427,36.8933427,36.8933427,36.8933427,36.8933427,36.8933427,36.8933427,36.8933427,36.8933427,36.8933427,36.8933427,36.8933427,36.8933427,36.8933427,36.8933427,36.8933427,36.8933427,36.8933427,36.8933427,36.8933427,36.8933427,36.8933427,36.8933427,36.8933427,36.8933427,36.8933427,36.8933427,36.8933427,36.8933427,36.8933427,36.8933427,36.8933427,36.8933427,36.8933427,36.8933427,36.8933427,36.8933427,36.8933427,36.8933427,36.8933427,36.8933427,36.8933427,36.8933427,36.8933427,36.896025,36.896025,36.896025,36.896025,36.896025,36.896025,36.896025,36.896025,36.896025,36.896025,36.896025,36.896025,36.896025,36.8982483,36.8982483,36.8982483,36.8982483,36.8982483,36.8980392,36.8980392,36.8980392,36.8980392,36.8980392,36.8972251,36.8972251,36.8972251,36.8972251,36.8972251,36.8972251,36.8972251,36.8972251,36.8935533,36.8935533,36.8935533,36.8935533,36.8935533,36.8935533,36.8935533,36.8935533,36.8935533,36.8935533,36.8935533,36.8935533,36.8935533,36.8935533,36.8935533,36.8935533,36.8935533,36.8935533,36.8935533,36.8935533,36.8935533,36.8935533,36.8935533,36.8935533,36.8935533,36.8935533,36.8935533,36.8935533,36.8935533,36.8935533,36.8935533,36.8935533,36.8935533,36.8935533,36.8935533,36.8935533,36.8935533,36.8935533,36.8935533,36.8935533,36.8935533,36.8935533,36.8935533,36.8935533,36.8935533,36.8935533,36.8935533,36.8935533,36.8935533,36.8935533,36.8935533,36.8935533,36.8935533,36.8935533,36.8970233,36.8970233,36.8970233,36.8970233,36.8970233,36.8970233,36.8970233,36.8970233,36.8970233,36.8970233,36.8970233,36.901005,36.901005,36.901005,36.901005,36.901005,36.901005,36.901005,36.901005,36.901005,36.901005,36.8968414,36.8968414,36.8968414,36.8968414,36.8968414,36.8968414,36.8951475,36.8951475,36.8972562,36.9005739,36.9005739,36.9011766,36.9015936,36.8968217,36.8968217,36.8968217,36.9036462,36.9036462,36.9043936,36.9018598,36.90588,36.8897126,36.8897126,36.8897126,36.8897126,36.8897126,36.9027312,36.902708,36.8897617,36.8897617,36.8897617,36.8897394,36.8897394,36.8898152,36.8898152,36.889515,36.889515,36.889515,36.8878519,36.8878519,36.8878367,36.8878367,36.8878367,36.8878367,36.8868798,36.8862433,36.8862433,36.8862433,36.8862433,36.8862433,36.8862433,36.8862433,36.8862433,36.8862433,36.8862433,36.8862433,36.8862433,36.8862433,36.8899286,36.8899286,36.8899286,36.8898765,36.8898765,36.9055873,36.9055873,36.9055873,36.9055873,36.9055873,36.9055873,36.9055873,36.9055873,36.9055873,36.9055873,36.9055873,36.9055873,36.9055873,36.9055873,36.9055873,36.9056017,36.9056017,36.9056017,36.9056017,36.9056017,36.9056017,36.9056017,36.9056017,36.9056017,36.9056017,36.909825,36.909825,36.909825,36.909825,36.909825,36.909825,36.909825,36.909825,36.909825,36.909825,36.909845,36.909845,36.909845,36.909845,36.909845,36.909845,36.909845,36.909845,36.909845,36.9049516,36.9049516,36.9049516,36.9049516,36.9049516,36.9049516,36.9049516,36.9049516,36.920786,36.920786,36.920786,36.920786,36.920786,36.920786,36.920786,36.920786,36.920786,36.920786,36.915735,36.915735,36.915735,36.915735,36.915735,36.915735,36.9051835,36.9156883,36.9044594,36.9152978,36.91506,36.91506,36.91506,36.9084626,36.9224599,36.8982567,36.8982567,36.8982567,36.895245,36.895245,36.895245,36.895245,36.895245,36.895245,36.895245,36.895245,36.90336,36.90336,36.90336,36.90336,36.90336,36.90336,36.90336,36.90336,36.90336,36.90336,36.90336,36.90336,36.90336,36.90336,36.90336,36.90336,36.90336,36.90336,36.90336,36.90336,36.90336,36.90336,36.90336,36.90336,36.90336,36.90336,36.90336,36.90336,36.90336,36.90336,36.90336,36.90336,36.90336,36.90336,36.90336,36.90336,36.90336,36.90336,36.90336,36.90336,36.90336,36.90336,36.90336,36.90336,36.90336,36.90336,36.90336,36.90336,36.90336,36.9043614],\"xaxis\":\"x\",\"y\":[-1.3075114,-1.3075114,-1.3075114,-1.3075114,-1.3075114,-1.3075114,-1.3075114,-1.3075114,-1.3075114,-1.3075114,-1.3075114,-1.3075114,-1.3075114,-1.3075114,-1.3075114,-1.3075114,-1.3075114,-1.3075114,-1.3075114,-1.3075114,-1.3075114,-1.3075114,-1.3075114,-1.3075114,-1.3075114,-1.3075114,-1.3075114,-1.3075114,-1.3075114,-1.3075114,-1.3075114,-1.3075114,-1.3075114,-1.3075114,-1.3075114,-1.3075114,-1.3075114,-1.3075114,-1.3075114,-1.3075114,-1.3075114,-1.3075114,-1.3075114,-1.3075114,-1.3075114,-1.3075114,-1.3075114,-1.3075114,-1.3075114,-1.3075114,-1.3075114,-1.3075114,-1.3075114,-1.3075114,-1.3075114,-1.3075114,-1.3075114,-1.3075114,-1.3075114,-1.3075114,-1.3075114,-1.3075114,-1.3075114,-1.3075114,-1.3075114,-1.3075114,-1.3075114,-1.3075114,-1.3075114,-1.3075114,-1.3075114,-1.3075114,-1.3075114,-1.3075114,-1.3075114,-1.3041164,-1.3041164,-1.3041164,-1.3041164,-1.3041164,-1.3041164,-1.3041164,-1.3041164,-1.3041164,-1.3041164,-1.3041164,-1.3041164,-1.3041164,-1.3041164,-1.3041164,-1.3041164,-1.3041164,-1.3041164,-1.3041164,-1.3041164,-1.3041164,-1.3041164,-1.3041164,-1.3041164,-1.3041164,-1.3041164,-1.3041164,-1.3041164,-1.3041164,-1.3041164,-1.3041164,-1.3041164,-1.3041164,-1.3041164,-1.3041164,-1.3041164,-1.3041164,-1.3041164,-1.3041164,-1.3041164,-1.3041164,-1.3041164,-1.3041164,-1.3041164,-1.3041164,-1.3041164,-1.3041164,-1.3041164,-1.3041164,-1.3041164,-1.3041164,-1.3041164,-1.3041164,-1.3041164,-1.3041164,-1.3041164,-1.3041164,-1.3041164,-1.3041164,-1.3041164,-1.3041164,-1.3041164,-1.3041164,-1.3041164,-1.3041164,-1.3041164,-1.3041164,-1.3041164,-1.3041164,-1.3041164,-1.3041164,-1.3041164,-1.3041164,-1.3041164,-1.3041535,-1.3041535,-1.3041535,-1.3041535,-1.3041535,-1.3041535,-1.3041535,-1.3041535,-1.3041535,-1.3041535,-1.3041535,-1.3041535,-1.3041535,-1.3041535,-1.3041535,-1.3041535,-1.3041535,-1.3041535,-1.3041535,-1.3041535,-1.3041535,-1.3041535,-1.3041535,-1.3041535,-1.3041535,-1.3041535,-1.3041535,-1.3041535,-1.3041535,-1.3041535,-1.3041535,-1.3041535,-1.3041535,-1.3041535,-1.3041535,-1.3041535,-1.3041535,-1.3041535,-1.3041535,-1.3041535,-1.3041535,-1.3041535,-1.3041535,-1.3041535,-1.3041535,-1.3041535,-1.3041535,-1.3041535,-1.3041535,-1.3041535,-1.3041535,-1.3041535,-1.3041535,-1.3041535,-1.3041535,-1.3041535,-1.3041535,-1.3041535,-1.3041535,-1.3041535,-1.3041535,-1.3041535,-1.3041535,-1.3040744,-1.3040744,-1.3040744,-1.3040744,-1.3040744,-1.3040744,-1.3040744,-1.3040744,-1.3040744,-1.3040744,-1.3040744,-1.3040744,-1.3040744,-1.3040744,-1.3040744,-1.3040744,-1.3040744,-1.3040744,-1.3040744,-1.3040744,-1.3040744,-1.3040744,-1.3040744,-1.3040744,-1.3040744,-1.3040744,-1.3040744,-1.3040744,-1.3040744,-1.3040744,-1.3040744,-1.3040744,-1.3040744,-1.3040744,-1.3040744,-1.3040744,-1.3040744,-1.3040744,-1.3040744,-1.3040744,-1.3040744,-1.3040744,-1.3040744,-1.3040744,-1.3040744,-1.3040744,-1.3040744,-1.3040744,-1.3040744,-1.3040744,-1.3040744,-1.3040744,-1.3040744,-1.3040744,-1.3040744,-1.3079078,-1.3079078,-1.3079078,-1.3079078,-1.3079078,-1.3079078,-1.3079078,-1.3079078,-1.3079078,-1.3079078,-1.3079078,-1.3079078,-1.3079078,-1.3079078,-1.3079078,-1.3079078,-1.3079078,-1.3079078,-1.3079078,-1.3079078,-1.3079078,-1.3079078,-1.3079078,-1.3079078,-1.3079078,-1.3079078,-1.3079078,-1.3079078,-1.3079078,-1.3079078,-1.3079078,-1.3079078,-1.3079078,-1.3079078,-1.3079078,-1.3079078,-1.3079078,-1.3079078,-1.3079078,-1.3079078,-1.3079078,-1.3079078,-1.3079078,-1.3079078,-1.3079078,-1.3079078,-1.3122936,-1.3122936,-1.3122936,-1.3122936,-1.3122936,-1.3122936,-1.3122936,-1.3122936,-1.3122936,-1.3122936,-1.3122936,-1.3122936,-1.3122936,-1.3122936,-1.3122936,-1.3122936,-1.3122936,-1.3122936,-1.3122936,-1.3122936,-1.3122936,-1.3122936,-1.3122936,-1.3122936,-1.3122936,-1.3122936,-1.3122936,-1.3122936,-1.3122936,-1.3122936,-1.3122936,-1.3122936,-1.2904239,-1.2904239,-1.2904239,-1.2904239,-1.2904239,-1.2904239,-1.2919441,-1.2919441,-1.2917267,-1.2917267,-1.2513781,-1.2513781,-1.2513781,-1.2556036,-1.2556036,-1.2556036,-1.3106316,-1.3106316,-1.3106316,-1.3106316,-1.3106316,-1.3106316,-1.3106316,-1.3106316,-1.3106316,-1.3106316,-1.3106316,-1.3106316,-1.3106316,-1.3106316,-1.3106316,-1.3106316,-1.3106316,-1.3106316,-1.3106316,-1.3106316,-1.3106316,-1.3106316,-1.3106316,-1.3106316,-1.3106316,-1.3106316,-1.3106316,-1.3106316,-1.3106316,-1.3106316,-1.3106316,-1.3106316,-1.3106316,-1.3106316,-1.3106316,-1.3106316,-1.301024,-1.301024,-1.301024,-1.301024,-1.301024,-1.301024,-1.301024,-1.301024,-1.301024,-1.301024,-1.301024,-1.301024,-1.301024,-1.301024,-1.301024,-1.301024,-1.301024,-1.301024,-1.301024,-1.301024,-1.301024,-1.301024,-1.301024,-1.301024,-1.301024,-1.301024,-1.301024,-1.301024,-1.301024,-1.301024,-1.301024,-1.301024,-1.301024,-1.301024,-1.301024,-1.301024,-1.301024,-1.301024,-1.301024,-1.301024,-1.301024,-1.301024,-1.301024,-1.301024,-1.301024,-1.301024,-1.301024,-1.301024,-1.301024,-1.301024,-1.301024,-1.2930931,-1.2930931,-1.2930931,-1.2930931,-1.2930931,-1.2930931,-1.2930931,-1.2930931,-1.2930931,-1.2930931,-1.2930931,-1.2930931,-1.2930931,-1.2930931,-1.2930931,-1.2930931,-1.2930931,-1.2930931,-1.2930931,-1.2930931,-1.2930931,-1.2930931,-1.2930931,-1.2930931,-1.2930931,-1.2930931,-1.2930931,-1.2930931,-1.2930931,-1.2930931,-1.2930931,-1.2930931,-1.2930931,-1.2930931,-1.2930931,-1.2930931,-1.2930931,-1.2930931,-1.2930931,-1.2930931,-1.2930931,-1.2930931,-1.2930931,-1.2930931,-1.2930931,-1.2930931,-1.2930931,-1.2930931,-1.2930931,-1.2930931,-1.2930931,-1.2930931,-1.2930931,-1.2930931,-1.2930931,-1.2930931,-1.2941417,-1.2941417,-1.2941417,-1.2941417,-1.2941417,-1.2941417,-1.2941417,-1.2941417,-1.2941417,-1.2941417,-1.2941417,-1.2941417,-1.2941417,-1.283815,-1.283815,-1.283815,-1.283815,-1.283815,-1.2796836,-1.2796836,-1.2796836,-1.2796836,-1.2796836,-1.2898599,-1.2898599,-1.2898599,-1.2898599,-1.2898599,-1.2898599,-1.2898599,-1.2898599,-1.30403,-1.30403,-1.30403,-1.30403,-1.30403,-1.30403,-1.30403,-1.30403,-1.30403,-1.30403,-1.30403,-1.30403,-1.30403,-1.30403,-1.30403,-1.30403,-1.30403,-1.30403,-1.30403,-1.30403,-1.30403,-1.30403,-1.30403,-1.30403,-1.30403,-1.30403,-1.30403,-1.30403,-1.30403,-1.30403,-1.30403,-1.30403,-1.30403,-1.30403,-1.30403,-1.30403,-1.30403,-1.30403,-1.30403,-1.30403,-1.30403,-1.30403,-1.30403,-1.30403,-1.30403,-1.30403,-1.30403,-1.30403,-1.30403,-1.30403,-1.30403,-1.30403,-1.30403,-1.30403,-1.2899983,-1.2899983,-1.2899983,-1.2899983,-1.2899983,-1.2899983,-1.2899983,-1.2899983,-1.2899983,-1.2899983,-1.2899983,-1.3158967,-1.3158967,-1.3158967,-1.3158967,-1.3158967,-1.3158967,-1.3158967,-1.3158967,-1.3158967,-1.3158967,-1.289062,-1.289062,-1.289062,-1.289062,-1.289062,-1.289062,-1.3216606,-1.3216606,-1.2899846,-1.2924678,-1.2924678,-1.2931714,-1.2936816,-1.2892833,-1.2892833,-1.2892833,-1.2913475,-1.2913475,-1.2859426,-1.2938235,-1.2846541,-1.2986824,-1.2986824,-1.2986824,-1.2986824,-1.2986824,-1.2898049,-1.2897976,-1.2986983,-1.2986983,-1.2986983,-1.2987573,-1.2987573,-1.298622,-1.298622,-1.2953783,-1.2953783,-1.2953783,-1.2973074,-1.2973074,-1.2940433,-1.2940433,-1.2940433,-1.2940433,-1.2909905,-1.2899783,-1.2899783,-1.2899783,-1.2899783,-1.2899783,-1.2899783,-1.2899783,-1.2899783,-1.2899783,-1.2899783,-1.2899783,-1.2899783,-1.2899783,-1.2802831,-1.2802831,-1.2802831,-1.2802917,-1.2802917,-1.3021788,-1.3021788,-1.3021788,-1.3021788,-1.3021788,-1.3021788,-1.3021788,-1.3021788,-1.3021788,-1.3021788,-1.3021788,-1.3021788,-1.3021788,-1.3021788,-1.3021788,-1.3022094,-1.3022094,-1.3022094,-1.3022094,-1.3022094,-1.3022094,-1.3022094,-1.3022094,-1.3022094,-1.3022094,-1.25923,-1.25923,-1.25923,-1.25923,-1.25923,-1.25923,-1.25923,-1.25923,-1.25923,-1.25923,-1.2592583,-1.2592583,-1.2592583,-1.2592583,-1.2592583,-1.2592583,-1.2592583,-1.2592583,-1.2592583,-1.2899051,-1.2899051,-1.2899051,-1.2899051,-1.2899051,-1.2899051,-1.2899051,-1.2899051,-1.2546133,-1.2546133,-1.2546133,-1.2546133,-1.2546133,-1.2546133,-1.2546133,-1.2546133,-1.2546133,-1.2546133,-1.2538667,-1.2538667,-1.2538667,-1.2538667,-1.2538667,-1.2538667,-1.2913785,-1.2538533,-1.2892977,-1.2528417,-1.25212,-1.25212,-1.25212,-1.2526268,-1.2571011,-1.2838267,-1.2838267,-1.2838267,-1.321775,-1.321775,-1.321775,-1.321775,-1.321775,-1.321775,-1.321775,-1.321775,-1.2897667,-1.2897667,-1.2897667,-1.2897667,-1.2897667,-1.2897667,-1.2897667,-1.2897667,-1.2897667,-1.2897667,-1.2897667,-1.2897667,-1.2897667,-1.2897667,-1.2897667,-1.2897667,-1.2897667,-1.2897667,-1.2897667,-1.2897667,-1.2897667,-1.2897667,-1.2897667,-1.2897667,-1.2897667,-1.2897667,-1.2897667,-1.2897667,-1.2897667,-1.2897667,-1.2897667,-1.2897667,-1.2897667,-1.2897667,-1.2897667,-1.2897667,-1.2897667,-1.2897667,-1.2897667,-1.2897667,-1.2897667,-1.2897667,-1.2897667,-1.2897667,-1.2897667,-1.2897667,-1.2897667,-1.2897667,-1.2897667,-1.2893036],\"yaxis\":\"y\"}],                        {\"coloraxis\":{\"colorbar\":{\"title\":{\"text\":\"VALUE_SOLD\"}},\"colorscale\":[[0.0,\"#0d0887\"],[0.1111111111111111,\"#46039f\"],[0.2222222222222222,\"#7201a8\"],[0.3333333333333333,\"#9c179e\"],[0.4444444444444444,\"#bd3786\"],[0.5555555555555556,\"#d8576b\"],[0.6666666666666666,\"#ed7953\"],[0.7777777777777778,\"#fb9f3a\"],[0.8888888888888888,\"#fdca26\"],[1.0,\"#f0f921\"]]},\"legend\":{\"tracegroupgap\":0},\"margin\":{\"t\":60},\"template\":{\"data\":{\"bar\":[{\"error_x\":{\"color\":\"#2a3f5f\"},\"error_y\":{\"color\":\"#2a3f5f\"},\"marker\":{\"line\":{\"color\":\"#E5ECF6\",\"width\":0.5},\"pattern\":{\"fillmode\":\"overlay\",\"size\":10,\"solidity\":0.2}},\"type\":\"bar\"}],\"barpolar\":[{\"marker\":{\"line\":{\"color\":\"#E5ECF6\",\"width\":0.5},\"pattern\":{\"fillmode\":\"overlay\",\"size\":10,\"solidity\":0.2}},\"type\":\"barpolar\"}],\"carpet\":[{\"aaxis\":{\"endlinecolor\":\"#2a3f5f\",\"gridcolor\":\"white\",\"linecolor\":\"white\",\"minorgridcolor\":\"white\",\"startlinecolor\":\"#2a3f5f\"},\"baxis\":{\"endlinecolor\":\"#2a3f5f\",\"gridcolor\":\"white\",\"linecolor\":\"white\",\"minorgridcolor\":\"white\",\"startlinecolor\":\"#2a3f5f\"},\"type\":\"carpet\"}],\"choropleth\":[{\"colorbar\":{\"outlinewidth\":0,\"ticks\":\"\"},\"type\":\"choropleth\"}],\"contour\":[{\"colorbar\":{\"outlinewidth\":0,\"ticks\":\"\"},\"colorscale\":[[0.0,\"#0d0887\"],[0.1111111111111111,\"#46039f\"],[0.2222222222222222,\"#7201a8\"],[0.3333333333333333,\"#9c179e\"],[0.4444444444444444,\"#bd3786\"],[0.5555555555555556,\"#d8576b\"],[0.6666666666666666,\"#ed7953\"],[0.7777777777777778,\"#fb9f3a\"],[0.8888888888888888,\"#fdca26\"],[1.0,\"#f0f921\"]],\"type\":\"contour\"}],\"contourcarpet\":[{\"colorbar\":{\"outlinewidth\":0,\"ticks\":\"\"},\"type\":\"contourcarpet\"}],\"heatmap\":[{\"colorbar\":{\"outlinewidth\":0,\"ticks\":\"\"},\"colorscale\":[[0.0,\"#0d0887\"],[0.1111111111111111,\"#46039f\"],[0.2222222222222222,\"#7201a8\"],[0.3333333333333333,\"#9c179e\"],[0.4444444444444444,\"#bd3786\"],[0.5555555555555556,\"#d8576b\"],[0.6666666666666666,\"#ed7953\"],[0.7777777777777778,\"#fb9f3a\"],[0.8888888888888888,\"#fdca26\"],[1.0,\"#f0f921\"]],\"type\":\"heatmap\"}],\"heatmapgl\":[{\"colorbar\":{\"outlinewidth\":0,\"ticks\":\"\"},\"colorscale\":[[0.0,\"#0d0887\"],[0.1111111111111111,\"#46039f\"],[0.2222222222222222,\"#7201a8\"],[0.3333333333333333,\"#9c179e\"],[0.4444444444444444,\"#bd3786\"],[0.5555555555555556,\"#d8576b\"],[0.6666666666666666,\"#ed7953\"],[0.7777777777777778,\"#fb9f3a\"],[0.8888888888888888,\"#fdca26\"],[1.0,\"#f0f921\"]],\"type\":\"heatmapgl\"}],\"histogram\":[{\"marker\":{\"pattern\":{\"fillmode\":\"overlay\",\"size\":10,\"solidity\":0.2}},\"type\":\"histogram\"}],\"histogram2d\":[{\"colorbar\":{\"outlinewidth\":0,\"ticks\":\"\"},\"colorscale\":[[0.0,\"#0d0887\"],[0.1111111111111111,\"#46039f\"],[0.2222222222222222,\"#7201a8\"],[0.3333333333333333,\"#9c179e\"],[0.4444444444444444,\"#bd3786\"],[0.5555555555555556,\"#d8576b\"],[0.6666666666666666,\"#ed7953\"],[0.7777777777777778,\"#fb9f3a\"],[0.8888888888888888,\"#fdca26\"],[1.0,\"#f0f921\"]],\"type\":\"histogram2d\"}],\"histogram2dcontour\":[{\"colorbar\":{\"outlinewidth\":0,\"ticks\":\"\"},\"colorscale\":[[0.0,\"#0d0887\"],[0.1111111111111111,\"#46039f\"],[0.2222222222222222,\"#7201a8\"],[0.3333333333333333,\"#9c179e\"],[0.4444444444444444,\"#bd3786\"],[0.5555555555555556,\"#d8576b\"],[0.6666666666666666,\"#ed7953\"],[0.7777777777777778,\"#fb9f3a\"],[0.8888888888888888,\"#fdca26\"],[1.0,\"#f0f921\"]],\"type\":\"histogram2dcontour\"}],\"mesh3d\":[{\"colorbar\":{\"outlinewidth\":0,\"ticks\":\"\"},\"type\":\"mesh3d\"}],\"parcoords\":[{\"line\":{\"colorbar\":{\"outlinewidth\":0,\"ticks\":\"\"}},\"type\":\"parcoords\"}],\"pie\":[{\"automargin\":true,\"type\":\"pie\"}],\"scatter\":[{\"marker\":{\"colorbar\":{\"outlinewidth\":0,\"ticks\":\"\"}},\"type\":\"scatter\"}],\"scatter3d\":[{\"line\":{\"colorbar\":{\"outlinewidth\":0,\"ticks\":\"\"}},\"marker\":{\"colorbar\":{\"outlinewidth\":0,\"ticks\":\"\"}},\"type\":\"scatter3d\"}],\"scattercarpet\":[{\"marker\":{\"colorbar\":{\"outlinewidth\":0,\"ticks\":\"\"}},\"type\":\"scattercarpet\"}],\"scattergeo\":[{\"marker\":{\"colorbar\":{\"outlinewidth\":0,\"ticks\":\"\"}},\"type\":\"scattergeo\"}],\"scattergl\":[{\"marker\":{\"colorbar\":{\"outlinewidth\":0,\"ticks\":\"\"}},\"type\":\"scattergl\"}],\"scattermapbox\":[{\"marker\":{\"colorbar\":{\"outlinewidth\":0,\"ticks\":\"\"}},\"type\":\"scattermapbox\"}],\"scatterpolar\":[{\"marker\":{\"colorbar\":{\"outlinewidth\":0,\"ticks\":\"\"}},\"type\":\"scatterpolar\"}],\"scatterpolargl\":[{\"marker\":{\"colorbar\":{\"outlinewidth\":0,\"ticks\":\"\"}},\"type\":\"scatterpolargl\"}],\"scatterternary\":[{\"marker\":{\"colorbar\":{\"outlinewidth\":0,\"ticks\":\"\"}},\"type\":\"scatterternary\"}],\"surface\":[{\"colorbar\":{\"outlinewidth\":0,\"ticks\":\"\"},\"colorscale\":[[0.0,\"#0d0887\"],[0.1111111111111111,\"#46039f\"],[0.2222222222222222,\"#7201a8\"],[0.3333333333333333,\"#9c179e\"],[0.4444444444444444,\"#bd3786\"],[0.5555555555555556,\"#d8576b\"],[0.6666666666666666,\"#ed7953\"],[0.7777777777777778,\"#fb9f3a\"],[0.8888888888888888,\"#fdca26\"],[1.0,\"#f0f921\"]],\"type\":\"surface\"}],\"table\":[{\"cells\":{\"fill\":{\"color\":\"#EBF0F8\"},\"line\":{\"color\":\"white\"}},\"header\":{\"fill\":{\"color\":\"#C8D4E3\"},\"line\":{\"color\":\"white\"}},\"type\":\"table\"}]},\"layout\":{\"annotationdefaults\":{\"arrowcolor\":\"#2a3f5f\",\"arrowhead\":0,\"arrowwidth\":1},\"autotypenumbers\":\"strict\",\"coloraxis\":{\"colorbar\":{\"outlinewidth\":0,\"ticks\":\"\"}},\"colorscale\":{\"diverging\":[[0,\"#8e0152\"],[0.1,\"#c51b7d\"],[0.2,\"#de77ae\"],[0.3,\"#f1b6da\"],[0.4,\"#fde0ef\"],[0.5,\"#f7f7f7\"],[0.6,\"#e6f5d0\"],[0.7,\"#b8e186\"],[0.8,\"#7fbc41\"],[0.9,\"#4d9221\"],[1,\"#276419\"]],\"sequential\":[[0.0,\"#0d0887\"],[0.1111111111111111,\"#46039f\"],[0.2222222222222222,\"#7201a8\"],[0.3333333333333333,\"#9c179e\"],[0.4444444444444444,\"#bd3786\"],[0.5555555555555556,\"#d8576b\"],[0.6666666666666666,\"#ed7953\"],[0.7777777777777778,\"#fb9f3a\"],[0.8888888888888888,\"#fdca26\"],[1.0,\"#f0f921\"]],\"sequentialminus\":[[0.0,\"#0d0887\"],[0.1111111111111111,\"#46039f\"],[0.2222222222222222,\"#7201a8\"],[0.3333333333333333,\"#9c179e\"],[0.4444444444444444,\"#bd3786\"],[0.5555555555555556,\"#d8576b\"],[0.6666666666666666,\"#ed7953\"],[0.7777777777777778,\"#fb9f3a\"],[0.8888888888888888,\"#fdca26\"],[1.0,\"#f0f921\"]]},\"colorway\":[\"#636efa\",\"#EF553B\",\"#00cc96\",\"#ab63fa\",\"#FFA15A\",\"#19d3f3\",\"#FF6692\",\"#B6E880\",\"#FF97FF\",\"#FECB52\"],\"font\":{\"color\":\"#2a3f5f\"},\"geo\":{\"bgcolor\":\"white\",\"lakecolor\":\"white\",\"landcolor\":\"#E5ECF6\",\"showlakes\":true,\"showland\":true,\"subunitcolor\":\"white\"},\"hoverlabel\":{\"align\":\"left\"},\"hovermode\":\"closest\",\"mapbox\":{\"style\":\"light\"},\"paper_bgcolor\":\"white\",\"plot_bgcolor\":\"#E5ECF6\",\"polar\":{\"angularaxis\":{\"gridcolor\":\"white\",\"linecolor\":\"white\",\"ticks\":\"\"},\"bgcolor\":\"#E5ECF6\",\"radialaxis\":{\"gridcolor\":\"white\",\"linecolor\":\"white\",\"ticks\":\"\"}},\"scene\":{\"xaxis\":{\"backgroundcolor\":\"#E5ECF6\",\"gridcolor\":\"white\",\"gridwidth\":2,\"linecolor\":\"white\",\"showbackground\":true,\"ticks\":\"\",\"zerolinecolor\":\"white\"},\"yaxis\":{\"backgroundcolor\":\"#E5ECF6\",\"gridcolor\":\"white\",\"gridwidth\":2,\"linecolor\":\"white\",\"showbackground\":true,\"ticks\":\"\",\"zerolinecolor\":\"white\"},\"zaxis\":{\"backgroundcolor\":\"#E5ECF6\",\"gridcolor\":\"white\",\"gridwidth\":2,\"linecolor\":\"white\",\"showbackground\":true,\"ticks\":\"\",\"zerolinecolor\":\"white\"}},\"shapedefaults\":{\"line\":{\"color\":\"#2a3f5f\"}},\"ternary\":{\"aaxis\":{\"gridcolor\":\"white\",\"linecolor\":\"white\",\"ticks\":\"\"},\"baxis\":{\"gridcolor\":\"white\",\"linecolor\":\"white\",\"ticks\":\"\"},\"bgcolor\":\"#E5ECF6\",\"caxis\":{\"gridcolor\":\"white\",\"linecolor\":\"white\",\"ticks\":\"\"}},\"title\":{\"x\":0.05},\"xaxis\":{\"automargin\":true,\"gridcolor\":\"white\",\"linecolor\":\"white\",\"ticks\":\"\",\"title\":{\"standoff\":15},\"zerolinecolor\":\"white\",\"zerolinewidth\":2},\"yaxis\":{\"automargin\":true,\"gridcolor\":\"white\",\"linecolor\":\"white\",\"ticks\":\"\",\"title\":{\"standoff\":15},\"zerolinecolor\":\"white\",\"zerolinewidth\":2}}},\"xaxis\":{\"anchor\":\"y\",\"domain\":[0.0,1.0],\"title\":{\"text\":\"LONGITUDE\"}},\"yaxis\":{\"anchor\":\"x\",\"domain\":[0.0,1.0],\"title\":{\"text\":\"LATITUDE\"}}},                        {\"responsive\": true}                    ).then(function(){\n",
       "                            \n",
       "var gd = document.getElementById('91bf9f9a-b822-4092-ab55-cb21f264d812');\n",
       "var x = new MutationObserver(function (mutations, observer) {{\n",
       "        var display = window.getComputedStyle(gd).display;\n",
       "        if (!display || display === 'none') {{\n",
       "            console.log([gd, 'removed!']);\n",
       "            Plotly.purge(gd);\n",
       "            observer.disconnect();\n",
       "        }}\n",
       "}});\n",
       "\n",
       "// Listen for the removal of the full notebook cells\n",
       "var notebookContainer = gd.closest('#notebook-container');\n",
       "if (notebookContainer) {{\n",
       "    x.observe(notebookContainer, {childList: true});\n",
       "}}\n",
       "\n",
       "// Listen for the clearing of the current output cell\n",
       "var outputEl = gd.closest('.output');\n",
       "if (outputEl) {{\n",
       "    x.observe(outputEl, {childList: true});\n",
       "}}\n",
       "\n",
       "                        })                };                });            </script>        </div>"
      ]
     },
     "metadata": {},
     "output_type": "display_data"
    }
   ],
   "source": [
    "import pandas as pd\n",
    "import plotly.express as px\n",
    "from sklearn.cluster import DBSCAN\n",
    "\n",
    "anomaly = DBSCAN(eps=0.5, min_samples=6).fit(df[['LONGITUDE','LATITUDE']])\n",
    "\n",
    "fig1 = px.scatter(df, x=\"LONGITUDE\", y=\"LATITUDE\", color=\"VALUE_SOLD\")\n",
    "fig1.show()"
   ]
  },
  {
   "cell_type": "code",
   "execution_count": 72,
   "id": "bd30cb46",
   "metadata": {
    "execution": {
     "iopub.execute_input": "2022-05-31T17:48:15.901543Z",
     "iopub.status.busy": "2022-05-31T17:48:15.895345Z",
     "iopub.status.idle": "2022-05-31T17:48:16.000378Z",
     "shell.execute_reply": "2022-05-31T17:48:15.999749Z",
     "shell.execute_reply.started": "2022-05-31T17:42:11.033391Z"
    },
    "papermill": {
     "duration": 0.181346,
     "end_time": "2022-05-31T17:48:16.000503",
     "exception": false,
     "start_time": "2022-05-31T17:48:15.819157",
     "status": "completed"
    },
    "tags": []
   },
   "outputs": [
    {
     "data": {
      "text/html": [
       "<div>                            <div id=\"12b6aa43-9412-4894-8f60-8985aebce7e7\" class=\"plotly-graph-div\" style=\"height:525px; width:100%;\"></div>            <script type=\"text/javascript\">                require([\"plotly\"], function(Plotly) {                    window.PLOTLYENV=window.PLOTLYENV || {};                                    if (document.getElementById(\"12b6aa43-9412-4894-8f60-8985aebce7e7\")) {                    Plotly.newPlot(                        \"12b6aa43-9412-4894-8f60-8985aebce7e7\",                        [{\"coloraxis\":\"coloraxis\",\"hovertemplate\":\"<b>%{hovertext}</b><br><br>VALUE_SOLD=%{z}<br>LATITUDE=%{lat}<br>LONGITUDE=%{lon}<extra></extra>\",\"hovertext\":[\"TASSIA\",\"TASSIA\",\"TASSIA\",\"TASSIA\",\"TASSIA\",\"TASSIA\",\"TASSIA\",\"TASSIA\",\"TASSIA\",\"TASSIA\",\"TASSIA\",\"TASSIA\",\"TASSIA\",\"TASSIA\",\"TASSIA\",\"TASSIA\",\"TASSIA\",\"TASSIA\",\"TASSIA\",\"TASSIA\",\"TASSIA\",\"TASSIA\",\"TASSIA\",\"TASSIA\",\"TASSIA\",\"TASSIA\",\"TASSIA\",\"TASSIA\",\"TASSIA\",\"TASSIA\",\"TASSIA\",\"TASSIA\",\"TASSIA\",\"TASSIA\",\"TASSIA\",\"TASSIA\",\"TASSIA\",\"TASSIA\",\"TASSIA\",\"TASSIA\",\"TASSIA\",\"TASSIA\",\"TASSIA\",\"TASSIA\",\"TASSIA\",\"TASSIA\",\"TASSIA\",\"TASSIA\",\"TASSIA\",\"TASSIA\",\"TASSIA\",\"TASSIA\",\"TASSIA\",\"TASSIA\",\"TASSIA\",\"TASSIA\",\"TASSIA\",\"TASSIA\",\"TASSIA\",\"TASSIA\",\"TASSIA\",\"TASSIA\",\"TASSIA\",\"TASSIA\",\"TASSIA\",\"TASSIA\",\"TASSIA\",\"TASSIA\",\"TASSIA\",\"TASSIA\",\"TASSIA\",\"TASSIA\",\"TASSIA\",\"TASSIA\",\"TASSIA\",\"TASSIA\",\"TASSIA\",\"TASSIA\",\"TASSIA\",\"TASSIA\",\"TASSIA\",\"TASSIA\",\"TASSIA\",\"TASSIA\",\"TASSIA\",\"TASSIA\",\"TASSIA\",\"TASSIA\",\"TASSIA\",\"TASSIA\",\"TASSIA\",\"TASSIA\",\"TASSIA\",\"TASSIA\",\"TASSIA\",\"TASSIA\",\"TASSIA\",\"TASSIA\",\"TASSIA\",\"TASSIA\",\"TASSIA\",\"TASSIA\",\"TASSIA\",\"TASSIA\",\"TASSIA\",\"TASSIA\",\"TASSIA\",\"TASSIA\",\"TASSIA\",\"TASSIA\",\"TASSIA\",\"TASSIA\",\"TASSIA\",\"TASSIA\",\"TASSIA\",\"TASSIA\",\"TASSIA\",\"TASSIA\",\"TASSIA\",\"TASSIA\",\"TASSIA\",\"TASSIA\",\"TASSIA\",\"TASSIA\",\"TASSIA\",\"TASSIA\",\"TASSIA\",\"TASSIA\",\"TASSIA\",\"TASSIA\",\"TASSIA\",\"TASSIA\",\"TASSIA\",\"TASSIA\",\"TASSIA\",\"TASSIA\",\"TASSIA\",\"TASSIA\",\"TASSIA\",\"TASSIA\",\"TASSIA\",\"TASSIA\",\"TASSIA\",\"TASSIA\",\"TASSIA\",\"TASSIA\",\"TASSIA\",\"TASSIA\",\"TASSIA\",\"TASSIA\",\"TASSIA\",\"TASSIA\",\"TASSIA\",\"TASSIA\",\"TASSIA\",\"TASSIA\",\"TASSIA\",\"TASSIA\",\"TASSIA\",\"TASSIA\",\"TASSIA\",\"TASSIA\",\"TASSIA\",\"TASSIA\",\"TASSIA\",\"TASSIA\",\"TASSIA\",\"TASSIA\",\"TASSIA\",\"TASSIA\",\"TASSIA\",\"TASSIA\",\"TASSIA\",\"TASSIA\",\"TASSIA\",\"TASSIA\",\"TASSIA\",\"TASSIA\",\"TASSIA\",\"TASSIA\",\"TASSIA\",\"TASSIA\",\"TASSIA\",\"TASSIA\",\"TASSIA\",\"TASSIA\",\"TASSIA\",\"TASSIA\",\"TASSIA\",\"TASSIA\",\"TASSIA\",\"TASSIA\",\"TASSIA\",\"TASSIA\",\"TASSIA\",\"TASSIA\",\"TASSIA\",\"TASSIA\",\"TASSIA\",\"TASSIA\",\"TASSIA\",\"TASSIA\",\"TASSIA\",\"TASSIA\",\"TASSIA\",\"TASSIA\",\"TASSIA\",\"TASSIA\",\"TASSIA\",\"TASSIA\",\"TASSIA\",\"TASSIA\",\"TASSIA\",\"TASSIA\",\"TASSIA\",\"TASSIA\",\"TASSIA\",\"TASSIA\",\"TASSIA\",\"TASSIA\",\"TASSIA\",\"TASSIA\",\"TASSIA\",\"TASSIA\",\"TASSIA\",\"TASSIA\",\"TASSIA\",\"TASSIA\",\"TASSIA\",\"TASSIA\",\"TASSIA\",\"TASSIA\",\"TASSIA\",\"TASSIA\",\"TASSIA\",\"TASSIA\",\"TASSIA\",\"TASSIA\",\"TASSIA\",\"TASSIA\",\"TASSIA\",\"TASSIA\",\"TASSIA\",\"TASSIA\",\"TASSIA\",\"TASSIA\",\"TASSIA\",\"TASSIA\",\"TASSIA\",\"TASSIA\",\"TASSIA\",\"TASSIA\",\"TASSIA\",\"TASSIA\",\"TASSIA\",\"TASSIA\",\"TASSIA\",\"TASSIA\",\"TASSIA\",\"TASSIA\",\"TASSIA\",\"TASSIA\",\"TASSIA\",\"TASSIA\",\"TASSIA\",\"TASSIA\",\"TASSIA\",\"TASSIA\",\"TASSIA\",\"TASSIA\",\"TASSIA\",\"TASSIA\",\"TASSIA\",\"TASSIA\",\"TASSIA\",\"TASSIA\",\"TASSIA\",\"TASSIA\",\"TASSIA\",\"TASSIA\",\"TASSIA\",\"TASSIA\",\"TASSIA\",\"TASSIA\",\"TASSIA\",\"TASSIA\",\"TASSIA\",\"TASSIA\",\"TASSIA\",\"TASSIA\",\"TASSIA\",\"TASSIA\",\"TASSIA\",\"TASSIA\",\"TASSIA\",\"TASSIA\",\"TASSIA\",\"TASSIA\",\"TASSIA\",\"TASSIA\",\"TASSIA\",\"TASSIA\",\"TASSIA\",\"TASSIA\",\"TASSIA\",\"TASSIA\",\"TASSIA\",\"TASSIA\",\"TASSIA\",\"TASSIA\",\"TASSIA\",\"TASSIA\",\"TASSIA\",\"TASSIA\",\"TASSIA\",\"TASSIA\",\"TASSIA\",\"TASSIA\",\"TASSIA\",\"TASSIA\",\"TASSIA\",\"TASSIA\",\"TASSIA\",\"TASSIA\",\"TASSIA\",\"TASSIA\",\"TASSIA\",\"TASSIA\",\"TASSIA\",\"TASSIA\",\"TASSIA\",\"TASSIA\",\"TASSIA\",\"TASSIA\",\"TASSIA\",\"TASSIA\",\"TASSIA\",\"TASSIA\",\"TASSIA\",\"TASSIA\",\"TASSIA\",\"TASSIA\",\"TASSIA\",\"TASSIA\",\"TASSIA\",\"TASSIA\",\"TASSIA\",\"TASSIA\",\"TASSIA\",\"TASSIA\",\"TASSIA\",\"TASSIA\",\"TASSIA\",\"TASSIA\",\"TASSIA\",\"TASSIA\",\"TASSIA\",\"TASSIA\",\"TASSIA\",\"TASSIA\",\"TASSIA\",\"TASSIA\",\"TASSIA\",\"TASSIA\",\"TASSIA\",\"TASSIA\",\"TASSIA\",\"TASSIA\",\"TASSIA\",\"TASSIA\",\"TASSIA\",\"TASSIA\",\"TASSIA\",\"TASSIA\",\"TASSIA\",\"TASSIA\",\"TASSIA\",\"TASSIA\",\"TASSIA\",\"TASSIA\",\"TASSIA\",\"TASSIA\",\"TASSIA\",\"TASSIA\",\"TASSIA\",\"TASSIA\",\"TASSIA\",\"TASSIA\",\"TASSIA\",\"TASSIA\",\"TASSIA\",\"TASSIA\",\"TASSIA\",\"TASSIA\",\"TASSIA\",\"TASSIA\",\"TASSIA\",\"TASSIA\",\"TASSIA\",\"TASSIA\",\"TASSIA\",\"TASSIA\",\"TASSIA\",\"TASSIA\",\"TASSIA\",\"TASSIA\",\"TASSIA\",\"TASSIA\",\"TASSIA\",\"TASSIA\",\"TASSIA\",\"TASSIA\",\"TASSIA\",\"TASSIA\",\"TASSIA\",\"TASSIA\",\"TASSIA\",\"TASSIA\",\"TASSIA\",\"TASSIA\",\"TASSIA\",\"TASSIA\",\"TASSIA\",\"TASSIA\",\"TASSIA\",\"TASSIA\",\"TASSIA\",\"TASSIA\",\"TASSIA\",\"TASSIA\",\"TASSIA\",\"TASSIA\",\"TASSIA\",\"TASSIA\",\"TASSIA\",\"TASSIA\",\"TASSIA\",\"TASSIA\",\"TASSIA\",\"TASSIA\",\"TASSIA\",\"TASSIA\",\"TASSIA\",\"TASSIA\",\"TASSIA\",\"TASSIA\",\"TASSIA\",\"TASSIA\",\"TASSIA\",\"TASSIA\",\"TASSIA\",\"TASSIA\",\"TASSIA\",\"TASSIA\",\"TASSIA\",\"TASSIA\",\"TASSIA\",\"TASSIA\",\"TASSIA\",\"TASSIA\",\"TASSIA\",\"TASSIA\",\"TASSIA\",\"TASSIA\",\"TASSIA\",\"TASSIA\",\"TASSIA\",\"TASSIA\",\"TASSIA\",\"TASSIA\",\"TASSIA\",\"TASSIA\",\"TASSIA\",\"TASSIA\",\"TASSIA\",\"TASSIA\",\"TASSIA\",\"TASSIA\",\"TASSIA\",\"TASSIA\",\"TASSIA\",\"TASSIA\",\"TASSIA\",\"TASSIA\",\"TASSIA\",\"TASSIA\",\"TASSIA\",\"TASSIA\",\"TASSIA\",\"TASSIA\",\"TASSIA\",\"TASSIA\",\"TASSIA\",\"TASSIA\",\"TASSIA\",\"TASSIA\",\"TASSIA\",\"TASSIA\",\"TASSIA\",\"TASSIA\",\"TASSIA\",\"TASSIA\",\"TASSIA\",\"TASSIA\",\"TASSIA\",\"TASSIA\",\"TASSIA\",\"TASSIA\",\"TASSIA\",\"TASSIA\",\"TASSIA\",\"TASSIA\",\"TASSIA\",\"TASSIA\",\"TASSIA\",\"TASSIA\",\"TASSIA\",\"TASSIA\",\"TASSIA\",\"TASSIA\",\"TASSIA\",\"TASSIA\",\"TASSIA\",\"TASSIA\",\"TASSIA\",\"TASSIA\",\"TASSIA\",\"TASSIA\",\"TASSIA\",\"TASSIA\",\"TASSIA\",\"TASSIA\",\"TASSIA\",\"TASSIA\",\"TASSIA\",\"TASSIA\",\"TASSIA\",\"TASSIA\",\"TASSIA\",\"TASSIA\",\"TASSIA\",\"TASSIA\",\"TASSIA\",\"TASSIA\",\"TASSIA\",\"TASSIA\",\"TASSIA\",\"TASSIA\",\"TASSIA\",\"TASSIA\",\"TASSIA\",\"TASSIA\",\"TASSIA\",\"TASSIA\",\"TASSIA\",\"TASSIA\",\"TASSIA\",\"TASSIA\",\"TASSIA\",\"TASSIA\",\"TASSIA\",\"TASSIA\",\"TASSIA\",\"TASSIA\",\"TASSIA\",\"TASSIA\",\"TASSIA\",\"TASSIA\",\"TASSIA\",\"TASSIA\",\"TASSIA\",\"TASSIA\",\"TASSIA\",\"TASSIA\",\"TASSIA\",\"TASSIA\",\"TASSIA\",\"TASSIA\",\"TASSIA\",\"TASSIA\",\"TASSIA\",\"TASSIA\",\"TASSIA\",\"TASSIA\",\"TASSIA\",\"TASSIA\",\"TASSIA\",\"TASSIA\",\"TASSIA\",\"TASSIA\",\"TASSIA\",\"TASSIA\",\"TASSIA\",\"TASSIA\",\"TASSIA\",\"TASSIA\",\"TASSIA\",\"TASSIA\",\"TASSIA\",\"TASSIA\",\"TASSIA\",\"TASSIA\",\"TASSIA\",\"TASSIA\",\"TASSIA\",\"TASSIA\",\"TASSIA\",\"TASSIA\",\"TASSIA\",\"TASSIA\",\"TASSIA\",\"TASSIA\",\"TASSIA\",\"TASSIA\",\"TASSIA\",\"TASSIA\",\"TASSIA\",\"TASSIA\",\"TASSIA\",\"TASSIA\",\"TASSIA\",\"TASSIA\",\"TASSIA\",\"TASSIA\",\"TASSIA\",\"TASSIA\",\"TASSIA\",\"TASSIA\",\"TASSIA\",\"TASSIA\",\"TASSIA\",\"TASSIA\",\"TASSIA\",\"TASSIA\",\"TASSIA\",\"TASSIA\",\"TASSIA\",\"TASSIA\",\"TASSIA\",\"TASSIA\",\"TASSIA\",\"TASSIA\",\"TASSIA\",\"TASSIA\",\"TASSIA\",\"TASSIA\",\"TASSIA\",\"TASSIA\",\"TASSIA\",\"TASSIA\",\"TASSIA\",\"TASSIA\",\"TASSIA\",\"TASSIA\",\"TASSIA\",\"TASSIA\",\"TASSIA\",\"TASSIA\",\"TASSIA\",\"TASSIA\",\"TASSIA\",\"TASSIA\",\"TASSIA\",\"TASSIA\",\"TASSIA\",\"TASSIA\",\"TASSIA\",\"TASSIA\",\"TASSIA\",\"TASSIA\",\"TASSIA\",\"TASSIA\",\"TASSIA\",\"TASSIA\",\"TASSIA\",\"TASSIA\",\"TASSIA\",\"TASSIA\",\"TASSIA\",\"TASSIA\",\"TASSIA\",\"TASSIA\",\"TASSIA\",\"TASSIA\",\"TASSIA\",\"TASSIA\",\"TASSIA\",\"TASSIA\",\"TASSIA\",\"TASSIA\",\"TASSIA\",\"TASSIA\",\"TASSIA\",\"TASSIA\",\"TASSIA\",\"TASSIA\",\"TASSIA\",\"TASSIA\",\"TASSIA\",\"TASSIA\",\"TASSIA\",\"TASSIA\",\"TASSIA\",\"TASSIA\",\"TASSIA\",\"TASSIA\",\"TASSIA\",\"TASSIA\",\"TASSIA\",\"TASSIA\",\"TASSIA\",\"TASSIA\",\"TASSIA\",\"TASSIA\",\"TASSIA\",\"TASSIA\",\"TASSIA\",\"TASSIA\",\"TASSIA\",\"TASSIA\",\"TASSIA\",\"TASSIA\",\"TASSIA\",\"TASSIA\",\"TASSIA\",\"TASSIA\",\"TASSIA\",\"TASSIA\",\"TASSIA\",\"TASSIA\",\"TASSIA\",\"TASSIA\",\"TASSIA\",\"TASSIA\",\"TASSIA\",\"TASSIA\",\"TASSIA\",\"TASSIA\",\"TASSIA\",\"TASSIA\",\"TASSIA\",\"TASSIA\",\"TASSIA\",\"TASSIA\",\"TASSIA\",\"TASSIA\",\"TASSIA\",\"TASSIA\",\"TASSIA\",\"TASSIA\",\"TASSIA\",\"TASSIA\",\"TASSIA\",\"TASSIA\",\"TASSIA\",\"TASSIA\",\"TASSIA\",\"TASSIA\",\"TASSIA\",\"TASSIA\",\"TASSIA\",\"TASSIA\",\"TASSIA\",\"TASSIA\",\"TASSIA\",\"TASSIA\",\"TASSIA\",\"TASSIA\",\"TASSIA\",\"TASSIA\",\"TASSIA\",\"TASSIA\",\"TASSIA\",\"TASSIA\",\"TASSIA\",\"TASSIA\",\"TASSIA\",\"TASSIA\",\"TASSIA\",\"TASSIA\",\"TASSIA\",\"TASSIA\",\"TASSIA\",\"TASSIA\",\"TASSIA\",\"TASSIA\",\"TASSIA\",\"TASSIA\",\"TASSIA\",\"TASSIA\",\"TASSIA\",\"TASSIA\",\"TASSIA\",\"TASSIA\",\"TASSIA\",\"TASSIA\",\"TASSIA\",\"TASSIA\",\"TASSIA\",\"TASSIA\",\"TASSIA\",\"TASSIA\",\"TASSIA\",\"TASSIA\",\"TASSIA\",\"TASSIA\",\"TASSIA\",\"TASSIA\",\"TASSIA\",\"TASSIA\",\"TASSIA\"],\"lat\":[-1.3075114,-1.3075114,-1.3075114,-1.3075114,-1.3075114,-1.3075114,-1.3075114,-1.3075114,-1.3075114,-1.3075114,-1.3075114,-1.3075114,-1.3075114,-1.3075114,-1.3075114,-1.3075114,-1.3075114,-1.3075114,-1.3075114,-1.3075114,-1.3075114,-1.3075114,-1.3075114,-1.3075114,-1.3075114,-1.3075114,-1.3075114,-1.3075114,-1.3075114,-1.3075114,-1.3075114,-1.3075114,-1.3075114,-1.3075114,-1.3075114,-1.3075114,-1.3075114,-1.3075114,-1.3075114,-1.3075114,-1.3075114,-1.3075114,-1.3075114,-1.3075114,-1.3075114,-1.3075114,-1.3075114,-1.3075114,-1.3075114,-1.3075114,-1.3075114,-1.3075114,-1.3075114,-1.3075114,-1.3075114,-1.3075114,-1.3075114,-1.3075114,-1.3075114,-1.3075114,-1.3075114,-1.3075114,-1.3075114,-1.3075114,-1.3075114,-1.3075114,-1.3075114,-1.3075114,-1.3075114,-1.3075114,-1.3075114,-1.3075114,-1.3075114,-1.3075114,-1.3075114,-1.3041164,-1.3041164,-1.3041164,-1.3041164,-1.3041164,-1.3041164,-1.3041164,-1.3041164,-1.3041164,-1.3041164,-1.3041164,-1.3041164,-1.3041164,-1.3041164,-1.3041164,-1.3041164,-1.3041164,-1.3041164,-1.3041164,-1.3041164,-1.3041164,-1.3041164,-1.3041164,-1.3041164,-1.3041164,-1.3041164,-1.3041164,-1.3041164,-1.3041164,-1.3041164,-1.3041164,-1.3041164,-1.3041164,-1.3041164,-1.3041164,-1.3041164,-1.3041164,-1.3041164,-1.3041164,-1.3041164,-1.3041164,-1.3041164,-1.3041164,-1.3041164,-1.3041164,-1.3041164,-1.3041164,-1.3041164,-1.3041164,-1.3041164,-1.3041164,-1.3041164,-1.3041164,-1.3041164,-1.3041164,-1.3041164,-1.3041164,-1.3041164,-1.3041164,-1.3041164,-1.3041164,-1.3041164,-1.3041164,-1.3041164,-1.3041164,-1.3041164,-1.3041164,-1.3041164,-1.3041164,-1.3041164,-1.3041164,-1.3041164,-1.3041164,-1.3041164,-1.3041535,-1.3041535,-1.3041535,-1.3041535,-1.3041535,-1.3041535,-1.3041535,-1.3041535,-1.3041535,-1.3041535,-1.3041535,-1.3041535,-1.3041535,-1.3041535,-1.3041535,-1.3041535,-1.3041535,-1.3041535,-1.3041535,-1.3041535,-1.3041535,-1.3041535,-1.3041535,-1.3041535,-1.3041535,-1.3041535,-1.3041535,-1.3041535,-1.3041535,-1.3041535,-1.3041535,-1.3041535,-1.3041535,-1.3041535,-1.3041535,-1.3041535,-1.3041535,-1.3041535,-1.3041535,-1.3041535,-1.3041535,-1.3041535,-1.3041535,-1.3041535,-1.3041535,-1.3041535,-1.3041535,-1.3041535,-1.3041535,-1.3041535,-1.3041535,-1.3041535,-1.3041535,-1.3041535,-1.3041535,-1.3041535,-1.3041535,-1.3041535,-1.3041535,-1.3041535,-1.3041535,-1.3041535,-1.3041535,-1.3040744,-1.3040744,-1.3040744,-1.3040744,-1.3040744,-1.3040744,-1.3040744,-1.3040744,-1.3040744,-1.3040744,-1.3040744,-1.3040744,-1.3040744,-1.3040744,-1.3040744,-1.3040744,-1.3040744,-1.3040744,-1.3040744,-1.3040744,-1.3040744,-1.3040744,-1.3040744,-1.3040744,-1.3040744,-1.3040744,-1.3040744,-1.3040744,-1.3040744,-1.3040744,-1.3040744,-1.3040744,-1.3040744,-1.3040744,-1.3040744,-1.3040744,-1.3040744,-1.3040744,-1.3040744,-1.3040744,-1.3040744,-1.3040744,-1.3040744,-1.3040744,-1.3040744,-1.3040744,-1.3040744,-1.3040744,-1.3040744,-1.3040744,-1.3040744,-1.3040744,-1.3040744,-1.3040744,-1.3040744,-1.3079078,-1.3079078,-1.3079078,-1.3079078,-1.3079078,-1.3079078,-1.3079078,-1.3079078,-1.3079078,-1.3079078,-1.3079078,-1.3079078,-1.3079078,-1.3079078,-1.3079078,-1.3079078,-1.3079078,-1.3079078,-1.3079078,-1.3079078,-1.3079078,-1.3079078,-1.3079078,-1.3079078,-1.3079078,-1.3079078,-1.3079078,-1.3079078,-1.3079078,-1.3079078,-1.3079078,-1.3079078,-1.3079078,-1.3079078,-1.3079078,-1.3079078,-1.3079078,-1.3079078,-1.3079078,-1.3079078,-1.3079078,-1.3079078,-1.3079078,-1.3079078,-1.3079078,-1.3079078,-1.3122936,-1.3122936,-1.3122936,-1.3122936,-1.3122936,-1.3122936,-1.3122936,-1.3122936,-1.3122936,-1.3122936,-1.3122936,-1.3122936,-1.3122936,-1.3122936,-1.3122936,-1.3122936,-1.3122936,-1.3122936,-1.3122936,-1.3122936,-1.3122936,-1.3122936,-1.3122936,-1.3122936,-1.3122936,-1.3122936,-1.3122936,-1.3122936,-1.3122936,-1.3122936,-1.3122936,-1.3122936,-1.2904239,-1.2904239,-1.2904239,-1.2904239,-1.2904239,-1.2904239,-1.2919441,-1.2919441,-1.2917267,-1.2917267,-1.2513781,-1.2513781,-1.2513781,-1.2556036,-1.2556036,-1.2556036,-1.3106316,-1.3106316,-1.3106316,-1.3106316,-1.3106316,-1.3106316,-1.3106316,-1.3106316,-1.3106316,-1.3106316,-1.3106316,-1.3106316,-1.3106316,-1.3106316,-1.3106316,-1.3106316,-1.3106316,-1.3106316,-1.3106316,-1.3106316,-1.3106316,-1.3106316,-1.3106316,-1.3106316,-1.3106316,-1.3106316,-1.3106316,-1.3106316,-1.3106316,-1.3106316,-1.3106316,-1.3106316,-1.3106316,-1.3106316,-1.3106316,-1.3106316,-1.301024,-1.301024,-1.301024,-1.301024,-1.301024,-1.301024,-1.301024,-1.301024,-1.301024,-1.301024,-1.301024,-1.301024,-1.301024,-1.301024,-1.301024,-1.301024,-1.301024,-1.301024,-1.301024,-1.301024,-1.301024,-1.301024,-1.301024,-1.301024,-1.301024,-1.301024,-1.301024,-1.301024,-1.301024,-1.301024,-1.301024,-1.301024,-1.301024,-1.301024,-1.301024,-1.301024,-1.301024,-1.301024,-1.301024,-1.301024,-1.301024,-1.301024,-1.301024,-1.301024,-1.301024,-1.301024,-1.301024,-1.301024,-1.301024,-1.301024,-1.301024,-1.2930931,-1.2930931,-1.2930931,-1.2930931,-1.2930931,-1.2930931,-1.2930931,-1.2930931,-1.2930931,-1.2930931,-1.2930931,-1.2930931,-1.2930931,-1.2930931,-1.2930931,-1.2930931,-1.2930931,-1.2930931,-1.2930931,-1.2930931,-1.2930931,-1.2930931,-1.2930931,-1.2930931,-1.2930931,-1.2930931,-1.2930931,-1.2930931,-1.2930931,-1.2930931,-1.2930931,-1.2930931,-1.2930931,-1.2930931,-1.2930931,-1.2930931,-1.2930931,-1.2930931,-1.2930931,-1.2930931,-1.2930931,-1.2930931,-1.2930931,-1.2930931,-1.2930931,-1.2930931,-1.2930931,-1.2930931,-1.2930931,-1.2930931,-1.2930931,-1.2930931,-1.2930931,-1.2930931,-1.2930931,-1.2930931,-1.2941417,-1.2941417,-1.2941417,-1.2941417,-1.2941417,-1.2941417,-1.2941417,-1.2941417,-1.2941417,-1.2941417,-1.2941417,-1.2941417,-1.2941417,-1.283815,-1.283815,-1.283815,-1.283815,-1.283815,-1.2796836,-1.2796836,-1.2796836,-1.2796836,-1.2796836,-1.2898599,-1.2898599,-1.2898599,-1.2898599,-1.2898599,-1.2898599,-1.2898599,-1.2898599,-1.30403,-1.30403,-1.30403,-1.30403,-1.30403,-1.30403,-1.30403,-1.30403,-1.30403,-1.30403,-1.30403,-1.30403,-1.30403,-1.30403,-1.30403,-1.30403,-1.30403,-1.30403,-1.30403,-1.30403,-1.30403,-1.30403,-1.30403,-1.30403,-1.30403,-1.30403,-1.30403,-1.30403,-1.30403,-1.30403,-1.30403,-1.30403,-1.30403,-1.30403,-1.30403,-1.30403,-1.30403,-1.30403,-1.30403,-1.30403,-1.30403,-1.30403,-1.30403,-1.30403,-1.30403,-1.30403,-1.30403,-1.30403,-1.30403,-1.30403,-1.30403,-1.30403,-1.30403,-1.30403,-1.2899983,-1.2899983,-1.2899983,-1.2899983,-1.2899983,-1.2899983,-1.2899983,-1.2899983,-1.2899983,-1.2899983,-1.2899983,-1.3158967,-1.3158967,-1.3158967,-1.3158967,-1.3158967,-1.3158967,-1.3158967,-1.3158967,-1.3158967,-1.3158967,-1.289062,-1.289062,-1.289062,-1.289062,-1.289062,-1.289062,-1.3216606,-1.3216606,-1.2899846,-1.2924678,-1.2924678,-1.2931714,-1.2936816,-1.2892833,-1.2892833,-1.2892833,-1.2913475,-1.2913475,-1.2859426,-1.2938235,-1.2846541,-1.2986824,-1.2986824,-1.2986824,-1.2986824,-1.2986824,-1.2898049,-1.2897976,-1.2986983,-1.2986983,-1.2986983,-1.2987573,-1.2987573,-1.298622,-1.298622,-1.2953783,-1.2953783,-1.2953783,-1.2973074,-1.2973074,-1.2940433,-1.2940433,-1.2940433,-1.2940433,-1.2909905,-1.2899783,-1.2899783,-1.2899783,-1.2899783,-1.2899783,-1.2899783,-1.2899783,-1.2899783,-1.2899783,-1.2899783,-1.2899783,-1.2899783,-1.2899783,-1.2802831,-1.2802831,-1.2802831,-1.2802917,-1.2802917,-1.3021788,-1.3021788,-1.3021788,-1.3021788,-1.3021788,-1.3021788,-1.3021788,-1.3021788,-1.3021788,-1.3021788,-1.3021788,-1.3021788,-1.3021788,-1.3021788,-1.3021788,-1.3022094,-1.3022094,-1.3022094,-1.3022094,-1.3022094,-1.3022094,-1.3022094,-1.3022094,-1.3022094,-1.3022094,-1.25923,-1.25923,-1.25923,-1.25923,-1.25923,-1.25923,-1.25923,-1.25923,-1.25923,-1.25923,-1.2592583,-1.2592583,-1.2592583,-1.2592583,-1.2592583,-1.2592583,-1.2592583,-1.2592583,-1.2592583,-1.2899051,-1.2899051,-1.2899051,-1.2899051,-1.2899051,-1.2899051,-1.2899051,-1.2899051,-1.2546133,-1.2546133,-1.2546133,-1.2546133,-1.2546133,-1.2546133,-1.2546133,-1.2546133,-1.2546133,-1.2546133,-1.2538667,-1.2538667,-1.2538667,-1.2538667,-1.2538667,-1.2538667,-1.2913785,-1.2538533,-1.2892977,-1.2528417,-1.25212,-1.25212,-1.25212,-1.2526268,-1.2571011,-1.2838267,-1.2838267,-1.2838267,-1.321775,-1.321775,-1.321775,-1.321775,-1.321775,-1.321775,-1.321775,-1.321775,-1.2897667,-1.2897667,-1.2897667,-1.2897667,-1.2897667,-1.2897667,-1.2897667,-1.2897667,-1.2897667,-1.2897667,-1.2897667,-1.2897667,-1.2897667,-1.2897667,-1.2897667,-1.2897667,-1.2897667,-1.2897667,-1.2897667,-1.2897667,-1.2897667,-1.2897667,-1.2897667,-1.2897667,-1.2897667,-1.2897667,-1.2897667,-1.2897667,-1.2897667,-1.2897667,-1.2897667,-1.2897667,-1.2897667,-1.2897667,-1.2897667,-1.2897667,-1.2897667,-1.2897667,-1.2897667,-1.2897667,-1.2897667,-1.2897667,-1.2897667,-1.2897667,-1.2897667,-1.2897667,-1.2897667,-1.2897667,-1.2897667,-1.2893036],\"lon\":[36.899044,36.899044,36.899044,36.899044,36.899044,36.899044,36.899044,36.899044,36.899044,36.899044,36.899044,36.899044,36.899044,36.899044,36.899044,36.899044,36.899044,36.899044,36.899044,36.899044,36.899044,36.899044,36.899044,36.899044,36.899044,36.899044,36.899044,36.899044,36.899044,36.899044,36.899044,36.899044,36.899044,36.899044,36.899044,36.899044,36.899044,36.899044,36.899044,36.899044,36.899044,36.899044,36.899044,36.899044,36.899044,36.899044,36.899044,36.899044,36.899044,36.899044,36.899044,36.899044,36.899044,36.899044,36.899044,36.899044,36.899044,36.899044,36.899044,36.899044,36.899044,36.899044,36.899044,36.899044,36.899044,36.899044,36.899044,36.899044,36.899044,36.899044,36.899044,36.899044,36.899044,36.899044,36.899044,36.9001326,36.9001326,36.9001326,36.9001326,36.9001326,36.9001326,36.9001326,36.9001326,36.9001326,36.9001326,36.9001326,36.9001326,36.9001326,36.9001326,36.9001326,36.9001326,36.9001326,36.9001326,36.9001326,36.9001326,36.9001326,36.9001326,36.9001326,36.9001326,36.9001326,36.9001326,36.9001326,36.9001326,36.9001326,36.9001326,36.9001326,36.9001326,36.9001326,36.9001326,36.9001326,36.9001326,36.9001326,36.9001326,36.9001326,36.9001326,36.9001326,36.9001326,36.9001326,36.9001326,36.9001326,36.9001326,36.9001326,36.9001326,36.9001326,36.9001326,36.9001326,36.9001326,36.9001326,36.9001326,36.9001326,36.9001326,36.9001326,36.9001326,36.9001326,36.9001326,36.9001326,36.9001326,36.9001326,36.9001326,36.9001326,36.9001326,36.9001326,36.9001326,36.9001326,36.9001326,36.9001326,36.9001326,36.9001326,36.9001326,36.9001211,36.9001211,36.9001211,36.9001211,36.9001211,36.9001211,36.9001211,36.9001211,36.9001211,36.9001211,36.9001211,36.9001211,36.9001211,36.9001211,36.9001211,36.9001211,36.9001211,36.9001211,36.9001211,36.9001211,36.9001211,36.9001211,36.9001211,36.9001211,36.9001211,36.9001211,36.9001211,36.9001211,36.9001211,36.9001211,36.9001211,36.9001211,36.9001211,36.9001211,36.9001211,36.9001211,36.9001211,36.9001211,36.9001211,36.9001211,36.9001211,36.9001211,36.9001211,36.9001211,36.9001211,36.9001211,36.9001211,36.9001211,36.9001211,36.9001211,36.9001211,36.9001211,36.9001211,36.9001211,36.9001211,36.9001211,36.9001211,36.9001211,36.9001211,36.9001211,36.9001211,36.9001211,36.9001211,36.9002861,36.9002861,36.9002861,36.9002861,36.9002861,36.9002861,36.9002861,36.9002861,36.9002861,36.9002861,36.9002861,36.9002861,36.9002861,36.9002861,36.9002861,36.9002861,36.9002861,36.9002861,36.9002861,36.9002861,36.9002861,36.9002861,36.9002861,36.9002861,36.9002861,36.9002861,36.9002861,36.9002861,36.9002861,36.9002861,36.9002861,36.9002861,36.9002861,36.9002861,36.9002861,36.9002861,36.9002861,36.9002861,36.9002861,36.9002861,36.9002861,36.9002861,36.9002861,36.9002861,36.9002861,36.9002861,36.9002861,36.9002861,36.9002861,36.9002861,36.9002861,36.9002861,36.9002861,36.9002861,36.9002861,36.8960602,36.8960602,36.8960602,36.8960602,36.8960602,36.8960602,36.8960602,36.8960602,36.8960602,36.8960602,36.8960602,36.8960602,36.8960602,36.8960602,36.8960602,36.8960602,36.8960602,36.8960602,36.8960602,36.8960602,36.8960602,36.8960602,36.8960602,36.8960602,36.8960602,36.8960602,36.8960602,36.8960602,36.8960602,36.8960602,36.8960602,36.8960602,36.8960602,36.8960602,36.8960602,36.8960602,36.8960602,36.8960602,36.8960602,36.8960602,36.8960602,36.8960602,36.8960602,36.8960602,36.8960602,36.8960602,36.893125,36.893125,36.893125,36.893125,36.893125,36.893125,36.893125,36.893125,36.893125,36.893125,36.893125,36.893125,36.893125,36.893125,36.893125,36.893125,36.893125,36.893125,36.893125,36.893125,36.893125,36.893125,36.893125,36.893125,36.893125,36.893125,36.893125,36.893125,36.893125,36.893125,36.893125,36.893125,36.9053047,36.9053047,36.9053047,36.9053047,36.9053047,36.9053047,36.9051407,36.9051407,36.9050367,36.9050367,36.91629,36.91629,36.91629,36.9215234,36.9215234,36.9215234,36.8924883,36.8924883,36.8924883,36.8924883,36.8924883,36.8924883,36.8924883,36.8924883,36.8924883,36.8924883,36.8924883,36.8924883,36.8924883,36.8924883,36.8924883,36.8924883,36.8924883,36.8924883,36.8924883,36.8924883,36.8924883,36.8924883,36.8924883,36.8924883,36.8924883,36.8924883,36.8924883,36.8924883,36.8924883,36.8924883,36.8924883,36.8924883,36.8924883,36.8924883,36.8924883,36.8924883,36.8888246,36.8888246,36.8888246,36.8888246,36.8888246,36.8888246,36.8888246,36.8888246,36.8888246,36.8888246,36.8888246,36.8888246,36.8888246,36.8888246,36.8888246,36.8888246,36.8888246,36.8888246,36.8888246,36.8888246,36.8888246,36.8888246,36.8888246,36.8888246,36.8888246,36.8888246,36.8888246,36.8888246,36.8888246,36.8888246,36.8888246,36.8888246,36.8888246,36.8888246,36.8888246,36.8888246,36.8888246,36.8888246,36.8888246,36.8888246,36.8888246,36.8888246,36.8888246,36.8888246,36.8888246,36.8888246,36.8888246,36.8888246,36.8888246,36.8888246,36.8888246,36.8933427,36.8933427,36.8933427,36.8933427,36.8933427,36.8933427,36.8933427,36.8933427,36.8933427,36.8933427,36.8933427,36.8933427,36.8933427,36.8933427,36.8933427,36.8933427,36.8933427,36.8933427,36.8933427,36.8933427,36.8933427,36.8933427,36.8933427,36.8933427,36.8933427,36.8933427,36.8933427,36.8933427,36.8933427,36.8933427,36.8933427,36.8933427,36.8933427,36.8933427,36.8933427,36.8933427,36.8933427,36.8933427,36.8933427,36.8933427,36.8933427,36.8933427,36.8933427,36.8933427,36.8933427,36.8933427,36.8933427,36.8933427,36.8933427,36.8933427,36.8933427,36.8933427,36.8933427,36.8933427,36.8933427,36.8933427,36.896025,36.896025,36.896025,36.896025,36.896025,36.896025,36.896025,36.896025,36.896025,36.896025,36.896025,36.896025,36.896025,36.8982483,36.8982483,36.8982483,36.8982483,36.8982483,36.8980392,36.8980392,36.8980392,36.8980392,36.8980392,36.8972251,36.8972251,36.8972251,36.8972251,36.8972251,36.8972251,36.8972251,36.8972251,36.8935533,36.8935533,36.8935533,36.8935533,36.8935533,36.8935533,36.8935533,36.8935533,36.8935533,36.8935533,36.8935533,36.8935533,36.8935533,36.8935533,36.8935533,36.8935533,36.8935533,36.8935533,36.8935533,36.8935533,36.8935533,36.8935533,36.8935533,36.8935533,36.8935533,36.8935533,36.8935533,36.8935533,36.8935533,36.8935533,36.8935533,36.8935533,36.8935533,36.8935533,36.8935533,36.8935533,36.8935533,36.8935533,36.8935533,36.8935533,36.8935533,36.8935533,36.8935533,36.8935533,36.8935533,36.8935533,36.8935533,36.8935533,36.8935533,36.8935533,36.8935533,36.8935533,36.8935533,36.8935533,36.8970233,36.8970233,36.8970233,36.8970233,36.8970233,36.8970233,36.8970233,36.8970233,36.8970233,36.8970233,36.8970233,36.901005,36.901005,36.901005,36.901005,36.901005,36.901005,36.901005,36.901005,36.901005,36.901005,36.8968414,36.8968414,36.8968414,36.8968414,36.8968414,36.8968414,36.8951475,36.8951475,36.8972562,36.9005739,36.9005739,36.9011766,36.9015936,36.8968217,36.8968217,36.8968217,36.9036462,36.9036462,36.9043936,36.9018598,36.90588,36.8897126,36.8897126,36.8897126,36.8897126,36.8897126,36.9027312,36.902708,36.8897617,36.8897617,36.8897617,36.8897394,36.8897394,36.8898152,36.8898152,36.889515,36.889515,36.889515,36.8878519,36.8878519,36.8878367,36.8878367,36.8878367,36.8878367,36.8868798,36.8862433,36.8862433,36.8862433,36.8862433,36.8862433,36.8862433,36.8862433,36.8862433,36.8862433,36.8862433,36.8862433,36.8862433,36.8862433,36.8899286,36.8899286,36.8899286,36.8898765,36.8898765,36.9055873,36.9055873,36.9055873,36.9055873,36.9055873,36.9055873,36.9055873,36.9055873,36.9055873,36.9055873,36.9055873,36.9055873,36.9055873,36.9055873,36.9055873,36.9056017,36.9056017,36.9056017,36.9056017,36.9056017,36.9056017,36.9056017,36.9056017,36.9056017,36.9056017,36.909825,36.909825,36.909825,36.909825,36.909825,36.909825,36.909825,36.909825,36.909825,36.909825,36.909845,36.909845,36.909845,36.909845,36.909845,36.909845,36.909845,36.909845,36.909845,36.9049516,36.9049516,36.9049516,36.9049516,36.9049516,36.9049516,36.9049516,36.9049516,36.920786,36.920786,36.920786,36.920786,36.920786,36.920786,36.920786,36.920786,36.920786,36.920786,36.915735,36.915735,36.915735,36.915735,36.915735,36.915735,36.9051835,36.9156883,36.9044594,36.9152978,36.91506,36.91506,36.91506,36.9084626,36.9224599,36.8982567,36.8982567,36.8982567,36.895245,36.895245,36.895245,36.895245,36.895245,36.895245,36.895245,36.895245,36.90336,36.90336,36.90336,36.90336,36.90336,36.90336,36.90336,36.90336,36.90336,36.90336,36.90336,36.90336,36.90336,36.90336,36.90336,36.90336,36.90336,36.90336,36.90336,36.90336,36.90336,36.90336,36.90336,36.90336,36.90336,36.90336,36.90336,36.90336,36.90336,36.90336,36.90336,36.90336,36.90336,36.90336,36.90336,36.90336,36.90336,36.90336,36.90336,36.90336,36.90336,36.90336,36.90336,36.90336,36.90336,36.90336,36.90336,36.90336,36.90336,36.9043614],\"name\":\"\",\"radius\":50,\"subplot\":\"mapbox\",\"type\":\"densitymapbox\",\"z\":[180.0,180.0,180.0,0.0,165.0,165.0,165.0,165.0,165.0,165.0,165.0,0.0,165.0,0.0,0.0,165.0,165.0,165.0,165.0,165.0,165.0,0.0,165.0,165.0,165.0,165.0,165.0,165.0,165.0,330.0,165.0,0.0,0.0,165.0,165.0,165.0,0.0,0.0,825.0,990.0,825.0,825.0,825.0,825.0,1980.0,1980.0,1980.0,1980.0,1980.0,1840.0,1980.0,1320.0,0.0,460.0,1980.0,240.0,0.0,0.0,0.0,0.0,0.0,0.0,0.0,240.0,0.0,0.0,0.0,0.0,0.0,150.0,0.0,0.0,0.0,0.0,0.0,180.0,180.0,165.0,165.0,165.0,165.0,165.0,165.0,165.0,165.0,165.0,270.0,165.0,165.0,165.0,165.0,165.0,165.0,165.0,0.0,0.0,165.0,165.0,165.0,0.0,165.0,165.0,170.0,330.0,0.0,165.0,165.0,165.0,165.0,165.0,0.0,170.0,825.0,1650.0,165.0,1650.0,3300.0,825.0,825.0,495.0,990.0,990.0,1840.0,0.0,990.0,1980.0,1980.0,0.0,0.0,240.0,0.0,240.0,0.0,0.0,0.0,0.0,0.0,0.0,0.0,150.0,240.0,0.0,0.0,0.0,0.0,0.0,0.0,0.0,0.0,180.0,180.0,180.0,165.0,165.0,165.0,165.0,165.0,0.0,0.0,330.0,165.0,165.0,0.0,165.0,165.0,330.0,0.0,165.0,165.0,165.0,165.0,165.0,165.0,165.0,165.0,165.0,165.0,165.0,165.0,165.0,165.0,0.0,330.0,165.0,165.0,0.0,495.0,825.0,330.0,240.0,0.0,0.0,0.0,0.0,0.0,0.0,0.0,240.0,150.0,0.0,0.0,240.0,0.0,240.0,0.0,240.0,150.0,0.0,0.0,240.0,0.0,0.0,180.0,0.0,0.0,0.0,0.0,165.0,165.0,0.0,165.0,165.0,165.0,0.0,165.0,165.0,165.0,165.0,330.0,165.0,165.0,165.0,165.0,165.0,0.0,165.0,165.0,0.0,165.0,165.0,165.0,330.0,165.0,165.0,0.0,0.0,165.0,0.0,660.0,1485.0,0.0,0.0,0.0,0.0,0.0,0.0,0.0,0.0,240.0,0.0,240.0,0.0,0.0,0.0,240.0,0.0,240.0,0.0,0.0,0.0,330.0,165.0,165.0,0.0,165.0,0.0,165.0,165.0,165.0,165.0,165.0,0.0,0.0,0.0,165.0,0.0,165.0,165.0,165.0,0.0,0.0,165.0,165.0,0.0,0.0,165.0,330.0,330.0,0.0,0.0,0.0,240.0,0.0,0.0,0.0,240.0,0.0,240.0,0.0,150.0,0.0,0.0,0.0,0.0,0.0,165.0,165.0,165.0,165.0,165.0,0.0,495.0,165.0,330.0,165.0,0.0,165.0,165.0,0.0,0.0,165.0,165.0,165.0,165.0,0.0,0.0,0.0,0.0,150.0,240.0,240.0,250.0,0.0,0.0,0.0,165.0,480.0,330.0,330.0,330.0,330.0,0.0,0.0,165.0,1050.0,495.0,165.0,165.0,1440.0,0.0,165.0,330.0,110.0,165.0,165.0,165.0,165.0,65.0,165.0,120.0,825.0,825.0,825.0,1380.0,500.0,1150.0,600.0,220.0,660.0,460.0,330.0,330.0,330.0,330.0,165.0,660.0,165.0,330.0,110.0,50.0,165.0,165.0,165.0,165.0,165.0,165.0,100.0,0.0,0.0,0.0,165.0,165.0,230.0,720.0,1650.0,825.0,130.0,165.0,990.0,495.0,825.0,825.0,825.0,660.0,440.0,460.0,300.0,165.0,165.0,165.0,165.0,165.0,165.0,65.0,495.0,660.0,660.0,330.0,460.0,330.0,200.0,65.0,65.0,150.0,65.0,60.0,60.0,65.0,330.0,330.0,330.0,330.0,110.0,110.0,50.0,130.0,65.0,65.0,0.0,165.0,165.0,165.0,230.0,330.0,130.0,130.0,130.0,130.0,330.0,330.0,690.0,550.0,360.0,330.0,330.0,330.0,825.0,825.0,825.0,330.0,825.0,660.0,200.0,165.0,165.0,165.0,165.0,165.0,230.0,330.0,330.0,330.0,100.0,130.0,165.0,165.0,165.0,165.0,165.0,165.0,165.0,165.0,165.0,325.0,65.0,65.0,165.0,330.0,825.0,165.0,230.0,220.0,50.0,390.0,165.0,495.0,330.0,330.0,165.0,165.0,495.0,495.0,325.0,825.0,825.0,825.0,825.0,240.0,165.0,300.0,165.0,70.0,0.0,110.0,120.0,165.0,165.0,330.0,195.0,165.0,165.0,0.0,660.0,330.0,920.0,0.0,180.0,330.0,330.0,210.0,360.0,825.0,825.0,825.0,825.0,825.0,325.0,350.0,660.0,660.0,990.0,120.0,120.0,120.0,130.0,825.0,825.0,170.0,330.0,330.0,330.0,330.0,250.0,330.0,330.0,165.0,165.0,165.0,165.0,165.0,165.0,50.0,165.0,165.0,165.0,165.0,165.0,120.0,150.0,60.0,495.0,660.0,660.0,330.0,230.0,220.0,100.0,390.0,130.0,165.0,120.0,165.0,165.0,120.0,165.0,495.0,165.0,165.0,120.0,60.0,0.0,120.0,60.0,165.0,165.0,240.0,165.0,165.0,165.0,165.0,495.0,330.0,330.0,165.0,165.0,165.0,240.0,165.0,0.0,0.0,0.0,0.0,0.0,165.0,165.0,165.0,120.0,165.0,120.0,0.0,60.0,0.0,240.0,120.0,165.0,165.0,0.0,0.0,165.0,130.0,0.0,330.0,0.0,165.0,0.0,165.0,165.0,180.0,165.0,0.0,165.0,165.0,165.0,0.0,165.0,240.0,180.0,330.0,330.0,220.0,360.0,480.0,330.0,165.0,165.0,660.0,165.0,330.0,0.0,495.0,495.0,0.0,660.0,0.0,330.0,165.0,165.0,165.0,165.0,165.0,495.0,660.0,330.0,330.0,330.0,330.0,330.0,330.0,240.0,120.0,165.0,165.0,330.0,825.0,825.0,825.0,495.0,330.0,480.0,165.0,660.0,165.0,60.0,330.0,240.0,825.0,165.0,165.0,120.0,60.0,165.0,165.0,165.0,330.0,240.0,140.0,130.0,0.0,165.0,165.0,165.0,165.0,165.0,65.0,65.0,0.0,0.0,0.0,60.0,60.0,120.0,0.0,165.0,140.0,65.0,0.0,495.0,120.0,165.0,130.0,60.0,0.0,60.0,0.0,165.0,110.0,165.0,495.0,60.0,165.0,0.0,165.0,330.0,165.0,120.0,60.0,60.0,200.0,920.0,260.0,330.0,165.0,330.0,120.0,165.0,165.0,165.0,65.0,330.0,330.0,825.0,460.0,165.0,2475.0,825.0,825.0,660.0,825.0,825.0,495.0,495.0,495.0,330.0,165.0,165.0,165.0,165.0,165.0,165.0,330.0,330.0,330.0,330.0,330.0,330.0,330.0,330.0,165.0,330.0,330.0,110.0,110.0,120.0,50.0,260.0,65.0,65.0,60.0,60.0,60.0,165.0]}],                        {\"coloraxis\":{\"colorbar\":{\"title\":{\"text\":\"VALUE_SOLD\"}},\"colorscale\":[[0.0,\"#0d0887\"],[0.1111111111111111,\"#46039f\"],[0.2222222222222222,\"#7201a8\"],[0.3333333333333333,\"#9c179e\"],[0.4444444444444444,\"#bd3786\"],[0.5555555555555556,\"#d8576b\"],[0.6666666666666666,\"#ed7953\"],[0.7777777777777778,\"#fb9f3a\"],[0.8888888888888888,\"#fdca26\"],[1.0,\"#f0f921\"]]},\"legend\":{\"tracegroupgap\":0},\"mapbox\":{\"center\":{\"lat\":-1.2987546514179986,\"lon\":36.89812386115925},\"domain\":{\"x\":[0.0,1.0],\"y\":[0.0,1.0]},\"style\":\"stamen-toner\",\"zoom\":12},\"margin\":{\"t\":60},\"template\":{\"data\":{\"bar\":[{\"error_x\":{\"color\":\"#2a3f5f\"},\"error_y\":{\"color\":\"#2a3f5f\"},\"marker\":{\"line\":{\"color\":\"#E5ECF6\",\"width\":0.5},\"pattern\":{\"fillmode\":\"overlay\",\"size\":10,\"solidity\":0.2}},\"type\":\"bar\"}],\"barpolar\":[{\"marker\":{\"line\":{\"color\":\"#E5ECF6\",\"width\":0.5},\"pattern\":{\"fillmode\":\"overlay\",\"size\":10,\"solidity\":0.2}},\"type\":\"barpolar\"}],\"carpet\":[{\"aaxis\":{\"endlinecolor\":\"#2a3f5f\",\"gridcolor\":\"white\",\"linecolor\":\"white\",\"minorgridcolor\":\"white\",\"startlinecolor\":\"#2a3f5f\"},\"baxis\":{\"endlinecolor\":\"#2a3f5f\",\"gridcolor\":\"white\",\"linecolor\":\"white\",\"minorgridcolor\":\"white\",\"startlinecolor\":\"#2a3f5f\"},\"type\":\"carpet\"}],\"choropleth\":[{\"colorbar\":{\"outlinewidth\":0,\"ticks\":\"\"},\"type\":\"choropleth\"}],\"contour\":[{\"colorbar\":{\"outlinewidth\":0,\"ticks\":\"\"},\"colorscale\":[[0.0,\"#0d0887\"],[0.1111111111111111,\"#46039f\"],[0.2222222222222222,\"#7201a8\"],[0.3333333333333333,\"#9c179e\"],[0.4444444444444444,\"#bd3786\"],[0.5555555555555556,\"#d8576b\"],[0.6666666666666666,\"#ed7953\"],[0.7777777777777778,\"#fb9f3a\"],[0.8888888888888888,\"#fdca26\"],[1.0,\"#f0f921\"]],\"type\":\"contour\"}],\"contourcarpet\":[{\"colorbar\":{\"outlinewidth\":0,\"ticks\":\"\"},\"type\":\"contourcarpet\"}],\"heatmap\":[{\"colorbar\":{\"outlinewidth\":0,\"ticks\":\"\"},\"colorscale\":[[0.0,\"#0d0887\"],[0.1111111111111111,\"#46039f\"],[0.2222222222222222,\"#7201a8\"],[0.3333333333333333,\"#9c179e\"],[0.4444444444444444,\"#bd3786\"],[0.5555555555555556,\"#d8576b\"],[0.6666666666666666,\"#ed7953\"],[0.7777777777777778,\"#fb9f3a\"],[0.8888888888888888,\"#fdca26\"],[1.0,\"#f0f921\"]],\"type\":\"heatmap\"}],\"heatmapgl\":[{\"colorbar\":{\"outlinewidth\":0,\"ticks\":\"\"},\"colorscale\":[[0.0,\"#0d0887\"],[0.1111111111111111,\"#46039f\"],[0.2222222222222222,\"#7201a8\"],[0.3333333333333333,\"#9c179e\"],[0.4444444444444444,\"#bd3786\"],[0.5555555555555556,\"#d8576b\"],[0.6666666666666666,\"#ed7953\"],[0.7777777777777778,\"#fb9f3a\"],[0.8888888888888888,\"#fdca26\"],[1.0,\"#f0f921\"]],\"type\":\"heatmapgl\"}],\"histogram\":[{\"marker\":{\"pattern\":{\"fillmode\":\"overlay\",\"size\":10,\"solidity\":0.2}},\"type\":\"histogram\"}],\"histogram2d\":[{\"colorbar\":{\"outlinewidth\":0,\"ticks\":\"\"},\"colorscale\":[[0.0,\"#0d0887\"],[0.1111111111111111,\"#46039f\"],[0.2222222222222222,\"#7201a8\"],[0.3333333333333333,\"#9c179e\"],[0.4444444444444444,\"#bd3786\"],[0.5555555555555556,\"#d8576b\"],[0.6666666666666666,\"#ed7953\"],[0.7777777777777778,\"#fb9f3a\"],[0.8888888888888888,\"#fdca26\"],[1.0,\"#f0f921\"]],\"type\":\"histogram2d\"}],\"histogram2dcontour\":[{\"colorbar\":{\"outlinewidth\":0,\"ticks\":\"\"},\"colorscale\":[[0.0,\"#0d0887\"],[0.1111111111111111,\"#46039f\"],[0.2222222222222222,\"#7201a8\"],[0.3333333333333333,\"#9c179e\"],[0.4444444444444444,\"#bd3786\"],[0.5555555555555556,\"#d8576b\"],[0.6666666666666666,\"#ed7953\"],[0.7777777777777778,\"#fb9f3a\"],[0.8888888888888888,\"#fdca26\"],[1.0,\"#f0f921\"]],\"type\":\"histogram2dcontour\"}],\"mesh3d\":[{\"colorbar\":{\"outlinewidth\":0,\"ticks\":\"\"},\"type\":\"mesh3d\"}],\"parcoords\":[{\"line\":{\"colorbar\":{\"outlinewidth\":0,\"ticks\":\"\"}},\"type\":\"parcoords\"}],\"pie\":[{\"automargin\":true,\"type\":\"pie\"}],\"scatter\":[{\"marker\":{\"colorbar\":{\"outlinewidth\":0,\"ticks\":\"\"}},\"type\":\"scatter\"}],\"scatter3d\":[{\"line\":{\"colorbar\":{\"outlinewidth\":0,\"ticks\":\"\"}},\"marker\":{\"colorbar\":{\"outlinewidth\":0,\"ticks\":\"\"}},\"type\":\"scatter3d\"}],\"scattercarpet\":[{\"marker\":{\"colorbar\":{\"outlinewidth\":0,\"ticks\":\"\"}},\"type\":\"scattercarpet\"}],\"scattergeo\":[{\"marker\":{\"colorbar\":{\"outlinewidth\":0,\"ticks\":\"\"}},\"type\":\"scattergeo\"}],\"scattergl\":[{\"marker\":{\"colorbar\":{\"outlinewidth\":0,\"ticks\":\"\"}},\"type\":\"scattergl\"}],\"scattermapbox\":[{\"marker\":{\"colorbar\":{\"outlinewidth\":0,\"ticks\":\"\"}},\"type\":\"scattermapbox\"}],\"scatterpolar\":[{\"marker\":{\"colorbar\":{\"outlinewidth\":0,\"ticks\":\"\"}},\"type\":\"scatterpolar\"}],\"scatterpolargl\":[{\"marker\":{\"colorbar\":{\"outlinewidth\":0,\"ticks\":\"\"}},\"type\":\"scatterpolargl\"}],\"scatterternary\":[{\"marker\":{\"colorbar\":{\"outlinewidth\":0,\"ticks\":\"\"}},\"type\":\"scatterternary\"}],\"surface\":[{\"colorbar\":{\"outlinewidth\":0,\"ticks\":\"\"},\"colorscale\":[[0.0,\"#0d0887\"],[0.1111111111111111,\"#46039f\"],[0.2222222222222222,\"#7201a8\"],[0.3333333333333333,\"#9c179e\"],[0.4444444444444444,\"#bd3786\"],[0.5555555555555556,\"#d8576b\"],[0.6666666666666666,\"#ed7953\"],[0.7777777777777778,\"#fb9f3a\"],[0.8888888888888888,\"#fdca26\"],[1.0,\"#f0f921\"]],\"type\":\"surface\"}],\"table\":[{\"cells\":{\"fill\":{\"color\":\"#EBF0F8\"},\"line\":{\"color\":\"white\"}},\"header\":{\"fill\":{\"color\":\"#C8D4E3\"},\"line\":{\"color\":\"white\"}},\"type\":\"table\"}]},\"layout\":{\"annotationdefaults\":{\"arrowcolor\":\"#2a3f5f\",\"arrowhead\":0,\"arrowwidth\":1},\"autotypenumbers\":\"strict\",\"coloraxis\":{\"colorbar\":{\"outlinewidth\":0,\"ticks\":\"\"}},\"colorscale\":{\"diverging\":[[0,\"#8e0152\"],[0.1,\"#c51b7d\"],[0.2,\"#de77ae\"],[0.3,\"#f1b6da\"],[0.4,\"#fde0ef\"],[0.5,\"#f7f7f7\"],[0.6,\"#e6f5d0\"],[0.7,\"#b8e186\"],[0.8,\"#7fbc41\"],[0.9,\"#4d9221\"],[1,\"#276419\"]],\"sequential\":[[0.0,\"#0d0887\"],[0.1111111111111111,\"#46039f\"],[0.2222222222222222,\"#7201a8\"],[0.3333333333333333,\"#9c179e\"],[0.4444444444444444,\"#bd3786\"],[0.5555555555555556,\"#d8576b\"],[0.6666666666666666,\"#ed7953\"],[0.7777777777777778,\"#fb9f3a\"],[0.8888888888888888,\"#fdca26\"],[1.0,\"#f0f921\"]],\"sequentialminus\":[[0.0,\"#0d0887\"],[0.1111111111111111,\"#46039f\"],[0.2222222222222222,\"#7201a8\"],[0.3333333333333333,\"#9c179e\"],[0.4444444444444444,\"#bd3786\"],[0.5555555555555556,\"#d8576b\"],[0.6666666666666666,\"#ed7953\"],[0.7777777777777778,\"#fb9f3a\"],[0.8888888888888888,\"#fdca26\"],[1.0,\"#f0f921\"]]},\"colorway\":[\"#636efa\",\"#EF553B\",\"#00cc96\",\"#ab63fa\",\"#FFA15A\",\"#19d3f3\",\"#FF6692\",\"#B6E880\",\"#FF97FF\",\"#FECB52\"],\"font\":{\"color\":\"#2a3f5f\"},\"geo\":{\"bgcolor\":\"white\",\"lakecolor\":\"white\",\"landcolor\":\"#E5ECF6\",\"showlakes\":true,\"showland\":true,\"subunitcolor\":\"white\"},\"hoverlabel\":{\"align\":\"left\"},\"hovermode\":\"closest\",\"mapbox\":{\"style\":\"light\"},\"paper_bgcolor\":\"white\",\"plot_bgcolor\":\"#E5ECF6\",\"polar\":{\"angularaxis\":{\"gridcolor\":\"white\",\"linecolor\":\"white\",\"ticks\":\"\"},\"bgcolor\":\"#E5ECF6\",\"radialaxis\":{\"gridcolor\":\"white\",\"linecolor\":\"white\",\"ticks\":\"\"}},\"scene\":{\"xaxis\":{\"backgroundcolor\":\"#E5ECF6\",\"gridcolor\":\"white\",\"gridwidth\":2,\"linecolor\":\"white\",\"showbackground\":true,\"ticks\":\"\",\"zerolinecolor\":\"white\"},\"yaxis\":{\"backgroundcolor\":\"#E5ECF6\",\"gridcolor\":\"white\",\"gridwidth\":2,\"linecolor\":\"white\",\"showbackground\":true,\"ticks\":\"\",\"zerolinecolor\":\"white\"},\"zaxis\":{\"backgroundcolor\":\"#E5ECF6\",\"gridcolor\":\"white\",\"gridwidth\":2,\"linecolor\":\"white\",\"showbackground\":true,\"ticks\":\"\",\"zerolinecolor\":\"white\"}},\"shapedefaults\":{\"line\":{\"color\":\"#2a3f5f\"}},\"ternary\":{\"aaxis\":{\"gridcolor\":\"white\",\"linecolor\":\"white\",\"ticks\":\"\"},\"baxis\":{\"gridcolor\":\"white\",\"linecolor\":\"white\",\"ticks\":\"\"},\"bgcolor\":\"#E5ECF6\",\"caxis\":{\"gridcolor\":\"white\",\"linecolor\":\"white\",\"ticks\":\"\"}},\"title\":{\"x\":0.05},\"xaxis\":{\"automargin\":true,\"gridcolor\":\"white\",\"linecolor\":\"white\",\"ticks\":\"\",\"title\":{\"standoff\":15},\"zerolinecolor\":\"white\",\"zerolinewidth\":2},\"yaxis\":{\"automargin\":true,\"gridcolor\":\"white\",\"linecolor\":\"white\",\"ticks\":\"\",\"title\":{\"standoff\":15},\"zerolinecolor\":\"white\",\"zerolinewidth\":2}}}},                        {\"responsive\": true}                    ).then(function(){\n",
       "                            \n",
       "var gd = document.getElementById('12b6aa43-9412-4894-8f60-8985aebce7e7');\n",
       "var x = new MutationObserver(function (mutations, observer) {{\n",
       "        var display = window.getComputedStyle(gd).display;\n",
       "        if (!display || display === 'none') {{\n",
       "            console.log([gd, 'removed!']);\n",
       "            Plotly.purge(gd);\n",
       "            observer.disconnect();\n",
       "        }}\n",
       "}});\n",
       "\n",
       "// Listen for the removal of the full notebook cells\n",
       "var notebookContainer = gd.closest('#notebook-container');\n",
       "if (notebookContainer) {{\n",
       "    x.observe(notebookContainer, {childList: true});\n",
       "}}\n",
       "\n",
       "// Listen for the clearing of the current output cell\n",
       "var outputEl = gd.closest('.output');\n",
       "if (outputEl) {{\n",
       "    x.observe(outputEl, {childList: true});\n",
       "}}\n",
       "\n",
       "                        })                };                });            </script>        </div>"
      ]
     },
     "metadata": {},
     "output_type": "display_data"
    }
   ],
   "source": [
    "#state['sales'] = state['geolocation_city'].map(geolocation['geolocation_city'].value_counts())\n",
    "fig2 = px.density_mapbox(df, lat='LATITUDE', lon='LONGITUDE', z='VALUE_SOLD', radius=50, zoom=12,\n",
    "                        hover_name=\"LOCATION_NAME\", mapbox_style=\"stamen-toner\")\n",
    "fig2.show()"
   ]
  },
  {
   "cell_type": "code",
   "execution_count": 73,
   "id": "ea57f9cb",
   "metadata": {
    "execution": {
     "iopub.execute_input": "2022-05-31T17:48:16.230880Z",
     "iopub.status.busy": "2022-05-31T17:48:16.230231Z",
     "iopub.status.idle": "2022-05-31T17:48:16.351310Z",
     "shell.execute_reply": "2022-05-31T17:48:16.350798Z",
     "shell.execute_reply.started": "2022-05-31T17:42:11.143400Z"
    },
    "papermill": {
     "duration": 0.240677,
     "end_time": "2022-05-31T17:48:16.351431",
     "exception": false,
     "start_time": "2022-05-31T17:48:16.110754",
     "status": "completed"
    },
    "tags": []
   },
   "outputs": [
    {
     "data": {
      "text/html": [
       "<div>                            <div id=\"cf203cec-4e4c-426b-a518-ad023103c34f\" class=\"plotly-graph-div\" style=\"height:500px; width:1000px;\"></div>            <script type=\"text/javascript\">                require([\"plotly\"], function(Plotly) {                    window.PLOTLYENV=window.PLOTLYENV || {};                                    if (document.getElementById(\"cf203cec-4e4c-426b-a518-ad023103c34f\")) {                    Plotly.newPlot(                        \"cf203cec-4e4c-426b-a518-ad023103c34f\",                        [{\"customdata\":[[180.0],[180.0],[180.0],[0.0],[165.0],[165.0],[165.0],[165.0],[165.0],[165.0],[165.0],[0.0],[165.0],[0.0],[0.0],[165.0],[165.0],[165.0],[165.0],[165.0],[165.0],[0.0],[165.0],[165.0],[165.0],[165.0],[165.0],[165.0],[165.0],[330.0],[165.0],[0.0],[0.0],[165.0],[165.0],[165.0],[0.0],[0.0],[825.0],[990.0],[825.0],[825.0],[825.0],[825.0],[1980.0],[1980.0],[1980.0],[1980.0],[1980.0],[1840.0],[1980.0],[1320.0],[0.0],[460.0],[1980.0],[240.0],[0.0],[0.0],[0.0],[0.0],[0.0],[0.0],[0.0],[240.0],[0.0],[0.0],[0.0],[0.0],[0.0],[150.0],[0.0],[0.0],[0.0],[0.0],[0.0],[180.0],[180.0],[165.0],[165.0],[165.0],[165.0],[165.0],[165.0],[165.0],[165.0],[165.0],[270.0],[165.0],[165.0],[165.0],[165.0],[165.0],[165.0],[165.0],[0.0],[0.0],[165.0],[165.0],[165.0],[0.0],[165.0],[165.0],[170.0],[330.0],[0.0],[165.0],[165.0],[165.0],[165.0],[165.0],[0.0],[170.0],[825.0],[1650.0],[165.0],[1650.0],[3300.0],[825.0],[825.0],[495.0],[990.0],[990.0],[1840.0],[0.0],[990.0],[1980.0],[1980.0],[0.0],[0.0],[240.0],[0.0],[240.0],[0.0],[0.0],[0.0],[0.0],[0.0],[0.0],[0.0],[150.0],[240.0],[0.0],[0.0],[0.0],[0.0],[0.0],[0.0],[0.0],[0.0],[180.0],[180.0],[180.0],[165.0],[165.0],[165.0],[165.0],[165.0],[0.0],[0.0],[330.0],[165.0],[165.0],[0.0],[165.0],[165.0],[330.0],[0.0],[165.0],[165.0],[165.0],[165.0],[165.0],[165.0],[165.0],[165.0],[165.0],[165.0],[165.0],[165.0],[165.0],[165.0],[0.0],[330.0],[165.0],[165.0],[0.0],[495.0],[825.0],[330.0],[240.0],[0.0],[0.0],[0.0],[0.0],[0.0],[0.0],[0.0],[240.0],[150.0],[0.0],[0.0],[240.0],[0.0],[240.0],[0.0],[240.0],[150.0],[0.0],[0.0],[240.0],[0.0],[0.0],[180.0],[0.0],[0.0],[0.0],[0.0],[165.0],[165.0],[0.0],[165.0],[165.0],[165.0],[0.0],[165.0],[165.0],[165.0],[165.0],[330.0],[165.0],[165.0],[165.0],[165.0],[165.0],[0.0],[165.0],[165.0],[0.0],[165.0],[165.0],[165.0],[330.0],[165.0],[165.0],[0.0],[0.0],[165.0],[0.0],[660.0],[1485.0],[0.0],[0.0],[0.0],[0.0],[0.0],[0.0],[0.0],[0.0],[240.0],[0.0],[240.0],[0.0],[0.0],[0.0],[240.0],[0.0],[240.0],[0.0],[0.0],[0.0],[330.0],[165.0],[165.0],[0.0],[165.0],[0.0],[165.0],[165.0],[165.0],[165.0],[165.0],[0.0],[0.0],[0.0],[165.0],[0.0],[165.0],[165.0],[165.0],[0.0],[0.0],[165.0],[165.0],[0.0],[0.0],[165.0],[330.0],[330.0],[0.0],[0.0],[0.0],[240.0],[0.0],[0.0],[0.0],[240.0],[0.0],[240.0],[0.0],[150.0],[0.0],[0.0],[0.0],[0.0],[0.0],[165.0],[165.0],[165.0],[165.0],[165.0],[0.0],[495.0],[165.0],[330.0],[165.0],[0.0],[165.0],[165.0],[0.0],[0.0],[165.0],[165.0],[165.0],[165.0],[0.0],[0.0],[0.0],[0.0],[150.0],[240.0],[240.0],[250.0],[0.0],[0.0],[0.0],[165.0],[480.0],[330.0],[330.0],[330.0],[330.0],[0.0],[0.0],[165.0],[1050.0],[330.0],[110.0],[165.0],[165.0],[165.0],[165.0],[65.0],[165.0],[120.0],[825.0],[825.0],[825.0],[1380.0],[500.0],[1150.0],[600.0],[220.0],[660.0],[460.0],[330.0],[330.0],[330.0],[330.0],[165.0],[660.0],[165.0],[330.0],[110.0],[50.0],[165.0],[165.0],[165.0],[165.0],[165.0],[165.0],[100.0],[0.0],[0.0],[0.0],[165.0],[165.0],[230.0],[720.0],[1650.0],[825.0],[130.0],[165.0],[990.0],[495.0],[825.0],[825.0],[825.0],[660.0],[440.0],[460.0],[300.0],[165.0],[165.0],[165.0],[165.0],[165.0],[165.0],[65.0],[495.0],[660.0],[660.0],[330.0],[460.0],[330.0],[200.0],[65.0],[65.0],[150.0],[65.0],[60.0],[60.0],[65.0],[330.0],[330.0],[330.0],[330.0],[110.0],[110.0],[50.0],[130.0],[65.0],[65.0],[0.0],[165.0],[165.0],[165.0],[230.0],[330.0],[130.0],[130.0],[130.0],[130.0],[330.0],[330.0],[690.0],[550.0],[360.0],[330.0],[330.0],[330.0],[825.0],[825.0],[825.0],[330.0],[825.0],[660.0],[200.0],[165.0],[165.0],[165.0],[165.0],[165.0],[230.0],[330.0],[330.0],[330.0],[100.0],[130.0],[165.0],[165.0],[165.0],[165.0],[165.0],[165.0],[165.0],[165.0],[165.0],[325.0],[65.0],[65.0],[165.0],[330.0],[825.0],[165.0],[230.0],[220.0],[50.0],[390.0],[165.0],[495.0],[330.0],[330.0],[165.0],[165.0],[495.0],[495.0],[325.0],[825.0],[825.0],[825.0],[825.0],[240.0],[165.0],[300.0],[165.0],[70.0],[0.0],[110.0],[120.0],[165.0],[165.0],[330.0],[195.0],[165.0],[165.0],[0.0],[660.0],[330.0],[920.0],[0.0],[180.0],[330.0],[330.0],[210.0],[360.0],[825.0],[825.0],[825.0],[825.0],[825.0],[325.0],[350.0],[660.0],[660.0],[990.0],[120.0],[120.0],[120.0],[130.0],[825.0],[825.0],[170.0],[330.0],[330.0],[330.0],[330.0],[250.0],[330.0],[330.0],[165.0],[165.0],[165.0],[165.0],[165.0],[165.0],[50.0],[165.0],[165.0],[165.0],[165.0],[165.0],[120.0],[150.0],[60.0],[495.0],[660.0],[660.0],[330.0],[230.0],[220.0],[100.0],[390.0],[130.0],[165.0],[120.0],[165.0],[165.0],[120.0],[165.0],[495.0],[165.0],[165.0],[120.0],[60.0],[0.0],[120.0],[60.0],[165.0],[165.0],[240.0],[165.0],[165.0],[165.0],[165.0],[495.0],[330.0],[330.0],[165.0],[165.0],[165.0],[240.0],[165.0],[0.0],[0.0],[0.0],[0.0],[0.0],[165.0],[165.0],[165.0],[120.0],[165.0],[120.0],[0.0],[60.0],[0.0],[240.0],[120.0],[165.0],[165.0],[0.0],[0.0],[165.0],[130.0],[0.0],[330.0],[0.0],[165.0],[0.0],[165.0],[165.0],[180.0],[165.0],[0.0],[165.0],[165.0],[165.0],[0.0],[165.0],[240.0],[180.0],[330.0],[330.0],[220.0],[360.0],[480.0],[330.0],[165.0],[165.0],[660.0],[165.0],[330.0],[0.0],[495.0],[495.0],[0.0],[660.0],[0.0],[330.0],[165.0],[165.0],[165.0],[165.0],[165.0],[495.0],[660.0],[330.0],[330.0],[330.0],[330.0],[330.0],[330.0],[240.0],[120.0],[165.0],[165.0],[330.0],[825.0],[825.0],[825.0],[495.0],[330.0],[0.0],[165.0],[165.0],[165.0],[165.0],[165.0],[65.0],[65.0],[0.0],[0.0],[0.0],[165.0],[330.0],[165.0],[120.0],[60.0],[60.0],[200.0],[920.0],[260.0],[330.0],[165.0],[330.0],[120.0],[165.0],[165.0],[165.0],[65.0],[330.0],[330.0],[825.0],[460.0],[165.0],[2475.0],[825.0],[825.0],[660.0],[825.0],[825.0],[495.0],[495.0],[495.0],[330.0],[165.0],[165.0],[165.0],[165.0],[165.0],[165.0],[330.0],[330.0],[330.0],[330.0],[330.0],[330.0],[330.0],[330.0],[165.0],[330.0],[330.0],[110.0],[110.0],[120.0],[50.0],[260.0],[65.0],[65.0],[60.0],[60.0],[60.0],[165.0]],\"hovertemplate\":\"<b>%{hovertext}</b><br><br>clusters_BDSCAN=0<br>LATITUDE=%{lat}<br>LONGITUDE=%{lon}<br>VALUE_SOLD=%{customdata[0]}<extra></extra>\",\"hovertext\":[\"TASSIA\",\"TASSIA\",\"TASSIA\",\"TASSIA\",\"TASSIA\",\"TASSIA\",\"TASSIA\",\"TASSIA\",\"TASSIA\",\"TASSIA\",\"TASSIA\",\"TASSIA\",\"TASSIA\",\"TASSIA\",\"TASSIA\",\"TASSIA\",\"TASSIA\",\"TASSIA\",\"TASSIA\",\"TASSIA\",\"TASSIA\",\"TASSIA\",\"TASSIA\",\"TASSIA\",\"TASSIA\",\"TASSIA\",\"TASSIA\",\"TASSIA\",\"TASSIA\",\"TASSIA\",\"TASSIA\",\"TASSIA\",\"TASSIA\",\"TASSIA\",\"TASSIA\",\"TASSIA\",\"TASSIA\",\"TASSIA\",\"TASSIA\",\"TASSIA\",\"TASSIA\",\"TASSIA\",\"TASSIA\",\"TASSIA\",\"TASSIA\",\"TASSIA\",\"TASSIA\",\"TASSIA\",\"TASSIA\",\"TASSIA\",\"TASSIA\",\"TASSIA\",\"TASSIA\",\"TASSIA\",\"TASSIA\",\"TASSIA\",\"TASSIA\",\"TASSIA\",\"TASSIA\",\"TASSIA\",\"TASSIA\",\"TASSIA\",\"TASSIA\",\"TASSIA\",\"TASSIA\",\"TASSIA\",\"TASSIA\",\"TASSIA\",\"TASSIA\",\"TASSIA\",\"TASSIA\",\"TASSIA\",\"TASSIA\",\"TASSIA\",\"TASSIA\",\"TASSIA\",\"TASSIA\",\"TASSIA\",\"TASSIA\",\"TASSIA\",\"TASSIA\",\"TASSIA\",\"TASSIA\",\"TASSIA\",\"TASSIA\",\"TASSIA\",\"TASSIA\",\"TASSIA\",\"TASSIA\",\"TASSIA\",\"TASSIA\",\"TASSIA\",\"TASSIA\",\"TASSIA\",\"TASSIA\",\"TASSIA\",\"TASSIA\",\"TASSIA\",\"TASSIA\",\"TASSIA\",\"TASSIA\",\"TASSIA\",\"TASSIA\",\"TASSIA\",\"TASSIA\",\"TASSIA\",\"TASSIA\",\"TASSIA\",\"TASSIA\",\"TASSIA\",\"TASSIA\",\"TASSIA\",\"TASSIA\",\"TASSIA\",\"TASSIA\",\"TASSIA\",\"TASSIA\",\"TASSIA\",\"TASSIA\",\"TASSIA\",\"TASSIA\",\"TASSIA\",\"TASSIA\",\"TASSIA\",\"TASSIA\",\"TASSIA\",\"TASSIA\",\"TASSIA\",\"TASSIA\",\"TASSIA\",\"TASSIA\",\"TASSIA\",\"TASSIA\",\"TASSIA\",\"TASSIA\",\"TASSIA\",\"TASSIA\",\"TASSIA\",\"TASSIA\",\"TASSIA\",\"TASSIA\",\"TASSIA\",\"TASSIA\",\"TASSIA\",\"TASSIA\",\"TASSIA\",\"TASSIA\",\"TASSIA\",\"TASSIA\",\"TASSIA\",\"TASSIA\",\"TASSIA\",\"TASSIA\",\"TASSIA\",\"TASSIA\",\"TASSIA\",\"TASSIA\",\"TASSIA\",\"TASSIA\",\"TASSIA\",\"TASSIA\",\"TASSIA\",\"TASSIA\",\"TASSIA\",\"TASSIA\",\"TASSIA\",\"TASSIA\",\"TASSIA\",\"TASSIA\",\"TASSIA\",\"TASSIA\",\"TASSIA\",\"TASSIA\",\"TASSIA\",\"TASSIA\",\"TASSIA\",\"TASSIA\",\"TASSIA\",\"TASSIA\",\"TASSIA\",\"TASSIA\",\"TASSIA\",\"TASSIA\",\"TASSIA\",\"TASSIA\",\"TASSIA\",\"TASSIA\",\"TASSIA\",\"TASSIA\",\"TASSIA\",\"TASSIA\",\"TASSIA\",\"TASSIA\",\"TASSIA\",\"TASSIA\",\"TASSIA\",\"TASSIA\",\"TASSIA\",\"TASSIA\",\"TASSIA\",\"TASSIA\",\"TASSIA\",\"TASSIA\",\"TASSIA\",\"TASSIA\",\"TASSIA\",\"TASSIA\",\"TASSIA\",\"TASSIA\",\"TASSIA\",\"TASSIA\",\"TASSIA\",\"TASSIA\",\"TASSIA\",\"TASSIA\",\"TASSIA\",\"TASSIA\",\"TASSIA\",\"TASSIA\",\"TASSIA\",\"TASSIA\",\"TASSIA\",\"TASSIA\",\"TASSIA\",\"TASSIA\",\"TASSIA\",\"TASSIA\",\"TASSIA\",\"TASSIA\",\"TASSIA\",\"TASSIA\",\"TASSIA\",\"TASSIA\",\"TASSIA\",\"TASSIA\",\"TASSIA\",\"TASSIA\",\"TASSIA\",\"TASSIA\",\"TASSIA\",\"TASSIA\",\"TASSIA\",\"TASSIA\",\"TASSIA\",\"TASSIA\",\"TASSIA\",\"TASSIA\",\"TASSIA\",\"TASSIA\",\"TASSIA\",\"TASSIA\",\"TASSIA\",\"TASSIA\",\"TASSIA\",\"TASSIA\",\"TASSIA\",\"TASSIA\",\"TASSIA\",\"TASSIA\",\"TASSIA\",\"TASSIA\",\"TASSIA\",\"TASSIA\",\"TASSIA\",\"TASSIA\",\"TASSIA\",\"TASSIA\",\"TASSIA\",\"TASSIA\",\"TASSIA\",\"TASSIA\",\"TASSIA\",\"TASSIA\",\"TASSIA\",\"TASSIA\",\"TASSIA\",\"TASSIA\",\"TASSIA\",\"TASSIA\",\"TASSIA\",\"TASSIA\",\"TASSIA\",\"TASSIA\",\"TASSIA\",\"TASSIA\",\"TASSIA\",\"TASSIA\",\"TASSIA\",\"TASSIA\",\"TASSIA\",\"TASSIA\",\"TASSIA\",\"TASSIA\",\"TASSIA\",\"TASSIA\",\"TASSIA\",\"TASSIA\",\"TASSIA\",\"TASSIA\",\"TASSIA\",\"TASSIA\",\"TASSIA\",\"TASSIA\",\"TASSIA\",\"TASSIA\",\"TASSIA\",\"TASSIA\",\"TASSIA\",\"TASSIA\",\"TASSIA\",\"TASSIA\",\"TASSIA\",\"TASSIA\",\"TASSIA\",\"TASSIA\",\"TASSIA\",\"TASSIA\",\"TASSIA\",\"TASSIA\",\"TASSIA\",\"TASSIA\",\"TASSIA\",\"TASSIA\",\"TASSIA\",\"TASSIA\",\"TASSIA\",\"TASSIA\",\"TASSIA\",\"TASSIA\",\"TASSIA\",\"TASSIA\",\"TASSIA\",\"TASSIA\",\"TASSIA\",\"TASSIA\",\"TASSIA\",\"TASSIA\",\"TASSIA\",\"TASSIA\",\"TASSIA\",\"TASSIA\",\"TASSIA\",\"TASSIA\",\"TASSIA\",\"TASSIA\",\"TASSIA\",\"TASSIA\",\"TASSIA\",\"TASSIA\",\"TASSIA\",\"TASSIA\",\"TASSIA\",\"TASSIA\",\"TASSIA\",\"TASSIA\",\"TASSIA\",\"TASSIA\",\"TASSIA\",\"TASSIA\",\"TASSIA\",\"TASSIA\",\"TASSIA\",\"TASSIA\",\"TASSIA\",\"TASSIA\",\"TASSIA\",\"TASSIA\",\"TASSIA\",\"TASSIA\",\"TASSIA\",\"TASSIA\",\"TASSIA\",\"TASSIA\",\"TASSIA\",\"TASSIA\",\"TASSIA\",\"TASSIA\",\"TASSIA\",\"TASSIA\",\"TASSIA\",\"TASSIA\",\"TASSIA\",\"TASSIA\",\"TASSIA\",\"TASSIA\",\"TASSIA\",\"TASSIA\",\"TASSIA\",\"TASSIA\",\"TASSIA\",\"TASSIA\",\"TASSIA\",\"TASSIA\",\"TASSIA\",\"TASSIA\",\"TASSIA\",\"TASSIA\",\"TASSIA\",\"TASSIA\",\"TASSIA\",\"TASSIA\",\"TASSIA\",\"TASSIA\",\"TASSIA\",\"TASSIA\",\"TASSIA\",\"TASSIA\",\"TASSIA\",\"TASSIA\",\"TASSIA\",\"TASSIA\",\"TASSIA\",\"TASSIA\",\"TASSIA\",\"TASSIA\",\"TASSIA\",\"TASSIA\",\"TASSIA\",\"TASSIA\",\"TASSIA\",\"TASSIA\",\"TASSIA\",\"TASSIA\",\"TASSIA\",\"TASSIA\",\"TASSIA\",\"TASSIA\",\"TASSIA\",\"TASSIA\",\"TASSIA\",\"TASSIA\",\"TASSIA\",\"TASSIA\",\"TASSIA\",\"TASSIA\",\"TASSIA\",\"TASSIA\",\"TASSIA\",\"TASSIA\",\"TASSIA\",\"TASSIA\",\"TASSIA\",\"TASSIA\",\"TASSIA\",\"TASSIA\",\"TASSIA\",\"TASSIA\",\"TASSIA\",\"TASSIA\",\"TASSIA\",\"TASSIA\",\"TASSIA\",\"TASSIA\",\"TASSIA\",\"TASSIA\",\"TASSIA\",\"TASSIA\",\"TASSIA\",\"TASSIA\",\"TASSIA\",\"TASSIA\",\"TASSIA\",\"TASSIA\",\"TASSIA\",\"TASSIA\",\"TASSIA\",\"TASSIA\",\"TASSIA\",\"TASSIA\",\"TASSIA\",\"TASSIA\",\"TASSIA\",\"TASSIA\",\"TASSIA\",\"TASSIA\",\"TASSIA\",\"TASSIA\",\"TASSIA\",\"TASSIA\",\"TASSIA\",\"TASSIA\",\"TASSIA\",\"TASSIA\",\"TASSIA\",\"TASSIA\",\"TASSIA\",\"TASSIA\",\"TASSIA\",\"TASSIA\",\"TASSIA\",\"TASSIA\",\"TASSIA\",\"TASSIA\",\"TASSIA\",\"TASSIA\",\"TASSIA\",\"TASSIA\",\"TASSIA\",\"TASSIA\",\"TASSIA\",\"TASSIA\",\"TASSIA\",\"TASSIA\",\"TASSIA\",\"TASSIA\",\"TASSIA\",\"TASSIA\",\"TASSIA\",\"TASSIA\",\"TASSIA\",\"TASSIA\",\"TASSIA\",\"TASSIA\",\"TASSIA\",\"TASSIA\",\"TASSIA\",\"TASSIA\",\"TASSIA\",\"TASSIA\",\"TASSIA\",\"TASSIA\",\"TASSIA\",\"TASSIA\",\"TASSIA\",\"TASSIA\",\"TASSIA\",\"TASSIA\",\"TASSIA\",\"TASSIA\",\"TASSIA\",\"TASSIA\",\"TASSIA\",\"TASSIA\",\"TASSIA\",\"TASSIA\",\"TASSIA\",\"TASSIA\",\"TASSIA\",\"TASSIA\",\"TASSIA\",\"TASSIA\",\"TASSIA\",\"TASSIA\",\"TASSIA\",\"TASSIA\",\"TASSIA\",\"TASSIA\",\"TASSIA\",\"TASSIA\",\"TASSIA\",\"TASSIA\",\"TASSIA\",\"TASSIA\",\"TASSIA\",\"TASSIA\",\"TASSIA\",\"TASSIA\",\"TASSIA\",\"TASSIA\",\"TASSIA\",\"TASSIA\",\"TASSIA\",\"TASSIA\",\"TASSIA\",\"TASSIA\",\"TASSIA\",\"TASSIA\",\"TASSIA\",\"TASSIA\",\"TASSIA\",\"TASSIA\",\"TASSIA\",\"TASSIA\",\"TASSIA\",\"TASSIA\",\"TASSIA\",\"TASSIA\",\"TASSIA\",\"TASSIA\",\"TASSIA\",\"TASSIA\",\"TASSIA\",\"TASSIA\",\"TASSIA\",\"TASSIA\",\"TASSIA\",\"TASSIA\",\"TASSIA\",\"TASSIA\",\"TASSIA\",\"TASSIA\",\"TASSIA\",\"TASSIA\",\"TASSIA\",\"TASSIA\",\"TASSIA\",\"TASSIA\",\"TASSIA\",\"TASSIA\",\"TASSIA\",\"TASSIA\",\"TASSIA\",\"TASSIA\",\"TASSIA\",\"TASSIA\",\"TASSIA\",\"TASSIA\",\"TASSIA\",\"TASSIA\",\"TASSIA\",\"TASSIA\",\"TASSIA\",\"TASSIA\",\"TASSIA\",\"TASSIA\",\"TASSIA\",\"TASSIA\",\"TASSIA\",\"TASSIA\",\"TASSIA\",\"TASSIA\",\"TASSIA\",\"TASSIA\",\"TASSIA\",\"TASSIA\",\"TASSIA\",\"TASSIA\",\"TASSIA\",\"TASSIA\",\"TASSIA\",\"TASSIA\",\"TASSIA\",\"TASSIA\",\"TASSIA\",\"TASSIA\",\"TASSIA\",\"TASSIA\",\"TASSIA\",\"TASSIA\",\"TASSIA\",\"TASSIA\",\"TASSIA\",\"TASSIA\",\"TASSIA\",\"TASSIA\",\"TASSIA\",\"TASSIA\",\"TASSIA\",\"TASSIA\",\"TASSIA\",\"TASSIA\",\"TASSIA\",\"TASSIA\",\"TASSIA\",\"TASSIA\",\"TASSIA\",\"TASSIA\",\"TASSIA\",\"TASSIA\",\"TASSIA\",\"TASSIA\",\"TASSIA\",\"TASSIA\",\"TASSIA\",\"TASSIA\",\"TASSIA\",\"TASSIA\",\"TASSIA\",\"TASSIA\",\"TASSIA\",\"TASSIA\",\"TASSIA\",\"TASSIA\",\"TASSIA\",\"TASSIA\",\"TASSIA\",\"TASSIA\",\"TASSIA\",\"TASSIA\",\"TASSIA\",\"TASSIA\",\"TASSIA\",\"TASSIA\",\"TASSIA\",\"TASSIA\",\"TASSIA\",\"TASSIA\",\"TASSIA\",\"TASSIA\",\"TASSIA\",\"TASSIA\",\"TASSIA\",\"TASSIA\",\"TASSIA\",\"TASSIA\",\"TASSIA\",\"TASSIA\",\"TASSIA\",\"TASSIA\",\"TASSIA\",\"TASSIA\",\"TASSIA\",\"TASSIA\",\"TASSIA\",\"TASSIA\",\"TASSIA\",\"TASSIA\",\"TASSIA\",\"TASSIA\",\"TASSIA\",\"TASSIA\",\"TASSIA\",\"TASSIA\",\"TASSIA\",\"TASSIA\",\"TASSIA\",\"TASSIA\",\"TASSIA\",\"TASSIA\",\"TASSIA\",\"TASSIA\",\"TASSIA\",\"TASSIA\",\"TASSIA\",\"TASSIA\",\"TASSIA\",\"TASSIA\",\"TASSIA\",\"TASSIA\",\"TASSIA\",\"TASSIA\",\"TASSIA\",\"TASSIA\",\"TASSIA\",\"TASSIA\",\"TASSIA\",\"TASSIA\",\"TASSIA\",\"TASSIA\",\"TASSIA\",\"TASSIA\",\"TASSIA\",\"TASSIA\",\"TASSIA\",\"TASSIA\",\"TASSIA\",\"TASSIA\",\"TASSIA\",\"TASSIA\",\"TASSIA\",\"TASSIA\",\"TASSIA\",\"TASSIA\",\"TASSIA\",\"TASSIA\",\"TASSIA\",\"TASSIA\",\"TASSIA\",\"TASSIA\",\"TASSIA\",\"TASSIA\",\"TASSIA\",\"TASSIA\"],\"lat\":[-1.3075114,-1.3075114,-1.3075114,-1.3075114,-1.3075114,-1.3075114,-1.3075114,-1.3075114,-1.3075114,-1.3075114,-1.3075114,-1.3075114,-1.3075114,-1.3075114,-1.3075114,-1.3075114,-1.3075114,-1.3075114,-1.3075114,-1.3075114,-1.3075114,-1.3075114,-1.3075114,-1.3075114,-1.3075114,-1.3075114,-1.3075114,-1.3075114,-1.3075114,-1.3075114,-1.3075114,-1.3075114,-1.3075114,-1.3075114,-1.3075114,-1.3075114,-1.3075114,-1.3075114,-1.3075114,-1.3075114,-1.3075114,-1.3075114,-1.3075114,-1.3075114,-1.3075114,-1.3075114,-1.3075114,-1.3075114,-1.3075114,-1.3075114,-1.3075114,-1.3075114,-1.3075114,-1.3075114,-1.3075114,-1.3075114,-1.3075114,-1.3075114,-1.3075114,-1.3075114,-1.3075114,-1.3075114,-1.3075114,-1.3075114,-1.3075114,-1.3075114,-1.3075114,-1.3075114,-1.3075114,-1.3075114,-1.3075114,-1.3075114,-1.3075114,-1.3075114,-1.3075114,-1.3041164,-1.3041164,-1.3041164,-1.3041164,-1.3041164,-1.3041164,-1.3041164,-1.3041164,-1.3041164,-1.3041164,-1.3041164,-1.3041164,-1.3041164,-1.3041164,-1.3041164,-1.3041164,-1.3041164,-1.3041164,-1.3041164,-1.3041164,-1.3041164,-1.3041164,-1.3041164,-1.3041164,-1.3041164,-1.3041164,-1.3041164,-1.3041164,-1.3041164,-1.3041164,-1.3041164,-1.3041164,-1.3041164,-1.3041164,-1.3041164,-1.3041164,-1.3041164,-1.3041164,-1.3041164,-1.3041164,-1.3041164,-1.3041164,-1.3041164,-1.3041164,-1.3041164,-1.3041164,-1.3041164,-1.3041164,-1.3041164,-1.3041164,-1.3041164,-1.3041164,-1.3041164,-1.3041164,-1.3041164,-1.3041164,-1.3041164,-1.3041164,-1.3041164,-1.3041164,-1.3041164,-1.3041164,-1.3041164,-1.3041164,-1.3041164,-1.3041164,-1.3041164,-1.3041164,-1.3041164,-1.3041164,-1.3041164,-1.3041164,-1.3041164,-1.3041164,-1.3041535,-1.3041535,-1.3041535,-1.3041535,-1.3041535,-1.3041535,-1.3041535,-1.3041535,-1.3041535,-1.3041535,-1.3041535,-1.3041535,-1.3041535,-1.3041535,-1.3041535,-1.3041535,-1.3041535,-1.3041535,-1.3041535,-1.3041535,-1.3041535,-1.3041535,-1.3041535,-1.3041535,-1.3041535,-1.3041535,-1.3041535,-1.3041535,-1.3041535,-1.3041535,-1.3041535,-1.3041535,-1.3041535,-1.3041535,-1.3041535,-1.3041535,-1.3041535,-1.3041535,-1.3041535,-1.3041535,-1.3041535,-1.3041535,-1.3041535,-1.3041535,-1.3041535,-1.3041535,-1.3041535,-1.3041535,-1.3041535,-1.3041535,-1.3041535,-1.3041535,-1.3041535,-1.3041535,-1.3041535,-1.3041535,-1.3041535,-1.3041535,-1.3041535,-1.3041535,-1.3041535,-1.3041535,-1.3041535,-1.3040744,-1.3040744,-1.3040744,-1.3040744,-1.3040744,-1.3040744,-1.3040744,-1.3040744,-1.3040744,-1.3040744,-1.3040744,-1.3040744,-1.3040744,-1.3040744,-1.3040744,-1.3040744,-1.3040744,-1.3040744,-1.3040744,-1.3040744,-1.3040744,-1.3040744,-1.3040744,-1.3040744,-1.3040744,-1.3040744,-1.3040744,-1.3040744,-1.3040744,-1.3040744,-1.3040744,-1.3040744,-1.3040744,-1.3040744,-1.3040744,-1.3040744,-1.3040744,-1.3040744,-1.3040744,-1.3040744,-1.3040744,-1.3040744,-1.3040744,-1.3040744,-1.3040744,-1.3040744,-1.3040744,-1.3040744,-1.3040744,-1.3040744,-1.3040744,-1.3040744,-1.3040744,-1.3040744,-1.3040744,-1.3079078,-1.3079078,-1.3079078,-1.3079078,-1.3079078,-1.3079078,-1.3079078,-1.3079078,-1.3079078,-1.3079078,-1.3079078,-1.3079078,-1.3079078,-1.3079078,-1.3079078,-1.3079078,-1.3079078,-1.3079078,-1.3079078,-1.3079078,-1.3079078,-1.3079078,-1.3079078,-1.3079078,-1.3079078,-1.3079078,-1.3079078,-1.3079078,-1.3079078,-1.3079078,-1.3079078,-1.3079078,-1.3079078,-1.3079078,-1.3079078,-1.3079078,-1.3079078,-1.3079078,-1.3079078,-1.3079078,-1.3079078,-1.3079078,-1.3079078,-1.3079078,-1.3079078,-1.3079078,-1.3122936,-1.3122936,-1.3122936,-1.3122936,-1.3122936,-1.3122936,-1.3122936,-1.3122936,-1.3122936,-1.3122936,-1.3122936,-1.3122936,-1.3122936,-1.3122936,-1.3122936,-1.3122936,-1.3122936,-1.3122936,-1.3122936,-1.3122936,-1.3122936,-1.3122936,-1.3122936,-1.3122936,-1.3122936,-1.3122936,-1.3122936,-1.3122936,-1.3122936,-1.3122936,-1.3122936,-1.3122936,-1.2904239,-1.2904239,-1.2904239,-1.2904239,-1.2904239,-1.2904239,-1.2919441,-1.2919441,-1.2917267,-1.2917267,-1.3106316,-1.3106316,-1.3106316,-1.3106316,-1.3106316,-1.3106316,-1.3106316,-1.3106316,-1.3106316,-1.3106316,-1.3106316,-1.3106316,-1.3106316,-1.3106316,-1.3106316,-1.3106316,-1.3106316,-1.3106316,-1.3106316,-1.3106316,-1.3106316,-1.3106316,-1.3106316,-1.3106316,-1.3106316,-1.3106316,-1.3106316,-1.3106316,-1.3106316,-1.3106316,-1.3106316,-1.3106316,-1.3106316,-1.3106316,-1.3106316,-1.3106316,-1.301024,-1.301024,-1.301024,-1.301024,-1.301024,-1.301024,-1.301024,-1.301024,-1.301024,-1.301024,-1.301024,-1.301024,-1.301024,-1.301024,-1.301024,-1.301024,-1.301024,-1.301024,-1.301024,-1.301024,-1.301024,-1.301024,-1.301024,-1.301024,-1.301024,-1.301024,-1.301024,-1.301024,-1.301024,-1.301024,-1.301024,-1.301024,-1.301024,-1.301024,-1.301024,-1.301024,-1.301024,-1.301024,-1.301024,-1.301024,-1.301024,-1.301024,-1.301024,-1.301024,-1.301024,-1.301024,-1.301024,-1.301024,-1.301024,-1.301024,-1.301024,-1.2930931,-1.2930931,-1.2930931,-1.2930931,-1.2930931,-1.2930931,-1.2930931,-1.2930931,-1.2930931,-1.2930931,-1.2930931,-1.2930931,-1.2930931,-1.2930931,-1.2930931,-1.2930931,-1.2930931,-1.2930931,-1.2930931,-1.2930931,-1.2930931,-1.2930931,-1.2930931,-1.2930931,-1.2930931,-1.2930931,-1.2930931,-1.2930931,-1.2930931,-1.2930931,-1.2930931,-1.2930931,-1.2930931,-1.2930931,-1.2930931,-1.2930931,-1.2930931,-1.2930931,-1.2930931,-1.2930931,-1.2930931,-1.2930931,-1.2930931,-1.2930931,-1.2930931,-1.2930931,-1.2930931,-1.2930931,-1.2930931,-1.2930931,-1.2930931,-1.2930931,-1.2930931,-1.2930931,-1.2930931,-1.2930931,-1.2941417,-1.2941417,-1.2941417,-1.2941417,-1.2941417,-1.2941417,-1.2941417,-1.2941417,-1.2941417,-1.2941417,-1.2941417,-1.2941417,-1.2941417,-1.283815,-1.283815,-1.283815,-1.283815,-1.283815,-1.2796836,-1.2796836,-1.2796836,-1.2796836,-1.2796836,-1.2898599,-1.2898599,-1.2898599,-1.2898599,-1.2898599,-1.2898599,-1.2898599,-1.2898599,-1.30403,-1.30403,-1.30403,-1.30403,-1.30403,-1.30403,-1.30403,-1.30403,-1.30403,-1.30403,-1.30403,-1.30403,-1.30403,-1.30403,-1.30403,-1.30403,-1.30403,-1.30403,-1.30403,-1.30403,-1.30403,-1.30403,-1.30403,-1.30403,-1.30403,-1.30403,-1.30403,-1.30403,-1.30403,-1.30403,-1.30403,-1.30403,-1.30403,-1.30403,-1.30403,-1.30403,-1.30403,-1.30403,-1.30403,-1.30403,-1.30403,-1.30403,-1.30403,-1.30403,-1.30403,-1.30403,-1.30403,-1.30403,-1.30403,-1.30403,-1.30403,-1.30403,-1.30403,-1.30403,-1.2899983,-1.2899983,-1.2899983,-1.2899983,-1.2899983,-1.2899983,-1.2899983,-1.2899983,-1.2899983,-1.2899983,-1.2899983,-1.3158967,-1.3158967,-1.3158967,-1.3158967,-1.3158967,-1.3158967,-1.3158967,-1.3158967,-1.3158967,-1.3158967,-1.289062,-1.289062,-1.289062,-1.289062,-1.289062,-1.289062,-1.3216606,-1.3216606,-1.2899846,-1.2924678,-1.2924678,-1.2931714,-1.2936816,-1.2892833,-1.2892833,-1.2892833,-1.2913475,-1.2913475,-1.2859426,-1.2938235,-1.2846541,-1.2986824,-1.2986824,-1.2986824,-1.2986824,-1.2986824,-1.2898049,-1.2897976,-1.2986983,-1.2986983,-1.2986983,-1.2987573,-1.2987573,-1.298622,-1.298622,-1.2953783,-1.2953783,-1.2953783,-1.2973074,-1.2973074,-1.2940433,-1.2940433,-1.2940433,-1.2940433,-1.2909905,-1.2899783,-1.2899783,-1.2899783,-1.2899783,-1.2899783,-1.2899783,-1.2899783,-1.2899783,-1.2899783,-1.2899783,-1.2899783,-1.2899783,-1.2899783,-1.2802831,-1.2802831,-1.2802831,-1.2802917,-1.2802917,-1.3021788,-1.3021788,-1.3021788,-1.3021788,-1.3021788,-1.3021788,-1.3021788,-1.3021788,-1.3021788,-1.3021788,-1.3021788,-1.3021788,-1.3021788,-1.3021788,-1.3021788,-1.3022094,-1.3022094,-1.3022094,-1.3022094,-1.3022094,-1.3022094,-1.3022094,-1.3022094,-1.3022094,-1.3022094,-1.2899051,-1.2899051,-1.2899051,-1.2899051,-1.2899051,-1.2899051,-1.2899051,-1.2899051,-1.2913785,-1.2892977,-1.2838267,-1.2838267,-1.2838267,-1.321775,-1.321775,-1.321775,-1.321775,-1.321775,-1.321775,-1.321775,-1.321775,-1.2897667,-1.2897667,-1.2897667,-1.2897667,-1.2897667,-1.2897667,-1.2897667,-1.2897667,-1.2897667,-1.2897667,-1.2897667,-1.2897667,-1.2897667,-1.2897667,-1.2897667,-1.2897667,-1.2897667,-1.2897667,-1.2897667,-1.2897667,-1.2897667,-1.2897667,-1.2897667,-1.2897667,-1.2897667,-1.2897667,-1.2897667,-1.2897667,-1.2897667,-1.2897667,-1.2897667,-1.2897667,-1.2897667,-1.2897667,-1.2897667,-1.2897667,-1.2897667,-1.2897667,-1.2897667,-1.2897667,-1.2897667,-1.2897667,-1.2897667,-1.2897667,-1.2897667,-1.2897667,-1.2897667,-1.2897667,-1.2897667,-1.2893036],\"legendgroup\":\"0\",\"lon\":[36.899044,36.899044,36.899044,36.899044,36.899044,36.899044,36.899044,36.899044,36.899044,36.899044,36.899044,36.899044,36.899044,36.899044,36.899044,36.899044,36.899044,36.899044,36.899044,36.899044,36.899044,36.899044,36.899044,36.899044,36.899044,36.899044,36.899044,36.899044,36.899044,36.899044,36.899044,36.899044,36.899044,36.899044,36.899044,36.899044,36.899044,36.899044,36.899044,36.899044,36.899044,36.899044,36.899044,36.899044,36.899044,36.899044,36.899044,36.899044,36.899044,36.899044,36.899044,36.899044,36.899044,36.899044,36.899044,36.899044,36.899044,36.899044,36.899044,36.899044,36.899044,36.899044,36.899044,36.899044,36.899044,36.899044,36.899044,36.899044,36.899044,36.899044,36.899044,36.899044,36.899044,36.899044,36.899044,36.9001326,36.9001326,36.9001326,36.9001326,36.9001326,36.9001326,36.9001326,36.9001326,36.9001326,36.9001326,36.9001326,36.9001326,36.9001326,36.9001326,36.9001326,36.9001326,36.9001326,36.9001326,36.9001326,36.9001326,36.9001326,36.9001326,36.9001326,36.9001326,36.9001326,36.9001326,36.9001326,36.9001326,36.9001326,36.9001326,36.9001326,36.9001326,36.9001326,36.9001326,36.9001326,36.9001326,36.9001326,36.9001326,36.9001326,36.9001326,36.9001326,36.9001326,36.9001326,36.9001326,36.9001326,36.9001326,36.9001326,36.9001326,36.9001326,36.9001326,36.9001326,36.9001326,36.9001326,36.9001326,36.9001326,36.9001326,36.9001326,36.9001326,36.9001326,36.9001326,36.9001326,36.9001326,36.9001326,36.9001326,36.9001326,36.9001326,36.9001326,36.9001326,36.9001326,36.9001326,36.9001326,36.9001326,36.9001326,36.9001326,36.9001211,36.9001211,36.9001211,36.9001211,36.9001211,36.9001211,36.9001211,36.9001211,36.9001211,36.9001211,36.9001211,36.9001211,36.9001211,36.9001211,36.9001211,36.9001211,36.9001211,36.9001211,36.9001211,36.9001211,36.9001211,36.9001211,36.9001211,36.9001211,36.9001211,36.9001211,36.9001211,36.9001211,36.9001211,36.9001211,36.9001211,36.9001211,36.9001211,36.9001211,36.9001211,36.9001211,36.9001211,36.9001211,36.9001211,36.9001211,36.9001211,36.9001211,36.9001211,36.9001211,36.9001211,36.9001211,36.9001211,36.9001211,36.9001211,36.9001211,36.9001211,36.9001211,36.9001211,36.9001211,36.9001211,36.9001211,36.9001211,36.9001211,36.9001211,36.9001211,36.9001211,36.9001211,36.9001211,36.9002861,36.9002861,36.9002861,36.9002861,36.9002861,36.9002861,36.9002861,36.9002861,36.9002861,36.9002861,36.9002861,36.9002861,36.9002861,36.9002861,36.9002861,36.9002861,36.9002861,36.9002861,36.9002861,36.9002861,36.9002861,36.9002861,36.9002861,36.9002861,36.9002861,36.9002861,36.9002861,36.9002861,36.9002861,36.9002861,36.9002861,36.9002861,36.9002861,36.9002861,36.9002861,36.9002861,36.9002861,36.9002861,36.9002861,36.9002861,36.9002861,36.9002861,36.9002861,36.9002861,36.9002861,36.9002861,36.9002861,36.9002861,36.9002861,36.9002861,36.9002861,36.9002861,36.9002861,36.9002861,36.9002861,36.8960602,36.8960602,36.8960602,36.8960602,36.8960602,36.8960602,36.8960602,36.8960602,36.8960602,36.8960602,36.8960602,36.8960602,36.8960602,36.8960602,36.8960602,36.8960602,36.8960602,36.8960602,36.8960602,36.8960602,36.8960602,36.8960602,36.8960602,36.8960602,36.8960602,36.8960602,36.8960602,36.8960602,36.8960602,36.8960602,36.8960602,36.8960602,36.8960602,36.8960602,36.8960602,36.8960602,36.8960602,36.8960602,36.8960602,36.8960602,36.8960602,36.8960602,36.8960602,36.8960602,36.8960602,36.8960602,36.893125,36.893125,36.893125,36.893125,36.893125,36.893125,36.893125,36.893125,36.893125,36.893125,36.893125,36.893125,36.893125,36.893125,36.893125,36.893125,36.893125,36.893125,36.893125,36.893125,36.893125,36.893125,36.893125,36.893125,36.893125,36.893125,36.893125,36.893125,36.893125,36.893125,36.893125,36.893125,36.9053047,36.9053047,36.9053047,36.9053047,36.9053047,36.9053047,36.9051407,36.9051407,36.9050367,36.9050367,36.8924883,36.8924883,36.8924883,36.8924883,36.8924883,36.8924883,36.8924883,36.8924883,36.8924883,36.8924883,36.8924883,36.8924883,36.8924883,36.8924883,36.8924883,36.8924883,36.8924883,36.8924883,36.8924883,36.8924883,36.8924883,36.8924883,36.8924883,36.8924883,36.8924883,36.8924883,36.8924883,36.8924883,36.8924883,36.8924883,36.8924883,36.8924883,36.8924883,36.8924883,36.8924883,36.8924883,36.8888246,36.8888246,36.8888246,36.8888246,36.8888246,36.8888246,36.8888246,36.8888246,36.8888246,36.8888246,36.8888246,36.8888246,36.8888246,36.8888246,36.8888246,36.8888246,36.8888246,36.8888246,36.8888246,36.8888246,36.8888246,36.8888246,36.8888246,36.8888246,36.8888246,36.8888246,36.8888246,36.8888246,36.8888246,36.8888246,36.8888246,36.8888246,36.8888246,36.8888246,36.8888246,36.8888246,36.8888246,36.8888246,36.8888246,36.8888246,36.8888246,36.8888246,36.8888246,36.8888246,36.8888246,36.8888246,36.8888246,36.8888246,36.8888246,36.8888246,36.8888246,36.8933427,36.8933427,36.8933427,36.8933427,36.8933427,36.8933427,36.8933427,36.8933427,36.8933427,36.8933427,36.8933427,36.8933427,36.8933427,36.8933427,36.8933427,36.8933427,36.8933427,36.8933427,36.8933427,36.8933427,36.8933427,36.8933427,36.8933427,36.8933427,36.8933427,36.8933427,36.8933427,36.8933427,36.8933427,36.8933427,36.8933427,36.8933427,36.8933427,36.8933427,36.8933427,36.8933427,36.8933427,36.8933427,36.8933427,36.8933427,36.8933427,36.8933427,36.8933427,36.8933427,36.8933427,36.8933427,36.8933427,36.8933427,36.8933427,36.8933427,36.8933427,36.8933427,36.8933427,36.8933427,36.8933427,36.8933427,36.896025,36.896025,36.896025,36.896025,36.896025,36.896025,36.896025,36.896025,36.896025,36.896025,36.896025,36.896025,36.896025,36.8982483,36.8982483,36.8982483,36.8982483,36.8982483,36.8980392,36.8980392,36.8980392,36.8980392,36.8980392,36.8972251,36.8972251,36.8972251,36.8972251,36.8972251,36.8972251,36.8972251,36.8972251,36.8935533,36.8935533,36.8935533,36.8935533,36.8935533,36.8935533,36.8935533,36.8935533,36.8935533,36.8935533,36.8935533,36.8935533,36.8935533,36.8935533,36.8935533,36.8935533,36.8935533,36.8935533,36.8935533,36.8935533,36.8935533,36.8935533,36.8935533,36.8935533,36.8935533,36.8935533,36.8935533,36.8935533,36.8935533,36.8935533,36.8935533,36.8935533,36.8935533,36.8935533,36.8935533,36.8935533,36.8935533,36.8935533,36.8935533,36.8935533,36.8935533,36.8935533,36.8935533,36.8935533,36.8935533,36.8935533,36.8935533,36.8935533,36.8935533,36.8935533,36.8935533,36.8935533,36.8935533,36.8935533,36.8970233,36.8970233,36.8970233,36.8970233,36.8970233,36.8970233,36.8970233,36.8970233,36.8970233,36.8970233,36.8970233,36.901005,36.901005,36.901005,36.901005,36.901005,36.901005,36.901005,36.901005,36.901005,36.901005,36.8968414,36.8968414,36.8968414,36.8968414,36.8968414,36.8968414,36.8951475,36.8951475,36.8972562,36.9005739,36.9005739,36.9011766,36.9015936,36.8968217,36.8968217,36.8968217,36.9036462,36.9036462,36.9043936,36.9018598,36.90588,36.8897126,36.8897126,36.8897126,36.8897126,36.8897126,36.9027312,36.902708,36.8897617,36.8897617,36.8897617,36.8897394,36.8897394,36.8898152,36.8898152,36.889515,36.889515,36.889515,36.8878519,36.8878519,36.8878367,36.8878367,36.8878367,36.8878367,36.8868798,36.8862433,36.8862433,36.8862433,36.8862433,36.8862433,36.8862433,36.8862433,36.8862433,36.8862433,36.8862433,36.8862433,36.8862433,36.8862433,36.8899286,36.8899286,36.8899286,36.8898765,36.8898765,36.9055873,36.9055873,36.9055873,36.9055873,36.9055873,36.9055873,36.9055873,36.9055873,36.9055873,36.9055873,36.9055873,36.9055873,36.9055873,36.9055873,36.9055873,36.9056017,36.9056017,36.9056017,36.9056017,36.9056017,36.9056017,36.9056017,36.9056017,36.9056017,36.9056017,36.9049516,36.9049516,36.9049516,36.9049516,36.9049516,36.9049516,36.9049516,36.9049516,36.9051835,36.9044594,36.8982567,36.8982567,36.8982567,36.895245,36.895245,36.895245,36.895245,36.895245,36.895245,36.895245,36.895245,36.90336,36.90336,36.90336,36.90336,36.90336,36.90336,36.90336,36.90336,36.90336,36.90336,36.90336,36.90336,36.90336,36.90336,36.90336,36.90336,36.90336,36.90336,36.90336,36.90336,36.90336,36.90336,36.90336,36.90336,36.90336,36.90336,36.90336,36.90336,36.90336,36.90336,36.90336,36.90336,36.90336,36.90336,36.90336,36.90336,36.90336,36.90336,36.90336,36.90336,36.90336,36.90336,36.90336,36.90336,36.90336,36.90336,36.90336,36.90336,36.90336,36.9043614],\"marker\":{\"color\":\"#636efa\"},\"mode\":\"markers\",\"name\":\"0\",\"showlegend\":true,\"subplot\":\"mapbox\",\"type\":\"scattermapbox\"},{\"customdata\":[[495.0],[165.0],[165.0],[1440.0],[0.0],[165.0],[480.0],[165.0],[660.0],[165.0],[60.0],[330.0],[240.0],[825.0],[165.0],[165.0],[120.0],[60.0],[165.0],[165.0],[165.0],[330.0],[240.0],[140.0],[130.0],[0.0],[0.0],[0.0],[60.0],[60.0],[120.0],[0.0],[165.0],[140.0],[65.0],[0.0],[495.0],[120.0],[165.0],[130.0],[60.0],[60.0],[165.0],[110.0],[165.0],[495.0],[60.0],[165.0]],\"hovertemplate\":\"<b>%{hovertext}</b><br><br>clusters_BDSCAN=1<br>LATITUDE=%{lat}<br>LONGITUDE=%{lon}<br>VALUE_SOLD=%{customdata[0]}<extra></extra>\",\"hovertext\":[\"TASSIA\",\"TASSIA\",\"TASSIA\",\"TASSIA\",\"TASSIA\",\"TASSIA\",\"TASSIA\",\"TASSIA\",\"TASSIA\",\"TASSIA\",\"TASSIA\",\"TASSIA\",\"TASSIA\",\"TASSIA\",\"TASSIA\",\"TASSIA\",\"TASSIA\",\"TASSIA\",\"TASSIA\",\"TASSIA\",\"TASSIA\",\"TASSIA\",\"TASSIA\",\"TASSIA\",\"TASSIA\",\"TASSIA\",\"TASSIA\",\"TASSIA\",\"TASSIA\",\"TASSIA\",\"TASSIA\",\"TASSIA\",\"TASSIA\",\"TASSIA\",\"TASSIA\",\"TASSIA\",\"TASSIA\",\"TASSIA\",\"TASSIA\",\"TASSIA\",\"TASSIA\",\"TASSIA\",\"TASSIA\",\"TASSIA\",\"TASSIA\",\"TASSIA\",\"TASSIA\",\"TASSIA\"],\"lat\":[-1.2513781,-1.2513781,-1.2513781,-1.2556036,-1.2556036,-1.2556036,-1.25923,-1.25923,-1.25923,-1.25923,-1.25923,-1.25923,-1.25923,-1.25923,-1.25923,-1.25923,-1.2592583,-1.2592583,-1.2592583,-1.2592583,-1.2592583,-1.2592583,-1.2592583,-1.2592583,-1.2592583,-1.2546133,-1.2546133,-1.2546133,-1.2546133,-1.2546133,-1.2546133,-1.2546133,-1.2546133,-1.2546133,-1.2546133,-1.2538667,-1.2538667,-1.2538667,-1.2538667,-1.2538667,-1.2538667,-1.2538533,-1.2528417,-1.25212,-1.25212,-1.25212,-1.2526268,-1.2571011],\"legendgroup\":\"1\",\"lon\":[36.91629,36.91629,36.91629,36.9215234,36.9215234,36.9215234,36.909825,36.909825,36.909825,36.909825,36.909825,36.909825,36.909825,36.909825,36.909825,36.909825,36.909845,36.909845,36.909845,36.909845,36.909845,36.909845,36.909845,36.909845,36.909845,36.920786,36.920786,36.920786,36.920786,36.920786,36.920786,36.920786,36.920786,36.920786,36.920786,36.915735,36.915735,36.915735,36.915735,36.915735,36.915735,36.9156883,36.9152978,36.91506,36.91506,36.91506,36.9084626,36.9224599],\"marker\":{\"color\":\"#EF553B\"},\"mode\":\"markers\",\"name\":\"1\",\"showlegend\":true,\"subplot\":\"mapbox\",\"type\":\"scattermapbox\"}],                        {\"height\":500,\"legend\":{\"title\":{\"text\":\"clusters_BDSCAN\"},\"tracegroupgap\":0},\"mapbox\":{\"center\":{\"lat\":-1.2987546514179986,\"lon\":36.89812386115925},\"domain\":{\"x\":[0.0,1.0],\"y\":[0.0,1.0]},\"style\":\"stamen-toner\",\"zoom\":11},\"template\":{\"data\":{\"bar\":[{\"error_x\":{\"color\":\"#2a3f5f\"},\"error_y\":{\"color\":\"#2a3f5f\"},\"marker\":{\"line\":{\"color\":\"#E5ECF6\",\"width\":0.5},\"pattern\":{\"fillmode\":\"overlay\",\"size\":10,\"solidity\":0.2}},\"type\":\"bar\"}],\"barpolar\":[{\"marker\":{\"line\":{\"color\":\"#E5ECF6\",\"width\":0.5},\"pattern\":{\"fillmode\":\"overlay\",\"size\":10,\"solidity\":0.2}},\"type\":\"barpolar\"}],\"carpet\":[{\"aaxis\":{\"endlinecolor\":\"#2a3f5f\",\"gridcolor\":\"white\",\"linecolor\":\"white\",\"minorgridcolor\":\"white\",\"startlinecolor\":\"#2a3f5f\"},\"baxis\":{\"endlinecolor\":\"#2a3f5f\",\"gridcolor\":\"white\",\"linecolor\":\"white\",\"minorgridcolor\":\"white\",\"startlinecolor\":\"#2a3f5f\"},\"type\":\"carpet\"}],\"choropleth\":[{\"colorbar\":{\"outlinewidth\":0,\"ticks\":\"\"},\"type\":\"choropleth\"}],\"contour\":[{\"colorbar\":{\"outlinewidth\":0,\"ticks\":\"\"},\"colorscale\":[[0.0,\"#0d0887\"],[0.1111111111111111,\"#46039f\"],[0.2222222222222222,\"#7201a8\"],[0.3333333333333333,\"#9c179e\"],[0.4444444444444444,\"#bd3786\"],[0.5555555555555556,\"#d8576b\"],[0.6666666666666666,\"#ed7953\"],[0.7777777777777778,\"#fb9f3a\"],[0.8888888888888888,\"#fdca26\"],[1.0,\"#f0f921\"]],\"type\":\"contour\"}],\"contourcarpet\":[{\"colorbar\":{\"outlinewidth\":0,\"ticks\":\"\"},\"type\":\"contourcarpet\"}],\"heatmap\":[{\"colorbar\":{\"outlinewidth\":0,\"ticks\":\"\"},\"colorscale\":[[0.0,\"#0d0887\"],[0.1111111111111111,\"#46039f\"],[0.2222222222222222,\"#7201a8\"],[0.3333333333333333,\"#9c179e\"],[0.4444444444444444,\"#bd3786\"],[0.5555555555555556,\"#d8576b\"],[0.6666666666666666,\"#ed7953\"],[0.7777777777777778,\"#fb9f3a\"],[0.8888888888888888,\"#fdca26\"],[1.0,\"#f0f921\"]],\"type\":\"heatmap\"}],\"heatmapgl\":[{\"colorbar\":{\"outlinewidth\":0,\"ticks\":\"\"},\"colorscale\":[[0.0,\"#0d0887\"],[0.1111111111111111,\"#46039f\"],[0.2222222222222222,\"#7201a8\"],[0.3333333333333333,\"#9c179e\"],[0.4444444444444444,\"#bd3786\"],[0.5555555555555556,\"#d8576b\"],[0.6666666666666666,\"#ed7953\"],[0.7777777777777778,\"#fb9f3a\"],[0.8888888888888888,\"#fdca26\"],[1.0,\"#f0f921\"]],\"type\":\"heatmapgl\"}],\"histogram\":[{\"marker\":{\"pattern\":{\"fillmode\":\"overlay\",\"size\":10,\"solidity\":0.2}},\"type\":\"histogram\"}],\"histogram2d\":[{\"colorbar\":{\"outlinewidth\":0,\"ticks\":\"\"},\"colorscale\":[[0.0,\"#0d0887\"],[0.1111111111111111,\"#46039f\"],[0.2222222222222222,\"#7201a8\"],[0.3333333333333333,\"#9c179e\"],[0.4444444444444444,\"#bd3786\"],[0.5555555555555556,\"#d8576b\"],[0.6666666666666666,\"#ed7953\"],[0.7777777777777778,\"#fb9f3a\"],[0.8888888888888888,\"#fdca26\"],[1.0,\"#f0f921\"]],\"type\":\"histogram2d\"}],\"histogram2dcontour\":[{\"colorbar\":{\"outlinewidth\":0,\"ticks\":\"\"},\"colorscale\":[[0.0,\"#0d0887\"],[0.1111111111111111,\"#46039f\"],[0.2222222222222222,\"#7201a8\"],[0.3333333333333333,\"#9c179e\"],[0.4444444444444444,\"#bd3786\"],[0.5555555555555556,\"#d8576b\"],[0.6666666666666666,\"#ed7953\"],[0.7777777777777778,\"#fb9f3a\"],[0.8888888888888888,\"#fdca26\"],[1.0,\"#f0f921\"]],\"type\":\"histogram2dcontour\"}],\"mesh3d\":[{\"colorbar\":{\"outlinewidth\":0,\"ticks\":\"\"},\"type\":\"mesh3d\"}],\"parcoords\":[{\"line\":{\"colorbar\":{\"outlinewidth\":0,\"ticks\":\"\"}},\"type\":\"parcoords\"}],\"pie\":[{\"automargin\":true,\"type\":\"pie\"}],\"scatter\":[{\"marker\":{\"colorbar\":{\"outlinewidth\":0,\"ticks\":\"\"}},\"type\":\"scatter\"}],\"scatter3d\":[{\"line\":{\"colorbar\":{\"outlinewidth\":0,\"ticks\":\"\"}},\"marker\":{\"colorbar\":{\"outlinewidth\":0,\"ticks\":\"\"}},\"type\":\"scatter3d\"}],\"scattercarpet\":[{\"marker\":{\"colorbar\":{\"outlinewidth\":0,\"ticks\":\"\"}},\"type\":\"scattercarpet\"}],\"scattergeo\":[{\"marker\":{\"colorbar\":{\"outlinewidth\":0,\"ticks\":\"\"}},\"type\":\"scattergeo\"}],\"scattergl\":[{\"marker\":{\"colorbar\":{\"outlinewidth\":0,\"ticks\":\"\"}},\"type\":\"scattergl\"}],\"scattermapbox\":[{\"marker\":{\"colorbar\":{\"outlinewidth\":0,\"ticks\":\"\"}},\"type\":\"scattermapbox\"}],\"scatterpolar\":[{\"marker\":{\"colorbar\":{\"outlinewidth\":0,\"ticks\":\"\"}},\"type\":\"scatterpolar\"}],\"scatterpolargl\":[{\"marker\":{\"colorbar\":{\"outlinewidth\":0,\"ticks\":\"\"}},\"type\":\"scatterpolargl\"}],\"scatterternary\":[{\"marker\":{\"colorbar\":{\"outlinewidth\":0,\"ticks\":\"\"}},\"type\":\"scatterternary\"}],\"surface\":[{\"colorbar\":{\"outlinewidth\":0,\"ticks\":\"\"},\"colorscale\":[[0.0,\"#0d0887\"],[0.1111111111111111,\"#46039f\"],[0.2222222222222222,\"#7201a8\"],[0.3333333333333333,\"#9c179e\"],[0.4444444444444444,\"#bd3786\"],[0.5555555555555556,\"#d8576b\"],[0.6666666666666666,\"#ed7953\"],[0.7777777777777778,\"#fb9f3a\"],[0.8888888888888888,\"#fdca26\"],[1.0,\"#f0f921\"]],\"type\":\"surface\"}],\"table\":[{\"cells\":{\"fill\":{\"color\":\"#EBF0F8\"},\"line\":{\"color\":\"white\"}},\"header\":{\"fill\":{\"color\":\"#C8D4E3\"},\"line\":{\"color\":\"white\"}},\"type\":\"table\"}]},\"layout\":{\"annotationdefaults\":{\"arrowcolor\":\"#2a3f5f\",\"arrowhead\":0,\"arrowwidth\":1},\"autotypenumbers\":\"strict\",\"coloraxis\":{\"colorbar\":{\"outlinewidth\":0,\"ticks\":\"\"}},\"colorscale\":{\"diverging\":[[0,\"#8e0152\"],[0.1,\"#c51b7d\"],[0.2,\"#de77ae\"],[0.3,\"#f1b6da\"],[0.4,\"#fde0ef\"],[0.5,\"#f7f7f7\"],[0.6,\"#e6f5d0\"],[0.7,\"#b8e186\"],[0.8,\"#7fbc41\"],[0.9,\"#4d9221\"],[1,\"#276419\"]],\"sequential\":[[0.0,\"#0d0887\"],[0.1111111111111111,\"#46039f\"],[0.2222222222222222,\"#7201a8\"],[0.3333333333333333,\"#9c179e\"],[0.4444444444444444,\"#bd3786\"],[0.5555555555555556,\"#d8576b\"],[0.6666666666666666,\"#ed7953\"],[0.7777777777777778,\"#fb9f3a\"],[0.8888888888888888,\"#fdca26\"],[1.0,\"#f0f921\"]],\"sequentialminus\":[[0.0,\"#0d0887\"],[0.1111111111111111,\"#46039f\"],[0.2222222222222222,\"#7201a8\"],[0.3333333333333333,\"#9c179e\"],[0.4444444444444444,\"#bd3786\"],[0.5555555555555556,\"#d8576b\"],[0.6666666666666666,\"#ed7953\"],[0.7777777777777778,\"#fb9f3a\"],[0.8888888888888888,\"#fdca26\"],[1.0,\"#f0f921\"]]},\"colorway\":[\"#636efa\",\"#EF553B\",\"#00cc96\",\"#ab63fa\",\"#FFA15A\",\"#19d3f3\",\"#FF6692\",\"#B6E880\",\"#FF97FF\",\"#FECB52\"],\"font\":{\"color\":\"#2a3f5f\"},\"geo\":{\"bgcolor\":\"white\",\"lakecolor\":\"white\",\"landcolor\":\"#E5ECF6\",\"showlakes\":true,\"showland\":true,\"subunitcolor\":\"white\"},\"hoverlabel\":{\"align\":\"left\"},\"hovermode\":\"closest\",\"mapbox\":{\"style\":\"light\"},\"paper_bgcolor\":\"white\",\"plot_bgcolor\":\"#E5ECF6\",\"polar\":{\"angularaxis\":{\"gridcolor\":\"white\",\"linecolor\":\"white\",\"ticks\":\"\"},\"bgcolor\":\"#E5ECF6\",\"radialaxis\":{\"gridcolor\":\"white\",\"linecolor\":\"white\",\"ticks\":\"\"}},\"scene\":{\"xaxis\":{\"backgroundcolor\":\"#E5ECF6\",\"gridcolor\":\"white\",\"gridwidth\":2,\"linecolor\":\"white\",\"showbackground\":true,\"ticks\":\"\",\"zerolinecolor\":\"white\"},\"yaxis\":{\"backgroundcolor\":\"#E5ECF6\",\"gridcolor\":\"white\",\"gridwidth\":2,\"linecolor\":\"white\",\"showbackground\":true,\"ticks\":\"\",\"zerolinecolor\":\"white\"},\"zaxis\":{\"backgroundcolor\":\"#E5ECF6\",\"gridcolor\":\"white\",\"gridwidth\":2,\"linecolor\":\"white\",\"showbackground\":true,\"ticks\":\"\",\"zerolinecolor\":\"white\"}},\"shapedefaults\":{\"line\":{\"color\":\"#2a3f5f\"}},\"ternary\":{\"aaxis\":{\"gridcolor\":\"white\",\"linecolor\":\"white\",\"ticks\":\"\"},\"baxis\":{\"gridcolor\":\"white\",\"linecolor\":\"white\",\"ticks\":\"\"},\"bgcolor\":\"#E5ECF6\",\"caxis\":{\"gridcolor\":\"white\",\"linecolor\":\"white\",\"ticks\":\"\"}},\"title\":{\"x\":0.05},\"xaxis\":{\"automargin\":true,\"gridcolor\":\"white\",\"linecolor\":\"white\",\"ticks\":\"\",\"title\":{\"standoff\":15},\"zerolinecolor\":\"white\",\"zerolinewidth\":2},\"yaxis\":{\"automargin\":true,\"gridcolor\":\"white\",\"linecolor\":\"white\",\"ticks\":\"\",\"title\":{\"standoff\":15},\"zerolinecolor\":\"white\",\"zerolinewidth\":2}}},\"title\":{\"text\":\"DBSCAN 0.5eps\"},\"width\":1000},                        {\"responsive\": true}                    ).then(function(){\n",
       "                            \n",
       "var gd = document.getElementById('cf203cec-4e4c-426b-a518-ad023103c34f');\n",
       "var x = new MutationObserver(function (mutations, observer) {{\n",
       "        var display = window.getComputedStyle(gd).display;\n",
       "        if (!display || display === 'none') {{\n",
       "            console.log([gd, 'removed!']);\n",
       "            Plotly.purge(gd);\n",
       "            observer.disconnect();\n",
       "        }}\n",
       "}});\n",
       "\n",
       "// Listen for the removal of the full notebook cells\n",
       "var notebookContainer = gd.closest('#notebook-container');\n",
       "if (notebookContainer) {{\n",
       "    x.observe(notebookContainer, {childList: true});\n",
       "}}\n",
       "\n",
       "// Listen for the clearing of the current output cell\n",
       "var outputEl = gd.closest('.output');\n",
       "if (outputEl) {{\n",
       "    x.observe(outputEl, {childList: true});\n",
       "}}\n",
       "\n",
       "                        })                };                });            </script>        </div>"
      ]
     },
     "metadata": {},
     "output_type": "display_data"
    }
   ],
   "source": [
    "\n",
    "clustering2 = DBSCAN(eps=0.014, min_samples=15).fit(df[['LONGITUDE','LATITUDE']])\n",
    "x = lambda x: \"noise\" if x == -1 else str(x)\n",
    "df['clusters_BDSCAN'] = list(map(x,list(clustering2.labels_)))\n",
    "fig3 = px.scatter_mapbox(df[df['clusters_BDSCAN'] != 'noise'], lat=\"LATITUDE\", lon=\"LONGITUDE\",\n",
    "                        color=\"clusters_BDSCAN\", title='DBSCAN 0.5eps', hover_data=[\"VALUE_SOLD\"],\n",
    "                        hover_name=\"LOCATION_NAME\",zoom=11,\n",
    "                        width=1000, height=500, mapbox_style=\"stamen-toner\")\n",
    "fig3.show()"
   ]
  },
  {
   "cell_type": "code",
   "execution_count": 74,
   "id": "940f870c",
   "metadata": {
    "execution": {
     "iopub.execute_input": "2022-05-31T17:48:16.510616Z",
     "iopub.status.busy": "2022-05-31T17:48:16.510084Z",
     "iopub.status.idle": "2022-05-31T17:49:46.253079Z",
     "shell.execute_reply": "2022-05-31T17:49:46.252481Z",
     "shell.execute_reply.started": "2022-05-31T17:42:11.275931Z"
    },
    "papermill": {
     "duration": 89.824885,
     "end_time": "2022-05-31T17:49:46.253217",
     "exception": false,
     "start_time": "2022-05-31T17:48:16.428332",
     "status": "completed"
    },
    "tags": []
   },
   "outputs": [
    {
     "name": "stdout",
     "output_type": "stream",
     "text": [
      "Collecting hdbscan\r\n",
      "  Downloading hdbscan-0.8.28.tar.gz (5.2 MB)\r\n",
      "\u001b[K     |████████████████████████████████| 5.2 MB 515 kB/s \r\n",
      "\u001b[?25h  Installing build dependencies ... \u001b[?25l-\b \b\\\b \b|\b \b/\b \b-\b \b\\\b \b|\b \b/\b \bdone\r\n",
      "\u001b[?25h  Getting requirements to build wheel ... \u001b[?25l-\b \b\\\b \b|\b \b/\b \bdone\r\n",
      "\u001b[?25h    Preparing wheel metadata ... \u001b[?25l-\b \b\\\b \b|\b \b/\b \b-\b \b\\\b \bdone\r\n",
      "\u001b[?25hRequirement already satisfied: cython>=0.27 in /opt/conda/lib/python3.7/site-packages (from hdbscan) (0.29.24)\r\n",
      "Requirement already satisfied: joblib>=1.0 in /opt/conda/lib/python3.7/site-packages (from hdbscan) (1.0.1)\r\n",
      "Requirement already satisfied: scipy>=1.0 in /opt/conda/lib/python3.7/site-packages (from hdbscan) (1.7.1)\r\n",
      "Requirement already satisfied: scikit-learn>=0.20 in /opt/conda/lib/python3.7/site-packages (from hdbscan) (0.23.2)\r\n",
      "Collecting numpy>=1.20\r\n",
      "  Downloading numpy-1.21.6-cp37-cp37m-manylinux_2_12_x86_64.manylinux2010_x86_64.whl (15.7 MB)\r\n",
      "\u001b[K     |████████████████████████████████| 15.7 MB 58.3 MB/s \r\n",
      "\u001b[?25hRequirement already satisfied: threadpoolctl>=2.0.0 in /opt/conda/lib/python3.7/site-packages (from scikit-learn>=0.20->hdbscan) (2.2.0)\r\n",
      "Building wheels for collected packages: hdbscan\r\n",
      "  Building wheel for hdbscan (PEP 517) ... \u001b[?25l-\b \b\\\b \b|\b \b/\b \b-\b \b\\\b \b|\b \b/\b \b-\b \b\\\b \b|\b \b/\b \b-\b \b\\\b \b|\b \b/\b \b-\b \b\\\b \b|\b \b/\b \b-\b \b\\\b \b|\b \b/\b \b-\b \b\\\b \b|\b \b/\b \bdone\r\n",
      "\u001b[?25h  Created wheel for hdbscan: filename=hdbscan-0.8.28-cp37-cp37m-linux_x86_64.whl size=2444938 sha256=2e89ab3abaed611e00056a88369f4912d3be7caf26fe2634bc33661fca9cd899\r\n",
      "  Stored in directory: /root/.cache/pip/wheels/6e/7a/5e/259ccc841c085fc41b99ef4a71e896b62f5161f2bc8a14c97a\r\n",
      "Successfully built hdbscan\r\n",
      "Installing collected packages: numpy, hdbscan\r\n",
      "  Attempting uninstall: numpy\r\n",
      "    Found existing installation: numpy 1.19.5\r\n",
      "    Uninstalling numpy-1.19.5:\r\n",
      "      Successfully uninstalled numpy-1.19.5\r\n",
      "\u001b[31mERROR: pip's dependency resolver does not currently take into account all the packages that are installed. This behaviour is the source of the following dependency conflicts.\r\n",
      "caip-notebooks-serverextension 1.0.0 requires google-cloud-bigquery-storage, which is not installed.\r\n",
      "yellowbrick 1.3.post1 requires numpy<1.20,>=1.16.0, but you have numpy 1.21.6 which is incompatible.\r\n",
      "tensorflow 2.4.1 requires numpy~=1.19.2, but you have numpy 1.21.6 which is incompatible.\r\n",
      "pdpbox 0.2.1 requires matplotlib==3.1.1, but you have matplotlib 3.4.3 which is incompatible.\r\n",
      "matrixprofile 1.1.10 requires protobuf==3.11.2, but you have protobuf 3.18.0 which is incompatible.\r\n",
      "imbalanced-learn 0.8.0 requires scikit-learn>=0.24, but you have scikit-learn 0.23.2 which is incompatible.\u001b[0m\r\n",
      "Successfully installed hdbscan-0.8.28 numpy-1.21.6\r\n",
      "\u001b[33mWARNING: Running pip as the 'root' user can result in broken permissions and conflicting behaviour with the system package manager. It is recommended to use a virtual environment instead: https://pip.pypa.io/warnings/venv\u001b[0m\r\n"
     ]
    }
   ],
   "source": [
    "!pip install hdbscan"
   ]
  },
  {
   "cell_type": "code",
   "execution_count": 75,
   "id": "cd851f87",
   "metadata": {
    "execution": {
     "iopub.execute_input": "2022-05-31T17:49:46.559457Z",
     "iopub.status.busy": "2022-05-31T17:49:46.558823Z",
     "iopub.status.idle": "2022-05-31T17:49:46.694712Z",
     "shell.execute_reply": "2022-05-31T17:49:46.694266Z",
     "shell.execute_reply.started": "2022-05-31T17:43:47.351588Z"
    },
    "papermill": {
     "duration": 0.292541,
     "end_time": "2022-05-31T17:49:46.694827",
     "exception": false,
     "start_time": "2022-05-31T17:49:46.402286",
     "status": "completed"
    },
    "tags": []
   },
   "outputs": [
    {
     "data": {
      "text/html": [
       "<div>                            <div id=\"a3306eb3-60ec-4a30-9ad5-ed9de4793b5c\" class=\"plotly-graph-div\" style=\"height:500px; width:1000px;\"></div>            <script type=\"text/javascript\">                require([\"plotly\"], function(Plotly) {                    window.PLOTLYENV=window.PLOTLYENV || {};                                    if (document.getElementById(\"a3306eb3-60ec-4a30-9ad5-ed9de4793b5c\")) {                    Plotly.newPlot(                        \"a3306eb3-60ec-4a30-9ad5-ed9de4793b5c\",                        [{\"customdata\":[[180.0],[180.0],[180.0],[0.0],[165.0],[165.0],[165.0],[165.0],[165.0],[165.0],[165.0],[0.0],[165.0],[0.0],[0.0],[165.0],[165.0],[165.0],[165.0],[165.0],[165.0],[0.0],[165.0],[165.0],[165.0],[165.0],[165.0],[165.0],[165.0],[330.0],[165.0],[0.0],[0.0],[165.0],[165.0],[165.0],[0.0],[0.0],[825.0],[990.0],[825.0],[825.0],[825.0],[825.0],[1980.0],[1980.0],[1980.0],[1980.0],[1980.0],[1840.0],[1980.0],[1320.0],[0.0],[460.0],[1980.0],[240.0],[0.0],[0.0],[0.0],[0.0],[0.0],[0.0],[0.0],[240.0],[0.0],[0.0],[0.0],[0.0],[0.0],[150.0],[0.0],[0.0],[0.0],[0.0],[0.0],[0.0],[0.0],[0.0],[330.0],[165.0],[165.0],[0.0],[165.0],[0.0],[165.0],[165.0],[165.0],[165.0],[165.0],[0.0],[0.0],[0.0],[165.0],[0.0],[165.0],[165.0],[165.0],[0.0],[0.0],[165.0],[165.0],[0.0],[0.0],[165.0],[330.0],[330.0],[0.0],[0.0],[0.0],[240.0],[0.0],[0.0],[0.0],[240.0],[0.0],[240.0],[0.0],[150.0],[0.0],[0.0],[0.0]],\"hovertemplate\":\"<b>%{hovertext}</b><br><br>clusters_HDBSCAN=2<br>LATITUDE=%{lat}<br>LONGITUDE=%{lon}<br>VALUE_SOLD=%{customdata[0]}<extra></extra>\",\"hovertext\":[\"TASSIA\",\"TASSIA\",\"TASSIA\",\"TASSIA\",\"TASSIA\",\"TASSIA\",\"TASSIA\",\"TASSIA\",\"TASSIA\",\"TASSIA\",\"TASSIA\",\"TASSIA\",\"TASSIA\",\"TASSIA\",\"TASSIA\",\"TASSIA\",\"TASSIA\",\"TASSIA\",\"TASSIA\",\"TASSIA\",\"TASSIA\",\"TASSIA\",\"TASSIA\",\"TASSIA\",\"TASSIA\",\"TASSIA\",\"TASSIA\",\"TASSIA\",\"TASSIA\",\"TASSIA\",\"TASSIA\",\"TASSIA\",\"TASSIA\",\"TASSIA\",\"TASSIA\",\"TASSIA\",\"TASSIA\",\"TASSIA\",\"TASSIA\",\"TASSIA\",\"TASSIA\",\"TASSIA\",\"TASSIA\",\"TASSIA\",\"TASSIA\",\"TASSIA\",\"TASSIA\",\"TASSIA\",\"TASSIA\",\"TASSIA\",\"TASSIA\",\"TASSIA\",\"TASSIA\",\"TASSIA\",\"TASSIA\",\"TASSIA\",\"TASSIA\",\"TASSIA\",\"TASSIA\",\"TASSIA\",\"TASSIA\",\"TASSIA\",\"TASSIA\",\"TASSIA\",\"TASSIA\",\"TASSIA\",\"TASSIA\",\"TASSIA\",\"TASSIA\",\"TASSIA\",\"TASSIA\",\"TASSIA\",\"TASSIA\",\"TASSIA\",\"TASSIA\",\"TASSIA\",\"TASSIA\",\"TASSIA\",\"TASSIA\",\"TASSIA\",\"TASSIA\",\"TASSIA\",\"TASSIA\",\"TASSIA\",\"TASSIA\",\"TASSIA\",\"TASSIA\",\"TASSIA\",\"TASSIA\",\"TASSIA\",\"TASSIA\",\"TASSIA\",\"TASSIA\",\"TASSIA\",\"TASSIA\",\"TASSIA\",\"TASSIA\",\"TASSIA\",\"TASSIA\",\"TASSIA\",\"TASSIA\",\"TASSIA\",\"TASSIA\",\"TASSIA\",\"TASSIA\",\"TASSIA\",\"TASSIA\",\"TASSIA\",\"TASSIA\",\"TASSIA\",\"TASSIA\",\"TASSIA\",\"TASSIA\",\"TASSIA\",\"TASSIA\",\"TASSIA\",\"TASSIA\",\"TASSIA\",\"TASSIA\",\"TASSIA\",\"TASSIA\"],\"lat\":[-1.3075114,-1.3075114,-1.3075114,-1.3075114,-1.3075114,-1.3075114,-1.3075114,-1.3075114,-1.3075114,-1.3075114,-1.3075114,-1.3075114,-1.3075114,-1.3075114,-1.3075114,-1.3075114,-1.3075114,-1.3075114,-1.3075114,-1.3075114,-1.3075114,-1.3075114,-1.3075114,-1.3075114,-1.3075114,-1.3075114,-1.3075114,-1.3075114,-1.3075114,-1.3075114,-1.3075114,-1.3075114,-1.3075114,-1.3075114,-1.3075114,-1.3075114,-1.3075114,-1.3075114,-1.3075114,-1.3075114,-1.3075114,-1.3075114,-1.3075114,-1.3075114,-1.3075114,-1.3075114,-1.3075114,-1.3075114,-1.3075114,-1.3075114,-1.3075114,-1.3075114,-1.3075114,-1.3075114,-1.3075114,-1.3075114,-1.3075114,-1.3075114,-1.3075114,-1.3075114,-1.3075114,-1.3075114,-1.3075114,-1.3075114,-1.3075114,-1.3075114,-1.3075114,-1.3075114,-1.3075114,-1.3075114,-1.3075114,-1.3075114,-1.3075114,-1.3075114,-1.3075114,-1.3079078,-1.3079078,-1.3079078,-1.3079078,-1.3079078,-1.3079078,-1.3079078,-1.3079078,-1.3079078,-1.3079078,-1.3079078,-1.3079078,-1.3079078,-1.3079078,-1.3079078,-1.3079078,-1.3079078,-1.3079078,-1.3079078,-1.3079078,-1.3079078,-1.3079078,-1.3079078,-1.3079078,-1.3079078,-1.3079078,-1.3079078,-1.3079078,-1.3079078,-1.3079078,-1.3079078,-1.3079078,-1.3079078,-1.3079078,-1.3079078,-1.3079078,-1.3079078,-1.3079078,-1.3079078,-1.3079078,-1.3079078,-1.3079078,-1.3079078,-1.3079078,-1.3079078,-1.3079078],\"legendgroup\":\"2\",\"lon\":[36.899044,36.899044,36.899044,36.899044,36.899044,36.899044,36.899044,36.899044,36.899044,36.899044,36.899044,36.899044,36.899044,36.899044,36.899044,36.899044,36.899044,36.899044,36.899044,36.899044,36.899044,36.899044,36.899044,36.899044,36.899044,36.899044,36.899044,36.899044,36.899044,36.899044,36.899044,36.899044,36.899044,36.899044,36.899044,36.899044,36.899044,36.899044,36.899044,36.899044,36.899044,36.899044,36.899044,36.899044,36.899044,36.899044,36.899044,36.899044,36.899044,36.899044,36.899044,36.899044,36.899044,36.899044,36.899044,36.899044,36.899044,36.899044,36.899044,36.899044,36.899044,36.899044,36.899044,36.899044,36.899044,36.899044,36.899044,36.899044,36.899044,36.899044,36.899044,36.899044,36.899044,36.899044,36.899044,36.8960602,36.8960602,36.8960602,36.8960602,36.8960602,36.8960602,36.8960602,36.8960602,36.8960602,36.8960602,36.8960602,36.8960602,36.8960602,36.8960602,36.8960602,36.8960602,36.8960602,36.8960602,36.8960602,36.8960602,36.8960602,36.8960602,36.8960602,36.8960602,36.8960602,36.8960602,36.8960602,36.8960602,36.8960602,36.8960602,36.8960602,36.8960602,36.8960602,36.8960602,36.8960602,36.8960602,36.8960602,36.8960602,36.8960602,36.8960602,36.8960602,36.8960602,36.8960602,36.8960602,36.8960602,36.8960602],\"marker\":{\"color\":\"#636efa\"},\"mode\":\"markers\",\"name\":\"2\",\"showlegend\":true,\"subplot\":\"mapbox\",\"type\":\"scattermapbox\"},{\"customdata\":[[180.0],[180.0],[165.0],[165.0],[165.0],[165.0],[165.0],[165.0],[165.0],[165.0],[165.0],[270.0],[165.0],[165.0],[165.0],[165.0],[165.0],[165.0],[165.0],[0.0],[0.0],[165.0],[165.0],[165.0],[0.0],[165.0],[165.0],[170.0],[330.0],[0.0],[165.0],[165.0],[165.0],[165.0],[165.0],[0.0],[170.0],[825.0],[1650.0],[165.0],[1650.0],[3300.0],[825.0],[825.0],[495.0],[990.0],[990.0],[1840.0],[0.0],[990.0],[1980.0],[1980.0],[0.0],[0.0],[240.0],[0.0],[240.0],[0.0],[0.0],[0.0],[0.0],[0.0],[0.0],[0.0],[150.0],[240.0],[0.0],[0.0],[0.0],[0.0],[0.0],[0.0],[0.0],[0.0],[180.0],[180.0],[180.0],[165.0],[165.0],[165.0],[165.0],[165.0],[0.0],[0.0],[330.0],[165.0],[165.0],[0.0],[165.0],[165.0],[330.0],[0.0],[165.0],[165.0],[165.0],[165.0],[165.0],[165.0],[165.0],[165.0],[165.0],[165.0],[165.0],[165.0],[165.0],[165.0],[0.0],[330.0],[165.0],[165.0],[0.0],[495.0],[825.0],[330.0],[240.0],[0.0],[0.0],[0.0],[0.0],[0.0],[0.0],[0.0],[240.0],[150.0],[0.0],[0.0],[240.0],[0.0],[240.0],[0.0],[240.0],[150.0],[0.0],[0.0],[240.0],[0.0],[0.0],[180.0],[0.0],[0.0],[0.0],[0.0],[165.0],[165.0],[0.0],[165.0],[165.0],[165.0],[0.0],[165.0],[165.0],[165.0],[165.0],[330.0],[165.0],[165.0],[165.0],[165.0],[165.0],[0.0],[165.0],[165.0],[0.0],[165.0],[165.0],[165.0],[330.0],[165.0],[165.0],[0.0],[0.0],[165.0],[0.0],[660.0],[1485.0],[0.0],[0.0],[0.0],[0.0],[0.0],[0.0],[0.0],[0.0],[240.0],[0.0],[240.0],[0.0],[0.0],[0.0],[240.0],[0.0],[240.0]],\"hovertemplate\":\"<b>%{hovertext}</b><br><br>clusters_HDBSCAN=3<br>LATITUDE=%{lat}<br>LONGITUDE=%{lon}<br>VALUE_SOLD=%{customdata[0]}<extra></extra>\",\"hovertext\":[\"TASSIA\",\"TASSIA\",\"TASSIA\",\"TASSIA\",\"TASSIA\",\"TASSIA\",\"TASSIA\",\"TASSIA\",\"TASSIA\",\"TASSIA\",\"TASSIA\",\"TASSIA\",\"TASSIA\",\"TASSIA\",\"TASSIA\",\"TASSIA\",\"TASSIA\",\"TASSIA\",\"TASSIA\",\"TASSIA\",\"TASSIA\",\"TASSIA\",\"TASSIA\",\"TASSIA\",\"TASSIA\",\"TASSIA\",\"TASSIA\",\"TASSIA\",\"TASSIA\",\"TASSIA\",\"TASSIA\",\"TASSIA\",\"TASSIA\",\"TASSIA\",\"TASSIA\",\"TASSIA\",\"TASSIA\",\"TASSIA\",\"TASSIA\",\"TASSIA\",\"TASSIA\",\"TASSIA\",\"TASSIA\",\"TASSIA\",\"TASSIA\",\"TASSIA\",\"TASSIA\",\"TASSIA\",\"TASSIA\",\"TASSIA\",\"TASSIA\",\"TASSIA\",\"TASSIA\",\"TASSIA\",\"TASSIA\",\"TASSIA\",\"TASSIA\",\"TASSIA\",\"TASSIA\",\"TASSIA\",\"TASSIA\",\"TASSIA\",\"TASSIA\",\"TASSIA\",\"TASSIA\",\"TASSIA\",\"TASSIA\",\"TASSIA\",\"TASSIA\",\"TASSIA\",\"TASSIA\",\"TASSIA\",\"TASSIA\",\"TASSIA\",\"TASSIA\",\"TASSIA\",\"TASSIA\",\"TASSIA\",\"TASSIA\",\"TASSIA\",\"TASSIA\",\"TASSIA\",\"TASSIA\",\"TASSIA\",\"TASSIA\",\"TASSIA\",\"TASSIA\",\"TASSIA\",\"TASSIA\",\"TASSIA\",\"TASSIA\",\"TASSIA\",\"TASSIA\",\"TASSIA\",\"TASSIA\",\"TASSIA\",\"TASSIA\",\"TASSIA\",\"TASSIA\",\"TASSIA\",\"TASSIA\",\"TASSIA\",\"TASSIA\",\"TASSIA\",\"TASSIA\",\"TASSIA\",\"TASSIA\",\"TASSIA\",\"TASSIA\",\"TASSIA\",\"TASSIA\",\"TASSIA\",\"TASSIA\",\"TASSIA\",\"TASSIA\",\"TASSIA\",\"TASSIA\",\"TASSIA\",\"TASSIA\",\"TASSIA\",\"TASSIA\",\"TASSIA\",\"TASSIA\",\"TASSIA\",\"TASSIA\",\"TASSIA\",\"TASSIA\",\"TASSIA\",\"TASSIA\",\"TASSIA\",\"TASSIA\",\"TASSIA\",\"TASSIA\",\"TASSIA\",\"TASSIA\",\"TASSIA\",\"TASSIA\",\"TASSIA\",\"TASSIA\",\"TASSIA\",\"TASSIA\",\"TASSIA\",\"TASSIA\",\"TASSIA\",\"TASSIA\",\"TASSIA\",\"TASSIA\",\"TASSIA\",\"TASSIA\",\"TASSIA\",\"TASSIA\",\"TASSIA\",\"TASSIA\",\"TASSIA\",\"TASSIA\",\"TASSIA\",\"TASSIA\",\"TASSIA\",\"TASSIA\",\"TASSIA\",\"TASSIA\",\"TASSIA\",\"TASSIA\",\"TASSIA\",\"TASSIA\",\"TASSIA\",\"TASSIA\",\"TASSIA\",\"TASSIA\",\"TASSIA\",\"TASSIA\",\"TASSIA\",\"TASSIA\",\"TASSIA\",\"TASSIA\",\"TASSIA\",\"TASSIA\",\"TASSIA\",\"TASSIA\",\"TASSIA\",\"TASSIA\",\"TASSIA\",\"TASSIA\",\"TASSIA\",\"TASSIA\",\"TASSIA\",\"TASSIA\",\"TASSIA\",\"TASSIA\",\"TASSIA\",\"TASSIA\",\"TASSIA\"],\"lat\":[-1.3041164,-1.3041164,-1.3041164,-1.3041164,-1.3041164,-1.3041164,-1.3041164,-1.3041164,-1.3041164,-1.3041164,-1.3041164,-1.3041164,-1.3041164,-1.3041164,-1.3041164,-1.3041164,-1.3041164,-1.3041164,-1.3041164,-1.3041164,-1.3041164,-1.3041164,-1.3041164,-1.3041164,-1.3041164,-1.3041164,-1.3041164,-1.3041164,-1.3041164,-1.3041164,-1.3041164,-1.3041164,-1.3041164,-1.3041164,-1.3041164,-1.3041164,-1.3041164,-1.3041164,-1.3041164,-1.3041164,-1.3041164,-1.3041164,-1.3041164,-1.3041164,-1.3041164,-1.3041164,-1.3041164,-1.3041164,-1.3041164,-1.3041164,-1.3041164,-1.3041164,-1.3041164,-1.3041164,-1.3041164,-1.3041164,-1.3041164,-1.3041164,-1.3041164,-1.3041164,-1.3041164,-1.3041164,-1.3041164,-1.3041164,-1.3041164,-1.3041164,-1.3041164,-1.3041164,-1.3041164,-1.3041164,-1.3041164,-1.3041164,-1.3041164,-1.3041164,-1.3041535,-1.3041535,-1.3041535,-1.3041535,-1.3041535,-1.3041535,-1.3041535,-1.3041535,-1.3041535,-1.3041535,-1.3041535,-1.3041535,-1.3041535,-1.3041535,-1.3041535,-1.3041535,-1.3041535,-1.3041535,-1.3041535,-1.3041535,-1.3041535,-1.3041535,-1.3041535,-1.3041535,-1.3041535,-1.3041535,-1.3041535,-1.3041535,-1.3041535,-1.3041535,-1.3041535,-1.3041535,-1.3041535,-1.3041535,-1.3041535,-1.3041535,-1.3041535,-1.3041535,-1.3041535,-1.3041535,-1.3041535,-1.3041535,-1.3041535,-1.3041535,-1.3041535,-1.3041535,-1.3041535,-1.3041535,-1.3041535,-1.3041535,-1.3041535,-1.3041535,-1.3041535,-1.3041535,-1.3041535,-1.3041535,-1.3041535,-1.3041535,-1.3041535,-1.3041535,-1.3041535,-1.3041535,-1.3041535,-1.3040744,-1.3040744,-1.3040744,-1.3040744,-1.3040744,-1.3040744,-1.3040744,-1.3040744,-1.3040744,-1.3040744,-1.3040744,-1.3040744,-1.3040744,-1.3040744,-1.3040744,-1.3040744,-1.3040744,-1.3040744,-1.3040744,-1.3040744,-1.3040744,-1.3040744,-1.3040744,-1.3040744,-1.3040744,-1.3040744,-1.3040744,-1.3040744,-1.3040744,-1.3040744,-1.3040744,-1.3040744,-1.3040744,-1.3040744,-1.3040744,-1.3040744,-1.3040744,-1.3040744,-1.3040744,-1.3040744,-1.3040744,-1.3040744,-1.3040744,-1.3040744,-1.3040744,-1.3040744,-1.3040744,-1.3040744,-1.3040744,-1.3040744,-1.3040744,-1.3040744,-1.3040744,-1.3040744,-1.3040744],\"legendgroup\":\"3\",\"lon\":[36.9001326,36.9001326,36.9001326,36.9001326,36.9001326,36.9001326,36.9001326,36.9001326,36.9001326,36.9001326,36.9001326,36.9001326,36.9001326,36.9001326,36.9001326,36.9001326,36.9001326,36.9001326,36.9001326,36.9001326,36.9001326,36.9001326,36.9001326,36.9001326,36.9001326,36.9001326,36.9001326,36.9001326,36.9001326,36.9001326,36.9001326,36.9001326,36.9001326,36.9001326,36.9001326,36.9001326,36.9001326,36.9001326,36.9001326,36.9001326,36.9001326,36.9001326,36.9001326,36.9001326,36.9001326,36.9001326,36.9001326,36.9001326,36.9001326,36.9001326,36.9001326,36.9001326,36.9001326,36.9001326,36.9001326,36.9001326,36.9001326,36.9001326,36.9001326,36.9001326,36.9001326,36.9001326,36.9001326,36.9001326,36.9001326,36.9001326,36.9001326,36.9001326,36.9001326,36.9001326,36.9001326,36.9001326,36.9001326,36.9001326,36.9001211,36.9001211,36.9001211,36.9001211,36.9001211,36.9001211,36.9001211,36.9001211,36.9001211,36.9001211,36.9001211,36.9001211,36.9001211,36.9001211,36.9001211,36.9001211,36.9001211,36.9001211,36.9001211,36.9001211,36.9001211,36.9001211,36.9001211,36.9001211,36.9001211,36.9001211,36.9001211,36.9001211,36.9001211,36.9001211,36.9001211,36.9001211,36.9001211,36.9001211,36.9001211,36.9001211,36.9001211,36.9001211,36.9001211,36.9001211,36.9001211,36.9001211,36.9001211,36.9001211,36.9001211,36.9001211,36.9001211,36.9001211,36.9001211,36.9001211,36.9001211,36.9001211,36.9001211,36.9001211,36.9001211,36.9001211,36.9001211,36.9001211,36.9001211,36.9001211,36.9001211,36.9001211,36.9001211,36.9002861,36.9002861,36.9002861,36.9002861,36.9002861,36.9002861,36.9002861,36.9002861,36.9002861,36.9002861,36.9002861,36.9002861,36.9002861,36.9002861,36.9002861,36.9002861,36.9002861,36.9002861,36.9002861,36.9002861,36.9002861,36.9002861,36.9002861,36.9002861,36.9002861,36.9002861,36.9002861,36.9002861,36.9002861,36.9002861,36.9002861,36.9002861,36.9002861,36.9002861,36.9002861,36.9002861,36.9002861,36.9002861,36.9002861,36.9002861,36.9002861,36.9002861,36.9002861,36.9002861,36.9002861,36.9002861,36.9002861,36.9002861,36.9002861,36.9002861,36.9002861,36.9002861,36.9002861,36.9002861,36.9002861],\"marker\":{\"color\":\"#EF553B\"},\"mode\":\"markers\",\"name\":\"3\",\"showlegend\":true,\"subplot\":\"mapbox\",\"type\":\"scattermapbox\"},{\"customdata\":[[165.0],[480.0],[330.0],[330.0],[330.0],[330.0],[0.0],[0.0],[165.0],[1050.0],[0.0],[0.0],[120.0],[165.0],[0.0],[0.0],[0.0],[165.0],[165.0],[165.0],[165.0],[165.0],[65.0],[65.0],[0.0],[0.0],[165.0],[330.0],[120.0],[165.0],[165.0],[165.0],[65.0],[330.0],[330.0],[825.0],[460.0],[165.0],[2475.0],[825.0],[825.0],[660.0],[825.0],[825.0],[495.0],[495.0],[495.0],[330.0],[165.0],[165.0],[165.0],[165.0],[165.0],[165.0],[330.0],[330.0],[330.0],[330.0],[330.0],[330.0],[330.0],[330.0],[165.0],[330.0],[330.0],[110.0],[110.0],[120.0],[50.0],[260.0],[65.0],[65.0],[60.0],[60.0],[60.0],[165.0]],\"hovertemplate\":\"<b>%{hovertext}</b><br><br>clusters_HDBSCAN=1<br>LATITUDE=%{lat}<br>LONGITUDE=%{lon}<br>VALUE_SOLD=%{customdata[0]}<extra></extra>\",\"hovertext\":[\"TASSIA\",\"TASSIA\",\"TASSIA\",\"TASSIA\",\"TASSIA\",\"TASSIA\",\"TASSIA\",\"TASSIA\",\"TASSIA\",\"TASSIA\",\"TASSIA\",\"TASSIA\",\"TASSIA\",\"TASSIA\",\"TASSIA\",\"TASSIA\",\"TASSIA\",\"TASSIA\",\"TASSIA\",\"TASSIA\",\"TASSIA\",\"TASSIA\",\"TASSIA\",\"TASSIA\",\"TASSIA\",\"TASSIA\",\"TASSIA\",\"TASSIA\",\"TASSIA\",\"TASSIA\",\"TASSIA\",\"TASSIA\",\"TASSIA\",\"TASSIA\",\"TASSIA\",\"TASSIA\",\"TASSIA\",\"TASSIA\",\"TASSIA\",\"TASSIA\",\"TASSIA\",\"TASSIA\",\"TASSIA\",\"TASSIA\",\"TASSIA\",\"TASSIA\",\"TASSIA\",\"TASSIA\",\"TASSIA\",\"TASSIA\",\"TASSIA\",\"TASSIA\",\"TASSIA\",\"TASSIA\",\"TASSIA\",\"TASSIA\",\"TASSIA\",\"TASSIA\",\"TASSIA\",\"TASSIA\",\"TASSIA\",\"TASSIA\",\"TASSIA\",\"TASSIA\",\"TASSIA\",\"TASSIA\",\"TASSIA\",\"TASSIA\",\"TASSIA\",\"TASSIA\",\"TASSIA\",\"TASSIA\",\"TASSIA\",\"TASSIA\",\"TASSIA\",\"TASSIA\"],\"lat\":[-1.2904239,-1.2904239,-1.2904239,-1.2904239,-1.2904239,-1.2904239,-1.2919441,-1.2919441,-1.2917267,-1.2917267,-1.2924678,-1.2924678,-1.2913475,-1.2913475,-1.2898049,-1.2897976,-1.2899051,-1.2899051,-1.2899051,-1.2899051,-1.2899051,-1.2899051,-1.2899051,-1.2899051,-1.2913785,-1.2892977,-1.2897667,-1.2897667,-1.2897667,-1.2897667,-1.2897667,-1.2897667,-1.2897667,-1.2897667,-1.2897667,-1.2897667,-1.2897667,-1.2897667,-1.2897667,-1.2897667,-1.2897667,-1.2897667,-1.2897667,-1.2897667,-1.2897667,-1.2897667,-1.2897667,-1.2897667,-1.2897667,-1.2897667,-1.2897667,-1.2897667,-1.2897667,-1.2897667,-1.2897667,-1.2897667,-1.2897667,-1.2897667,-1.2897667,-1.2897667,-1.2897667,-1.2897667,-1.2897667,-1.2897667,-1.2897667,-1.2897667,-1.2897667,-1.2897667,-1.2897667,-1.2897667,-1.2897667,-1.2897667,-1.2897667,-1.2897667,-1.2897667,-1.2893036],\"legendgroup\":\"1\",\"lon\":[36.9053047,36.9053047,36.9053047,36.9053047,36.9053047,36.9053047,36.9051407,36.9051407,36.9050367,36.9050367,36.9005739,36.9005739,36.9036462,36.9036462,36.9027312,36.902708,36.9049516,36.9049516,36.9049516,36.9049516,36.9049516,36.9049516,36.9049516,36.9049516,36.9051835,36.9044594,36.90336,36.90336,36.90336,36.90336,36.90336,36.90336,36.90336,36.90336,36.90336,36.90336,36.90336,36.90336,36.90336,36.90336,36.90336,36.90336,36.90336,36.90336,36.90336,36.90336,36.90336,36.90336,36.90336,36.90336,36.90336,36.90336,36.90336,36.90336,36.90336,36.90336,36.90336,36.90336,36.90336,36.90336,36.90336,36.90336,36.90336,36.90336,36.90336,36.90336,36.90336,36.90336,36.90336,36.90336,36.90336,36.90336,36.90336,36.90336,36.90336,36.9043614],\"marker\":{\"color\":\"#00cc96\"},\"mode\":\"markers\",\"name\":\"1\",\"showlegend\":true,\"subplot\":\"mapbox\",\"type\":\"scattermapbox\"},{\"customdata\":[[0.0],[165.0],[165.0],[165.0],[230.0],[330.0],[130.0],[130.0],[130.0],[130.0],[330.0],[330.0],[690.0],[550.0],[360.0],[330.0],[330.0],[330.0],[825.0],[825.0],[825.0],[330.0],[825.0],[660.0],[200.0],[165.0],[165.0],[165.0],[165.0],[165.0],[230.0],[330.0],[330.0],[330.0],[100.0],[130.0],[165.0],[165.0],[165.0],[165.0],[165.0],[165.0],[165.0],[165.0],[165.0],[325.0],[65.0],[65.0],[165.0],[330.0],[825.0],[165.0],[230.0],[220.0],[50.0],[390.0],[165.0],[495.0],[330.0],[330.0],[165.0],[165.0],[495.0],[495.0],[325.0],[825.0],[825.0],[825.0],[825.0],[165.0],[165.0],[165.0],[180.0],[165.0],[0.0]],\"hovertemplate\":\"<b>%{hovertext}</b><br><br>clusters_HDBSCAN=0<br>LATITUDE=%{lat}<br>LONGITUDE=%{lon}<br>VALUE_SOLD=%{customdata[0]}<extra></extra>\",\"hovertext\":[\"TASSIA\",\"TASSIA\",\"TASSIA\",\"TASSIA\",\"TASSIA\",\"TASSIA\",\"TASSIA\",\"TASSIA\",\"TASSIA\",\"TASSIA\",\"TASSIA\",\"TASSIA\",\"TASSIA\",\"TASSIA\",\"TASSIA\",\"TASSIA\",\"TASSIA\",\"TASSIA\",\"TASSIA\",\"TASSIA\",\"TASSIA\",\"TASSIA\",\"TASSIA\",\"TASSIA\",\"TASSIA\",\"TASSIA\",\"TASSIA\",\"TASSIA\",\"TASSIA\",\"TASSIA\",\"TASSIA\",\"TASSIA\",\"TASSIA\",\"TASSIA\",\"TASSIA\",\"TASSIA\",\"TASSIA\",\"TASSIA\",\"TASSIA\",\"TASSIA\",\"TASSIA\",\"TASSIA\",\"TASSIA\",\"TASSIA\",\"TASSIA\",\"TASSIA\",\"TASSIA\",\"TASSIA\",\"TASSIA\",\"TASSIA\",\"TASSIA\",\"TASSIA\",\"TASSIA\",\"TASSIA\",\"TASSIA\",\"TASSIA\",\"TASSIA\",\"TASSIA\",\"TASSIA\",\"TASSIA\",\"TASSIA\",\"TASSIA\",\"TASSIA\",\"TASSIA\",\"TASSIA\",\"TASSIA\",\"TASSIA\",\"TASSIA\",\"TASSIA\",\"TASSIA\",\"TASSIA\",\"TASSIA\",\"TASSIA\",\"TASSIA\",\"TASSIA\"],\"lat\":[-1.2930931,-1.2930931,-1.2930931,-1.2930931,-1.2930931,-1.2930931,-1.2930931,-1.2930931,-1.2930931,-1.2930931,-1.2930931,-1.2930931,-1.2930931,-1.2930931,-1.2930931,-1.2930931,-1.2930931,-1.2930931,-1.2930931,-1.2930931,-1.2930931,-1.2930931,-1.2930931,-1.2930931,-1.2930931,-1.2930931,-1.2930931,-1.2930931,-1.2930931,-1.2930931,-1.2930931,-1.2930931,-1.2930931,-1.2930931,-1.2930931,-1.2930931,-1.2930931,-1.2930931,-1.2930931,-1.2930931,-1.2930931,-1.2930931,-1.2930931,-1.2930931,-1.2930931,-1.2930931,-1.2930931,-1.2930931,-1.2930931,-1.2930931,-1.2930931,-1.2930931,-1.2930931,-1.2930931,-1.2930931,-1.2930931,-1.2941417,-1.2941417,-1.2941417,-1.2941417,-1.2941417,-1.2941417,-1.2941417,-1.2941417,-1.2941417,-1.2941417,-1.2941417,-1.2941417,-1.2941417,-1.2899983,-1.2953783,-1.2953783,-1.2953783,-1.2973074,-1.2973074],\"legendgroup\":\"0\",\"lon\":[36.8933427,36.8933427,36.8933427,36.8933427,36.8933427,36.8933427,36.8933427,36.8933427,36.8933427,36.8933427,36.8933427,36.8933427,36.8933427,36.8933427,36.8933427,36.8933427,36.8933427,36.8933427,36.8933427,36.8933427,36.8933427,36.8933427,36.8933427,36.8933427,36.8933427,36.8933427,36.8933427,36.8933427,36.8933427,36.8933427,36.8933427,36.8933427,36.8933427,36.8933427,36.8933427,36.8933427,36.8933427,36.8933427,36.8933427,36.8933427,36.8933427,36.8933427,36.8933427,36.8933427,36.8933427,36.8933427,36.8933427,36.8933427,36.8933427,36.8933427,36.8933427,36.8933427,36.8933427,36.8933427,36.8933427,36.8933427,36.896025,36.896025,36.896025,36.896025,36.896025,36.896025,36.896025,36.896025,36.896025,36.896025,36.896025,36.896025,36.896025,36.8970233,36.889515,36.889515,36.889515,36.8878519,36.8878519],\"marker\":{\"color\":\"#ab63fa\"},\"mode\":\"markers\",\"name\":\"0\",\"showlegend\":true,\"subplot\":\"mapbox\",\"type\":\"scattermapbox\"}],                        {\"height\":500,\"legend\":{\"title\":{\"text\":\"clusters_HDBSCAN\"},\"tracegroupgap\":0},\"mapbox\":{\"center\":{\"lat\":-1.3010133633620713,\"lon\":36.89909774612078},\"domain\":{\"x\":[0.0,1.0],\"y\":[0.0,1.0]},\"style\":\"stamen-toner\",\"zoom\":11},\"template\":{\"data\":{\"bar\":[{\"error_x\":{\"color\":\"#2a3f5f\"},\"error_y\":{\"color\":\"#2a3f5f\"},\"marker\":{\"line\":{\"color\":\"#E5ECF6\",\"width\":0.5},\"pattern\":{\"fillmode\":\"overlay\",\"size\":10,\"solidity\":0.2}},\"type\":\"bar\"}],\"barpolar\":[{\"marker\":{\"line\":{\"color\":\"#E5ECF6\",\"width\":0.5},\"pattern\":{\"fillmode\":\"overlay\",\"size\":10,\"solidity\":0.2}},\"type\":\"barpolar\"}],\"carpet\":[{\"aaxis\":{\"endlinecolor\":\"#2a3f5f\",\"gridcolor\":\"white\",\"linecolor\":\"white\",\"minorgridcolor\":\"white\",\"startlinecolor\":\"#2a3f5f\"},\"baxis\":{\"endlinecolor\":\"#2a3f5f\",\"gridcolor\":\"white\",\"linecolor\":\"white\",\"minorgridcolor\":\"white\",\"startlinecolor\":\"#2a3f5f\"},\"type\":\"carpet\"}],\"choropleth\":[{\"colorbar\":{\"outlinewidth\":0,\"ticks\":\"\"},\"type\":\"choropleth\"}],\"contour\":[{\"colorbar\":{\"outlinewidth\":0,\"ticks\":\"\"},\"colorscale\":[[0.0,\"#0d0887\"],[0.1111111111111111,\"#46039f\"],[0.2222222222222222,\"#7201a8\"],[0.3333333333333333,\"#9c179e\"],[0.4444444444444444,\"#bd3786\"],[0.5555555555555556,\"#d8576b\"],[0.6666666666666666,\"#ed7953\"],[0.7777777777777778,\"#fb9f3a\"],[0.8888888888888888,\"#fdca26\"],[1.0,\"#f0f921\"]],\"type\":\"contour\"}],\"contourcarpet\":[{\"colorbar\":{\"outlinewidth\":0,\"ticks\":\"\"},\"type\":\"contourcarpet\"}],\"heatmap\":[{\"colorbar\":{\"outlinewidth\":0,\"ticks\":\"\"},\"colorscale\":[[0.0,\"#0d0887\"],[0.1111111111111111,\"#46039f\"],[0.2222222222222222,\"#7201a8\"],[0.3333333333333333,\"#9c179e\"],[0.4444444444444444,\"#bd3786\"],[0.5555555555555556,\"#d8576b\"],[0.6666666666666666,\"#ed7953\"],[0.7777777777777778,\"#fb9f3a\"],[0.8888888888888888,\"#fdca26\"],[1.0,\"#f0f921\"]],\"type\":\"heatmap\"}],\"heatmapgl\":[{\"colorbar\":{\"outlinewidth\":0,\"ticks\":\"\"},\"colorscale\":[[0.0,\"#0d0887\"],[0.1111111111111111,\"#46039f\"],[0.2222222222222222,\"#7201a8\"],[0.3333333333333333,\"#9c179e\"],[0.4444444444444444,\"#bd3786\"],[0.5555555555555556,\"#d8576b\"],[0.6666666666666666,\"#ed7953\"],[0.7777777777777778,\"#fb9f3a\"],[0.8888888888888888,\"#fdca26\"],[1.0,\"#f0f921\"]],\"type\":\"heatmapgl\"}],\"histogram\":[{\"marker\":{\"pattern\":{\"fillmode\":\"overlay\",\"size\":10,\"solidity\":0.2}},\"type\":\"histogram\"}],\"histogram2d\":[{\"colorbar\":{\"outlinewidth\":0,\"ticks\":\"\"},\"colorscale\":[[0.0,\"#0d0887\"],[0.1111111111111111,\"#46039f\"],[0.2222222222222222,\"#7201a8\"],[0.3333333333333333,\"#9c179e\"],[0.4444444444444444,\"#bd3786\"],[0.5555555555555556,\"#d8576b\"],[0.6666666666666666,\"#ed7953\"],[0.7777777777777778,\"#fb9f3a\"],[0.8888888888888888,\"#fdca26\"],[1.0,\"#f0f921\"]],\"type\":\"histogram2d\"}],\"histogram2dcontour\":[{\"colorbar\":{\"outlinewidth\":0,\"ticks\":\"\"},\"colorscale\":[[0.0,\"#0d0887\"],[0.1111111111111111,\"#46039f\"],[0.2222222222222222,\"#7201a8\"],[0.3333333333333333,\"#9c179e\"],[0.4444444444444444,\"#bd3786\"],[0.5555555555555556,\"#d8576b\"],[0.6666666666666666,\"#ed7953\"],[0.7777777777777778,\"#fb9f3a\"],[0.8888888888888888,\"#fdca26\"],[1.0,\"#f0f921\"]],\"type\":\"histogram2dcontour\"}],\"mesh3d\":[{\"colorbar\":{\"outlinewidth\":0,\"ticks\":\"\"},\"type\":\"mesh3d\"}],\"parcoords\":[{\"line\":{\"colorbar\":{\"outlinewidth\":0,\"ticks\":\"\"}},\"type\":\"parcoords\"}],\"pie\":[{\"automargin\":true,\"type\":\"pie\"}],\"scatter\":[{\"marker\":{\"colorbar\":{\"outlinewidth\":0,\"ticks\":\"\"}},\"type\":\"scatter\"}],\"scatter3d\":[{\"line\":{\"colorbar\":{\"outlinewidth\":0,\"ticks\":\"\"}},\"marker\":{\"colorbar\":{\"outlinewidth\":0,\"ticks\":\"\"}},\"type\":\"scatter3d\"}],\"scattercarpet\":[{\"marker\":{\"colorbar\":{\"outlinewidth\":0,\"ticks\":\"\"}},\"type\":\"scattercarpet\"}],\"scattergeo\":[{\"marker\":{\"colorbar\":{\"outlinewidth\":0,\"ticks\":\"\"}},\"type\":\"scattergeo\"}],\"scattergl\":[{\"marker\":{\"colorbar\":{\"outlinewidth\":0,\"ticks\":\"\"}},\"type\":\"scattergl\"}],\"scattermapbox\":[{\"marker\":{\"colorbar\":{\"outlinewidth\":0,\"ticks\":\"\"}},\"type\":\"scattermapbox\"}],\"scatterpolar\":[{\"marker\":{\"colorbar\":{\"outlinewidth\":0,\"ticks\":\"\"}},\"type\":\"scatterpolar\"}],\"scatterpolargl\":[{\"marker\":{\"colorbar\":{\"outlinewidth\":0,\"ticks\":\"\"}},\"type\":\"scatterpolargl\"}],\"scatterternary\":[{\"marker\":{\"colorbar\":{\"outlinewidth\":0,\"ticks\":\"\"}},\"type\":\"scatterternary\"}],\"surface\":[{\"colorbar\":{\"outlinewidth\":0,\"ticks\":\"\"},\"colorscale\":[[0.0,\"#0d0887\"],[0.1111111111111111,\"#46039f\"],[0.2222222222222222,\"#7201a8\"],[0.3333333333333333,\"#9c179e\"],[0.4444444444444444,\"#bd3786\"],[0.5555555555555556,\"#d8576b\"],[0.6666666666666666,\"#ed7953\"],[0.7777777777777778,\"#fb9f3a\"],[0.8888888888888888,\"#fdca26\"],[1.0,\"#f0f921\"]],\"type\":\"surface\"}],\"table\":[{\"cells\":{\"fill\":{\"color\":\"#EBF0F8\"},\"line\":{\"color\":\"white\"}},\"header\":{\"fill\":{\"color\":\"#C8D4E3\"},\"line\":{\"color\":\"white\"}},\"type\":\"table\"}]},\"layout\":{\"annotationdefaults\":{\"arrowcolor\":\"#2a3f5f\",\"arrowhead\":0,\"arrowwidth\":1},\"autotypenumbers\":\"strict\",\"coloraxis\":{\"colorbar\":{\"outlinewidth\":0,\"ticks\":\"\"}},\"colorscale\":{\"diverging\":[[0,\"#8e0152\"],[0.1,\"#c51b7d\"],[0.2,\"#de77ae\"],[0.3,\"#f1b6da\"],[0.4,\"#fde0ef\"],[0.5,\"#f7f7f7\"],[0.6,\"#e6f5d0\"],[0.7,\"#b8e186\"],[0.8,\"#7fbc41\"],[0.9,\"#4d9221\"],[1,\"#276419\"]],\"sequential\":[[0.0,\"#0d0887\"],[0.1111111111111111,\"#46039f\"],[0.2222222222222222,\"#7201a8\"],[0.3333333333333333,\"#9c179e\"],[0.4444444444444444,\"#bd3786\"],[0.5555555555555556,\"#d8576b\"],[0.6666666666666666,\"#ed7953\"],[0.7777777777777778,\"#fb9f3a\"],[0.8888888888888888,\"#fdca26\"],[1.0,\"#f0f921\"]],\"sequentialminus\":[[0.0,\"#0d0887\"],[0.1111111111111111,\"#46039f\"],[0.2222222222222222,\"#7201a8\"],[0.3333333333333333,\"#9c179e\"],[0.4444444444444444,\"#bd3786\"],[0.5555555555555556,\"#d8576b\"],[0.6666666666666666,\"#ed7953\"],[0.7777777777777778,\"#fb9f3a\"],[0.8888888888888888,\"#fdca26\"],[1.0,\"#f0f921\"]]},\"colorway\":[\"#636efa\",\"#EF553B\",\"#00cc96\",\"#ab63fa\",\"#FFA15A\",\"#19d3f3\",\"#FF6692\",\"#B6E880\",\"#FF97FF\",\"#FECB52\"],\"font\":{\"color\":\"#2a3f5f\"},\"geo\":{\"bgcolor\":\"white\",\"lakecolor\":\"white\",\"landcolor\":\"#E5ECF6\",\"showlakes\":true,\"showland\":true,\"subunitcolor\":\"white\"},\"hoverlabel\":{\"align\":\"left\"},\"hovermode\":\"closest\",\"mapbox\":{\"style\":\"light\"},\"paper_bgcolor\":\"white\",\"plot_bgcolor\":\"#E5ECF6\",\"polar\":{\"angularaxis\":{\"gridcolor\":\"white\",\"linecolor\":\"white\",\"ticks\":\"\"},\"bgcolor\":\"#E5ECF6\",\"radialaxis\":{\"gridcolor\":\"white\",\"linecolor\":\"white\",\"ticks\":\"\"}},\"scene\":{\"xaxis\":{\"backgroundcolor\":\"#E5ECF6\",\"gridcolor\":\"white\",\"gridwidth\":2,\"linecolor\":\"white\",\"showbackground\":true,\"ticks\":\"\",\"zerolinecolor\":\"white\"},\"yaxis\":{\"backgroundcolor\":\"#E5ECF6\",\"gridcolor\":\"white\",\"gridwidth\":2,\"linecolor\":\"white\",\"showbackground\":true,\"ticks\":\"\",\"zerolinecolor\":\"white\"},\"zaxis\":{\"backgroundcolor\":\"#E5ECF6\",\"gridcolor\":\"white\",\"gridwidth\":2,\"linecolor\":\"white\",\"showbackground\":true,\"ticks\":\"\",\"zerolinecolor\":\"white\"}},\"shapedefaults\":{\"line\":{\"color\":\"#2a3f5f\"}},\"ternary\":{\"aaxis\":{\"gridcolor\":\"white\",\"linecolor\":\"white\",\"ticks\":\"\"},\"baxis\":{\"gridcolor\":\"white\",\"linecolor\":\"white\",\"ticks\":\"\"},\"bgcolor\":\"#E5ECF6\",\"caxis\":{\"gridcolor\":\"white\",\"linecolor\":\"white\",\"ticks\":\"\"}},\"title\":{\"x\":0.05},\"xaxis\":{\"automargin\":true,\"gridcolor\":\"white\",\"linecolor\":\"white\",\"ticks\":\"\",\"title\":{\"standoff\":15},\"zerolinecolor\":\"white\",\"zerolinewidth\":2},\"yaxis\":{\"automargin\":true,\"gridcolor\":\"white\",\"linecolor\":\"white\",\"ticks\":\"\",\"title\":{\"standoff\":15},\"zerolinecolor\":\"white\",\"zerolinewidth\":2}}},\"title\":{\"text\":\"HDBSCAN\"},\"width\":1000},                        {\"responsive\": true}                    ).then(function(){\n",
       "                            \n",
       "var gd = document.getElementById('a3306eb3-60ec-4a30-9ad5-ed9de4793b5c');\n",
       "var x = new MutationObserver(function (mutations, observer) {{\n",
       "        var display = window.getComputedStyle(gd).display;\n",
       "        if (!display || display === 'none') {{\n",
       "            console.log([gd, 'removed!']);\n",
       "            Plotly.purge(gd);\n",
       "            observer.disconnect();\n",
       "        }}\n",
       "}});\n",
       "\n",
       "// Listen for the removal of the full notebook cells\n",
       "var notebookContainer = gd.closest('#notebook-container');\n",
       "if (notebookContainer) {{\n",
       "    x.observe(notebookContainer, {childList: true});\n",
       "}}\n",
       "\n",
       "// Listen for the clearing of the current output cell\n",
       "var outputEl = gd.closest('.output');\n",
       "if (outputEl) {{\n",
       "    x.observe(outputEl, {childList: true});\n",
       "}}\n",
       "\n",
       "                        })                };                });            </script>        </div>"
      ]
     },
     "metadata": {},
     "output_type": "display_data"
    }
   ],
   "source": [
    "import hdbscan\n",
    "clusterer = hdbscan.HDBSCAN(min_cluster_size=70, gen_min_span_tree=True)\n",
    "clusterer.fit(df[['LONGITUDE','LATITUDE']])\n",
    "df['clusters_HDBSCAN'] = list(map(x,list(clusterer.labels_)))\n",
    "fig4 = px.scatter_mapbox(df[df['clusters_HDBSCAN'] != 'noise'], lat=\"LATITUDE\", lon=\"LONGITUDE\",\n",
    "                        color=\"clusters_HDBSCAN\", title=\"HDBSCAN\", zoom=11,\n",
    "                        hover_name=\"LOCATION_NAME\", hover_data=[\"VALUE_SOLD\"],\n",
    "                        width=1000, height=500, mapbox_style=\"stamen-toner\")\n",
    "fig4.show()"
   ]
  },
  {
   "cell_type": "code",
   "execution_count": 76,
   "id": "9233f43a",
   "metadata": {
    "execution": {
     "iopub.execute_input": "2022-05-31T17:49:46.915324Z",
     "iopub.status.busy": "2022-05-31T17:49:46.914830Z",
     "iopub.status.idle": "2022-05-31T17:49:47.540161Z",
     "shell.execute_reply": "2022-05-31T17:49:47.540674Z",
     "shell.execute_reply.started": "2022-05-31T17:43:47.502210Z"
    },
    "papermill": {
     "duration": 0.741422,
     "end_time": "2022-05-31T17:49:47.540831",
     "exception": false,
     "start_time": "2022-05-31T17:49:46.799409",
     "status": "completed"
    },
    "tags": []
   },
   "outputs": [
    {
     "data": {
      "text/html": [
       "<div>                            <div id=\"9dd9e797-df85-45fd-9bc3-09d0d3e9a67c\" class=\"plotly-graph-div\" style=\"height:500px; width:1000px;\"></div>            <script type=\"text/javascript\">                require([\"plotly\"], function(Plotly) {                    window.PLOTLYENV=window.PLOTLYENV || {};                                    if (document.getElementById(\"9dd9e797-df85-45fd-9bc3-09d0d3e9a67c\")) {                    Plotly.newPlot(                        \"9dd9e797-df85-45fd-9bc3-09d0d3e9a67c\",                        [{\"customdata\":[[180.0],[180.0],[180.0],[0.0],[165.0],[165.0],[165.0],[165.0],[165.0],[165.0],[165.0],[0.0],[165.0],[0.0],[0.0],[165.0],[165.0],[165.0],[165.0],[165.0],[165.0],[0.0],[165.0],[165.0],[165.0],[165.0],[165.0],[165.0],[165.0],[330.0],[165.0],[0.0],[0.0],[165.0],[165.0],[165.0],[0.0],[0.0],[825.0],[990.0],[825.0],[825.0],[825.0],[825.0],[1980.0],[1980.0],[1980.0],[1980.0],[1980.0],[1840.0],[1980.0],[1320.0],[0.0],[460.0],[1980.0],[240.0],[0.0],[0.0],[0.0],[0.0],[0.0],[0.0],[0.0],[240.0],[0.0],[0.0],[0.0],[0.0],[0.0],[150.0],[0.0],[0.0],[0.0],[0.0],[0.0],[0.0],[0.0],[0.0],[330.0],[165.0],[165.0],[0.0],[165.0],[0.0],[165.0],[165.0],[165.0],[165.0],[165.0],[0.0],[0.0],[0.0],[165.0],[0.0],[165.0],[165.0],[165.0],[0.0],[0.0],[165.0],[165.0],[0.0],[0.0],[165.0],[330.0],[330.0],[0.0],[0.0],[0.0],[240.0],[0.0],[0.0],[0.0],[240.0],[0.0],[240.0],[0.0],[150.0],[0.0],[0.0],[0.0]],\"hovertemplate\":\"<b>%{hovertext}</b><br><br>clusters_OPTICS=0<br>LATITUDE=%{lat}<br>LONGITUDE=%{lon}<br>VALUE_SOLD=%{customdata[0]}<extra></extra>\",\"hovertext\":[\"TASSIA\",\"TASSIA\",\"TASSIA\",\"TASSIA\",\"TASSIA\",\"TASSIA\",\"TASSIA\",\"TASSIA\",\"TASSIA\",\"TASSIA\",\"TASSIA\",\"TASSIA\",\"TASSIA\",\"TASSIA\",\"TASSIA\",\"TASSIA\",\"TASSIA\",\"TASSIA\",\"TASSIA\",\"TASSIA\",\"TASSIA\",\"TASSIA\",\"TASSIA\",\"TASSIA\",\"TASSIA\",\"TASSIA\",\"TASSIA\",\"TASSIA\",\"TASSIA\",\"TASSIA\",\"TASSIA\",\"TASSIA\",\"TASSIA\",\"TASSIA\",\"TASSIA\",\"TASSIA\",\"TASSIA\",\"TASSIA\",\"TASSIA\",\"TASSIA\",\"TASSIA\",\"TASSIA\",\"TASSIA\",\"TASSIA\",\"TASSIA\",\"TASSIA\",\"TASSIA\",\"TASSIA\",\"TASSIA\",\"TASSIA\",\"TASSIA\",\"TASSIA\",\"TASSIA\",\"TASSIA\",\"TASSIA\",\"TASSIA\",\"TASSIA\",\"TASSIA\",\"TASSIA\",\"TASSIA\",\"TASSIA\",\"TASSIA\",\"TASSIA\",\"TASSIA\",\"TASSIA\",\"TASSIA\",\"TASSIA\",\"TASSIA\",\"TASSIA\",\"TASSIA\",\"TASSIA\",\"TASSIA\",\"TASSIA\",\"TASSIA\",\"TASSIA\",\"TASSIA\",\"TASSIA\",\"TASSIA\",\"TASSIA\",\"TASSIA\",\"TASSIA\",\"TASSIA\",\"TASSIA\",\"TASSIA\",\"TASSIA\",\"TASSIA\",\"TASSIA\",\"TASSIA\",\"TASSIA\",\"TASSIA\",\"TASSIA\",\"TASSIA\",\"TASSIA\",\"TASSIA\",\"TASSIA\",\"TASSIA\",\"TASSIA\",\"TASSIA\",\"TASSIA\",\"TASSIA\",\"TASSIA\",\"TASSIA\",\"TASSIA\",\"TASSIA\",\"TASSIA\",\"TASSIA\",\"TASSIA\",\"TASSIA\",\"TASSIA\",\"TASSIA\",\"TASSIA\",\"TASSIA\",\"TASSIA\",\"TASSIA\",\"TASSIA\",\"TASSIA\",\"TASSIA\",\"TASSIA\",\"TASSIA\",\"TASSIA\",\"TASSIA\"],\"lat\":[-1.3075114,-1.3075114,-1.3075114,-1.3075114,-1.3075114,-1.3075114,-1.3075114,-1.3075114,-1.3075114,-1.3075114,-1.3075114,-1.3075114,-1.3075114,-1.3075114,-1.3075114,-1.3075114,-1.3075114,-1.3075114,-1.3075114,-1.3075114,-1.3075114,-1.3075114,-1.3075114,-1.3075114,-1.3075114,-1.3075114,-1.3075114,-1.3075114,-1.3075114,-1.3075114,-1.3075114,-1.3075114,-1.3075114,-1.3075114,-1.3075114,-1.3075114,-1.3075114,-1.3075114,-1.3075114,-1.3075114,-1.3075114,-1.3075114,-1.3075114,-1.3075114,-1.3075114,-1.3075114,-1.3075114,-1.3075114,-1.3075114,-1.3075114,-1.3075114,-1.3075114,-1.3075114,-1.3075114,-1.3075114,-1.3075114,-1.3075114,-1.3075114,-1.3075114,-1.3075114,-1.3075114,-1.3075114,-1.3075114,-1.3075114,-1.3075114,-1.3075114,-1.3075114,-1.3075114,-1.3075114,-1.3075114,-1.3075114,-1.3075114,-1.3075114,-1.3075114,-1.3075114,-1.3079078,-1.3079078,-1.3079078,-1.3079078,-1.3079078,-1.3079078,-1.3079078,-1.3079078,-1.3079078,-1.3079078,-1.3079078,-1.3079078,-1.3079078,-1.3079078,-1.3079078,-1.3079078,-1.3079078,-1.3079078,-1.3079078,-1.3079078,-1.3079078,-1.3079078,-1.3079078,-1.3079078,-1.3079078,-1.3079078,-1.3079078,-1.3079078,-1.3079078,-1.3079078,-1.3079078,-1.3079078,-1.3079078,-1.3079078,-1.3079078,-1.3079078,-1.3079078,-1.3079078,-1.3079078,-1.3079078,-1.3079078,-1.3079078,-1.3079078,-1.3079078,-1.3079078,-1.3079078],\"legendgroup\":\"0\",\"lon\":[36.899044,36.899044,36.899044,36.899044,36.899044,36.899044,36.899044,36.899044,36.899044,36.899044,36.899044,36.899044,36.899044,36.899044,36.899044,36.899044,36.899044,36.899044,36.899044,36.899044,36.899044,36.899044,36.899044,36.899044,36.899044,36.899044,36.899044,36.899044,36.899044,36.899044,36.899044,36.899044,36.899044,36.899044,36.899044,36.899044,36.899044,36.899044,36.899044,36.899044,36.899044,36.899044,36.899044,36.899044,36.899044,36.899044,36.899044,36.899044,36.899044,36.899044,36.899044,36.899044,36.899044,36.899044,36.899044,36.899044,36.899044,36.899044,36.899044,36.899044,36.899044,36.899044,36.899044,36.899044,36.899044,36.899044,36.899044,36.899044,36.899044,36.899044,36.899044,36.899044,36.899044,36.899044,36.899044,36.8960602,36.8960602,36.8960602,36.8960602,36.8960602,36.8960602,36.8960602,36.8960602,36.8960602,36.8960602,36.8960602,36.8960602,36.8960602,36.8960602,36.8960602,36.8960602,36.8960602,36.8960602,36.8960602,36.8960602,36.8960602,36.8960602,36.8960602,36.8960602,36.8960602,36.8960602,36.8960602,36.8960602,36.8960602,36.8960602,36.8960602,36.8960602,36.8960602,36.8960602,36.8960602,36.8960602,36.8960602,36.8960602,36.8960602,36.8960602,36.8960602,36.8960602,36.8960602,36.8960602,36.8960602,36.8960602],\"marker\":{\"color\":\"#636efa\"},\"mode\":\"markers\",\"name\":\"0\",\"showlegend\":true,\"subplot\":\"mapbox\",\"type\":\"scattermapbox\"},{\"customdata\":[[180.0],[180.0],[165.0],[165.0],[165.0],[165.0],[165.0],[165.0],[165.0],[165.0],[165.0],[270.0],[165.0],[165.0],[165.0],[165.0],[165.0],[165.0],[165.0],[0.0],[0.0],[165.0],[165.0],[165.0],[0.0],[165.0],[165.0],[170.0],[330.0],[0.0],[165.0],[165.0],[165.0],[165.0],[165.0],[0.0],[170.0],[825.0],[1650.0],[165.0],[1650.0],[3300.0],[825.0],[825.0],[495.0],[990.0],[990.0],[1840.0],[0.0],[990.0],[1980.0],[1980.0],[0.0],[0.0],[240.0],[0.0],[240.0],[0.0],[0.0],[0.0],[0.0],[0.0],[0.0],[0.0],[150.0],[240.0],[0.0],[0.0],[0.0],[0.0],[0.0],[0.0],[0.0],[0.0],[180.0],[180.0],[180.0],[165.0],[165.0],[165.0],[165.0],[165.0],[0.0],[0.0],[330.0],[165.0],[165.0],[0.0],[165.0],[165.0],[330.0],[0.0],[165.0],[165.0],[165.0],[165.0],[165.0],[165.0],[165.0],[165.0],[165.0],[165.0],[165.0],[165.0],[165.0],[165.0],[0.0],[330.0],[165.0],[165.0],[0.0],[495.0],[825.0],[330.0],[240.0],[0.0],[0.0],[0.0],[0.0],[0.0],[0.0],[0.0],[240.0],[150.0],[0.0],[0.0],[240.0],[0.0],[240.0],[0.0],[240.0],[150.0],[0.0],[0.0],[240.0],[0.0],[0.0],[180.0],[0.0],[0.0],[0.0],[0.0],[165.0],[165.0],[0.0],[165.0],[165.0],[165.0],[0.0],[165.0],[165.0],[165.0],[165.0],[330.0],[165.0],[165.0],[165.0],[165.0],[165.0],[0.0],[165.0],[165.0],[0.0],[165.0],[165.0],[165.0],[330.0],[165.0],[165.0],[0.0],[0.0],[165.0],[0.0],[660.0],[1485.0],[0.0],[0.0],[0.0],[0.0],[0.0],[0.0],[0.0],[0.0],[240.0],[0.0],[240.0],[0.0],[0.0],[0.0],[240.0],[0.0],[240.0]],\"hovertemplate\":\"<b>%{hovertext}</b><br><br>clusters_OPTICS=1<br>LATITUDE=%{lat}<br>LONGITUDE=%{lon}<br>VALUE_SOLD=%{customdata[0]}<extra></extra>\",\"hovertext\":[\"TASSIA\",\"TASSIA\",\"TASSIA\",\"TASSIA\",\"TASSIA\",\"TASSIA\",\"TASSIA\",\"TASSIA\",\"TASSIA\",\"TASSIA\",\"TASSIA\",\"TASSIA\",\"TASSIA\",\"TASSIA\",\"TASSIA\",\"TASSIA\",\"TASSIA\",\"TASSIA\",\"TASSIA\",\"TASSIA\",\"TASSIA\",\"TASSIA\",\"TASSIA\",\"TASSIA\",\"TASSIA\",\"TASSIA\",\"TASSIA\",\"TASSIA\",\"TASSIA\",\"TASSIA\",\"TASSIA\",\"TASSIA\",\"TASSIA\",\"TASSIA\",\"TASSIA\",\"TASSIA\",\"TASSIA\",\"TASSIA\",\"TASSIA\",\"TASSIA\",\"TASSIA\",\"TASSIA\",\"TASSIA\",\"TASSIA\",\"TASSIA\",\"TASSIA\",\"TASSIA\",\"TASSIA\",\"TASSIA\",\"TASSIA\",\"TASSIA\",\"TASSIA\",\"TASSIA\",\"TASSIA\",\"TASSIA\",\"TASSIA\",\"TASSIA\",\"TASSIA\",\"TASSIA\",\"TASSIA\",\"TASSIA\",\"TASSIA\",\"TASSIA\",\"TASSIA\",\"TASSIA\",\"TASSIA\",\"TASSIA\",\"TASSIA\",\"TASSIA\",\"TASSIA\",\"TASSIA\",\"TASSIA\",\"TASSIA\",\"TASSIA\",\"TASSIA\",\"TASSIA\",\"TASSIA\",\"TASSIA\",\"TASSIA\",\"TASSIA\",\"TASSIA\",\"TASSIA\",\"TASSIA\",\"TASSIA\",\"TASSIA\",\"TASSIA\",\"TASSIA\",\"TASSIA\",\"TASSIA\",\"TASSIA\",\"TASSIA\",\"TASSIA\",\"TASSIA\",\"TASSIA\",\"TASSIA\",\"TASSIA\",\"TASSIA\",\"TASSIA\",\"TASSIA\",\"TASSIA\",\"TASSIA\",\"TASSIA\",\"TASSIA\",\"TASSIA\",\"TASSIA\",\"TASSIA\",\"TASSIA\",\"TASSIA\",\"TASSIA\",\"TASSIA\",\"TASSIA\",\"TASSIA\",\"TASSIA\",\"TASSIA\",\"TASSIA\",\"TASSIA\",\"TASSIA\",\"TASSIA\",\"TASSIA\",\"TASSIA\",\"TASSIA\",\"TASSIA\",\"TASSIA\",\"TASSIA\",\"TASSIA\",\"TASSIA\",\"TASSIA\",\"TASSIA\",\"TASSIA\",\"TASSIA\",\"TASSIA\",\"TASSIA\",\"TASSIA\",\"TASSIA\",\"TASSIA\",\"TASSIA\",\"TASSIA\",\"TASSIA\",\"TASSIA\",\"TASSIA\",\"TASSIA\",\"TASSIA\",\"TASSIA\",\"TASSIA\",\"TASSIA\",\"TASSIA\",\"TASSIA\",\"TASSIA\",\"TASSIA\",\"TASSIA\",\"TASSIA\",\"TASSIA\",\"TASSIA\",\"TASSIA\",\"TASSIA\",\"TASSIA\",\"TASSIA\",\"TASSIA\",\"TASSIA\",\"TASSIA\",\"TASSIA\",\"TASSIA\",\"TASSIA\",\"TASSIA\",\"TASSIA\",\"TASSIA\",\"TASSIA\",\"TASSIA\",\"TASSIA\",\"TASSIA\",\"TASSIA\",\"TASSIA\",\"TASSIA\",\"TASSIA\",\"TASSIA\",\"TASSIA\",\"TASSIA\",\"TASSIA\",\"TASSIA\",\"TASSIA\",\"TASSIA\",\"TASSIA\",\"TASSIA\",\"TASSIA\",\"TASSIA\",\"TASSIA\",\"TASSIA\",\"TASSIA\",\"TASSIA\",\"TASSIA\",\"TASSIA\",\"TASSIA\"],\"lat\":[-1.3041164,-1.3041164,-1.3041164,-1.3041164,-1.3041164,-1.3041164,-1.3041164,-1.3041164,-1.3041164,-1.3041164,-1.3041164,-1.3041164,-1.3041164,-1.3041164,-1.3041164,-1.3041164,-1.3041164,-1.3041164,-1.3041164,-1.3041164,-1.3041164,-1.3041164,-1.3041164,-1.3041164,-1.3041164,-1.3041164,-1.3041164,-1.3041164,-1.3041164,-1.3041164,-1.3041164,-1.3041164,-1.3041164,-1.3041164,-1.3041164,-1.3041164,-1.3041164,-1.3041164,-1.3041164,-1.3041164,-1.3041164,-1.3041164,-1.3041164,-1.3041164,-1.3041164,-1.3041164,-1.3041164,-1.3041164,-1.3041164,-1.3041164,-1.3041164,-1.3041164,-1.3041164,-1.3041164,-1.3041164,-1.3041164,-1.3041164,-1.3041164,-1.3041164,-1.3041164,-1.3041164,-1.3041164,-1.3041164,-1.3041164,-1.3041164,-1.3041164,-1.3041164,-1.3041164,-1.3041164,-1.3041164,-1.3041164,-1.3041164,-1.3041164,-1.3041164,-1.3041535,-1.3041535,-1.3041535,-1.3041535,-1.3041535,-1.3041535,-1.3041535,-1.3041535,-1.3041535,-1.3041535,-1.3041535,-1.3041535,-1.3041535,-1.3041535,-1.3041535,-1.3041535,-1.3041535,-1.3041535,-1.3041535,-1.3041535,-1.3041535,-1.3041535,-1.3041535,-1.3041535,-1.3041535,-1.3041535,-1.3041535,-1.3041535,-1.3041535,-1.3041535,-1.3041535,-1.3041535,-1.3041535,-1.3041535,-1.3041535,-1.3041535,-1.3041535,-1.3041535,-1.3041535,-1.3041535,-1.3041535,-1.3041535,-1.3041535,-1.3041535,-1.3041535,-1.3041535,-1.3041535,-1.3041535,-1.3041535,-1.3041535,-1.3041535,-1.3041535,-1.3041535,-1.3041535,-1.3041535,-1.3041535,-1.3041535,-1.3041535,-1.3041535,-1.3041535,-1.3041535,-1.3041535,-1.3041535,-1.3040744,-1.3040744,-1.3040744,-1.3040744,-1.3040744,-1.3040744,-1.3040744,-1.3040744,-1.3040744,-1.3040744,-1.3040744,-1.3040744,-1.3040744,-1.3040744,-1.3040744,-1.3040744,-1.3040744,-1.3040744,-1.3040744,-1.3040744,-1.3040744,-1.3040744,-1.3040744,-1.3040744,-1.3040744,-1.3040744,-1.3040744,-1.3040744,-1.3040744,-1.3040744,-1.3040744,-1.3040744,-1.3040744,-1.3040744,-1.3040744,-1.3040744,-1.3040744,-1.3040744,-1.3040744,-1.3040744,-1.3040744,-1.3040744,-1.3040744,-1.3040744,-1.3040744,-1.3040744,-1.3040744,-1.3040744,-1.3040744,-1.3040744,-1.3040744,-1.3040744,-1.3040744,-1.3040744,-1.3040744],\"legendgroup\":\"1\",\"lon\":[36.9001326,36.9001326,36.9001326,36.9001326,36.9001326,36.9001326,36.9001326,36.9001326,36.9001326,36.9001326,36.9001326,36.9001326,36.9001326,36.9001326,36.9001326,36.9001326,36.9001326,36.9001326,36.9001326,36.9001326,36.9001326,36.9001326,36.9001326,36.9001326,36.9001326,36.9001326,36.9001326,36.9001326,36.9001326,36.9001326,36.9001326,36.9001326,36.9001326,36.9001326,36.9001326,36.9001326,36.9001326,36.9001326,36.9001326,36.9001326,36.9001326,36.9001326,36.9001326,36.9001326,36.9001326,36.9001326,36.9001326,36.9001326,36.9001326,36.9001326,36.9001326,36.9001326,36.9001326,36.9001326,36.9001326,36.9001326,36.9001326,36.9001326,36.9001326,36.9001326,36.9001326,36.9001326,36.9001326,36.9001326,36.9001326,36.9001326,36.9001326,36.9001326,36.9001326,36.9001326,36.9001326,36.9001326,36.9001326,36.9001326,36.9001211,36.9001211,36.9001211,36.9001211,36.9001211,36.9001211,36.9001211,36.9001211,36.9001211,36.9001211,36.9001211,36.9001211,36.9001211,36.9001211,36.9001211,36.9001211,36.9001211,36.9001211,36.9001211,36.9001211,36.9001211,36.9001211,36.9001211,36.9001211,36.9001211,36.9001211,36.9001211,36.9001211,36.9001211,36.9001211,36.9001211,36.9001211,36.9001211,36.9001211,36.9001211,36.9001211,36.9001211,36.9001211,36.9001211,36.9001211,36.9001211,36.9001211,36.9001211,36.9001211,36.9001211,36.9001211,36.9001211,36.9001211,36.9001211,36.9001211,36.9001211,36.9001211,36.9001211,36.9001211,36.9001211,36.9001211,36.9001211,36.9001211,36.9001211,36.9001211,36.9001211,36.9001211,36.9001211,36.9002861,36.9002861,36.9002861,36.9002861,36.9002861,36.9002861,36.9002861,36.9002861,36.9002861,36.9002861,36.9002861,36.9002861,36.9002861,36.9002861,36.9002861,36.9002861,36.9002861,36.9002861,36.9002861,36.9002861,36.9002861,36.9002861,36.9002861,36.9002861,36.9002861,36.9002861,36.9002861,36.9002861,36.9002861,36.9002861,36.9002861,36.9002861,36.9002861,36.9002861,36.9002861,36.9002861,36.9002861,36.9002861,36.9002861,36.9002861,36.9002861,36.9002861,36.9002861,36.9002861,36.9002861,36.9002861,36.9002861,36.9002861,36.9002861,36.9002861,36.9002861,36.9002861,36.9002861,36.9002861,36.9002861],\"marker\":{\"color\":\"#EF553B\"},\"mode\":\"markers\",\"name\":\"1\",\"showlegend\":true,\"subplot\":\"mapbox\",\"type\":\"scattermapbox\"},{\"customdata\":[[165.0],[480.0],[330.0],[330.0],[330.0],[330.0],[0.0],[0.0],[165.0],[1050.0],[0.0],[0.0],[0.0],[0.0],[120.0],[165.0],[120.0],[0.0],[0.0],[0.0],[0.0],[165.0],[165.0],[165.0],[165.0],[165.0],[65.0],[65.0],[0.0],[0.0],[165.0],[330.0],[120.0],[165.0],[165.0],[165.0],[65.0],[330.0],[330.0],[825.0],[460.0],[165.0],[2475.0],[825.0],[825.0],[660.0],[825.0],[825.0],[495.0],[495.0],[495.0],[330.0],[165.0],[165.0],[165.0],[165.0],[165.0],[165.0],[330.0],[330.0],[330.0],[330.0],[330.0],[330.0],[330.0],[330.0],[165.0],[330.0],[330.0],[110.0],[110.0],[120.0],[50.0],[260.0],[65.0],[65.0],[60.0],[60.0],[60.0],[165.0]],\"hovertemplate\":\"<b>%{hovertext}</b><br><br>clusters_OPTICS=3<br>LATITUDE=%{lat}<br>LONGITUDE=%{lon}<br>VALUE_SOLD=%{customdata[0]}<extra></extra>\",\"hovertext\":[\"TASSIA\",\"TASSIA\",\"TASSIA\",\"TASSIA\",\"TASSIA\",\"TASSIA\",\"TASSIA\",\"TASSIA\",\"TASSIA\",\"TASSIA\",\"TASSIA\",\"TASSIA\",\"TASSIA\",\"TASSIA\",\"TASSIA\",\"TASSIA\",\"TASSIA\",\"TASSIA\",\"TASSIA\",\"TASSIA\",\"TASSIA\",\"TASSIA\",\"TASSIA\",\"TASSIA\",\"TASSIA\",\"TASSIA\",\"TASSIA\",\"TASSIA\",\"TASSIA\",\"TASSIA\",\"TASSIA\",\"TASSIA\",\"TASSIA\",\"TASSIA\",\"TASSIA\",\"TASSIA\",\"TASSIA\",\"TASSIA\",\"TASSIA\",\"TASSIA\",\"TASSIA\",\"TASSIA\",\"TASSIA\",\"TASSIA\",\"TASSIA\",\"TASSIA\",\"TASSIA\",\"TASSIA\",\"TASSIA\",\"TASSIA\",\"TASSIA\",\"TASSIA\",\"TASSIA\",\"TASSIA\",\"TASSIA\",\"TASSIA\",\"TASSIA\",\"TASSIA\",\"TASSIA\",\"TASSIA\",\"TASSIA\",\"TASSIA\",\"TASSIA\",\"TASSIA\",\"TASSIA\",\"TASSIA\",\"TASSIA\",\"TASSIA\",\"TASSIA\",\"TASSIA\",\"TASSIA\",\"TASSIA\",\"TASSIA\",\"TASSIA\",\"TASSIA\",\"TASSIA\",\"TASSIA\",\"TASSIA\",\"TASSIA\",\"TASSIA\"],\"lat\":[-1.2904239,-1.2904239,-1.2904239,-1.2904239,-1.2904239,-1.2904239,-1.2919441,-1.2919441,-1.2917267,-1.2917267,-1.2924678,-1.2924678,-1.2931714,-1.2936816,-1.2913475,-1.2913475,-1.2859426,-1.2938235,-1.2898049,-1.2897976,-1.2899051,-1.2899051,-1.2899051,-1.2899051,-1.2899051,-1.2899051,-1.2899051,-1.2899051,-1.2913785,-1.2892977,-1.2897667,-1.2897667,-1.2897667,-1.2897667,-1.2897667,-1.2897667,-1.2897667,-1.2897667,-1.2897667,-1.2897667,-1.2897667,-1.2897667,-1.2897667,-1.2897667,-1.2897667,-1.2897667,-1.2897667,-1.2897667,-1.2897667,-1.2897667,-1.2897667,-1.2897667,-1.2897667,-1.2897667,-1.2897667,-1.2897667,-1.2897667,-1.2897667,-1.2897667,-1.2897667,-1.2897667,-1.2897667,-1.2897667,-1.2897667,-1.2897667,-1.2897667,-1.2897667,-1.2897667,-1.2897667,-1.2897667,-1.2897667,-1.2897667,-1.2897667,-1.2897667,-1.2897667,-1.2897667,-1.2897667,-1.2897667,-1.2897667,-1.2893036],\"legendgroup\":\"3\",\"lon\":[36.9053047,36.9053047,36.9053047,36.9053047,36.9053047,36.9053047,36.9051407,36.9051407,36.9050367,36.9050367,36.9005739,36.9005739,36.9011766,36.9015936,36.9036462,36.9036462,36.9043936,36.9018598,36.9027312,36.902708,36.9049516,36.9049516,36.9049516,36.9049516,36.9049516,36.9049516,36.9049516,36.9049516,36.9051835,36.9044594,36.90336,36.90336,36.90336,36.90336,36.90336,36.90336,36.90336,36.90336,36.90336,36.90336,36.90336,36.90336,36.90336,36.90336,36.90336,36.90336,36.90336,36.90336,36.90336,36.90336,36.90336,36.90336,36.90336,36.90336,36.90336,36.90336,36.90336,36.90336,36.90336,36.90336,36.90336,36.90336,36.90336,36.90336,36.90336,36.90336,36.90336,36.90336,36.90336,36.90336,36.90336,36.90336,36.90336,36.90336,36.90336,36.90336,36.90336,36.90336,36.90336,36.9043614],\"marker\":{\"color\":\"#00cc96\"},\"mode\":\"markers\",\"name\":\"3\",\"showlegend\":true,\"subplot\":\"mapbox\",\"type\":\"scattermapbox\"},{\"customdata\":[[0.0],[165.0],[165.0],[165.0],[230.0],[330.0],[130.0],[130.0],[130.0],[130.0],[330.0],[330.0],[690.0],[550.0],[360.0],[330.0],[330.0],[330.0],[825.0],[825.0],[825.0],[330.0],[825.0],[660.0],[200.0],[165.0],[165.0],[165.0],[165.0],[165.0],[230.0],[330.0],[330.0],[330.0],[100.0],[130.0],[165.0],[165.0],[165.0],[165.0],[165.0],[165.0],[165.0],[165.0],[165.0],[325.0],[65.0],[65.0],[165.0],[330.0],[825.0],[165.0],[230.0],[220.0],[50.0],[390.0],[165.0],[495.0],[330.0],[330.0],[165.0],[165.0],[495.0],[495.0],[325.0],[825.0],[825.0],[825.0],[825.0],[330.0],[195.0],[165.0],[165.0],[0.0],[660.0],[330.0],[920.0],[165.0],[120.0],[165.0],[165.0],[120.0],[165.0],[495.0],[165.0],[165.0],[120.0],[60.0],[0.0],[165.0],[165.0],[180.0],[165.0],[0.0],[165.0],[165.0],[165.0],[0.0]],\"hovertemplate\":\"<b>%{hovertext}</b><br><br>clusters_OPTICS=2<br>LATITUDE=%{lat}<br>LONGITUDE=%{lon}<br>VALUE_SOLD=%{customdata[0]}<extra></extra>\",\"hovertext\":[\"TASSIA\",\"TASSIA\",\"TASSIA\",\"TASSIA\",\"TASSIA\",\"TASSIA\",\"TASSIA\",\"TASSIA\",\"TASSIA\",\"TASSIA\",\"TASSIA\",\"TASSIA\",\"TASSIA\",\"TASSIA\",\"TASSIA\",\"TASSIA\",\"TASSIA\",\"TASSIA\",\"TASSIA\",\"TASSIA\",\"TASSIA\",\"TASSIA\",\"TASSIA\",\"TASSIA\",\"TASSIA\",\"TASSIA\",\"TASSIA\",\"TASSIA\",\"TASSIA\",\"TASSIA\",\"TASSIA\",\"TASSIA\",\"TASSIA\",\"TASSIA\",\"TASSIA\",\"TASSIA\",\"TASSIA\",\"TASSIA\",\"TASSIA\",\"TASSIA\",\"TASSIA\",\"TASSIA\",\"TASSIA\",\"TASSIA\",\"TASSIA\",\"TASSIA\",\"TASSIA\",\"TASSIA\",\"TASSIA\",\"TASSIA\",\"TASSIA\",\"TASSIA\",\"TASSIA\",\"TASSIA\",\"TASSIA\",\"TASSIA\",\"TASSIA\",\"TASSIA\",\"TASSIA\",\"TASSIA\",\"TASSIA\",\"TASSIA\",\"TASSIA\",\"TASSIA\",\"TASSIA\",\"TASSIA\",\"TASSIA\",\"TASSIA\",\"TASSIA\",\"TASSIA\",\"TASSIA\",\"TASSIA\",\"TASSIA\",\"TASSIA\",\"TASSIA\",\"TASSIA\",\"TASSIA\",\"TASSIA\",\"TASSIA\",\"TASSIA\",\"TASSIA\",\"TASSIA\",\"TASSIA\",\"TASSIA\",\"TASSIA\",\"TASSIA\",\"TASSIA\",\"TASSIA\",\"TASSIA\",\"TASSIA\",\"TASSIA\",\"TASSIA\",\"TASSIA\",\"TASSIA\",\"TASSIA\",\"TASSIA\",\"TASSIA\",\"TASSIA\"],\"lat\":[-1.2930931,-1.2930931,-1.2930931,-1.2930931,-1.2930931,-1.2930931,-1.2930931,-1.2930931,-1.2930931,-1.2930931,-1.2930931,-1.2930931,-1.2930931,-1.2930931,-1.2930931,-1.2930931,-1.2930931,-1.2930931,-1.2930931,-1.2930931,-1.2930931,-1.2930931,-1.2930931,-1.2930931,-1.2930931,-1.2930931,-1.2930931,-1.2930931,-1.2930931,-1.2930931,-1.2930931,-1.2930931,-1.2930931,-1.2930931,-1.2930931,-1.2930931,-1.2930931,-1.2930931,-1.2930931,-1.2930931,-1.2930931,-1.2930931,-1.2930931,-1.2930931,-1.2930931,-1.2930931,-1.2930931,-1.2930931,-1.2930931,-1.2930931,-1.2930931,-1.2930931,-1.2930931,-1.2930931,-1.2930931,-1.2930931,-1.2941417,-1.2941417,-1.2941417,-1.2941417,-1.2941417,-1.2941417,-1.2941417,-1.2941417,-1.2941417,-1.2941417,-1.2941417,-1.2941417,-1.2941417,-1.2898599,-1.2898599,-1.2898599,-1.2898599,-1.2898599,-1.2898599,-1.2898599,-1.2898599,-1.2899983,-1.2899983,-1.2899983,-1.2899983,-1.2899983,-1.2899983,-1.2899983,-1.2899983,-1.2899983,-1.2899983,-1.2899983,-1.2899846,-1.2953783,-1.2953783,-1.2953783,-1.2973074,-1.2973074,-1.2940433,-1.2940433,-1.2940433,-1.2940433],\"legendgroup\":\"2\",\"lon\":[36.8933427,36.8933427,36.8933427,36.8933427,36.8933427,36.8933427,36.8933427,36.8933427,36.8933427,36.8933427,36.8933427,36.8933427,36.8933427,36.8933427,36.8933427,36.8933427,36.8933427,36.8933427,36.8933427,36.8933427,36.8933427,36.8933427,36.8933427,36.8933427,36.8933427,36.8933427,36.8933427,36.8933427,36.8933427,36.8933427,36.8933427,36.8933427,36.8933427,36.8933427,36.8933427,36.8933427,36.8933427,36.8933427,36.8933427,36.8933427,36.8933427,36.8933427,36.8933427,36.8933427,36.8933427,36.8933427,36.8933427,36.8933427,36.8933427,36.8933427,36.8933427,36.8933427,36.8933427,36.8933427,36.8933427,36.8933427,36.896025,36.896025,36.896025,36.896025,36.896025,36.896025,36.896025,36.896025,36.896025,36.896025,36.896025,36.896025,36.896025,36.8972251,36.8972251,36.8972251,36.8972251,36.8972251,36.8972251,36.8972251,36.8972251,36.8970233,36.8970233,36.8970233,36.8970233,36.8970233,36.8970233,36.8970233,36.8970233,36.8970233,36.8970233,36.8970233,36.8972562,36.889515,36.889515,36.889515,36.8878519,36.8878519,36.8878367,36.8878367,36.8878367,36.8878367],\"marker\":{\"color\":\"#ab63fa\"},\"mode\":\"markers\",\"name\":\"2\",\"showlegend\":true,\"subplot\":\"mapbox\",\"type\":\"scattermapbox\"}],                        {\"height\":500,\"legend\":{\"title\":{\"text\":\"clusters_OPTICS\"},\"tracegroupgap\":0},\"mapbox\":{\"center\":{\"lat\":-1.3004518120162953,\"lon\":36.898955223217996},\"domain\":{\"x\":[0.0,1.0],\"y\":[0.0,1.0]},\"style\":\"stamen-toner\",\"zoom\":10},\"template\":{\"data\":{\"bar\":[{\"error_x\":{\"color\":\"#2a3f5f\"},\"error_y\":{\"color\":\"#2a3f5f\"},\"marker\":{\"line\":{\"color\":\"#E5ECF6\",\"width\":0.5},\"pattern\":{\"fillmode\":\"overlay\",\"size\":10,\"solidity\":0.2}},\"type\":\"bar\"}],\"barpolar\":[{\"marker\":{\"line\":{\"color\":\"#E5ECF6\",\"width\":0.5},\"pattern\":{\"fillmode\":\"overlay\",\"size\":10,\"solidity\":0.2}},\"type\":\"barpolar\"}],\"carpet\":[{\"aaxis\":{\"endlinecolor\":\"#2a3f5f\",\"gridcolor\":\"white\",\"linecolor\":\"white\",\"minorgridcolor\":\"white\",\"startlinecolor\":\"#2a3f5f\"},\"baxis\":{\"endlinecolor\":\"#2a3f5f\",\"gridcolor\":\"white\",\"linecolor\":\"white\",\"minorgridcolor\":\"white\",\"startlinecolor\":\"#2a3f5f\"},\"type\":\"carpet\"}],\"choropleth\":[{\"colorbar\":{\"outlinewidth\":0,\"ticks\":\"\"},\"type\":\"choropleth\"}],\"contour\":[{\"colorbar\":{\"outlinewidth\":0,\"ticks\":\"\"},\"colorscale\":[[0.0,\"#0d0887\"],[0.1111111111111111,\"#46039f\"],[0.2222222222222222,\"#7201a8\"],[0.3333333333333333,\"#9c179e\"],[0.4444444444444444,\"#bd3786\"],[0.5555555555555556,\"#d8576b\"],[0.6666666666666666,\"#ed7953\"],[0.7777777777777778,\"#fb9f3a\"],[0.8888888888888888,\"#fdca26\"],[1.0,\"#f0f921\"]],\"type\":\"contour\"}],\"contourcarpet\":[{\"colorbar\":{\"outlinewidth\":0,\"ticks\":\"\"},\"type\":\"contourcarpet\"}],\"heatmap\":[{\"colorbar\":{\"outlinewidth\":0,\"ticks\":\"\"},\"colorscale\":[[0.0,\"#0d0887\"],[0.1111111111111111,\"#46039f\"],[0.2222222222222222,\"#7201a8\"],[0.3333333333333333,\"#9c179e\"],[0.4444444444444444,\"#bd3786\"],[0.5555555555555556,\"#d8576b\"],[0.6666666666666666,\"#ed7953\"],[0.7777777777777778,\"#fb9f3a\"],[0.8888888888888888,\"#fdca26\"],[1.0,\"#f0f921\"]],\"type\":\"heatmap\"}],\"heatmapgl\":[{\"colorbar\":{\"outlinewidth\":0,\"ticks\":\"\"},\"colorscale\":[[0.0,\"#0d0887\"],[0.1111111111111111,\"#46039f\"],[0.2222222222222222,\"#7201a8\"],[0.3333333333333333,\"#9c179e\"],[0.4444444444444444,\"#bd3786\"],[0.5555555555555556,\"#d8576b\"],[0.6666666666666666,\"#ed7953\"],[0.7777777777777778,\"#fb9f3a\"],[0.8888888888888888,\"#fdca26\"],[1.0,\"#f0f921\"]],\"type\":\"heatmapgl\"}],\"histogram\":[{\"marker\":{\"pattern\":{\"fillmode\":\"overlay\",\"size\":10,\"solidity\":0.2}},\"type\":\"histogram\"}],\"histogram2d\":[{\"colorbar\":{\"outlinewidth\":0,\"ticks\":\"\"},\"colorscale\":[[0.0,\"#0d0887\"],[0.1111111111111111,\"#46039f\"],[0.2222222222222222,\"#7201a8\"],[0.3333333333333333,\"#9c179e\"],[0.4444444444444444,\"#bd3786\"],[0.5555555555555556,\"#d8576b\"],[0.6666666666666666,\"#ed7953\"],[0.7777777777777778,\"#fb9f3a\"],[0.8888888888888888,\"#fdca26\"],[1.0,\"#f0f921\"]],\"type\":\"histogram2d\"}],\"histogram2dcontour\":[{\"colorbar\":{\"outlinewidth\":0,\"ticks\":\"\"},\"colorscale\":[[0.0,\"#0d0887\"],[0.1111111111111111,\"#46039f\"],[0.2222222222222222,\"#7201a8\"],[0.3333333333333333,\"#9c179e\"],[0.4444444444444444,\"#bd3786\"],[0.5555555555555556,\"#d8576b\"],[0.6666666666666666,\"#ed7953\"],[0.7777777777777778,\"#fb9f3a\"],[0.8888888888888888,\"#fdca26\"],[1.0,\"#f0f921\"]],\"type\":\"histogram2dcontour\"}],\"mesh3d\":[{\"colorbar\":{\"outlinewidth\":0,\"ticks\":\"\"},\"type\":\"mesh3d\"}],\"parcoords\":[{\"line\":{\"colorbar\":{\"outlinewidth\":0,\"ticks\":\"\"}},\"type\":\"parcoords\"}],\"pie\":[{\"automargin\":true,\"type\":\"pie\"}],\"scatter\":[{\"marker\":{\"colorbar\":{\"outlinewidth\":0,\"ticks\":\"\"}},\"type\":\"scatter\"}],\"scatter3d\":[{\"line\":{\"colorbar\":{\"outlinewidth\":0,\"ticks\":\"\"}},\"marker\":{\"colorbar\":{\"outlinewidth\":0,\"ticks\":\"\"}},\"type\":\"scatter3d\"}],\"scattercarpet\":[{\"marker\":{\"colorbar\":{\"outlinewidth\":0,\"ticks\":\"\"}},\"type\":\"scattercarpet\"}],\"scattergeo\":[{\"marker\":{\"colorbar\":{\"outlinewidth\":0,\"ticks\":\"\"}},\"type\":\"scattergeo\"}],\"scattergl\":[{\"marker\":{\"colorbar\":{\"outlinewidth\":0,\"ticks\":\"\"}},\"type\":\"scattergl\"}],\"scattermapbox\":[{\"marker\":{\"colorbar\":{\"outlinewidth\":0,\"ticks\":\"\"}},\"type\":\"scattermapbox\"}],\"scatterpolar\":[{\"marker\":{\"colorbar\":{\"outlinewidth\":0,\"ticks\":\"\"}},\"type\":\"scatterpolar\"}],\"scatterpolargl\":[{\"marker\":{\"colorbar\":{\"outlinewidth\":0,\"ticks\":\"\"}},\"type\":\"scatterpolargl\"}],\"scatterternary\":[{\"marker\":{\"colorbar\":{\"outlinewidth\":0,\"ticks\":\"\"}},\"type\":\"scatterternary\"}],\"surface\":[{\"colorbar\":{\"outlinewidth\":0,\"ticks\":\"\"},\"colorscale\":[[0.0,\"#0d0887\"],[0.1111111111111111,\"#46039f\"],[0.2222222222222222,\"#7201a8\"],[0.3333333333333333,\"#9c179e\"],[0.4444444444444444,\"#bd3786\"],[0.5555555555555556,\"#d8576b\"],[0.6666666666666666,\"#ed7953\"],[0.7777777777777778,\"#fb9f3a\"],[0.8888888888888888,\"#fdca26\"],[1.0,\"#f0f921\"]],\"type\":\"surface\"}],\"table\":[{\"cells\":{\"fill\":{\"color\":\"#EBF0F8\"},\"line\":{\"color\":\"white\"}},\"header\":{\"fill\":{\"color\":\"#C8D4E3\"},\"line\":{\"color\":\"white\"}},\"type\":\"table\"}]},\"layout\":{\"annotationdefaults\":{\"arrowcolor\":\"#2a3f5f\",\"arrowhead\":0,\"arrowwidth\":1},\"autotypenumbers\":\"strict\",\"coloraxis\":{\"colorbar\":{\"outlinewidth\":0,\"ticks\":\"\"}},\"colorscale\":{\"diverging\":[[0,\"#8e0152\"],[0.1,\"#c51b7d\"],[0.2,\"#de77ae\"],[0.3,\"#f1b6da\"],[0.4,\"#fde0ef\"],[0.5,\"#f7f7f7\"],[0.6,\"#e6f5d0\"],[0.7,\"#b8e186\"],[0.8,\"#7fbc41\"],[0.9,\"#4d9221\"],[1,\"#276419\"]],\"sequential\":[[0.0,\"#0d0887\"],[0.1111111111111111,\"#46039f\"],[0.2222222222222222,\"#7201a8\"],[0.3333333333333333,\"#9c179e\"],[0.4444444444444444,\"#bd3786\"],[0.5555555555555556,\"#d8576b\"],[0.6666666666666666,\"#ed7953\"],[0.7777777777777778,\"#fb9f3a\"],[0.8888888888888888,\"#fdca26\"],[1.0,\"#f0f921\"]],\"sequentialminus\":[[0.0,\"#0d0887\"],[0.1111111111111111,\"#46039f\"],[0.2222222222222222,\"#7201a8\"],[0.3333333333333333,\"#9c179e\"],[0.4444444444444444,\"#bd3786\"],[0.5555555555555556,\"#d8576b\"],[0.6666666666666666,\"#ed7953\"],[0.7777777777777778,\"#fb9f3a\"],[0.8888888888888888,\"#fdca26\"],[1.0,\"#f0f921\"]]},\"colorway\":[\"#636efa\",\"#EF553B\",\"#00cc96\",\"#ab63fa\",\"#FFA15A\",\"#19d3f3\",\"#FF6692\",\"#B6E880\",\"#FF97FF\",\"#FECB52\"],\"font\":{\"color\":\"#2a3f5f\"},\"geo\":{\"bgcolor\":\"white\",\"lakecolor\":\"white\",\"landcolor\":\"#E5ECF6\",\"showlakes\":true,\"showland\":true,\"subunitcolor\":\"white\"},\"hoverlabel\":{\"align\":\"left\"},\"hovermode\":\"closest\",\"mapbox\":{\"style\":\"light\"},\"paper_bgcolor\":\"white\",\"plot_bgcolor\":\"#E5ECF6\",\"polar\":{\"angularaxis\":{\"gridcolor\":\"white\",\"linecolor\":\"white\",\"ticks\":\"\"},\"bgcolor\":\"#E5ECF6\",\"radialaxis\":{\"gridcolor\":\"white\",\"linecolor\":\"white\",\"ticks\":\"\"}},\"scene\":{\"xaxis\":{\"backgroundcolor\":\"#E5ECF6\",\"gridcolor\":\"white\",\"gridwidth\":2,\"linecolor\":\"white\",\"showbackground\":true,\"ticks\":\"\",\"zerolinecolor\":\"white\"},\"yaxis\":{\"backgroundcolor\":\"#E5ECF6\",\"gridcolor\":\"white\",\"gridwidth\":2,\"linecolor\":\"white\",\"showbackground\":true,\"ticks\":\"\",\"zerolinecolor\":\"white\"},\"zaxis\":{\"backgroundcolor\":\"#E5ECF6\",\"gridcolor\":\"white\",\"gridwidth\":2,\"linecolor\":\"white\",\"showbackground\":true,\"ticks\":\"\",\"zerolinecolor\":\"white\"}},\"shapedefaults\":{\"line\":{\"color\":\"#2a3f5f\"}},\"ternary\":{\"aaxis\":{\"gridcolor\":\"white\",\"linecolor\":\"white\",\"ticks\":\"\"},\"baxis\":{\"gridcolor\":\"white\",\"linecolor\":\"white\",\"ticks\":\"\"},\"bgcolor\":\"#E5ECF6\",\"caxis\":{\"gridcolor\":\"white\",\"linecolor\":\"white\",\"ticks\":\"\"}},\"title\":{\"x\":0.05},\"xaxis\":{\"automargin\":true,\"gridcolor\":\"white\",\"linecolor\":\"white\",\"ticks\":\"\",\"title\":{\"standoff\":15},\"zerolinecolor\":\"white\",\"zerolinewidth\":2},\"yaxis\":{\"automargin\":true,\"gridcolor\":\"white\",\"linecolor\":\"white\",\"ticks\":\"\",\"title\":{\"standoff\":15},\"zerolinecolor\":\"white\",\"zerolinewidth\":2}}},\"title\":{\"text\":\"OPTICS\"},\"width\":1000},                        {\"responsive\": true}                    ).then(function(){\n",
       "                            \n",
       "var gd = document.getElementById('9dd9e797-df85-45fd-9bc3-09d0d3e9a67c');\n",
       "var x = new MutationObserver(function (mutations, observer) {{\n",
       "        var display = window.getComputedStyle(gd).display;\n",
       "        if (!display || display === 'none') {{\n",
       "            console.log([gd, 'removed!']);\n",
       "            Plotly.purge(gd);\n",
       "            observer.disconnect();\n",
       "        }}\n",
       "}});\n",
       "\n",
       "// Listen for the removal of the full notebook cells\n",
       "var notebookContainer = gd.closest('#notebook-container');\n",
       "if (notebookContainer) {{\n",
       "    x.observe(notebookContainer, {childList: true});\n",
       "}}\n",
       "\n",
       "// Listen for the clearing of the current output cell\n",
       "var outputEl = gd.closest('.output');\n",
       "if (outputEl) {{\n",
       "    x.observe(outputEl, {childList: true});\n",
       "}}\n",
       "\n",
       "                        })                };                });            </script>        </div>"
      ]
     },
     "metadata": {},
     "output_type": "display_data"
    }
   ],
   "source": [
    "from sklearn.cluster import OPTICS\n",
    "clust = OPTICS(min_samples=70, xi=.06, min_cluster_size=.06)\n",
    "clust.fit(df[['LONGITUDE','LATITUDE']])\n",
    "df['clusters_OPTICS'] = list(map(x,list(clust.labels_)))\n",
    "fig5 = px.scatter_mapbox(df[df['clusters_OPTICS'] != 'noise'], lat=\"LATITUDE\", lon=\"LONGITUDE\",\n",
    "                        color=\"clusters_OPTICS\", title=\"OPTICS\", hover_name=\"LOCATION_NAME\", hover_data=[\"VALUE_SOLD\"],\n",
    "                        zoom=10, width=1000, height=500, mapbox_style=\"stamen-toner\")\n",
    "fig5.show()"
   ]
  },
  {
   "cell_type": "code",
   "execution_count": 77,
   "id": "22f6a9f1",
   "metadata": {
    "execution": {
     "iopub.execute_input": "2022-05-31T17:49:47.848592Z",
     "iopub.status.busy": "2022-05-31T17:49:47.847699Z",
     "iopub.status.idle": "2022-05-31T17:49:47.892174Z",
     "shell.execute_reply": "2022-05-31T17:49:47.892732Z",
     "shell.execute_reply.started": "2022-05-31T17:43:48.220191Z"
    },
    "papermill": {
     "duration": 0.200064,
     "end_time": "2022-05-31T17:49:47.892930",
     "exception": false,
     "start_time": "2022-05-31T17:49:47.692866",
     "status": "completed"
    },
    "tags": []
   },
   "outputs": [
    {
     "name": "stdout",
     "output_type": "stream",
     "text": [
      "Silhouette Score\n",
      "BDSCAN:  0.7681213147140856\n",
      "HDBSCAN:  0.8642073528168591\n",
      "OPTICS:  0.8230006956252017\n"
     ]
    }
   ],
   "source": [
    "from sklearn import metrics\n",
    "\n",
    "clusters_DBSCAN = df[df['clusters_BDSCAN'] != 'noise']\n",
    "clusters_HDBSCAN = df[df['clusters_HDBSCAN'] != 'noise']\n",
    "clusters_OPTICS = df[df['clusters_OPTICS'] != 'noise']\n",
    "\n",
    "print(\"Silhouette Score\")\n",
    "print(\"BDSCAN: \",metrics.silhouette_score(clusters_DBSCAN[['LONGITUDE','LATITUDE']],\n",
    "                                          clusters_DBSCAN['clusters_BDSCAN']))\n",
    "print(\"HDBSCAN: \",metrics.silhouette_score(clusters_HDBSCAN[['LONGITUDE','LATITUDE']],\n",
    "                                           clusters_HDBSCAN['clusters_HDBSCAN']))\n",
    "print(\"OPTICS: \",metrics.silhouette_score(clusters_OPTICS[['LONGITUDE','LATITUDE']],\n",
    "                                          clusters_OPTICS['clusters_OPTICS']))"
   ]
  },
  {
   "cell_type": "code",
   "execution_count": 78,
   "id": "215d868f",
   "metadata": {
    "execution": {
     "iopub.execute_input": "2022-05-31T17:49:48.221384Z",
     "iopub.status.busy": "2022-05-31T17:49:48.220525Z",
     "iopub.status.idle": "2022-05-31T17:49:48.229534Z",
     "shell.execute_reply": "2022-05-31T17:49:48.230044Z",
     "shell.execute_reply.started": "2022-05-31T17:43:48.299537Z"
    },
    "papermill": {
     "duration": 0.167379,
     "end_time": "2022-05-31T17:49:48.230197",
     "exception": false,
     "start_time": "2022-05-31T17:49:48.062818",
     "status": "completed"
    },
    "tags": []
   },
   "outputs": [
    {
     "name": "stdout",
     "output_type": "stream",
     "text": [
      "Davies Bouldin Score\n",
      "DBSCAN:  0.278818983704407\n",
      "HDBSCAN:  0.27394908920842276\n",
      "OPTICS:  0.33936386599141377\n"
     ]
    }
   ],
   "source": [
    "print(\"Davies Bouldin Score\")\n",
    "print(\"DBSCAN: \",metrics.davies_bouldin_score(clusters_DBSCAN[['LONGITUDE','LATITUDE']],\n",
    "                                              clusters_DBSCAN['clusters_BDSCAN']))\n",
    "print(\"HDBSCAN: \",metrics.davies_bouldin_score(clusters_HDBSCAN[['LONGITUDE','LATITUDE']],\n",
    "                                               clusters_HDBSCAN['clusters_HDBSCAN']))\n",
    "print(\"OPTICS: \",metrics.davies_bouldin_score(clusters_OPTICS[['LONGITUDE','LATITUDE']],\n",
    "                                              clusters_OPTICS['clusters_OPTICS']))"
   ]
  },
  {
   "cell_type": "code",
   "execution_count": null,
   "id": "ef19b6ac",
   "metadata": {
    "papermill": {
     "duration": 0.151466,
     "end_time": "2022-05-31T17:49:48.532101",
     "exception": false,
     "start_time": "2022-05-31T17:49:48.380635",
     "status": "completed"
    },
    "tags": []
   },
   "outputs": [],
   "source": []
  },
  {
   "cell_type": "code",
   "execution_count": null,
   "id": "35adaea0",
   "metadata": {
    "papermill": {
     "duration": 0.101423,
     "end_time": "2022-05-31T17:49:48.744647",
     "exception": false,
     "start_time": "2022-05-31T17:49:48.643224",
     "status": "completed"
    },
    "tags": []
   },
   "outputs": [],
   "source": []
  }
 ],
 "metadata": {
  "kernelspec": {
   "display_name": "Python 3",
   "language": "python",
   "name": "python3"
  },
  "language_info": {
   "codemirror_mode": {
    "name": "ipython",
    "version": 3
   },
   "file_extension": ".py",
   "mimetype": "text/x-python",
   "name": "python",
   "nbconvert_exporter": "python",
   "pygments_lexer": "ipython3",
   "version": "3.7.10"
  },
  "papermill": {
   "default_parameters": {},
   "duration": 306.040882,
   "end_time": "2022-05-31T17:49:50.627677",
   "environment_variables": {},
   "exception": null,
   "input_path": "__notebook__.ipynb",
   "output_path": "__notebook__.ipynb",
   "parameters": {},
   "start_time": "2022-05-31T17:44:44.586795",
   "version": "2.3.3"
  }
 },
 "nbformat": 4,
 "nbformat_minor": 5
}
